{
 "cells": [
  {
   "cell_type": "code",
   "execution_count": 1,
   "metadata": {},
   "outputs": [],
   "source": [
    "import os\n",
    "import matplotlib.pyplot as plt\n",
    "import importlib\n",
    "import pandas as pd\n",
    "import numpy as np\n",
    "# Please make sure we can find the Automated CE folder\n",
    "path_to_automatedCE = None\n",
    "if path_to_automatedCE is None:\n",
    "    path_to_automatedCE = os.getcwd()\n",
    "assert os.getcwd().find(\"AutomatedCE\") >0, \"Please enter the path to the AutomatedCE folder above\"\n",
    "path_to_automatedCE = path_to_automatedCE[:path_to_automatedCE.find(\"AutomatedCE\")+11]\n",
    "\n",
    "# Change the path to our automatedCE \n",
    "os.chdir(path_to_automatedCE)\n",
    "# Import Utility Functions\n",
    "from L4 import image_util, CellDetection\n"
   ]
  },
  {
   "cell_type": "code",
   "execution_count": 3,
   "metadata": {},
   "outputs": [],
   "source": [
    "%matplotlib qt"
   ]
  },
  {
   "cell_type": "code",
   "execution_count": 4,
   "metadata": {
    "collapsed": true
   },
   "outputs": [
    {
     "name": "stdout",
     "output_type": "stream",
     "text": [
      "MouseButton.RIGHT False\n",
      "MouseButton.RIGHT False\n",
      "blob enable: False\n",
      "MouseButton.RIGHT False\n",
      "MouseButton.RIGHT False\n",
      "blob enable: False\n",
      "MouseButton.RIGHT False\n",
      "MouseButton.RIGHT False\n",
      "blob enable: False\n",
      "MouseButton.RIGHT False\n",
      "MouseButton.RIGHT False\n",
      "blob enable: False\n",
      "Near corner 0\n",
      "Near corner 0\n",
      "MouseButton.LEFT False\n",
      "Near corner 1\n",
      "Near corner 1\n",
      "MouseButton.LEFT False\n",
      "up True\n",
      "MouseButton.RIGHT False\n",
      "MouseButton.RIGHT False\n",
      "blob enable: False\n",
      "Near corner 0\n",
      "Near corner 0\n",
      "MouseButton.LEFT False\n",
      "Near corner 3\n",
      "Near corner 3\n",
      "MouseButton.LEFT False\n",
      "MouseButton.RIGHT False\n",
      "MouseButton.RIGHT False\n",
      "blob enable: False\n",
      "MouseButton.RIGHT False\n",
      "MouseButton.RIGHT False\n",
      "blob enable: False\n",
      "MouseButton.RIGHT False\n",
      "MouseButton.RIGHT False\n",
      "blob enable: False\n",
      "MouseButton.RIGHT False\n",
      "MouseButton.RIGHT False\n",
      "blob enable: False\n",
      "MouseButton.RIGHT False\n",
      "MouseButton.RIGHT False\n",
      "blob enable: False\n",
      "MouseButton.RIGHT False\n",
      "MouseButton.RIGHT False\n",
      "blob enable: False\n",
      "MouseButton.RIGHT False\n",
      "MouseButton.RIGHT False\n",
      "blob enable: False\n",
      "MouseButton.RIGHT False\n",
      "MouseButton.RIGHT False\n",
      "blob enable: False\n",
      "MouseButton.RIGHT False\n",
      "MouseButton.RIGHT False\n",
      "blob enable: False\n",
      "MouseButton.RIGHT False\n",
      "MouseButton.RIGHT False\n",
      "blob enable: False\n",
      "MouseButton.RIGHT False\n",
      "MouseButton.RIGHT False\n",
      "blob enable: False\n",
      "MouseButton.RIGHT False\n",
      "MouseButton.RIGHT False\n",
      "blob enable: False\n",
      "up True\n",
      "up True\n",
      "up True\n",
      "up True\n",
      "up True\n",
      "up True\n",
      "up True\n",
      "up True\n",
      "up True\n",
      "up True\n",
      "up True\n",
      "up True\n",
      "up True\n",
      "up True\n",
      "Near corner 0\n",
      "Near corner 0\n",
      "MouseButton.LEFT False\n",
      "Near corner 2\n",
      "Near corner 2\n",
      "MouseButton.LEFT False\n",
      "MouseButton.MIDDLE False\n",
      "Yolo\n",
      "0.9386252376905304,0.0\n",
      "Yolo\n",
      "2.815875713072046,-7.5090019015252665\n",
      "Yolo\n",
      "2.815875713072046,-8.44762713921591\n",
      "Yolo\n",
      "2.815875713072046,-10.324877614597312\n",
      "Yolo\n",
      "3.7545009507625764,-15.018003803050533\n",
      "Yolo\n",
      "3.7545009507625764,-19.711129991503867\n",
      "Yolo\n",
      "3.7545009507625764,-20.64975522919451\n",
      "Yolo\n",
      "3.7545009507625764,-23.465630942266444\n",
      "Yolo\n",
      "3.7545009507625764,-24.4042561799572\n",
      "Yolo\n",
      "3.7545009507625764,-25.342881417647845\n",
      "Near corner 3\n",
      "Near corner 3\n",
      "MouseButton.LEFT False\n",
      "up True\n",
      "up True\n",
      "Near corner 3\n",
      "Near corner 3\n",
      "MouseButton.LEFT False\n",
      "MouseButton.RIGHT False\n",
      "MouseButton.RIGHT False\n",
      "blob enable: False\n",
      "MouseButton.RIGHT False\n",
      "MouseButton.RIGHT False\n",
      "blob enable: False\n",
      "MouseButton.MIDDLE False\n",
      "Yolo\n",
      "-0.9386252376905304,0.0\n",
      "Yolo\n",
      "-4.693126188453334,-0.9386252376907009\n",
      "Yolo\n",
      "-7.509001901525153,-1.877250475381345\n",
      "Yolo\n",
      "-9.386252376906441,-3.7545009507626332\n",
      "Yolo\n",
      "-10.324877614597199,-4.693126188453334\n",
      "Yolo\n",
      "-12.202128089978487,-6.570376663834622\n",
      "Yolo\n",
      "-13.140753327669245,-8.447627139215967\n",
      "Yolo\n",
      "-13.140753327669245,-9.386252376906612\n",
      "Near corner 1\n",
      "Near corner 1\n",
      "MouseButton.LEFT False\n",
      "MouseButton.MIDDLE False\n",
      "Yolo\n",
      "-0.9386252376907578,0.0\n",
      "Yolo\n",
      "-3.7545009507625764,0.0\n",
      "Yolo\n",
      "-6.570376663834622,0.0\n",
      "Yolo\n",
      "-7.509001901525153,0.0\n",
      "Yolo\n",
      "-9.386252376906668,0.0\n",
      "Yolo\n",
      "-10.324877614597199,0.0\n",
      "Yolo\n",
      "-11.263502852287957,0.0\n",
      "Yolo\n",
      "-10.324877614597199,0.0\n",
      "Yolo\n",
      "-9.386252376906668,0.0\n",
      "Yolo\n",
      "-8.44762713921591,0.0\n",
      "Yolo\n",
      "-7.509001901525153,0.0\n",
      "Near corner 1\n",
      "Near corner 1\n",
      "MouseButton.LEFT False\n",
      "up True\n",
      "MouseButton.RIGHT False\n",
      "MouseButton.RIGHT False\n",
      "blob enable: False\n",
      "MouseButton.RIGHT False\n",
      "MouseButton.RIGHT False\n",
      "blob enable: False\n",
      "MouseButton.RIGHT False\n",
      "MouseButton.RIGHT False\n",
      "blob enable: False\n",
      "up True\n",
      "up True\n",
      "up True\n",
      "up True\n",
      "up True\n",
      "up True\n",
      "up True\n",
      "up True\n",
      "up True\n",
      "up True\n",
      "up True\n",
      "up True\n",
      "up True\n",
      "up True\n",
      "up True\n",
      "up True\n",
      "up True\n",
      "up True\n",
      "up True\n",
      "up True\n",
      "up True\n",
      "up True\n",
      "MouseButton.RIGHT False\n",
      "MouseButton.RIGHT False\n",
      "blob enable: False\n",
      "MouseButton.RIGHT False\n",
      "MouseButton.RIGHT False\n",
      "blob enable: True\n",
      "hey all\n",
      "MouseButton.RIGHT False\n",
      "MouseButton.RIGHT False\n",
      "blob enable: False\n",
      "MouseButton.RIGHT False\n",
      "MouseButton.RIGHT False\n",
      "MouseButton.RIGHT False\n",
      "blob enable: True\n",
      "hey all\n",
      "MouseButton.MIDDLE False\n",
      "Yolo\n",
      "0.9386252376906441,0.0\n",
      "Yolo\n",
      "16.89525427843182,-13.140753327669131\n",
      "Yolo\n",
      "28.158757130719778,-27.22013189302902\n",
      "Yolo\n",
      "32.851883319173,-33.79050855686364\n",
      "MouseButton.RIGHT False\n",
      "MouseButton.RIGHT False\n",
      "blob enable: False\n",
      "up True\n",
      "up True\n",
      "Near corner 3\n",
      "Near corner 3\n",
      "MouseButton.LEFT False\n",
      "MouseButton.MIDDLE False\n",
      "Yolo\n",
      "-5.631751426143978,0.9386252376906441\n",
      "Yolo\n",
      "-7.5090019015252665,1.8772504753812882\n",
      "Yolo\n",
      "-14.079378565359889,2.8158757130719323\n",
      "Yolo\n",
      "-20.64975522919451,2.8158757130719323\n",
      "Yolo\n",
      "-26.281506655338376,3.7545009507625764\n",
      "Yolo\n",
      "-32.851883319173,4.6931261884532205\n",
      "Yolo\n",
      "-45.0540114091516,10.324877614597199\n",
      "Yolo\n",
      "-57.256139499130086,13.140753327669131\n",
      "Yolo\n",
      "-58.194764736820844,13.140753327669131\n",
      "Near corner 1\n",
      "Near corner 1\n",
      "MouseButton.LEFT False\n",
      "up True\n",
      "up True\n",
      "up True\n",
      "MouseButton.RIGHT False\n",
      "MouseButton.RIGHT False\n",
      "blob enable: False\n",
      "Near corner 3\n",
      "Near corner 3\n",
      "MouseButton.LEFT False\n",
      "up True\n",
      "MouseButton.RIGHT False\n",
      "MouseButton.RIGHT False\n",
      "blob enable: False\n",
      "MouseButton.MIDDLE False\n",
      "Yolo\n",
      "-0.9386252376906441,0.0\n",
      "Yolo\n",
      "-5.631751426143865,0.0\n",
      "Yolo\n",
      "-8.44762713921591,0.0\n",
      "Yolo\n",
      "-11.263502852287843,0.0\n",
      "Yolo\n",
      "-15.018003803050533,0.0\n",
      "Yolo\n",
      "-15.956629040741177,-0.9386252376906441\n",
      "Yolo\n",
      "-16.89525427843182,-0.9386252376906441\n",
      "Yolo\n",
      "-17.833879516122465,-0.9386252376906441\n",
      "Yolo\n",
      "-17.833879516122465,-1.8772504753812882\n",
      "Near corner 3\n",
      "Near corner 3\n",
      "MouseButton.LEFT False\n",
      "MouseButton.MIDDLE False\n",
      "Yolo\n",
      "0.0,-0.9386252376906441\n",
      "Yolo\n",
      "0.9386252376906441,-8.44762713921591\n",
      "Yolo\n",
      "7.5090019015252665,-20.64975522919451\n",
      "Yolo\n",
      "11.263502852287957,-31.913258081482354\n",
      "Yolo\n",
      "11.263502852287957,-32.851883319173\n",
      "Yolo\n",
      "11.263502852287957,-36.60638426993569\n",
      "Yolo\n",
      "11.263502852287957,-40.360885220698265\n",
      "Yolo\n",
      "10.324877614597312,-41.29951045838902\n",
      "Yolo\n",
      "9.386252376906668,-41.29951045838902\n",
      "Yolo\n",
      "7.5090019015252665,-42.23813569607967\n",
      "Yolo\n",
      "5.631751426143978,-42.23813569607967\n",
      "Yolo\n",
      "4.693126188453334,-44.115386171460955\n",
      "Yolo\n",
      "3.75450095076269,-45.0540114091516\n",
      "Near corner 1\n",
      "Near corner 1\n",
      "MouseButton.LEFT False\n",
      "MouseButton.MIDDLE False\n",
      "Yolo\n",
      "-2.8158757130719323,-0.9386252376906441\n",
      "Yolo\n",
      "-3.7545009507625764,-1.8772504753812882\n",
      "Yolo\n",
      "-10.324877614597199,-2.8158757130719323\n",
      "Yolo\n",
      "-15.018003803050533,-3.7545009507626332\n",
      "Yolo\n",
      "-18.77250475381311,-5.631751426143921\n",
      "Yolo\n",
      "-22.5270057045758,-5.631751426143921\n",
      "Yolo\n",
      "-27.22013189302902,-5.631751426143921\n",
      "Yolo\n",
      "-32.851883319173,-5.631751426143921\n",
      "Yolo\n",
      "-33.79050855686364,-6.5703766638345655\n",
      "Yolo\n",
      "-34.729133794554286,-6.5703766638345655\n",
      "Yolo\n",
      "-36.606384269935575,-6.5703766638345655\n",
      "Near corner 3\n",
      "Near corner 3\n",
      "MouseButton.LEFT False\n",
      "up True\n",
      "up True\n",
      "up True\n",
      "MouseButton.RIGHT False\n",
      "MouseButton.RIGHT False\n",
      "blob enable: False\n",
      "up True\n",
      "up True\n",
      "up True\n",
      "up True\n",
      "MouseButton.RIGHT False\n",
      "MouseButton.RIGHT False\n",
      "blob enable: False\n",
      "MouseButton.RIGHT False\n",
      "MouseButton.RIGHT False\n",
      "blob enable: False\n",
      "MouseButton.RIGHT False\n",
      "MouseButton.RIGHT False\n",
      "blob enable: False\n",
      "MouseButton.RIGHT False\n",
      "MouseButton.RIGHT False\n",
      "blob enable: True\n",
      "hey all\n",
      "MouseButton.RIGHT False\n",
      "MouseButton.RIGHT False\n",
      "blob enable: False\n",
      "MouseButton.RIGHT False\n",
      "MouseButton.RIGHT False\n",
      "blob enable: True\n",
      "hey all\n",
      "MouseButton.RIGHT False\n",
      "MouseButton.RIGHT False\n",
      "blob enable: False\n",
      "up True\n",
      "MouseButton.MIDDLE False\n",
      "Yolo\n",
      "2.8158757130719323,0.0\n",
      "Yolo\n",
      "4.6931261884532205,0.0\n",
      "Yolo\n",
      "16.89525427843182,7.5090019015252665\n",
      "Yolo\n",
      "33.79050855686364,23.465630942266387\n",
      "Yolo\n",
      "41.29951045838891,30.03600760610101\n",
      "Yolo\n",
      "42.23813569607955,31.913258081482297\n",
      "Yolo\n",
      "45.99263664684224,35.66775903224493\n",
      "Yolo\n",
      "49.74713759760482,40.360885220698265\n",
      "Yolo\n",
      "51.62438807298611,40.360885220698265\n",
      "up True\n",
      "up True\n",
      "up True\n",
      "up True\n",
      "MouseButton.RIGHT False\n",
      "MouseButton.RIGHT False\n",
      "blob enable: False\n",
      "MouseButton.RIGHT False\n",
      "MouseButton.RIGHT False\n",
      "blob enable: True\n",
      "hey all\n",
      "up True\n",
      "up True\n",
      "up True\n",
      "down False\n",
      "up True\n",
      "MouseButton.RIGHT False\n",
      "MouseButton.RIGHT False\n",
      "blob enable: False\n",
      "MouseButton.RIGHT False\n",
      "MouseButton.RIGHT False\n",
      "blob enable: False\n",
      "MouseButton.RIGHT False\n",
      "MouseButton.RIGHT False\n",
      "MouseButton.RIGHT False\n",
      "blob enable: False\n",
      "MouseButton.RIGHT False\n",
      "MouseButton.RIGHT False\n",
      "blob enable: False\n",
      "MouseButton.RIGHT False\n",
      "MouseButton.RIGHT False\n",
      "blob enable: False\n",
      "MouseButton.RIGHT False\n",
      "MouseButton.RIGHT False\n",
      "blob enable: False\n",
      "MouseButton.RIGHT False\n",
      "MouseButton.RIGHT False\n",
      "blob enable: False\n",
      "MouseButton.RIGHT False\n",
      "MouseButton.RIGHT False\n",
      "blob enable: False\n",
      "MouseButton.RIGHT False\n",
      "MouseButton.RIGHT False\n",
      "blob enable: False\n",
      "MouseButton.RIGHT False\n",
      "MouseButton.RIGHT False\n",
      "blob enable: False\n"
     ]
    },
    {
     "name": "stdout",
     "output_type": "stream",
     "text": [
      "MouseButton.RIGHT False\n",
      "MouseButton.RIGHT False\n",
      "blob enable: False\n",
      "MouseButton.RIGHT False\n",
      "MouseButton.RIGHT False\n",
      "blob enable: False\n",
      "MouseButton.RIGHT False\n",
      "MouseButton.RIGHT False\n",
      "blob enable: False\n",
      "MouseButton.RIGHT False\n",
      "MouseButton.RIGHT False\n",
      "blob enable: False\n",
      "MouseButton.RIGHT False\n",
      "MouseButton.RIGHT False\n",
      "blob enable: False\n",
      "MouseButton.RIGHT False\n",
      "MouseButton.RIGHT False\n",
      "blob enable: False\n",
      "MouseButton.RIGHT False\n",
      "MouseButton.RIGHT False\n",
      "blob enable: False\n",
      "MouseButton.RIGHT False\n",
      "MouseButton.RIGHT False\n",
      "blob enable: False\n",
      "MouseButton.RIGHT False\n",
      "MouseButton.RIGHT False\n",
      "blob enable: False\n",
      "MouseButton.RIGHT False\n",
      "MouseButton.RIGHT False\n",
      "blob enable: True\n",
      "hey all\n",
      "MouseButton.RIGHT False\n",
      "MouseButton.RIGHT False\n",
      "blob enable: False\n",
      "MouseButton.MIDDLE False\n",
      "Yolo\n",
      "0.9386252376907578,0.0\n",
      "Yolo\n",
      "14.079378565359889,5.631751426143978\n",
      "Yolo\n",
      "15.018003803050647,5.631751426143978\n",
      "Yolo\n",
      "19.71112999150398,8.44762713921591\n",
      "Yolo\n",
      "20.64975522919451,9.386252376906555\n",
      "Yolo\n",
      "20.64975522919451,11.263502852287957\n",
      "MouseButton.RIGHT False\n",
      "MouseButton.RIGHT False\n",
      "blob enable: False\n",
      "MouseButton.RIGHT False\n",
      "MouseButton.RIGHT False\n",
      "blob enable: False\n",
      "MouseButton.RIGHT False\n",
      "MouseButton.RIGHT False\n",
      "blob enable: False\n",
      "MouseButton.RIGHT False\n",
      "MouseButton.RIGHT False\n",
      "blob enable: False\n",
      "MouseButton.RIGHT False\n",
      "MouseButton.RIGHT False\n",
      "blob enable: False\n",
      "MouseButton.RIGHT False\n",
      "MouseButton.RIGHT False\n",
      "blob enable: False\n",
      "MouseButton.RIGHT False\n",
      "MouseButton.RIGHT False\n",
      "blob enable: False\n",
      "MouseButton.RIGHT False\n",
      "MouseButton.RIGHT False\n",
      "blob enable: False\n",
      "MouseButton.RIGHT False\n",
      "MouseButton.RIGHT False\n",
      "blob enable: False\n",
      "MouseButton.RIGHT False\n",
      "MouseButton.RIGHT False\n",
      "blob enable: False\n",
      "Near corner 3\n",
      "Near corner 3\n",
      "Near corner 1\n",
      "Near corner 1\n",
      "MouseButton.LEFT False\n",
      "Near corner 1\n",
      "Near corner 1\n",
      "MouseButton.LEFT False\n",
      "MouseButton.RIGHT False\n",
      "MouseButton.RIGHT False\n",
      "blob enable: False\n",
      "MouseButton.RIGHT False\n",
      "MouseButton.RIGHT False\n",
      "MouseButton.RIGHT False\n",
      "blob enable: False\n",
      "MouseButton.RIGHT False\n",
      "MouseButton.RIGHT False\n",
      "blob enable: False\n",
      "MouseButton.RIGHT False\n",
      "MouseButton.RIGHT False\n",
      "blob enable: False\n",
      "MouseButton.RIGHT False\n",
      "MouseButton.RIGHT False\n",
      "blob enable: False\n",
      "MouseButton.RIGHT False\n",
      "MouseButton.RIGHT False\n",
      "blob enable: True\n",
      "hey all\n",
      "MouseButton.RIGHT False\n",
      "MouseButton.RIGHT False\n",
      "blob enable: False\n",
      "MouseButton.RIGHT False\n",
      "MouseButton.RIGHT False\n",
      "blob enable: True\n",
      "hey all\n",
      "MouseButton.RIGHT False\n",
      "MouseButton.RIGHT False\n",
      "blob enable: False\n",
      "MouseButton.MIDDLE False\n",
      "Yolo\n",
      "0.9386252376907578,0.9386252376906441\n",
      "Yolo\n",
      "2.815875713072046,2.815875713071989\n",
      "Yolo\n",
      "7.5090019015252665,7.5090019015252665\n",
      "Yolo\n",
      "13.140753327669245,11.2635028522879\n",
      "Yolo\n",
      "15.95662904074129,11.2635028522879\n",
      "MouseButton.RIGHT False\n",
      "MouseButton.RIGHT False\n",
      "blob enable: False\n",
      "MouseButton.RIGHT False\n",
      "MouseButton.RIGHT False\n",
      "blob enable: False\n",
      "MouseButton.RIGHT False\n",
      "MouseButton.RIGHT False\n",
      "blob enable: False\n",
      "up True\n",
      "up True\n",
      "MouseButton.RIGHT False\n",
      "MouseButton.RIGHT False\n",
      "MouseButton.RIGHT False\n",
      "MouseButton.RIGHT False\n",
      "MouseButton.RIGHT False\n",
      "MouseButton.RIGHT False\n",
      "blob enable: False\n",
      "MouseButton.MIDDLE False\n",
      "Yolo\n",
      "-0.9386252376906441,0.0\n",
      "Yolo\n",
      "-8.44762713921591,0.0\n",
      "Yolo\n",
      "-17.833879516122465,0.0\n",
      "Yolo\n",
      "-21.588380466885155,0.9386252376907009\n",
      "Yolo\n",
      "-22.5270057045758,0.9386252376907009\n",
      "Yolo\n",
      "-26.281506655338376,0.9386252376907009\n",
      "MouseButton.RIGHT False\n",
      "MouseButton.RIGHT False\n",
      "blob enable: False\n",
      "MouseButton.RIGHT False\n",
      "MouseButton.RIGHT False\n",
      "blob enable: False\n",
      "MouseButton.RIGHT False\n",
      "MouseButton.RIGHT False\n",
      "blob enable: False\n",
      "MouseButton.RIGHT False\n",
      "MouseButton.RIGHT False\n",
      "blob enable: False\n",
      "up True\n",
      "up True\n",
      "up True\n",
      "up True\n",
      "MouseButton.RIGHT False\n",
      "MouseButton.RIGHT False\n",
      "blob enable: False\n",
      "MouseButton.MIDDLE False\n",
      "Yolo\n",
      "7.5090019015252665,0.0\n",
      "Yolo\n",
      "9.386252376906668,0.0\n",
      "Yolo\n",
      "13.140753327669245,0.0\n",
      "Yolo\n",
      "14.079378565359889,0.0\n"
     ]
    }
   ],
   "source": [
    "# label Images here\n",
    "img_dir = r\"D:\\Scripts\\working-at-home\\fiji-haesleinhuepf\\images\\cells\"\n",
    "fig, axes = plt.subplots()\n",
    "labels = ['cell', 'dust']\n",
    "im_background = CellDetection.get_background_image(img_dir)\n",
    "labeler =  image_util.Labeler(axes, labels=labels)\n",
    "for image, im_file in image_util.image_iterator():\n",
    "    im_plot=axes.imshow(image)\n",
    "    blobs = CellDetection.get_blobs(image, 'scikit_threshold', im_background )\n",
    "    labeler.draw_labels(blobs)\n",
    "    df = pd.DataFrame.from_dict(labeler.get_labels())\n",
    "    out_file = im_file[:-4]+\"_labels.csv\"\n",
    "    df.to_csv(out_file)\n",
    "    \n",
    "    # Wait for the user to press a key (any key, jut not a mouse press) before continuing\n",
    "    while not plt.waitforbuttonpress():\n",
    "        pass  \n",
    "    labeler.remove_patches()\n",
    "    axes.clear()\n",
    "\n",
    "    \n"
   ]
  },
  {
   "cell_type": "code",
   "execution_count": 8,
   "metadata": {},
   "outputs": [
    {
     "data": {
      "text/plain": [
       "1"
      ]
     },
     "execution_count": 8,
     "metadata": {},
     "output_type": "execute_result"
    }
   ],
   "source": [
    "# Compare results here \n",
    "\n",
    "open_range = range(1,21,2)\n",
    "close_range = range(1,21,2)\n",
    "\n",
    "fig.number"
   ]
  },
  {
   "cell_type": "code",
   "execution_count": 10,
   "metadata": {},
   "outputs": [],
   "source": [
    "out_data = r\"D:\\Scripts\\working-at-home\\fiji-haesleinhuepf\\images\\cells\\000024255_labels.csv\"\n",
    "truth = pd.read_csv(out_data)"
   ]
  },
  {
   "cell_type": "code",
   "execution_count": null,
   "metadata": {},
   "outputs": [],
   "source": [
    "\n",
    "    "
   ]
  },
  {
   "cell_type": "code",
   "execution_count": 58,
   "metadata": {},
   "outputs": [],
   "source": [
    "def from_df_to_list(df):\n",
    "    \"\"\"\n",
    "    Takes bounding box data from a data frame and puts it into a list\n",
    "    \"\"\"\n",
    "    blobs = []\n",
    "    for index, row in df.iterrows():\n",
    "        new_blob = image_util.Blob()\n",
    "        new_blob.from_dataframe(row)\n",
    "        blobs.append(new_blob)\n",
    "    return blobs\n",
    "\n",
    "def compare_blobs_iou(blobs_test, blobs_truth):\n",
    "    \"\"\"\n",
    "    Calculates the Intersection over union of a series of test blobs and their corresponding truth blobs\n",
    "    \"\"\"\n",
    "    scores = []\n",
    "    for true_blob in blobs_truth:\n",
    "        max_iou = 0\n",
    "        \n",
    "        for blob in blobs_test:\n",
    "            iou = blob.get_blob_iou(true_blob)\n",
    "            if iou > max_iou:\n",
    "                max_iou = iou\n",
    "        scores.append(max_iou)\n",
    "    return np.asarray(scores)\n",
    "    \n"
   ]
  },
  {
   "cell_type": "code",
   "execution_count": 2,
   "metadata": {},
   "outputs": [
    {
     "data": {
      "text/plain": [
       "<module 'L4.CellDetection' from 'D:\\\\Scripts\\\\AutomatedCE\\\\L4\\\\CellDetection.py'>"
      ]
     },
     "execution_count": 2,
     "metadata": {},
     "output_type": "execute_result"
    }
   ],
   "source": [
    "importlib.reload(image_util)\n",
    "importlib.reload(CellDetection)"
   ]
  },
  {
   "cell_type": "code",
   "execution_count": 62,
   "metadata": {},
   "outputs": [
    {
     "data": {
      "text/plain": [
       "0.2944350550049079"
      ]
     },
     "execution_count": 62,
     "metadata": {},
     "output_type": "execute_result"
    }
   ],
   "source": [
    "def get_avg_score(img_dir, close_size=1, open_size=1):\n",
    "    # label Images here\n",
    "    if img_dir is None:\n",
    "        img_dir = r\"D:\\Scripts\\working-at-home\\fiji-haesleinhuepf\\images\\cells\"\n",
    "    labels = ['cell', 'dust']\n",
    "    im_background = CellDetection.get_background_image(img_dir)\n",
    "    average_score = []\n",
    "    for image, im_file in image_util.image_iterator():\n",
    "        #im_plot=axes.imshow(image)\n",
    "        blobs = CellDetection.get_blobs(image, 'scikit_threshold', im_background, close_size=close_size, open_size=open_size)\n",
    "\n",
    "        try:\n",
    "            in_file = im_file[:-4]+\"_labels.csv\"\n",
    "            truth = pd.read_csv(in_file)\n",
    "\n",
    "        except FileNotFoundError:\n",
    "            print(\"The following image is not labeled: {}\".format(im_file))\n",
    "            continue\n",
    "\n",
    "\n",
    "        truth_blobs = from_df_to_list(truth)\n",
    "        scores = compare_blobs_iou(blobs, truth_blobs)\n",
    "        average_score.append( np.sum(scores)/len(truth_blobs))\n",
    "    return np.median(average_score)\n",
    "\n",
    "get_avg_score(None, close_size = 7, open_size = 11)"
   ]
  },
  {
   "cell_type": "code",
   "execution_count": 44,
   "metadata": {},
   "outputs": [
    {
     "data": {
      "text/plain": [
       "[0.4552147208725583,\n",
       " 0.3372749391727494,\n",
       " 0.2636652752440044,\n",
       " 0.031339031339031334,\n",
       " 0.3014361345950552,\n",
       " 0.368303231519369,\n",
       " 0.3180059311321538,\n",
       " 0.4697014925373134,\n",
       " 0.5334647903309813,\n",
       " 0.47474836916693736,\n",
       " 0.5396596374398815,\n",
       " 0.46116138763197584,\n",
       " 0.29828506009357075,\n",
       " 0.3320508413155472,\n",
       " 0.7620392156862745,\n",
       " 0.6046074419768811,\n",
       " 0.6324572523133675,\n",
       " 0.23148148148148148,\n",
       " 0.37228673472291673,\n",
       " 0.09841556669857367,\n",
       " 0.13730068101503887]"
      ]
     },
     "execution_count": 44,
     "metadata": {},
     "output_type": "execute_result"
    }
   ],
   "source": [
    "summed_scores"
   ]
  },
  {
   "cell_type": "code",
   "execution_count": 63,
   "metadata": {},
   "outputs": [
    {
     "name": "stdout",
     "output_type": "stream",
     "text": [
      "Close Size: 7, Open Size: 7, avg score: 0.48117647058823526\n",
      "Close Size: 11, Open Size: 7, avg score: 0.6514285714285714\n"
     ]
    }
   ],
   "source": [
    "# Parameterize Settings\n",
    "\n",
    "close_sizes = [7,11]\n",
    "open_sizes = [7]\n",
    "\n",
    "cols = []\n",
    "for close_d in close_sizes:\n",
    "    row = []\n",
    "    for open_d in open_sizes:\n",
    "        row.append(get_avg_score(None, close_size = close_d, open_size = open_d))\n",
    "        print(f\"Close Size: {close_d}, Open Size: {open_d}, avg score: {row[-1]}\")\n",
    "    cols.append(row)\n",
    "    "
   ]
  },
  {
   "cell_type": "code",
   "execution_count": 22,
   "metadata": {},
   "outputs": [
    {
     "data": {
      "text/plain": [
       "[(0.0, 73.0), 62.0, 65.0]"
      ]
     },
     "execution_count": 22,
     "metadata": {},
     "output_type": "execute_result"
    }
   ],
   "source": [
    "# Parameterize Settings for Multiprocessing\n",
    "\n",
    "close_sizes = range(1,21,2)\n",
    "open_sizes = range(1,21,2)\n",
    "\n",
    "cols = []\n",
    "for close_d in close_sizes:\n",
    "    row = []\n",
    "    for open_d in open_sizes:\n",
    "        row.append(get_avg_score(None, close_size = close_d, open_size = open_d))\n",
    "        print(f\"Close Size: {close_d}, Open Size: {open_d}, avg score: {row[-1]}\")\n",
    "    cols.append(row)"
   ]
  },
  {
   "cell_type": "code",
   "execution_count": 23,
   "metadata": {},
   "outputs": [
    {
     "data": {
      "text/plain": [
       "(0.0, 73.0)"
      ]
     },
     "execution_count": 23,
     "metadata": {},
     "output_type": "execute_result"
    }
   ],
   "source": [
    "xy, w, h = truth_blobs[0].get_bbox()\n",
    "xy"
   ]
  },
  {
   "cell_type": "code",
   "execution_count": 31,
   "metadata": {},
   "outputs": [],
   "source": [
    "x = [1,4,1,56,1,4]"
   ]
  },
  {
   "cell_type": "code",
   "execution_count": 34,
   "metadata": {},
   "outputs": [
    {
     "name": "stdout",
     "output_type": "stream",
     "text": [
      "[1, 1, 1, 4, 4, 56]\n"
     ]
    }
   ],
   "source": [
    "print(x)"
   ]
  },
  {
   "cell_type": "code",
   "execution_count": 20,
   "metadata": {},
   "outputs": [
    {
     "data": {
      "text/plain": [
       "400"
      ]
     },
     "execution_count": 20,
     "metadata": {},
     "output_type": "execute_result"
    }
   ],
   "source": [
    "close_sizes = range(1,21,1)\n",
    "open_sizes = range(1,21,1)\n",
    "arguments = []\n",
    "for close_d in close_sizes:\n",
    "    for open_d in open_sizes:\n",
    "        arguments.append([None,close_d, open_d])\n",
    "len(arguments)"
   ]
  },
  {
   "cell_type": "code",
   "execution_count": 4,
   "metadata": {},
   "outputs": [],
   "source": [
    "f = CellDetection.get_avg_score"
   ]
  },
  {
   "cell_type": "code",
   "execution_count": 21,
   "metadata": {},
   "outputs": [],
   "source": [
    "from multiprocessing import Pool\n",
    "\n",
    "if __name__ == '__main__':\n",
    "    with Pool(processes=16) as pool:  \n",
    "        \n",
    "        result = pool.starmap(f, arguments)\n",
    "        \n",
    "        "
   ]
  },
  {
   "cell_type": "code",
   "execution_count": 22,
   "metadata": {},
   "outputs": [],
   "source": [
    "r = np.asarray(result)"
   ]
  },
  {
   "cell_type": "code",
   "execution_count": 23,
   "metadata": {},
   "outputs": [
    {
     "data": {
      "text/plain": [
       "(400, 3)"
      ]
     },
     "execution_count": 23,
     "metadata": {},
     "output_type": "execute_result"
    }
   ],
   "source": [
    "r.shape"
   ]
  },
  {
   "cell_type": "code",
   "execution_count": 24,
   "metadata": {},
   "outputs": [
    {
     "data": {
      "text/plain": [
       "206"
      ]
     },
     "execution_count": 24,
     "metadata": {},
     "output_type": "execute_result"
    }
   ],
   "source": [
    "scores = r[:,2]\n",
    "scores.argmax()"
   ]
  },
  {
   "cell_type": "code",
   "execution_count": 25,
   "metadata": {},
   "outputs": [
    {
     "data": {
      "text/plain": [
       "array([11.        ,  7.        ,  0.65142857])"
      ]
     },
     "execution_count": 25,
     "metadata": {},
     "output_type": "execute_result"
    }
   ],
   "source": [
    "r[206,:]"
   ]
  },
  {
   "cell_type": "code",
   "execution_count": 26,
   "metadata": {},
   "outputs": [
    {
     "data": {
      "text/plain": [
       "0.6514285714285714"
      ]
     },
     "execution_count": 26,
     "metadata": {},
     "output_type": "execute_result"
    }
   ],
   "source": [
    "max(scores)"
   ]
  },
  {
   "cell_type": "code",
   "execution_count": 27,
   "metadata": {},
   "outputs": [],
   "source": [
    "a = r.copy()\n"
   ]
  },
  {
   "cell_type": "code",
   "execution_count": 28,
   "metadata": {},
   "outputs": [
    {
     "data": {
      "text/plain": [
       "array([[ 1.        ,  1.        ,  0.19874896],\n",
       "       [ 4.        ,  1.        ,  0.38306594],\n",
       "       [ 5.        ,  1.        ,  0.3737365 ],\n",
       "       ...,\n",
       "       [17.        , 20.        ,  0.04314477],\n",
       "       [ 9.        , 20.        ,  0.        ],\n",
       "       [20.        , 20.        ,  0.04314477]])"
      ]
     },
     "execution_count": 28,
     "metadata": {},
     "output_type": "execute_result"
    }
   ],
   "source": [
    "a[a[:,0].argsort()]"
   ]
  },
  {
   "cell_type": "code",
   "execution_count": 33,
   "metadata": {},
   "outputs": [],
   "source": [
    "a = a[a[:,1].argsort()] # First sort doesn't need to be stable.\n",
    "a = a[a[:,0].argsort(kind='mergesort')]\n"
   ]
  },
  {
   "cell_type": "code",
   "execution_count": 34,
   "metadata": {},
   "outputs": [
    {
     "data": {
      "text/plain": [
       "array([[ 1.        ,  1.        ,  0.19874896],\n",
       "       [ 1.        ,  2.        ,  0.17722529],\n",
       "       [ 1.        ,  3.        ,  0.08696821],\n",
       "       ...,\n",
       "       [20.        , 18.        ,  0.09756674],\n",
       "       [20.        , 19.        ,  0.0853983 ],\n",
       "       [20.        , 20.        ,  0.04314477]])"
      ]
     },
     "execution_count": 34,
     "metadata": {},
     "output_type": "execute_result"
    }
   ],
   "source": [
    "a"
   ]
  },
  {
   "cell_type": "code",
   "execution_count": 40,
   "metadata": {},
   "outputs": [],
   "source": [
    "b = a[:,2]"
   ]
  },
  {
   "cell_type": "code",
   "execution_count": 43,
   "metadata": {},
   "outputs": [],
   "source": [
    "b = b.reshape(20,20)"
   ]
  },
  {
   "cell_type": "code",
   "execution_count": 44,
   "metadata": {},
   "outputs": [
    {
     "data": {
      "text/plain": [
       "<matplotlib.image.AxesImage at 0x27ec290c7c8>"
      ]
     },
     "execution_count": 44,
     "metadata": {},
     "output_type": "execute_result"
    },
    {
     "data": {
      "image/png": "[encoded data removed]",
      "text/plain": [
       "<Figure size 432x288 with 1 Axes>"
      ]
     },
     "metadata": {
      "needs_background": "light"
     },
     "output_type": "display_data"
    }
   ],
   "source": [
    "plt.imshow(b)"
   ]
  },
  {
   "cell_type": "code",
   "execution_count": null,
   "metadata": {},
   "outputs": [],
   "source": []
  }
 ],
 "metadata": {
  "kernelspec": {
   "display_name": "Python 3",
   "language": "python",
   "name": "python3"
  },
  "language_info": {
   "codemirror_mode": {
    "name": "ipython",
    "version": 3
   },
   "file_extension": ".py",
   "mimetype": "text/x-python",
   "name": "python",
   "nbconvert_exporter": "python",
   "pygments_lexer": "ipython3",
   "version": "3.7.7"
  }
 },
 "nbformat": 4,
 "nbformat_minor": 4
}
