{
 "cells": [
  {
   "cell_type": "code",
   "execution_count": 33,
   "metadata": {},
   "outputs": [],
   "source": [
    "import pandas as pd\n",
    "import seaborn as sns\n",
    "import numpy as np\n",
    "import matplotlib.pyplot as plt\n",
    "from scipy import stats\n",
    "from skimage import io\n",
    "%config IPCompleter.use_jedi = False"
   ]
  },
  {
   "cell_type": "code",
   "execution_count": 2,
   "metadata": {},
   "outputs": [],
   "source": [
    "gif_dir = r\"G:\\My Drive\\ForLuke\\AutoLysisPt3\"\n",
    "\n",
    "import glob\n",
    "files = []\n",
    "for file in glob.glob(gif_dir+\"\\*.gif\"):\n",
    "    files.append(file)"
   ]
  },
  {
   "cell_type": "code",
   "execution_count": 3,
   "metadata": {},
   "outputs": [
    {
     "data": {
      "text/plain": [
       "['G:\\\\My Drive\\\\ForLuke\\\\AutoLysisPt3\\\\AutoLysis.gif',\n",
       " 'G:\\\\My Drive\\\\ForLuke\\\\AutoLysisPt3\\\\AutoLysis_00000.gif',\n",
       " 'G:\\\\My Drive\\\\ForLuke\\\\AutoLysisPt3\\\\AutoLysis_00001.gif',\n",
       " 'G:\\\\My Drive\\\\ForLuke\\\\AutoLysisPt3\\\\AutoLysis_00002.gif',\n",
       " 'G:\\\\My Drive\\\\ForLuke\\\\AutoLysisPt3\\\\AutoLysis_00003.gif',\n",
       " 'G:\\\\My Drive\\\\ForLuke\\\\AutoLysisPt3\\\\AutoLysis_00004.gif',\n",
       " 'G:\\\\My Drive\\\\ForLuke\\\\AutoLysisPt3\\\\AutoLysis_00005.gif',\n",
       " 'G:\\\\My Drive\\\\ForLuke\\\\AutoLysisPt3\\\\AutoLysis_00006.gif',\n",
       " 'G:\\\\My Drive\\\\ForLuke\\\\AutoLysisPt3\\\\AutoLysis_00007.gif',\n",
       " 'G:\\\\My Drive\\\\ForLuke\\\\AutoLysisPt3\\\\AutoLysis_00008.gif',\n",
       " 'G:\\\\My Drive\\\\ForLuke\\\\AutoLysisPt3\\\\AutoLysis_00009.gif',\n",
       " 'G:\\\\My Drive\\\\ForLuke\\\\AutoLysisPt3\\\\AutoLysis_00010.gif',\n",
       " 'G:\\\\My Drive\\\\ForLuke\\\\AutoLysisPt3\\\\AutoLysis_00011.gif',\n",
       " 'G:\\\\My Drive\\\\ForLuke\\\\AutoLysisPt3\\\\AutoLysis_00012.gif',\n",
       " 'G:\\\\My Drive\\\\ForLuke\\\\AutoLysisPt3\\\\AutoLysis_00013.gif']"
      ]
     },
     "execution_count": 3,
     "metadata": {},
     "output_type": "execute_result"
    }
   ],
   "source": [
    "files"
   ]
  },
  {
   "cell_type": "code",
   "execution_count": 45,
   "metadata": {},
   "outputs": [
    {
     "name": "stdout",
     "output_type": "stream",
     "text": [
      "MouseButton.LEFT\n",
      "Holo\n",
      "MouseButton.LEFT\n",
      "Holo\n",
      "MouseButton.LEFT\n",
      "Holo\n",
      "MouseButton.LEFT\n",
      "Holo\n",
      "MouseButton.LEFT\n",
      "Holo\n",
      "MouseButton.LEFT\n",
      "Holo\n",
      "MouseButton.LEFT\n",
      "Holo\n",
      "MouseButton.LEFT\n",
      "Holo\n",
      "MouseButton.LEFT\n",
      "Holo\n",
      "MouseButton.LEFT\n",
      "Holo\n",
      "MouseButton.LEFT\n",
      "Holo\n",
      "MouseButton.LEFT\n",
      "Holo\n",
      "MouseButton.LEFT\n",
      "Holo\n",
      "MouseButton.LEFT\n",
      "Holo\n",
      "MouseButton.LEFT\n",
      "Holo\n",
      "MouseButton.LEFT\n",
      "Holo\n",
      "MouseButton.LEFT\n",
      "Holo\n",
      "MouseButton.LEFT\n",
      "Holo\n",
      "MouseButton.LEFT\n",
      "Holo\n",
      "MouseButton.LEFT\n",
      "Holo\n",
      "MouseButton.LEFT\n",
      "Holo\n",
      "MouseButton.LEFT\n",
      "Holo\n",
      "MouseButton.LEFT\n",
      "Holo\n",
      "MouseButton.LEFT\n",
      "Holo\n"
     ]
    }
   ],
   "source": [
    "\n",
    "# Reading an animated GIF file using Python Image Processing Library - Pillow\n",
    "from PIL import Image\n",
    "from PIL import GifImagePlugin\n",
    "all_imgs = []\n",
    "\n",
    "def get_imgs(idx):\n",
    "    imgs = []\n",
    "\n",
    "    try:\n",
    "        imageObject = Image.open(files[idx])\n",
    "\n",
    "        # Display individual frames from the loaded animated GIF file\n",
    "        for frame in range(0,imageObject.n_frames):\n",
    "            imageObject.seek(frame)\n",
    "            imgs.append(np.asarray(imageObject))\n",
    "    except Exception as e:\n",
    "        pass\n",
    "    \n",
    "    return imgs\n",
    "\n"
   ]
  },
  {
   "cell_type": "code",
   "execution_count": 18,
   "metadata": {},
   "outputs": [],
   "source": [
    "%matplotlib qt"
   ]
  },
  {
   "cell_type": "code",
   "execution_count": 32,
   "metadata": {},
   "outputs": [],
   "source": [
    "import os\n",
    "DIR_VNV = os.getcwd()"
   ]
  },
  {
   "cell_type": "code",
   "execution_count": 37,
   "metadata": {},
   "outputs": [
    {
     "data": {
      "text/plain": [
       "'AutoLysis'"
      ]
     },
     "execution_count": 37,
     "metadata": {},
     "output_type": "execute_result"
    }
   ],
   "source": [
    "os.path.basename(files[0]).strip('.gif')"
   ]
  },
  {
   "cell_type": "code",
   "execution_count": 44,
   "metadata": {},
   "outputs": [
    {
     "name": "stdout",
     "output_type": "stream",
     "text": [
      "MouseButton.LEFT\n",
      "Holo\n",
      "MouseButton.LEFT\n",
      "Holo\n",
      "MouseButton.LEFT\n",
      "Holo\n"
     ]
    },
    {
     "name": "stderr",
     "output_type": "stream",
     "text": [
      "Traceback (most recent call last):\n",
      "  File \"C:\\Software\\MiniConda\\envs\\dsp\\lib\\site-packages\\matplotlib\\cbook\\__init__.py\", line 224, in process\n",
      "    func(*args, **kwargs)\n",
      "  File \"<ipython-input-44-ee18e6ba4d82>\", line 54, in on_keypress\n",
      "    self.imgs = get_imgs(self.file_idx)\n",
      "  File \"<ipython-input-26-c58f406a2ed1>\", line 6, in get_imgs\n",
      "    imageObject = Image.open(files[idx])\n",
      "  File \"C:\\Software\\MiniConda\\envs\\dsp\\lib\\site-packages\\PIL\\Image.py\", line 2931, in open\n",
      "    \"cannot identify image file %r\" % (filename if filename else fp)\n",
      "PIL.UnidentifiedImageError: cannot identify image file 'G:\\\\My Drive\\\\ForLuke\\\\AutoLysisPt3\\\\AutoLysis_00003.gif'\n"
     ]
    }
   ],
   "source": [
    "from matplotlib import animation as anim\n",
    "dir_save = os.path.join(DIR_VNV, 'Cell Detection Data/imgs')\n",
    "\n",
    "class SimpleIMAnimate:\n",
    "    \n",
    "    def __init__(self, imgs, im_plot, files, *args, **kwargs):\n",
    "        self.imgs = imgs\n",
    "        self.idx = 0\n",
    "        self.display = 0\n",
    "        self.file_idx = 0\n",
    "        self.files = files\n",
    "        self.im_plot = im_plot\n",
    "    \n",
    "    def update(self, *args):\n",
    "        if self.display != self.idx:\n",
    "            self.display = self.idx\n",
    "            self.im_plot.set_array(self.imgs[self.display])\n",
    "        return [self.im_plot] \n",
    "    \n",
    "    def on_scroll(self, event, *args):\n",
    "        if event.button == 'up':\n",
    "            self.idx +=1\n",
    "            if self.idx >= len(self.imgs):\n",
    "                self.idx -=1\n",
    "        \n",
    "        elif event.button == 'down':\n",
    "            self.idx -= 1\n",
    "            if self.idx < 0:\n",
    "                self.idx =0\n",
    "                \n",
    "    def on_click(self, event, *args):\n",
    "        print(event.button)\n",
    "        if str(event.button) == 'MouseButton.LEFT':\n",
    "            print(\"Holo\")\n",
    "            f_name = os.path.basename(self.files[self.file_idx]).strip('.gif')\n",
    "            f_name += f\"_{self.display}.png\"\n",
    "            f_name = os.path.join(dir_save, f_name)\n",
    "            io.imsave(f_name, self.imgs[self.display])\n",
    "            \n",
    "    def on_keypress(self, event, *args):\n",
    "        if event.key == 'right':\n",
    "            self.file_idx+=1\n",
    "            if self.file_idx >= len(self.files):\n",
    "                self.file_idx -=1\n",
    "                \n",
    "        elif event.key == 'left':\n",
    "            self.file_idx-=1\n",
    "            if self.file_idx <0:\n",
    "                self.file_idx +=1\n",
    "        \n",
    "        else:\n",
    "            return\n",
    "        \n",
    "        self.imgs = get_imgs(self.file_idx)\n",
    "        self.display=-1\n",
    "        self.idx = 0\n",
    "        \n",
    "                \n",
    "\n",
    "\n",
    "fig, ax = plt.subplots()\n",
    "im_plot = ax.imshow(imgs[0])\n",
    "updater = SimpleIMAnimate(imgs, im_plot, files)\n",
    "fig.canvas.mpl_connect('scroll_event', updater.on_scroll)\n",
    "fig.canvas.mpl_connect('button_press_event', updater.on_click)\n",
    "fig.canvas.mpl_connect('key_press_event', updater.on_keypress)\n",
    "\n",
    "\n",
    "anim = anim.FuncAnimation(fig, updater.update , interval=20, blit=True)\n"
   ]
  },
  {
   "cell_type": "code",
   "execution_count": 39,
   "metadata": {},
   "outputs": [
    {
     "data": {
      "text/plain": [
       "'E:/Cell Detection Data/imgs/'"
      ]
     },
     "execution_count": 39,
     "metadata": {},
     "output_type": "execute_result"
    }
   ],
   "source": [
    "dir_save"
   ]
  },
  {
   "cell_type": "code",
   "execution_count": 40,
   "metadata": {},
   "outputs": [
    {
     "data": {
      "text/plain": [
       "'E:\\\\Scripts\\\\AutomatedCE\\\\VNV'"
      ]
     },
     "execution_count": 40,
     "metadata": {},
     "output_type": "execute_result"
    }
   ],
   "source": [
    "DIR_VNV"
   ]
  },
  {
   "cell_type": "code",
   "execution_count": 42,
   "metadata": {},
   "outputs": [
    {
     "data": {
      "text/plain": [
       "'E:\\\\Scripts\\\\AutomatedCE\\\\VNV\\\\Cell Detection/imgs'"
      ]
     },
     "execution_count": 42,
     "metadata": {},
     "output_type": "execute_result"
    }
   ],
   "source": [
    "os.path.join(DIR_VNV, 'Cell Detection/imgs')"
   ]
  },
  {
   "cell_type": "code",
   "execution_count": null,
   "metadata": {},
   "outputs": [],
   "source": []
  }
 ],
 "metadata": {
  "kernelspec": {
   "display_name": "Python 3",
   "language": "python",
   "name": "python3"
  },
  "language_info": {
   "codemirror_mode": {
    "name": "ipython",
    "version": 3
   },
   "file_extension": ".py",
   "mimetype": "text/x-python",
   "name": "python",
   "nbconvert_exporter": "python",
   "pygments_lexer": "ipython3",
   "version": "3.7.9"
  }
 },
 "nbformat": 4,
 "nbformat_minor": 4
}
