{
 "cells": [
  {
   "cell_type": "code",
   "execution_count": 33,
   "metadata": {},
   "outputs": [],
   "source": [
    "import pandas as pd\n",
    "import seaborn as sns\n",
    "import numpy as np\n",
    "import matplotlib.pyplot as plt\n",
    "from scipy import stats\n",
    "from skimage import io\n",
    "%config IPCompleter.use_jedi = False"
   ]
  },
  {
   "cell_type": "code",
   "execution_count": 2,
   "metadata": {},
   "outputs": [],
   "source": [
    "gif_dir = r\"G:\\My Drive\\ForLuke\\AutoLysisPt3\"\n",
    "\n",
    "import glob\n",
    "files = []\n",
    "for file in glob.glob(gif_dir+\"\\*.gif\"):\n",
    "    files.append(file)"
   ]
  },
  {
   "cell_type": "code",
   "execution_count": 3,
   "metadata": {},
   "outputs": [
    {
     "data": {
      "text/plain": [
       "['G:\\\\My Drive\\\\ForLuke\\\\AutoLysisPt3\\\\AutoLysis.gif',\n",
       " 'G:\\\\My Drive\\\\ForLuke\\\\AutoLysisPt3\\\\AutoLysis_00000.gif',\n",
       " 'G:\\\\My Drive\\\\ForLuke\\\\AutoLysisPt3\\\\AutoLysis_00001.gif',\n",
       " 'G:\\\\My Drive\\\\ForLuke\\\\AutoLysisPt3\\\\AutoLysis_00002.gif',\n",
       " 'G:\\\\My Drive\\\\ForLuke\\\\AutoLysisPt3\\\\AutoLysis_00003.gif',\n",
       " 'G:\\\\My Drive\\\\ForLuke\\\\AutoLysisPt3\\\\AutoLysis_00004.gif',\n",
       " 'G:\\\\My Drive\\\\ForLuke\\\\AutoLysisPt3\\\\AutoLysis_00005.gif',\n",
       " 'G:\\\\My Drive\\\\ForLuke\\\\AutoLysisPt3\\\\AutoLysis_00006.gif',\n",
       " 'G:\\\\My Drive\\\\ForLuke\\\\AutoLysisPt3\\\\AutoLysis_00007.gif',\n",
       " 'G:\\\\My Drive\\\\ForLuke\\\\AutoLysisPt3\\\\AutoLysis_00008.gif',\n",
       " 'G:\\\\My Drive\\\\ForLuke\\\\AutoLysisPt3\\\\AutoLysis_00009.gif',\n",
       " 'G:\\\\My Drive\\\\ForLuke\\\\AutoLysisPt3\\\\AutoLysis_00010.gif',\n",
       " 'G:\\\\My Drive\\\\ForLuke\\\\AutoLysisPt3\\\\AutoLysis_00011.gif',\n",
       " 'G:\\\\My Drive\\\\ForLuke\\\\AutoLysisPt3\\\\AutoLysis_00012.gif',\n",
       " 'G:\\\\My Drive\\\\ForLuke\\\\AutoLysisPt3\\\\AutoLysis_00013.gif']"
      ]
     },
     "execution_count": 3,
     "metadata": {},
     "output_type": "execute_result"
    }
   ],
   "source": [
    "files"
   ]
  },
  {
   "cell_type": "code",
   "execution_count": 45,
   "metadata": {},
   "outputs": [
    {
     "name": "stdout",
     "output_type": "stream",
     "text": [
      "MouseButton.LEFT\n",
      "Holo\n",
      "MouseButton.LEFT\n",
      "Holo\n",
      "MouseButton.LEFT\n",
      "Holo\n",
      "MouseButton.LEFT\n",
      "Holo\n",
      "MouseButton.LEFT\n",
      "Holo\n",
      "MouseButton.LEFT\n",
      "Holo\n",
      "MouseButton.LEFT\n",
      "Holo\n",
      "MouseButton.LEFT\n",
      "Holo\n",
      "MouseButton.LEFT\n",
      "Holo\n",
      "MouseButton.LEFT\n",
      "Holo\n",
      "MouseButton.LEFT\n",
      "Holo\n",
      "MouseButton.LEFT\n",
      "Holo\n",
      "MouseButton.LEFT\n",
      "Holo\n",
      "MouseButton.LEFT\n",
      "Holo\n",
      "MouseButton.LEFT\n",
      "Holo\n",
      "MouseButton.LEFT\n",
      "Holo\n",
      "MouseButton.LEFT\n",
      "Holo\n",
      "MouseButton.LEFT\n",
      "Holo\n",
      "MouseButton.LEFT\n",
      "Holo\n",
      "MouseButton.LEFT\n",
      "Holo\n",
      "MouseButton.LEFT\n",
      "Holo\n",
      "MouseButton.LEFT\n",
      "Holo\n",
      "MouseButton.LEFT\n",
      "Holo\n",
      "MouseButton.LEFT\n",
      "Holo\n"
     ]
    }
   ],
   "source": [
    "\n",
    "# Reading an animated GIF file using Python Image Processing Library - Pillow\n",
    "from PIL import Image\n",
    "from PIL import GifImagePlugin\n",
    "all_imgs = []\n",
    "\n",
    "def get_imgs(idx):\n",
    "    imgs = []\n",
    "\n",
    "    try:\n",
    "        imageObject = Image.open(files[idx])\n",
    "\n",
    "        # Display individual frames from the loaded animated GIF file\n",
    "        for frame in range(0,imageObject.n_frames):\n",
    "            imageObject.seek(frame)\n",
    "            imgs.append(np.asarray(imageObject))\n",
    "    except Exception as e:\n",
    "        pass\n",
    "    \n",
    "    return imgs\n",
    "\n"
   ]
  },
  {
   "cell_type": "code",
   "execution_count": 18,
   "metadata": {},
   "outputs": [],
   "source": [
    "%matplotlib qt"
   ]
  },
  {
   "cell_type": "code",
   "execution_count": 32,
   "metadata": {},
   "outputs": [],
   "source": [
    "import os\n",
    "DIR_VNV = os.getcwd()"
   ]
  },
  {
   "cell_type": "code",
   "execution_count": 37,
   "metadata": {},
   "outputs": [
    {
     "data": {
      "text/plain": [
       "'AutoLysis'"
      ]
     },
     "execution_count": 37,
     "metadata": {},
     "output_type": "execute_result"
    }
   ],
   "source": [
    "os.path.basename(files[0]).strip('.gif')"
   ]
  },
  {
   "cell_type": "code",
   "execution_count": 44,
   "metadata": {},
   "outputs": [
    {
     "name": "stdout",
     "output_type": "stream",
     "text": [
      "MouseButton.LEFT\n",
      "Holo\n",
      "MouseButton.LEFT\n",
      "Holo\n",
      "MouseButton.LEFT\n",
      "Holo\n"
     ]
    },
    {
     "name": "stderr",
     "output_type": "stream",
     "text": [
      "Traceback (most recent call last):\n",
      "  File \"C:\\Software\\MiniConda\\envs\\dsp\\lib\\site-packages\\matplotlib\\cbook\\__init__.py\", line 224, in process\n",
      "    func(*args, **kwargs)\n",
      "  File \"<ipython-input-44-ee18e6ba4d82>\", line 54, in on_keypress\n",
      "    self.imgs = get_imgs(self.file_idx)\n",
      "  File \"<ipython-input-26-c58f406a2ed1>\", line 6, in get_imgs\n",
      "    imageObject = Image.open(files[idx])\n",
      "  File \"C:\\Software\\MiniConda\\envs\\dsp\\lib\\site-packages\\PIL\\Image.py\", line 2931, in open\n",
      "    \"cannot identify image file %r\" % (filename if filename else fp)\n",
      "PIL.UnidentifiedImageError: cannot identify image file 'G:\\\\My Drive\\\\ForLuke\\\\AutoLysisPt3\\\\AutoLysis_00003.gif'\n"
     ]
    }
   ],
   "source": [
    "from matplotlib import animation as anim\n",
    "dir_save = os.path.join(DIR_VNV, 'Cell Detection Data/imgs')\n",
    "\n",
    "class SimpleIMAnimate:\n",
    "    \n",
    "    def __init__(self, imgs, im_plot, files, *args, **kwargs):\n",
    "        self.imgs = imgs\n",
    "        self.idx = 0\n",
    "        self.display = 0\n",
    "        self.file_idx = 0\n",
    "        self.files = files\n",
    "        self.im_plot = im_plot\n",
    "    \n",
    "    def update(self, *args):\n",
    "        if self.display != self.idx:\n",
    "            self.display = self.idx\n",
    "            self.im_plot.set_array(self.imgs[self.display])\n",
    "        return [self.im_plot] \n",
    "    \n",
    "    def on_scroll(self, event, *args):\n",
    "        if event.button == 'up':\n",
    "            self.idx +=1\n",
    "            if self.idx >= len(self.imgs):\n",
    "                self.idx -=1\n",
    "        \n",
    "        elif event.button == 'down':\n",
    "            self.idx -= 1\n",
    "            if self.idx < 0:\n",
    "                self.idx =0\n",
    "                \n",
    "    def on_click(self, event, *args):\n",
    "        print(event.button)\n",
    "        if str(event.button) == 'MouseButton.LEFT':\n",
    "            print(\"Holo\")\n",
    "            f_name = os.path.basename(self.files[self.file_idx]).strip('.gif')\n",
    "            f_name += f\"_{self.display}.png\"\n",
    "            f_name = os.path.join(dir_save, f_name)\n",
    "            io.imsave(f_name, self.imgs[self.display])\n",
    "            \n",
    "    def on_keypress(self, event, *args):\n",
    "        if event.key == 'right':\n",
    "            self.file_idx+=1\n",
    "            if self.file_idx >= len(self.files):\n",
    "                self.file_idx -=1\n",
    "                \n",
    "        elif event.key == 'left':\n",
    "            self.file_idx-=1\n",
    "            if self.file_idx <0:\n",
    "                self.file_idx +=1\n",
    "        \n",
    "        else:\n",
    "            return\n",
    "        \n",
    "        self.imgs = get_imgs(self.file_idx)\n",
    "        self.display=-1\n",
    "        self.idx = 0\n",
    "        \n",
    "                \n",
    "\n",
    "\n",
    "fig, ax = plt.subplots()\n",
    "im_plot = ax.imshow(imgs[0])\n",
    "updater = SimpleIMAnimate(imgs, im_plot, files)\n",
    "fig.canvas.mpl_connect('scroll_event', updater.on_scroll)\n",
    "fig.canvas.mpl_connect('button_press_event', updater.on_click)\n",
    "fig.canvas.mpl_connect('key_press_event', updater.on_keypress)\n",
    "\n",
    "\n",
    "anim = anim.FuncAnimation(fig, updater.update , interval=20, blit=True)\n"
   ]
  },
  {
   "cell_type": "code",
   "execution_count": 39,
   "metadata": {},
   "outputs": [
    {
     "data": {
      "text/plain": [
       "'E:/Cell Detection Data/imgs/'"
      ]
     },
     "execution_count": 39,
     "metadata": {},
     "output_type": "execute_result"
    }
   ],
   "source": [
    "dir_save"
   ]
  },
  {
   "cell_type": "code",
   "execution_count": 40,
   "metadata": {},
   "outputs": [
    {
     "data": {
      "text/plain": [
       "'E:\\\\Scripts\\\\AutomatedCE\\\\VNV'"
      ]
     },
     "execution_count": 40,
     "metadata": {},
     "output_type": "execute_result"
    }
   ],
   "source": [
    "DIR_VNV"
   ]
  },
  {
   "cell_type": "code",
   "execution_count": 42,
   "metadata": {},
   "outputs": [
    {
     "data": {
      "text/plain": [
       "'E:\\\\Scripts\\\\AutomatedCE\\\\VNV\\\\Cell Detection/imgs'"
      ]
     },
     "execution_count": 42,
     "metadata": {},
     "output_type": "execute_result"
    }
   ],
   "source": [
    "os.path.join(DIR_VNV, 'Cell Detection/imgs')"
   ]
  },
  {
   "cell_type": "code",
   "execution_count": 66,
   "metadata": {},
   "outputs": [],
   "source": [
    "import numpy as np\n",
    "from scipy.ndimage import label, distance_transform_edt\n",
    "from skimage import io, img_as_float, filters, morphology, transform, draw\n",
    "from skimage.feature import peak_local_max\n",
    "from skimage.measure import regionprops, regionprops_table\n",
    "from skimage.color import gray2rgb\n",
    "from skimage.morphology import watershed\n",
    "#from L4.image_util import *\n",
    "import pandas as pd\n",
    "import glob\n",
    "\n",
    "class ImageDetect:\n",
    "    \n",
    "    \"\"\"\n",
    "    Detect whether there are cells located on the image,\n",
    "    and locate the distance needed to move to center over a lysis spot.\n",
    "    \n",
    "    Image detect rescales images to 50%, be cautious of this as you compare raw or other transformed images.\n",
    "    \n",
    "    Example Usage:\n",
    "    # files is a list of image files for testing purposes. \n",
    "    # Get Laser Position Information\n",
    "    move_to = (200,400) # Pixel coordinates for the lysis position\n",
    "    im_size = image_display.shape #should be the size of image used to determine pixel coordinates\n",
    "    \n",
    "    # Convert to general fractions of the image (for changing image sizes)\n",
    "    move_to_frac = np.divide(move_to, im_size)\n",
    "    lysis_radius_frac = 20/im_size[0]\n",
    "    \n",
    "    # This will need to be for the image at 0.5 scaled image\n",
    "    mm_per_pix = [1, 1] * 1 # Change inside the brackets to flip an axis, change outside the axis to change the scalar\n",
    "\n",
    "    # Keep searching images until you find one that will work.\n",
    "    wait= True\n",
    "    while wait:\n",
    "        file = np.random.choice(files)\n",
    "        print(file)\n",
    "        img = io.imread(file)\n",
    "        imd = ImageDetect(img)\n",
    "        try:\n",
    "            imd.get_regions()\n",
    "            imd.select_cell()\n",
    "            wait=False\n",
    "        except AssertionError as e:\n",
    "            print(e)\n",
    "\n",
    "    imd.draw_cell()\n",
    "    lysis_yx, lysis_rad = imd.draw_lysis(move_to_frac, lysis_radius_frac)\n",
    "    imd.draw_vector(lysis_yx, lysis_rad, mm_per_pix)\n",
    "    \"\"\"\n",
    "    \n",
    "    def __init__(self, img):\n",
    "        self.img = img.copy()\n",
    "        self.img_display = None\n",
    "        self.regions=None\n",
    "        self.labels=None\n",
    "        self.row = None\n",
    "        self.create_blank_display()\n",
    "        self.signal_image = None\n",
    "        self.normalized_image = None\n",
    "        self.filtered_image = None\n",
    "        self.edge_sobel = None\n",
    "        self.binary_otsu = None\n",
    "        self.closed_image1 = None\n",
    "        self.filled = None\n",
    "        self.opened = None\n",
    "        self.closed_image2 = None\n",
    "        self.labels = None\n",
    "        self.opened2 = None\n",
    "        \n",
    "    \n",
    "    def get_regions(self):\n",
    "        image = self.img\n",
    "        # Make sure types are the same\n",
    "        input_image = img_as_float(image)\n",
    "        input_image = input_image \n",
    "        # Subtract background\n",
    "        signal_image = input_image# - background\n",
    "\n",
    "        #Resize for faster analysis\n",
    "        signal_image = transform.rescale(signal_image, 0.5)\n",
    "\n",
    "        # Normalize between 0 and 1\n",
    "        self.normalized_image = normalized_image = (signal_image - signal_image.min()) / (signal_image.max() - signal_image.min())\n",
    "        # Filter Image\n",
    "        self.filtered_image = filtered_image = filters.median(normalized_image, behavior='ndimage')\n",
    "        # Edge Detection\n",
    "        self.edge_sobel = edge_sobel = filters.sobel(filtered_image)\n",
    "\n",
    "        # Threshold\n",
    "        thresh = filters.threshold_otsu(edge_sobel)\n",
    "        self.binary_otsu = binary_otsu = edge_sobel > thresh\n",
    "\n",
    "        # Binary Morphology Operations\n",
    "        structure_element = morphology.disk(5)\n",
    "\n",
    "        self.closed_image1 = closed_image = morphology.binary_closing(binary_otsu, structure_element)\n",
    "        self.filled = filled = morphology.remove_small_holes(closed_image, area_threshold=200)\n",
    "        self.opened = opened = morphology.remove_small_objects(filled, min_size=50)\n",
    "        structure_element = morphology.disk(20)\n",
    "        self.closed_image2 = closed_image = morphology.binary_closing(opened, structure_element)\n",
    "        structure_element = morphology.disk(20)\n",
    "        self.opened2 = opened_image = morphology.binary_opening(closed_image, structure_element)\n",
    "\n",
    "        # Watershed\n",
    "        distance = distance_transform_edt(opened_image)\n",
    "        local_maxi = peak_local_max(distance, indices=False, footprint=np.ones((50,50)), labels=opened_image)\n",
    "        markers = label(local_maxi)[0]\n",
    "        self.labels = labels = watershed(-distance, markers, mask=opened_image)\n",
    "\n",
    "        #Regions\n",
    "        assert np.max(labels)-np.min(labels)>=1, \"No Cells Detected, Move and Try again\"\n",
    "            \n",
    "        properties = ['centroid', 'area', 'eccentricity', 'convex_area', 'equivalent_diameter']\n",
    "        regions = regionprops_table(labels,properties=properties)\n",
    "        self.regions = regions = pd.DataFrame(regions)\n",
    "        self.labels = labels\n",
    "        return regions\n",
    "    \n",
    "    def select_cell(self):\n",
    "        regions = self.regions\n",
    "\n",
    "        # Filter the regions by area\n",
    "        regions=regions[regions['area']>10000]\n",
    "        assert regions.shape[0]>1, \"No Cells Detected, Move and Try again\"\n",
    "\n",
    "        # Get a random row from the regions\n",
    "        row = regions.sample(1).iloc[0]\n",
    "        self.row = row\n",
    "        return row\n",
    "    \n",
    "    def create_blank_display(self):\n",
    "        # Normalize the image\n",
    "        img=self.img.copy()\n",
    "        img_display = transform.rescale(img, 0.5)\n",
    "        im_st = img_display - np.quantile(img_display,0.1)\n",
    "        #Convert to color\n",
    "        rggb = gray2rgb(im_st*1/(np.quantile(im_st,0.95)))\n",
    "        self.img_display=rggb\n",
    "        return rggb\n",
    "    \n",
    "    def draw_cell(self):\n",
    "        img_display = self.img_display[:,:,0]\n",
    "        rggb = self.img_display\n",
    "        row = self.row\n",
    "        \n",
    "        # Display our detected images:\n",
    "        # Draw a circle around the selected cell\n",
    "        rr, cc = draw.circle_perimeter(int(row['centroid-0']), int(row['centroid-1']),\n",
    "                              int(row['equivalent_diameter']/2), shape=img_display.shape)\n",
    "\n",
    "        # Get the circle perimeter of the cell and make it bigger\n",
    "        perim = np.zeros(img_display.shape)\n",
    "        perim[rr,cc]=1\n",
    "        perim = morphology.dilation(perim, selem=morphology.disk(5))\n",
    "        # Add it to the color image for the perimeter\n",
    "        rggb[perim>0, :] = [1,0,0]\n",
    "        return rggb\n",
    "\n",
    "    def draw_lysis(self, move_to_frac, lysis_radius_frac):\n",
    "        img_display = self.img_display[:,:,0]\n",
    "        rggb = self.img_display\n",
    "        # Read back the magic :D \n",
    "        lysis_yx = np.multiply(move_to_frac, img_display.shape).astype(int)\n",
    "        lysis_radius = int(lysis_radius_frac*img_display.shape[0])\n",
    "        # Get the Circle\n",
    "        rr, cc = draw.circle(lysis_yx[0], lysis_yx[1], lysis_radius)\n",
    "        rggb[rr,cc, :]=[0,1,0]\n",
    "        return lysis_yx, lysis_radius\n",
    "    \n",
    "    def draw_vector(self, lysis_yx, lysis_radius, mm_per_pix):\n",
    "        # Draw the Movement Vector\n",
    "        img_display = self.img_display[:,:,0]\n",
    "        rggb = self.img_display\n",
    "        row = self.row\n",
    "        # Get the difference between the coords\n",
    "        cell_yx = [int(row['centroid-0']), int(row['centroid-1'])]\n",
    "        cell_yx[1]+= int(row['equivalent_diameter']/4)\n",
    "        diff_in_pixels = np.subtract(lysis_yx, cell_yx )\n",
    "        # Draw a line\n",
    "        rr,cc = draw.line(cell_yx[0], cell_yx[1], cell_yx[0]+diff_in_pixels[0], cell_yx[1]+diff_in_pixels[1])\n",
    "        perim = np.zeros(img_display.shape)\n",
    "        perim[rr,cc]=1\n",
    "        perim = morphology.dilation(perim, selem=morphology.disk(5))\n",
    "        rggb[perim>0, :] = [0,0,1]\n",
    "        #Scalar to convert to mm\n",
    "        diff_in_mm = diff_in_pixels*mm_per_pix\n",
    "        print(f'From: {cell_yx} to {lysis_yx} in pixels')\n",
    "        print(f'Pixel Distance = {diff_in_pixels} (y,x)')\n",
    "        print(f'mm distance = {diff_in_mm} (y,x)')\n",
    "        return diff_in_mm"
   ]
  },
  {
   "cell_type": "markdown",
   "metadata": {},
   "source": [
    "## Check the Performance\n",
    "\n",
    "Read in the images\n",
    "\n",
    "Run the Algorithm \n",
    "\n",
    "Show it\n",
    "\n"
   ]
  },
  {
   "cell_type": "code",
   "execution_count": 61,
   "metadata": {},
   "outputs": [],
   "source": [
    "good = []\n",
    "bad = []\n",
    "for file in glob.glob(dir_save+\"\\\\*.png\"):\n",
    "    if file.find('bad')>0:\n",
    "        bad.append(file)\n",
    "    else:\n",
    "        good.append(file)"
   ]
  },
  {
   "cell_type": "code",
   "execution_count": 72,
   "metadata": {},
   "outputs": [
    {
     "data": {
      "text/html": [
       "<div>\n",
       "<style scoped>\n",
       "    .dataframe tbody tr th:only-of-type {\n",
       "        vertical-align: middle;\n",
       "    }\n",
       "\n",
       "    .dataframe tbody tr th {\n",
       "        vertical-align: top;\n",
       "    }\n",
       "\n",
       "    .dataframe thead th {\n",
       "        text-align: right;\n",
       "    }\n",
       "</style>\n",
       "<table border=\"1\" class=\"dataframe\">\n",
       "  <thead>\n",
       "    <tr style=\"text-align: right;\">\n",
       "      <th></th>\n",
       "      <th>centroid-0</th>\n",
       "      <th>centroid-1</th>\n",
       "      <th>area</th>\n",
       "      <th>eccentricity</th>\n",
       "      <th>convex_area</th>\n",
       "      <th>equivalent_diameter</th>\n",
       "    </tr>\n",
       "  </thead>\n",
       "  <tbody>\n",
       "    <tr>\n",
       "      <th>0</th>\n",
       "      <td>54</td>\n",
       "      <td>277</td>\n",
       "      <td>12770</td>\n",
       "      <td>0.701564</td>\n",
       "      <td>13518</td>\n",
       "      <td>127.511839</td>\n",
       "    </tr>\n",
       "    <tr>\n",
       "      <th>1</th>\n",
       "      <td>270</td>\n",
       "      <td>262</td>\n",
       "      <td>7805</td>\n",
       "      <td>0.724347</td>\n",
       "      <td>8492</td>\n",
       "      <td>99.687686</td>\n",
       "    </tr>\n",
       "    <tr>\n",
       "      <th>2</th>\n",
       "      <td>256</td>\n",
       "      <td>494</td>\n",
       "      <td>168295</td>\n",
       "      <td>0.704146</td>\n",
       "      <td>210358</td>\n",
       "      <td>462.903715</td>\n",
       "    </tr>\n",
       "    <tr>\n",
       "      <th>3</th>\n",
       "      <td>491</td>\n",
       "      <td>342</td>\n",
       "      <td>2836</td>\n",
       "      <td>0.543653</td>\n",
       "      <td>3133</td>\n",
       "      <td>60.090826</td>\n",
       "    </tr>\n",
       "  </tbody>\n",
       "</table>\n",
       "</div>"
      ],
      "text/plain": [
       "   centroid-0  centroid-1    area  eccentricity  convex_area  \\\n",
       "0          54         277   12770      0.701564        13518   \n",
       "1         270         262    7805      0.724347         8492   \n",
       "2         256         494  168295      0.704146       210358   \n",
       "3         491         342    2836      0.543653         3133   \n",
       "\n",
       "   equivalent_diameter  \n",
       "0           127.511839  \n",
       "1            99.687686  \n",
       "2           462.903715  \n",
       "3            60.090826  "
      ]
     },
     "execution_count": 72,
     "metadata": {},
     "output_type": "execute_result"
    }
   ],
   "source": []
  },
  {
   "cell_type": "code",
   "execution_count": 116,
   "metadata": {},
   "outputs": [
    {
     "ename": "AssertionError",
     "evalue": "No Cells Detected, Move and Try again",
     "output_type": "error",
     "traceback": [
      "\u001b[1;31m---------------------------------------------------------------------------\u001b[0m",
      "\u001b[1;31mAssertionError\u001b[0m                            Traceback (most recent call last)",
      "\u001b[1;32m<ipython-input-116-f11aac9c32b0>\u001b[0m in \u001b[0;36m<module>\u001b[1;34m\u001b[0m\n\u001b[0;32m      4\u001b[0m \u001b[0mim\u001b[0m \u001b[1;33m=\u001b[0m \u001b[0mnew\u001b[0m\u001b[1;33m\u001b[0m\u001b[1;33m\u001b[0m\u001b[0m\n\u001b[0;32m      5\u001b[0m \u001b[0mimd\u001b[0m \u001b[1;33m=\u001b[0m \u001b[0mImageDetect\u001b[0m\u001b[1;33m(\u001b[0m\u001b[0mim\u001b[0m\u001b[1;33m)\u001b[0m\u001b[1;33m\u001b[0m\u001b[1;33m\u001b[0m\u001b[0m\n\u001b[1;32m----> 6\u001b[1;33m \u001b[0mimd\u001b[0m\u001b[1;33m.\u001b[0m\u001b[0mget_regions\u001b[0m\u001b[1;33m(\u001b[0m\u001b[1;33m)\u001b[0m\u001b[1;33m\u001b[0m\u001b[1;33m\u001b[0m\u001b[0m\n\u001b[0m\u001b[0;32m      7\u001b[0m \u001b[0mig\u001b[0m\u001b[1;33m,\u001b[0m \u001b[0maxes\u001b[0m \u001b[1;33m=\u001b[0m \u001b[0mplt\u001b[0m\u001b[1;33m.\u001b[0m\u001b[0msubplots\u001b[0m\u001b[1;33m(\u001b[0m\u001b[1;36m4\u001b[0m\u001b[1;33m,\u001b[0m \u001b[1;36m2\u001b[0m\u001b[1;33m)\u001b[0m\u001b[1;33m\u001b[0m\u001b[1;33m\u001b[0m\u001b[0m\n\u001b[0;32m      8\u001b[0m \u001b[0maxes\u001b[0m \u001b[1;33m=\u001b[0m \u001b[0maxes\u001b[0m\u001b[1;33m.\u001b[0m\u001b[0mflatten\u001b[0m\u001b[1;33m(\u001b[0m\u001b[1;33m)\u001b[0m\u001b[1;33m\u001b[0m\u001b[1;33m\u001b[0m\u001b[0m\n",
      "\u001b[1;32m<ipython-input-66-99f8471e6768>\u001b[0m in \u001b[0;36mget_regions\u001b[1;34m(self)\u001b[0m\n\u001b[0;32m    110\u001b[0m \u001b[1;33m\u001b[0m\u001b[0m\n\u001b[0;32m    111\u001b[0m         \u001b[1;31m#Regions\u001b[0m\u001b[1;33m\u001b[0m\u001b[1;33m\u001b[0m\u001b[1;33m\u001b[0m\u001b[0m\n\u001b[1;32m--> 112\u001b[1;33m         \u001b[1;32massert\u001b[0m \u001b[0mnp\u001b[0m\u001b[1;33m.\u001b[0m\u001b[0mmax\u001b[0m\u001b[1;33m(\u001b[0m\u001b[0mlabels\u001b[0m\u001b[1;33m)\u001b[0m\u001b[1;33m-\u001b[0m\u001b[0mnp\u001b[0m\u001b[1;33m.\u001b[0m\u001b[0mmin\u001b[0m\u001b[1;33m(\u001b[0m\u001b[0mlabels\u001b[0m\u001b[1;33m)\u001b[0m\u001b[1;33m>=\u001b[0m\u001b[1;36m1\u001b[0m\u001b[1;33m,\u001b[0m \u001b[1;34m\"No Cells Detected, Move and Try again\"\u001b[0m\u001b[1;33m\u001b[0m\u001b[1;33m\u001b[0m\u001b[0m\n\u001b[0m\u001b[0;32m    113\u001b[0m \u001b[1;33m\u001b[0m\u001b[0m\n\u001b[0;32m    114\u001b[0m         \u001b[0mproperties\u001b[0m \u001b[1;33m=\u001b[0m \u001b[1;33m[\u001b[0m\u001b[1;34m'centroid'\u001b[0m\u001b[1;33m,\u001b[0m \u001b[1;34m'area'\u001b[0m\u001b[1;33m,\u001b[0m \u001b[1;34m'eccentricity'\u001b[0m\u001b[1;33m,\u001b[0m \u001b[1;34m'convex_area'\u001b[0m\u001b[1;33m,\u001b[0m \u001b[1;34m'equivalent_diameter'\u001b[0m\u001b[1;33m]\u001b[0m\u001b[1;33m\u001b[0m\u001b[1;33m\u001b[0m\u001b[0m\n",
      "\u001b[1;31mAssertionError\u001b[0m: No Cells Detected, Move and Try again"
     ]
    }
   ],
   "source": [
    "idx = 5\n",
    "im = io.imread(bad[idx])\n",
    "new = im-avg\n",
    "im = new\n",
    "imd = ImageDetect(im)\n",
    "imd.get_regions()\n",
    "ig, axes = plt.subplots(4, 2)\n",
    "axes = axes.flatten()\n",
    "\n",
    "def namestr(obj, namespace):\n",
    "    return [name for name in namespace if namespace[name] is obj]\n",
    "\n",
    "for idx, obj in enumerate([imd.img, imd.binary_otsu, imd.closed_image1, imd.opened, imd.closed_image2,\n",
    "                         imd.opened2, imd.labels]):\n",
    "    ax = axes[idx]\n",
    "    ax.imshow(obj)\n"
   ]
  },
  {
   "cell_type": "code",
   "execution_count": 106,
   "metadata": {},
   "outputs": [],
   "source": [
    "goods = [io.imread(x) for x in good]"
   ]
  },
  {
   "cell_type": "code",
   "execution_count": 79,
   "metadata": {},
   "outputs": [],
   "source": [
    "good_imgs = np.asarray(goods)\n"
   ]
  },
  {
   "cell_type": "code",
   "execution_count": 82,
   "metadata": {},
   "outputs": [],
   "source": [
    "avg = np.mean(good_imgs, axis=0)"
   ]
  },
  {
   "cell_type": "code",
   "execution_count": 118,
   "metadata": {},
   "outputs": [
    {
     "data": {
      "text/plain": [
       "<matplotlib.image.AxesImage at 0x1f59fa07748>"
      ]
     },
     "execution_count": 118,
     "metadata": {},
     "output_type": "execute_result"
    }
   ],
   "source": [
    "plt.imshow(avg)"
   ]
  },
  {
   "cell_type": "code",
   "execution_count": 87,
   "metadata": {},
   "outputs": [
    {
     "data": {
      "text/plain": [
       "array([[102.76190476, 109.14285714, 112.57142857, ..., 135.76190476,\n",
       "        134.66666667, 138.        ],\n",
       "       [103.95238095, 111.61904762, 115.04761905, ..., 138.28571429,\n",
       "        137.66666667, 135.14285714],\n",
       "       [108.0952381 , 111.23809524, 114.71428571, ..., 140.        ,\n",
       "        138.42857143, 130.19047619],\n",
       "       ...,\n",
       "       [125.80952381, 132.47619048, 133.66666667, ..., 128.0952381 ,\n",
       "        125.61904762, 124.85714286],\n",
       "       [125.9047619 , 130.28571429, 133.66666667, ..., 126.57142857,\n",
       "        128.28571429, 127.80952381],\n",
       "       [122.04761905, 129.28571429, 129.71428571, ..., 127.        ,\n",
       "        130.        , 128.85714286]])"
      ]
     },
     "execution_count": 87,
     "metadata": {},
     "output_type": "execute_result"
    }
   ],
   "source": []
  },
  {
   "cell_type": "code",
   "execution_count": 89,
   "metadata": {},
   "outputs": [],
   "source": [
    "im = io.imread(bad[1])"
   ]
  },
  {
   "cell_type": "code",
   "execution_count": null,
   "metadata": {},
   "outputs": [],
   "source": []
  }
 ],
 "metadata": {
  "kernelspec": {
   "display_name": "Python 3",
   "language": "python",
   "name": "python3"
  },
  "language_info": {
   "codemirror_mode": {
    "name": "ipython",
    "version": 3
   },
   "file_extension": ".py",
   "mimetype": "text/x-python",
   "name": "python",
   "nbconvert_exporter": "python",
   "pygments_lexer": "ipython3",
   "version": "3.7.9"
  }
 },
 "nbformat": 4,
 "nbformat_minor": 4
}
