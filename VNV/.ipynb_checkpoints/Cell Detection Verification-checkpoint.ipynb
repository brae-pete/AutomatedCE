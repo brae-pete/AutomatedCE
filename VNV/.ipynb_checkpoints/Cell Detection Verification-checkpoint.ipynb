{
 "cells": [
  {
   "cell_type": "code",
   "execution_count": 1,
   "metadata": {},
   "outputs": [],
   "source": [
    "import pandas as pd\n",
    "import seaborn as sns\n",
    "import numpy as np\n",
    "import matplotlib.pyplot as plt\n",
    "from scipy import stats\n",
    "%config IPCompleter.use_jedi = False"
   ]
  },
  {
   "cell_type": "code",
   "execution_count": 2,
   "metadata": {},
   "outputs": [],
   "source": [
    "gif_dir = r\"G:\\My Drive\\ForLuke\\AutoLysisPt3\"\n",
    "\n",
    "import glob\n",
    "files = []\n",
    "for file in glob.glob(gif_dir+\"\\*.gif\"):\n",
    "    files.append(file)"
   ]
  },
  {
   "cell_type": "code",
   "execution_count": 3,
   "metadata": {},
   "outputs": [
    {
     "data": {
      "text/plain": [
       "['G:\\\\My Drive\\\\ForLuke\\\\AutoLysisPt3\\\\AutoLysis.gif',\n",
       " 'G:\\\\My Drive\\\\ForLuke\\\\AutoLysisPt3\\\\AutoLysis_00000.gif',\n",
       " 'G:\\\\My Drive\\\\ForLuke\\\\AutoLysisPt3\\\\AutoLysis_00001.gif',\n",
       " 'G:\\\\My Drive\\\\ForLuke\\\\AutoLysisPt3\\\\AutoLysis_00002.gif',\n",
       " 'G:\\\\My Drive\\\\ForLuke\\\\AutoLysisPt3\\\\AutoLysis_00003.gif',\n",
       " 'G:\\\\My Drive\\\\ForLuke\\\\AutoLysisPt3\\\\AutoLysis_00004.gif',\n",
       " 'G:\\\\My Drive\\\\ForLuke\\\\AutoLysisPt3\\\\AutoLysis_00005.gif',\n",
       " 'G:\\\\My Drive\\\\ForLuke\\\\AutoLysisPt3\\\\AutoLysis_00006.gif',\n",
       " 'G:\\\\My Drive\\\\ForLuke\\\\AutoLysisPt3\\\\AutoLysis_00007.gif',\n",
       " 'G:\\\\My Drive\\\\ForLuke\\\\AutoLysisPt3\\\\AutoLysis_00008.gif',\n",
       " 'G:\\\\My Drive\\\\ForLuke\\\\AutoLysisPt3\\\\AutoLysis_00009.gif',\n",
       " 'G:\\\\My Drive\\\\ForLuke\\\\AutoLysisPt3\\\\AutoLysis_00010.gif',\n",
       " 'G:\\\\My Drive\\\\ForLuke\\\\AutoLysisPt3\\\\AutoLysis_00011.gif',\n",
       " 'G:\\\\My Drive\\\\ForLuke\\\\AutoLysisPt3\\\\AutoLysis_00012.gif',\n",
       " 'G:\\\\My Drive\\\\ForLuke\\\\AutoLysisPt3\\\\AutoLysis_00013.gif']"
      ]
     },
     "execution_count": 3,
     "metadata": {},
     "output_type": "execute_result"
    }
   ],
   "source": [
    "files"
   ]
  },
  {
   "cell_type": "code",
   "execution_count": 15,
   "metadata": {},
   "outputs": [
    {
     "name": "stdout",
     "output_type": "stream",
     "text": [
      "True\n",
      "152\n"
     ]
    }
   ],
   "source": [
    "\n",
    "# Reading an animated GIF file using Python Image Processing Library - Pillow\n",
    "from PIL import Image\n",
    "from PIL import GifImagePlugin\n",
    "\n",
    "imageObject = Image.open(files[0])\n",
    "\n",
    "print(imageObject.is_animated)\n",
    "print(imageObject.n_frames)\n",
    "\n",
    "# Display individual frames from the loaded animated GIF file\n",
    "imgs = []\n",
    "for frame in range(0,imageObject.n_frames):\n",
    "    imageObject.seek(frame)\n",
    "    imgs.append(np.asarray(imageObject))"
   ]
  },
  {
   "cell_type": "code",
   "execution_count": 18,
   "metadata": {},
   "outputs": [],
   "source": [
    "%matplotlib qt"
   ]
  },
  {
   "cell_type": "code",
   "execution_count": 20,
   "metadata": {},
   "outputs": [],
   "source": [
    "from matplotlib import animation as anim\n",
    "\n",
    "class SimpleIMAnimate:\n",
    "    \n",
    "    def __init__(self, imgs, im_plot, *args, **kwargs):\n",
    "        self.imgs = imgs\n",
    "        self.idx = 0\n",
    "        self.display = 0\n",
    "        self.im_plot = im_plot\n",
    "    \n",
    "    def update(self, *args):\n",
    "        if self.display != self.idx:\n",
    "            self.display = self.idx\n",
    "            self.im_plot.set_array(self.imgs[self.display])\n",
    "        return [self.im_plot] \n",
    "    \n",
    "    def on_scroll(self, event, *args):\n",
    "        if event.button == 'up':\n",
    "            self.idx +=1\n",
    "            if self.idx >= len(self.imgs):\n",
    "                self.idx -=1\n",
    "        \n",
    "        elif event.button == 'down':\n",
    "            self.idx -= 1\n",
    "            if self.idx < 0:\n",
    "                self.idx =0\n",
    "                \n",
    "    def on_click(self, event, *args):\n",
    "        print(event.button)\n",
    "        \n",
    "    \n",
    "                \n",
    "\n",
    "\n",
    "fig, ax = plt.subplots()\n",
    "im_plot = ax.imshow(imgs[0])\n",
    "updater = SimpleIMAnimate(imgs, im_plot)\n",
    "fig.canvas.mpl_connect('scroll_event', updater.on_scroll)\n",
    "fig.canvas.mpl_connect('button_press_event', updater.on_click)\n",
    "\n",
    "anim = anim.FuncAnimation(fig, updater.update , interval=20, blit=True)\n"
   ]
  },
  {
   "cell_type": "code",
   "execution_count": null,
   "metadata": {},
   "outputs": [],
   "source": []
  }
 ],
 "metadata": {
  "kernelspec": {
   "display_name": "Python 3",
   "language": "python",
   "name": "python3"
  },
  "language_info": {
   "codemirror_mode": {
    "name": "ipython",
    "version": 3
   },
   "file_extension": ".py",
   "mimetype": "text/x-python",
   "name": "python",
   "nbconvert_exporter": "python",
   "pygments_lexer": "ipython3",
   "version": "3.7.9"
  }
 },
 "nbformat": 4,
 "nbformat_minor": 4
}
