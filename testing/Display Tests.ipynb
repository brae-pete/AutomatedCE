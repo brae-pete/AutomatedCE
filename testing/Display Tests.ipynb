{
 "cells": [
  {
   "cell_type": "code",
   "execution_count": 1,
   "metadata": {},
   "outputs": [
    {
     "name": "stdout",
     "output_type": "stream",
     "text": [
      "new directory is: C:\\Users\\Luke\\Desktop\\Barracuda\\AutomatedCE\n"
     ]
    }
   ],
   "source": [
    "import matplotlib.pyplot as plt\n",
    "import matplotlib.gridspec as gridspec\n",
    "import sys\n",
    "import os\n",
    "import numpy as np\n",
    "import time\n",
    "from imp import reload\n",
    "import threading\n",
    "import imageio\n",
    "# Set the working directory to the AutomatedCE folder so we have access to L1-L4 modules\n",
    "resp = os.getcwd()\n",
    "if 'testing' in resp[-7:]:\n",
    "    os.chdir(os.path.abspath(os.path.join(os.getcwd(), '..')))\n",
    "    print(f\"new directory is: {os.getcwd()}\")\n",
    "\n",
    "import logging"
   ]
  },
  {
   "cell_type": "code",
   "execution_count": 2,
   "metadata": {},
   "outputs": [
    {
     "name": "stderr",
     "output_type": "stream",
     "text": [
      "WARNING:root:python2path is not a var in system_config.txt\n"
     ]
    },
    {
     "name": "stdout",
     "output_type": "stream",
     "text": [
      "C:\\Users\\Luke\\Desktop\\Barracuda\\AutomatedCE\\L1\\MicroControlServer.py\n"
     ]
    },
    {
     "name": "stderr",
     "output_type": "stream",
     "text": [
      "WARNING:root:Path to Thorlabs Kinesis was not found. \n",
      " Change System Config setting if thorlabs is needed. \n"
     ]
    },
    {
     "data": {
      "text/plain": [
       "<module 'L3.SystemsBuilder' from 'C:\\\\Users\\\\Luke\\\\Desktop\\\\Barracuda\\\\AutomatedCE\\\\L3\\\\SystemsBuilder.py'>"
      ]
     },
     "execution_count": 2,
     "metadata": {},
     "output_type": "execute_result"
    }
   ],
   "source": [
    "from L1 import Controllers\n",
    "from L2 import CameraControl\n",
    "from L3 import SystemsBuilder\n",
    "#from L4 import MicroscopeDisplay\n",
    "\n",
    "import matplotlib.pyplot as plt\n",
    "import time\n",
    "\n",
    "reload(Controllers)\n",
    "reload(CameraControl)\n",
    "reload(SystemsBuilder)\n",
    "#reload(MicroscopeDisplay)"
   ]
  },
  {
   "cell_type": "code",
   "execution_count": 3,
   "metadata": {},
   "outputs": [
    {
     "name": "stdout",
     "output_type": "stream",
     "text": [
      "['utility', 'ard1', 'pressure', 'outlet_pressure']\n",
      "['utility', 'ard1', 'pressure', 'outlet_pressure']\n",
      "['utility', 'mmc1', 'xy', 'xy_stage']\n",
      "['utility', 'mmc1', 'xy', 'xy_stage']\n",
      "['utility', 'mmc1', 'z', 'objective', 'offset', '0', 'default', '0', 'min_z', '0', 'max_z', '10', 'scale', '1', 'invert', '1']\n",
      "['utility', 'mmc1', 'z', 'objective', 'offset', '0', 'default', '0', 'min_z', '0', 'max_z', '10', 'scale', '1', 'invert', '1']\n",
      "['utility', 'ard1', 'z', 'outlet_z', 'offset', '300', 'default', '295', 'min_z', '100', 'max_z', '301', 'scale', '1', 'invert', '1']\n",
      "['utility', 'ard1', 'z', 'outlet_z', 'offset', '300', 'default', '295', 'min_z', '100', 'max_z', '301', 'scale', '1', 'invert', '1']\n",
      "['utility', 'ard2', 'z', 'inlet_z', 'offset', '25', 'default', '20', 'min_z', '-0.01', 'max_z', '24.25', 'scale', '1', 'invert', '1']\n",
      "['utility', 'ard2', 'z', 'inlet_z', 'offset', '25', 'default', '20', 'min_z', '-0.01', 'max_z', '24.25', 'scale', '1', 'invert', '1']\n",
      "['utility', 'ard1', 'rgb', 'inlet_rgb']\n",
      "['utility', 'ard1', 'rgb', 'inlet_rgb']\n",
      "['utility', 'mmc1', 'filter_wheel', 'filter_wheel']\n",
      "['utility', 'mmc1', 'filter_wheel', 'filter_wheel']\n",
      "['utility', 'mmc1', 'shutter', 'excitation_shutter']\n",
      "['utility', 'mmc1', 'shutter', 'excitation_shutter']\n",
      "['utility', 'mmc1', 'camera', 'camera']\n",
      "['utility', 'mmc1', 'camera', 'camera']\n",
      "['utility', 'daq1', 'high_voltage', 'high_voltage', 'spellman', 'ao0', 'ai15', 'ai13']\n",
      "['utility', 'daq1', 'high_voltage', 'high_voltage', 'spellman', 'ao0', 'ai15', 'ai13']\n",
      "['utility', 'daq1', 'detector', 'detector', 'pmt', 'ai0']\n",
      "['utility', 'daq1', 'detector', 'detector', 'pmt', 'ai0']\n",
      "['utility', 'daq1', 'laser', 'lysis_laser', 'uniphase', 'p1.0', 'p1.2', 'p1.1']\n",
      "['utility', 'daq1', 'laser', 'lysis_laser', 'uniphase', 'p1.0', 'p1.2', 'p1.1']\n",
      "daq\n",
      "uniphase\n",
      "{'outlet_pressure': <L2.PressureControl.ArduinoPressure object at 0x000001F85323E448>, 'xy_stage': <L2.XYControl.PycromanagerXY object at 0x000001F85323E388>, 'objective': <L2.ZControl.PycromanagerZ object at 0x000001F85323E508>, 'outlet_z': <L2.ZControl.ArduinoZ object at 0x000001F85323E588>, 'inlet_z': <L2.ZControl.ArduinoZ object at 0x000001F85323E908>, 'inlet_rgb': <L2.LightControl.RGBArduino object at 0x000001F85323E5C8>, 'filter_wheel': None, 'excitation_shutter': None, 'camera': <L2.CameraControl.PycromanagerControl object at 0x000001F85323EA08>, 'high_voltage': <L2.HighVoltageControl.SpellmanPowerSupply object at 0x000001F8532362C8>, 'detector': <L2.DetectorControl.PhotomultiplierDetector object at 0x000001F85323EC08>, 'lysis_laser': <L2.LaserControl.Uniphase object at 0x000001F85323EB88>}\n"
     ]
    }
   ],
   "source": [
    "SYSTEM_CONFIG = r\"C:\\Users\\Luke\\Desktop\\Barracuda\\AutomatedCE\\var\\Eclipse.cfg\"\n",
    "sys = SystemsBuilder.CESystem()\n",
    "sys.load_config(SYSTEM_CONFIG)\n",
    "\n",
    "\n",
    "sys.open_controllers()\n",
    "sys.startup_utilities()"
   ]
  },
  {
   "cell_type": "code",
   "execution_count": 6,
   "metadata": {},
   "outputs": [],
   "source": [
    "def get_z_stack(sys, folder, stop_flag, distance=100, step = 1):\n",
    "    start_z = sys.objective.read_z()\n",
    "    x, y= sys.xy_stage.read_xy()\n",
    "    st = time.time()\n",
    "    for i in range(-distance,distance, step):\n",
    "        if stop_flag.is_set():\n",
    "            break\n",
    "        if i%10 == 0 :\n",
    "            print(f\"Step {int(i+(1*distance/step)):d} of {int(2*distance/step):d}, {time.time()-st:.1f} s elapsed, Imaging at {start_z+i/1000:.3f} mm\")\n",
    "        sys.objective.set_z((start_z+i/1000))\n",
    "        time.sleep(0.15)\n",
    "        z = sys.objective.read_z()\n",
    "        name_tag = f\"{int(z*1000 ):06d}z_{int(x*1000):06d}x_{int(y*1000):06d}y_{int(start_z*10000):06d}F.tiff\"\n",
    "        imageio.imwrite(os.path.join(folder,name_tag), sys.camera.snap())\n",
    "    sys.objective.set_z(start_z)\n",
    "    print(\"Finished\")\n",
    "    "
   ]
  },
  {
   "cell_type": "code",
   "execution_count": 21,
   "metadata": {
    "scrolled": true
   },
   "outputs": [
    {
     "name": "stdout",
     "output_type": "stream",
     "text": [
      "Step -50 of 100, 0.0 s elapsed, Imaging at 9.299 mm\n",
      "Step -40 of 100, 3.6 s elapsed, Imaging at 9.309 mm\n",
      "Step -30 of 100, 7.1 s elapsed, Imaging at 9.319 mm\n",
      "Step -20 of 100, 10.6 s elapsed, Imaging at 9.329 mm\n",
      "Step -10 of 100, 14.1 s elapsed, Imaging at 9.339 mm\n",
      "Step 0 of 100, 17.6 s elapsed, Imaging at 9.349 mm\n",
      "Step 10 of 100, 21.1 s elapsed, Imaging at 9.359 mm\n",
      "Step 20 of 100, 24.7 s elapsed, Imaging at 9.369 mm\n",
      "Step 30 of 100, 28.2 s elapsed, Imaging at 9.379 mm\n",
      "Step 40 of 100, 31.7 s elapsed, Imaging at 9.389 mm\n",
      "Step 50 of 100, 35.2 s elapsed, Imaging at 9.399 mm\n",
      "Step 60 of 100, 38.7 s elapsed, Imaging at 9.409 mm\n",
      "Step 70 of 100, 42.2 s elapsed, Imaging at 9.419 mm\n",
      "Step 80 of 100, 45.7 s elapsed, Imaging at 9.429 mm\n",
      "Step 90 of 100, 49.2 s elapsed, Imaging at 9.439 mm\n",
      "Step 100 of 100, 52.7 s elapsed, Imaging at 9.449 mm\n",
      "Step 110 of 100, 56.2 s elapsed, Imaging at 9.459 mm\n",
      "Step 120 of 100, 59.8 s elapsed, Imaging at 9.469 mm\n",
      "Step 130 of 100, 63.3 s elapsed, Imaging at 9.479 mm\n",
      "Step 140 of 100, 66.8 s elapsed, Imaging at 9.489 mm\n",
      "Finished\n"
     ]
    }
   ],
   "source": [
    "DATA_OUTPUT = r\"C:\\Users\\Luke\\Pictures\\Fl\"\n",
    "stop_flag = threading.Event()\n",
    "threading.Thread(target=get_z_stack, args=(sys,DATA_OUTPUT,stop_flag,100,2)).start()"
   ]
  },
  {
   "cell_type": "code",
   "execution_count": 11,
   "metadata": {
    "scrolled": true
   },
   "outputs": [
    {
     "name": "stdout",
     "output_type": "stream",
     "text": [
      "Finished\n"
     ]
    }
   ],
   "source": [
    "stop_flag.set()"
   ]
  },
  {
   "cell_type": "code",
   "execution_count": 7,
   "metadata": {},
   "outputs": [],
   "source": [
    "ls = sys.lysis_laser"
   ]
  },
  {
   "cell_type": "code",
   "execution_count": 10,
   "metadata": {},
   "outputs": [],
   "source": [
    "%matplotlib qt"
   ]
  },
  {
   "cell_type": "code",
   "execution_count": 20,
   "metadata": {},
   "outputs": [],
   "source": [
    "ls.laser_standby()"
   ]
  },
  {
   "cell_type": "code",
   "execution_count": 19,
   "metadata": {},
   "outputs": [],
   "source": [
    "ls.laser_stop()"
   ]
  },
  {
   "cell_type": "code",
   "execution_count": 21,
   "metadata": {},
   "outputs": [],
   "source": [
    "for i in range(100):\n",
    "    \n",
    "    ls.laser_fire()\n",
    "    time.sleep(0.4)"
   ]
  },
  {
   "cell_type": "code",
   "execution_count": 11,
   "metadata": {},
   "outputs": [
    {
     "name": "stderr",
     "output_type": "stream",
     "text": [
      "C:\\Users\\Luke\\Anaconda3\\envs\\CEpy37\\lib\\site-packages\\skimage\\exposure\\exposure.py:351: RuntimeWarning: invalid value encountered in true_divide\n",
      "  image = (image - imin) / float(imax - imin)\n"
     ]
    }
   ],
   "source": [
    "from L4 import DisplayWindows\n",
    "dp = DisplayWindows.PLTMicroscopeDisplay(sys)\n",
    "dp.show()"
   ]
  },
  {
   "cell_type": "code",
   "execution_count": 55,
   "metadata": {},
   "outputs": [],
   "source": [
    "dp.live_image()"
   ]
  },
  {
   "cell_type": "code",
   "execution_count": 12,
   "metadata": {},
   "outputs": [],
   "source": [
    "dp.single_image()"
   ]
  },
  {
   "cell_type": "code",
   "execution_count": 45,
   "metadata": {},
   "outputs": [],
   "source": [
    "dp.gamma = 1.003"
   ]
  },
  {
   "cell_type": "code",
   "execution_count": 49,
   "metadata": {},
   "outputs": [
    {
     "data": {
      "text/plain": [
       "True"
      ]
     },
     "execution_count": 49,
     "metadata": {},
     "output_type": "execute_result"
    }
   ],
   "source": [
    "sys.camera.set_exposure(100)\n"
   ]
  },
  {
   "cell_type": "code",
   "execution_count": 12,
   "metadata": {},
   "outputs": [],
   "source": [
    "z = sys.objective.read_z()"
   ]
  },
  {
   "cell_type": "code",
   "execution_count": 22,
   "metadata": {
    "scrolled": true
   },
   "outputs": [
    {
     "name": "stdout",
     "output_type": "stream",
     "text": [
      "001074z_002109x_01402y\n"
     ]
    }
   ],
   "source": [
    "name_tag = f\"{int(z*1000):06d}z_{int(x*1000):06d}x_{int(y*1000):05d}y_{start_z:05d}F\"\n",
    "print(name_tag)"
   ]
  },
  {
   "cell_type": "code",
   "execution_count": 81,
   "metadata": {},
   "outputs": [],
   "source": [
    "img = sys.camera.snap()"
   ]
  },
  {
   "cell_type": "code",
   "execution_count": 24,
   "metadata": {},
   "outputs": [
    {
     "data": {
      "text/plain": [
       "dtype('>u2')"
      ]
     },
     "execution_count": 24,
     "metadata": {},
     "output_type": "execute_result"
    }
   ],
   "source": [
    "img.dtype"
   ]
  },
  {
   "cell_type": "code",
   "execution_count": 25,
   "metadata": {},
   "outputs": [
    {
     "data": {
      "text/plain": [
       "numpy.ndarray"
      ]
     },
     "execution_count": 25,
     "metadata": {},
     "output_type": "execute_result"
    }
   ],
   "source": [
    "type(img)"
   ]
  },
  {
   "cell_type": "code",
   "execution_count": 58,
   "metadata": {},
   "outputs": [],
   "source": [
    "dp.gain=0.9"
   ]
  },
  {
   "cell_type": "code",
   "execution_count": 28,
   "metadata": {},
   "outputs": [],
   "source": [
    "imageio.imwrite(\"test_image.tiff\",img,)"
   ]
  },
  {
   "cell_type": "code",
   "execution_count": 59,
   "metadata": {},
   "outputs": [],
   "source": [
    "dp.gamma = 0.6"
   ]
  },
  {
   "cell_type": "code",
   "execution_count": 80,
   "metadata": {},
   "outputs": [
    {
     "data": {
      "text/plain": [
       "True"
      ]
     },
     "execution_count": 80,
     "metadata": {},
     "output_type": "execute_result"
    }
   ],
   "source": [
    "sys.camera.set_exposure(1000)"
   ]
  },
  {
   "cell_type": "code",
   "execution_count": null,
   "metadata": {},
   "outputs": [],
   "source": []
  }
 ],
 "metadata": {
  "kernelspec": {
   "display_name": "Python 3",
   "language": "python",
   "name": "python3"
  },
  "language_info": {
   "codemirror_mode": {
    "name": "ipython",
    "version": 3
   },
   "file_extension": ".py",
   "mimetype": "text/x-python",
   "name": "python",
   "nbconvert_exporter": "python",
   "pygments_lexer": "ipython3",
   "version": "3.7.4"
  }
 },
 "nbformat": 4,
 "nbformat_minor": 2
}
