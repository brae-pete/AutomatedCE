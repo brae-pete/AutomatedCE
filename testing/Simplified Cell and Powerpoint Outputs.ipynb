{
 "cells": [
  {
   "cell_type": "markdown",
   "metadata": {},
   "source": [
    "# Load the modules needed "
   ]
  },
  {
   "cell_type": "code",
   "execution_count": 1,
   "metadata": {},
   "outputs": [
    {
     "name": "stderr",
     "output_type": "stream",
     "text": [
      "WARNING:root:python2path is not a var in system_config.txt\n"
     ]
    },
    {
     "name": "stdout",
     "output_type": "stream",
     "text": [
      "new directory is: C:\\Users\\NikonTE300CE\\Desktop\\Barracuda_Updated\\AutomatedCE\n",
      "C:\\Users\\NikonTE300CE\\Desktop\\Barracuda_Updated\\AutomatedCE\\L1\\MicroControlServer.py\n"
     ]
    }
   ],
   "source": [
    "# Basic Function Modules\n",
    "import sys\n",
    "import os\n",
    "import glob\n",
    "from imp import reload\n",
    "import csv\n",
    "import threading\n",
    "from pathlib import Path\n",
    "import warnings\n",
    "#Data Analysis Modules\n",
    "import time\n",
    "import numpy as np\n",
    "import pandas as pd\n",
    "import matplotlib.pyplot as plt\n",
    "# Image Detection Modules\n",
    "import skimage.measure as measure\n",
    "from scipy.ndimage import label, distance_transform_edt\n",
    "from skimage import io, img_as_float, filters, morphology\n",
    "from skimage.feature import peak_local_max\n",
    "from skimage.measure import regionprops, regionprops_table\n",
    "from skimage.morphology import watershed\n",
    "# Set the working directory to the AutomatedCE folder so we have access to L1-L4 modules\n",
    "resp = os.getcwd()\n",
    "if 'testing' in resp[-7:]:\n",
    "    os.chdir(os.path.abspath(os.path.join(os.getcwd(), '..')))\n",
    "    print(f\"new directory is: {os.getcwd()}\")\n",
    "#AutomatedCE Modules\n",
    "import testing.inputs  \n",
    "from testing.inputs import *\n",
    "from L4 import DisplayWindows\n",
    "from L4 import FileIO\n",
    "from L4 import Focus\n",
    "from L4 import AutomatedControl\n",
    "from L4 import Trajectory\n",
    "from L4.image_util import ImageSaver\n",
    "from L3 import SystemsBuilder\n",
    "import testing.te300_auto_utils as auto_utils\n",
    "from L4 import image_util\n",
    "from L4 import FileIO\n",
    "\n",
    "\n",
    "# Reload (when changing aspects in the following modules)\n",
    "reload(Focus)\n",
    "reload(DisplayWindows)\n",
    "reload(testing.inputs)\n",
    "import warnings\n",
    "warnings.simplefilter(\"ignore\", UserWarning)\n",
    "# Make the plots pop up in a separate window\n",
    "%matplotlib qt\n"
   ]
  },
  {
   "cell_type": "markdown",
   "metadata": {},
   "source": [
    "## Step 1. Load the CE System with a Config File\n",
    "\n",
    "Select one of the predesigned configurations (TE300, Eclipse Ti, Simulation). See an example config under \"/config/test-system.cfg\". \n",
    "\n",
    "Change the variable CONFIG_PATH to the absolute path where the config file resides. \n",
    "\n",
    "Be sure to make the string a raw string by prepending *'r'*. **Example:** r\"C:\\path\\to\\config\\\"*\n",
    "\n",
    "If you get an error, you must restart the kernel before re-running. "
   ]
  },
  {
   "cell_type": "code",
   "execution_count": 2,
   "metadata": {
    "scrolled": true
   },
   "outputs": [
    {
     "name": "stdout",
     "output_type": "stream",
     "text": [
      "daq\n",
      "newwave\n",
      "{'outlet_pressure': <L2.PressureControl.ArduinoPressure object at 0x0000015BFF4D3760>, 'xy_stage': <L2.XYControl.PriorXY object at 0x0000015BFF4D37C0>, 'objective': <L2.ZControl.PriorZ object at 0x0000015BFF4D3820>, 'outlet_z': <L2.ZControl.ArduinoZ object at 0x0000015BFF4D3850>, 'inlet_rgb': <L2.LightControl.RGBArduino object at 0x0000015BFF4D37F0>, 'inlet_z': <L2.ZControl.KinesisZ object at 0x0000015BFF4D38E0>, 'high_voltage': <L2.HighVoltageControl.SpellmanPowerSupply object at 0x0000015BFF4D38B0>, 'camera': <L2.CameraControl.PycromanagerControl object at 0x0000015BFF4D3940>, 'detector': <L2.DetectorControl.PhotomultiplierDetector object at 0x0000015BFF4D3D60>, 'lysis_laser': <L2.LaserControl.NewWaveBNC object at 0x0000015BFF4D3FD0>, 'excitation_wheel': <L2.FilterWheelControl.LumencorFilter object at 0x0000015BFF4D3FA0>, 'filter_wheel': <L2.FilterWheelControl.PriorFilter object at 0x0000015BFF4D3EE0>}\n",
      "OPENING:  ard1 <L1.Controllers.ArduinoController object at 0x0000015BFECDA490> using port: COM8\n",
      "OPENING:  pr1 <L1.Controllers.PriorController object at 0x0000015BFECDA580> using port: COM4\n",
      "OPENING:  mmc1 <L1.Controllers.PycromanagerController object at 0x0000015BFECDA640> using port: pycromanager\n",
      "OPENING:  daq1 <L1.DAQControllers.NiDaq object at 0x0000015BFECDA670>\n",
      "OPENING:  ks1 <L1.Controllers.SimulatedController object at 0x0000015BFF4D35E0> using port: 49125264\n",
      "OPENING:  lmn <L1.Controllers.LumencorController object at 0x0000015BFF4D3670> using port: COM7\n",
      "Starting up: outlet_pressure, <L2.PressureControl.ArduinoPressure object at 0x0000015BFF4D3760>\n",
      "Starting up: xy_stage, <L2.XYControl.PriorXY object at 0x0000015BFF4D37C0>\n",
      "Starting up: objective, <L2.ZControl.PriorZ object at 0x0000015BFF4D3820>\n",
      "Starting up: outlet_z, <L2.ZControl.ArduinoZ object at 0x0000015BFF4D3850>\n",
      "Starting up: inlet_rgb, <L2.LightControl.RGBArduino object at 0x0000015BFF4D37F0>\n",
      "Starting up: inlet_z, <L2.ZControl.KinesisZ object at 0x0000015BFF4D38E0>\n",
      "Starting up: high_voltage, <L2.HighVoltageControl.SpellmanPowerSupply object at 0x0000015BFF4D38B0>\n",
      "Starting up: camera, <L2.CameraControl.PycromanagerControl object at 0x0000015BFF4D3940>\n",
      "Starting up: detector, <L2.DetectorControl.PhotomultiplierDetector object at 0x0000015BFF4D3D60>\n",
      "Starting up: lysis_laser, <L2.LaserControl.NewWaveBNC object at 0x0000015BFF4D3FD0>\n",
      "Starting up: excitation_wheel, <L2.FilterWheelControl.LumencorFilter object at 0x0000015BFF4D3FA0>\n",
      "Starting up: filter_wheel, <L2.FilterWheelControl.PriorFilter object at 0x0000015BFF4D3EE0>\n"
     ]
    }
   ],
   "source": [
    "#CONFIG_PATH = r\"C:\\Users\\Luke\\Desktop\\Barracuda\\AutomatedCE\\var\\Eclipse.cfg\"\n",
    "CONFIG_PATH = r\"C:\\Users\\NikonTE300CE\\Desktop\\Barracuda_Updated\\AutomatedCE\\config\\TE300.cfg\"\n",
    "#CONFIG_PATH = r\"D:\\Scripts\\CEInstrument\\AutomatedCE\\config\\Test-System.cfg\"\n",
    "reload(SystemsBuilder)\n",
    "\n",
    "# Create the system object\n",
    "ce_system = SystemsBuilder.CESystem()\n",
    "# Read the config file\n",
    "ce_system.load_config(CONFIG_PATH)\n",
    "# Open the controllers and run the startup functions\n",
    "ce_system.open_controllers()\n",
    "ce_system.startup_utilities()\n",
    "\n",
    "# Adjust the poorly wired RGB lighting\n",
    "ce_system.inlet_rgb.turn_on_channel('B')\n",
    "ce_system.inlet_rgb.turn_off_channel('R')\n",
    "\n",
    "# Adjust the excitation wheel start position\n",
    "ce_system.filter_wheel.set_channel(1)\n",
    "ce_system.camera.set_exposure(100)\n",
    "\n",
    "pulses=0"
   ]
  },
  {
   "cell_type": "code",
   "execution_count": 7,
   "metadata": {},
   "outputs": [
    {
     "data": {
      "text/plain": [
       "'R:Off, G:Off, B:Off'"
      ]
     },
     "execution_count": 7,
     "metadata": {},
     "output_type": "execute_result"
    }
   ],
   "source": [
    "# Turn off LED\n",
    "ce_system.inlet_rgb.turn_off_channel('B')\n"
   ]
  },
  {
   "cell_type": "code",
   "execution_count": 8,
   "metadata": {},
   "outputs": [
    {
     "data": {
      "text/plain": [
       "'R:Off, G:Off, B:On'"
      ]
     },
     "execution_count": 8,
     "metadata": {},
     "output_type": "execute_result"
    }
   ],
   "source": [
    "# Turn on LED\n",
    "ce_system.inlet_rgb.turn_on_channel('B')"
   ]
  },
  {
   "cell_type": "code",
   "execution_count": 3,
   "metadata": {},
   "outputs": [
    {
     "data": {
      "text/plain": [
       "<L2.LaserControl.NewWaveBNC at 0x22b77bd3fa0>"
      ]
     },
     "execution_count": 3,
     "metadata": {},
     "output_type": "execute_result"
    }
   ],
   "source": [
    "ce_system.lysis_laser"
   ]
  },
  {
   "cell_type": "code",
   "execution_count": 106,
   "metadata": {},
   "outputs": [],
   "source": [
    "pulses=0"
   ]
  },
  {
   "cell_type": "markdown",
   "metadata": {},
   "source": [
    "# Step 2. Prepare the Capillary for Electrophoresis\n",
    "\n",
    "We need to prep the capillary for CE. This involves rinsing the capillary surface and removing contaminants as well as re-establsihing a deprotonated silanol layer. We also need to align the capillary with detection objective. \n",
    "\n",
    "### Step 2.1 Rinse the capillary (Repeatable)\n",
    "\n",
    "Rinse the capillary according to your method. A good place to start is 10 min with HCl, 30 min with NaOH, 2 min with water. If this is your first rinse of the day,rinse with an empty vial first to make sure there are no leaks on the outlet side of the apparatus. "
   ]
  },
  {
   "cell_type": "code",
   "execution_count": 15,
   "metadata": {},
   "outputs": [],
   "source": [
    "# Start Rinse\n",
    "ce_system.outlet_pressure.rinse_pressure()"
   ]
  },
  {
   "cell_type": "code",
   "execution_count": 16,
   "metadata": {},
   "outputs": [],
   "source": [
    "# Stop Rinse \n",
    "ce_system.outlet_pressure.release()"
   ]
  },
  {
   "cell_type": "markdown",
   "metadata": {},
   "source": [
    "### Step 2.2 Align the capillary with fluorescein. \n",
    "\n",
    "Place a vial with 125 nM fluorescein in the outlet. Once the pressure is rinsing adjust the capillary position using the two set screws as well as the adjustable objective collar until the signal is maximized for the detector being used. (PMT gain voltage should be set to 250 mV, or the lowest setting with appreciable gain). "
   ]
  },
  {
   "cell_type": "code",
   "execution_count": 18,
   "metadata": {},
   "outputs": [
    {
     "name": "stderr",
     "output_type": "stream",
     "text": [
      "WARNING:root:No data to plot\n"
     ]
    }
   ],
   "source": [
    "# Run the CE View\n",
    "reload(DisplayWindows)\n",
    "\n",
    "# Create a CE Display\n",
    "ce_disp = DisplayWindows.PLTCEDisplay(ce_system)\n",
    "ce_disp.show()\n",
    "ce_system.detector.start()\n",
    "ce_disp.start_live_view()"
   ]
  },
  {
   "cell_type": "code",
   "execution_count": null,
   "metadata": {},
   "outputs": [],
   "source": [
    "resp = get_yes_no(\"Is fluorescein in the outlet and ready to be rinsed with?\")\n",
    "\n",
    "if resp:\n",
    "    ce_system.outlet_pressure.rinse_pressure()\n",
    "    print(\"Adjust the capillary inlet while maximizing the signal\")\n",
    "if not resp:\n",
    "    print(\"Please insert the fluorscein in the outlet, then re-run this cell.\")"
   ]
  },
  {
   "cell_type": "markdown",
   "metadata": {},
   "source": [
    "When finished. Record the maximum signal, along with the detector used, its gain setting (or bias when using SiPM), and the fluorescein concentration in the calibration log (located on the desktop). \n",
    "\n",
    "Run the next cell to stop the pressure rinse. "
   ]
  },
  {
   "cell_type": "code",
   "execution_count": null,
   "metadata": {},
   "outputs": [],
   "source": [
    "ce_system.outlet_pressure.release()"
   ]
  },
  {
   "cell_type": "markdown",
   "metadata": {},
   "source": [
    "### Step 2.2 Post Fluorescein Rinse\n",
    "\n",
    "Take a vial and add close to 4 mL of H20. Insert it into the outlet and then remove it. This removes any residual Fluorescein from the capillary, electrode, or other surfaces.  \n",
    "\n",
    "Repeat with a second vial, with liquid slightly higher or the same height. \n",
    "\n",
    "Finally switch with separation buffer and rinse for 10 min. "
   ]
  },
  {
   "cell_type": "code",
   "execution_count": null,
   "metadata": {},
   "outputs": [],
   "source": [
    "resp = get_yes_no(\"Have you done the pre-fluorescein rinses?\")\n",
    "if not resp:\n",
    "    print(\"Please follow instructions in step 2.2\")\n",
    "else:\n",
    "    resp = get_yes_no(\"Is the separation buffer placed in the outlet?\")\n",
    "    if resp:\n",
    "        ce_system.outlet_pressure.rinse_pressure()\n",
    "        print(\"Run the next cell when finished\")\n",
    "    else:\n",
    "        print(\"Please place the separation buffer in the outlet before rinsing.\")"
   ]
  },
  {
   "cell_type": "code",
   "execution_count": null,
   "metadata": {},
   "outputs": [],
   "source": [
    "ce_system.outlet_pressure.release()"
   ]
  },
  {
   "cell_type": "markdown",
   "metadata": {},
   "source": [
    "# Step 3. Calibrate the Capillary Inlet\n",
    "\n",
    "The method for calibration depends on the z-stage used to raise the capillary inlet. Select the correct route for the hardware employed. "
   ]
  },
  {
   "cell_type": "markdown",
   "metadata": {},
   "source": [
    "## Thorlabs Kinesis Z Stage\n",
    "\n",
    "### Step 3.1 Lower the Capillary (thorlabs)\n",
    "Move the capillary to a safe location where it will not be crushed if the stage lowers too far. Using the controls on the Z-stage itself, lower the capillary till as far as it will go. "
   ]
  },
  {
   "cell_type": "code",
   "execution_count": 24,
   "metadata": {},
   "outputs": [
    {
     "name": "stdout",
     "output_type": "stream",
     "text": [
      "Have you lowered the Kinesis Z stage to its lowest position? (y/n):   y\n",
      "Proceed to the next cell.\n"
     ]
    }
   ],
   "source": [
    "resp = get_yes_no(\"Have you lowered the Kinesis Z stage to its lowest position? (y/n):  \")\n",
    "if not resp:\n",
    "    print(\"Please make sure the Kinesis stage is lowered to its lowest position before continuing\")\n",
    "else:\n",
    "    print(\"Proceed to the next cell.\")\n",
    "    "
   ]
  },
  {
   "cell_type": "markdown",
   "metadata": {},
   "source": [
    "### Step 3.2 Home the Capillary (thorlabs)\n",
    "\n",
    "Thorlabs needs to register the home position. In the next cell we will call the go_home command to home the capillary. "
   ]
  },
  {
   "cell_type": "code",
   "execution_count": 25,
   "metadata": {},
   "outputs": [],
   "source": [
    "ce_system.inlet_z.homing()"
   ]
  },
  {
   "cell_type": "markdown",
   "metadata": {},
   "source": [
    "### Step 3.3 Adjust Capillary Position (all stages)\n",
    "\n",
    "Adjust the capillary position by sliding the detection apparatus up or down the optical support post. The capillary should be level with the bottom of the template for single-cell assays, or the top-of the template for well-based assays. \n",
    "\n",
    "*Aligning to the top of the template is a minor safety feature to prevent the user from sending the capillary to Zero position unexpetedly and crashing the capillary against the bottom of the template. However, capillary needs to be able to reach at least the glass slide of the cell reservoir for single-cell assays*"
   ]
  },
  {
   "cell_type": "code",
   "execution_count": 26,
   "metadata": {},
   "outputs": [
    {
     "name": "stdout",
     "output_type": "stream",
     "text": [
      "Have you adjusted the capillary height manually so that it is flush (level) with the top or bottom of the template? (y/n):   \n",
      "Please enter y or n as you answer\n",
      "Have you adjusted the capillary height manually so that it is flush (level) with the top or bottom of the template? (y/n):   y\n",
      "Proceed to the next cell\n"
     ]
    }
   ],
   "source": [
    "resp = get_yes_no(\"Have you adjusted the capillary height manually so that it is flush (level) with the top or bottom of the template? (y/n):  \")\n",
    "if not resp:\n",
    "    print(\"Please make sure the capillary is moved to the correct height with respect to the template before continuing\")\n",
    "else:\n",
    "    print(\"Proceed to the next cell\")"
   ]
  },
  {
   "cell_type": "markdown",
   "metadata": {},
   "source": [
    "### Step 3.4 Raise the capillary to a safe height\n",
    "\n",
    "The next cell will raise the capillary height to a location where it ***should*** be safe for any XY movements. Verify the capillary will not crash at this new height. "
   ]
  },
  {
   "cell_type": "code",
   "execution_count": 27,
   "metadata": {},
   "outputs": [
    {
     "name": "stdout",
     "output_type": "stream",
     "text": [
      "Please enter a safe height to move the stage to:  24\n",
      "Is the capillary at a safe location?:  y\n",
      "Continue to next step\n"
     ]
    }
   ],
   "source": [
    "target_z = get_float(\"Please enter a safe height to move the stage to: \")\n",
    "# Move the capillary up and wait for it to stop\n",
    "ce_system.inlet_z.set_z(target_z)\n",
    "ce_system.inlet_z.wait_for_target(target_z)\n",
    "\n",
    "resp = get_yes_no(\"Is the capillary at a safe location?: \")\n",
    "if resp:\n",
    "    print(\"Continue to next step\")\n",
    "else:\n",
    "    print(\"Please raise the capillary to an appropriate height\")"
   ]
  },
  {
   "cell_type": "markdown",
   "metadata": {},
   "source": [
    "# Step 4. Home the XY Stage\n",
    "\n",
    "This next step provides the calibration for the XY axis for the XY stage and capillary inlet. \n"
   ]
  },
  {
   "cell_type": "markdown",
   "metadata": {},
   "source": [
    "### Step 4.1 (TE300, Prior)\n",
    "\n",
    "The TE300 does not have the encoders wired to tell it where absolute 0,0 is. Thus, we need to tell the microcontroller where 0,0 is for each template. The home position before any offset, will be when the objective is in the top-right corner (if looking down at it). \n",
    "\n",
    "1. Move the objective to the upper right corner of the template. \n",
    "2. Align the capillary over the well or the objective\n"
   ]
  },
  {
   "cell_type": "code",
   "execution_count": 28,
   "metadata": {},
   "outputs": [
    {
     "name": "stdout",
     "output_type": "stream",
     "text": [
      "Is the capillary aligned with the objective and home well? y\n",
      "Home set at this position.\n",
      "Continue to next step\n"
     ]
    }
   ],
   "source": [
    "resp = get_yes_no(\"Is the capillary aligned with the objective and home well?\")\n",
    "if resp:\n",
    "    ce_system.xy_stage.set_home()\n",
    "    print(\"Home set at this position.\")\n",
    "    print(\"Continue to next step\")\n",
    "else:\n",
    "    print(\"Please raise align the capillary with the objective\")   "
   ]
  },
  {
   "cell_type": "markdown",
   "metadata": {},
   "source": [
    "# Step 5 Verify your calibration\n",
    "\n",
    "Steps 3-4 calibrate the capillaries position with the microscope's position. Now we need to verify that our alignment is correct. To do this we will move the capillary to a well and make sure that it is centered over the well. Then we will lower the capillary to a height specified by the method to make sure the capillary can reach the liquid. "
   ]
  },
  {
   "cell_type": "markdown",
   "metadata": {},
   "source": [
    "### Step 5.1. Load the Template File\n",
    "\n",
    "The template file tells the program where to move the XY stage for each well as well as how high to raise the capillary inlet during a move. Change the variable TEMPLATE_PATH to the absolute path where the template.txt file resides. "
   ]
  },
  {
   "cell_type": "code",
   "execution_count": 29,
   "metadata": {},
   "outputs": [],
   "source": [
    "TEMPLATE_PATH = r\"C:\\Users\\NikonTE300CE\\Desktop\\Barracuda_Updated\\AutomatedCE\\var\\TE300CellTemplate.txt\"\n",
    "\n",
    "reload(AutomatedControl)\n",
    "reload(Trajectory)\n",
    "\n",
    "auto_program = AutomatedControl.AutoRun(ce_system)\n",
    "auto_program.set_template(TEMPLATE_PATH)"
   ]
  },
  {
   "cell_type": "markdown",
   "metadata": {},
   "source": [
    "### Step 5.2a Raise the capillary to a safe height "
   ]
  },
  {
   "cell_type": "code",
   "execution_count": 30,
   "metadata": {},
   "outputs": [
    {
     "name": "stdout",
     "output_type": "stream",
     "text": [
      "Set the capillary to a safe travel height:  25\n",
      "Proceed to next cell\n"
     ]
    }
   ],
   "source": [
    "z = get_float(\"Set the capillary to a safe travel height: \")\n",
    "ce_system.inlet_z.set_z(z)\n",
    "print(\"Proceed to next cell\")"
   ]
  },
  {
   "cell_type": "markdown",
   "metadata": {},
   "source": [
    "### Step 5.2b Center the Capillary over a well"
   ]
  },
  {
   "cell_type": "code",
   "execution_count": 31,
   "metadata": {},
   "outputs": [
    {
     "name": "stdout",
     "output_type": "stream",
     "text": [
      "Please enter the well name to move to (press enter to see a list): w_a1\n",
      "Please move the capillary using the fine adjustment knobs, or the z-stage base so that capillary is centered over this well.\n"
     ]
    }
   ],
   "source": [
    "name = get_value(\"Please enter the well name to move to (press enter to see a list): \", auto_program.template.wells.keys())\n",
    "well = auto_program.template.wells[name]\n",
    "ce_system.xy_stage.set_xy(well.xy)\n",
    "resp = input(\"Please move the capillary using the fine adjustment knobs, or the z-stage base so that capillary is centered over this well.\")\n"
   ]
  },
  {
   "cell_type": "markdown",
   "metadata": {},
   "source": [
    "### Step 5.2c Adjusting the capillary center software offset.\n",
    "**(you can run this after aligning the cap to the objective for better centering over vials)**\n",
    "Occasionally, when the capillary is aligned over the objective, it will no longer be aligned over the vials. The next commands allow you account for this slight shift. Unlike the calibration steps above, this step allows you to move the XY-stage to center the well and keep the capillary stationary. This is most important for when the electrode or capillary look as if they may hit the vial walls during the run. "
   ]
  },
  {
   "cell_type": "code",
   "execution_count": 33,
   "metadata": {},
   "outputs": [
    {
     "name": "stdout",
     "output_type": "stream",
     "text": [
      "XY Offset not set\n"
     ]
    }
   ],
   "source": [
    "# If you had to create a new 'auto_program' object, run this command to run the xy_offset from earlier.\n",
    "try:\n",
    "    auto_program.offset = xy_offset\n",
    "except:\n",
    "    print(\"XY Offset not set\")"
   ]
  },
  {
   "cell_type": "code",
   "execution_count": 34,
   "metadata": {},
   "outputs": [
    {
     "name": "stdout",
     "output_type": "stream",
     "text": [
      "Please enter the well name to move to (press enter to see a list): w_a2\n",
      "Move the capillary using the xxy stage joystick, or the z-stage base so that capillary is centered over this well. \n",
      " Is the capillary centered? y\n",
      "Offset is: [0.9650000000000034, -1.398142857142858]\n"
     ]
    }
   ],
   "source": [
    "# Run this command to create a new XY_offset \n",
    "name = get_value(\"Please enter the well name to move to (press enter to see a list): \", auto_program.template.wells.keys())\n",
    "well = auto_program.template.wells[name]\n",
    "auto_program.move_to_well(name)\n",
    "resp = get_yes_no(\"Move the capillary using the xxy stage joystick, or the z-stage base so that capillary is centered over this well. \\n Is the capillary centered?\")\n",
    "if resp: \n",
    "    xy_offset = auto_program.offset_template(well.xy)"
   ]
  },
  {
   "cell_type": "markdown",
   "metadata": {},
   "source": [
    "### Step 5.3 Lower the capillary to the height described in the method file\n"
   ]
  },
  {
   "cell_type": "code",
   "execution_count": 37,
   "metadata": {},
   "outputs": [
    {
     "name": "stdout",
     "output_type": "stream",
     "text": [
      "What height should the capillary be lowered to? (in mm, use inlet height from methods file) 5\n",
      "Is the capillary touching the liquid in this well?  y\n",
      "Calibration Finished\n"
     ]
    }
   ],
   "source": [
    "height_z = get_float(\"What height should the capillary be lowered to? (in mm, use inlet height from methods file)\")\n",
    "prev_height = ce_system.inlet_z.read_z()\n",
    "ce_system.inlet_z.set_z(height_z)\n",
    "resp = get_yes_no(\"Is the capillary touching the liquid in this well? \")\n",
    "if not resp:\n",
    "    print(\"Adjust the height of the capillary manually (and carefully!) so that the capillary is touching the liquid\")\n",
    "else:\n",
    "    print(\"Calibration Finished\")\n",
    "ce_system.inlet_z.set_z(prev_height)"
   ]
  },
  {
   "cell_type": "markdown",
   "metadata": {},
   "source": [
    "### Optional> \n",
    "Read out the height you are currently at..."
   ]
  },
  {
   "cell_type": "code",
   "execution_count": 46,
   "metadata": {},
   "outputs": [
    {
     "name": "stdout",
     "output_type": "stream",
     "text": [
      "You are at 10.71127 mm\n"
     ]
    }
   ],
   "source": [
    "print(\"You are at {} mm\".format(ce_system.inlet_z.read_z()))"
   ]
  },
  {
   "cell_type": "code",
   "execution_count": null,
   "metadata": {},
   "outputs": [],
   "source": [
    "resp = get_yes_no(\"Would you like to lower the capillary?\")\n",
    "if resp:\n",
    "    resp = get_float(\"What would you like to lower it to?\")\n",
    "    ce_system.inlet_z.set_z(resp)\n",
    "else:\n",
    "    pass"
   ]
  },
  {
   "cell_type": "markdown",
   "metadata": {},
   "source": [
    "# Step 6. Load a method\n",
    "\n",
    "### NOTE: Step 5.1 must be run before this \n",
    "\n",
    "Load a method file. Verify your method file in excel and make sure the run is set up as intended. You can add multiple files to the same auto_program"
   ]
  },
  {
   "cell_type": "markdown",
   "metadata": {},
   "source": [
    "If you need to reset the methods (remove and start over) run the next cell"
   ]
  },
  {
   "cell_type": "code",
   "execution_count": 38,
   "metadata": {},
   "outputs": [],
   "source": [
    "# Clears the methods to be added to the run protocol\n",
    "auto_program.methods=[]"
   ]
  },
  {
   "cell_type": "code",
   "execution_count": 39,
   "metadata": {},
   "outputs": [
    {
     "name": "stderr",
     "output_type": "stream",
     "text": [
      "WARNING:root:Adding step inject\tw_a2, w_a3, w_a4, w_a5\t21 cm\t5 mm\t0\t0\t10 kV\t3 s\t\t0\n",
      "WARNING:root:Adding step 50 nm sf s1pf 324 mv\tw_a1\t21 cm\t5 mm\t0\t0\t20 kV\t160 s\t\t1\n"
     ]
    },
    {
     "name": "stdout",
     "output_type": "stream",
     "text": [
      "WHASSUZ ['inject\\tw_a2, w_a3, w_a4, w_a5\\t21 cm\\t5 mm\\t0\\t0\\t10 kV\\t3 s\\t\\t0', '50 nm sf s1pf 324 mv\\tw_a1\\t21 cm\\t5 mm\\t0\\t0\\t20 kV\\t160 s\\t\\t1']\n",
      "ADDING\n",
      "ADDING\n"
     ]
    }
   ],
   "source": [
    "# Put the filepath to your method here:\n",
    "file_to_add = r\"C:\\Users\\NikonTE300CE\\Desktop\\Barracuda_Updated\\AutomatedCE\\var\\Luke\\Fluoresceinstandard.txt\"\n",
    "# Reads the method, adds it to our list of methods to run\n",
    "auto_program.add_method(file_to_add)"
   ]
  },
  {
   "cell_type": "code",
   "execution_count": 40,
   "metadata": {},
   "outputs": [],
   "source": [
    "# Set the number of repetitions to run each method\n",
    "auto_program.repetitions=12"
   ]
  },
  {
   "cell_type": "markdown",
   "metadata": {},
   "source": [
    "# Setup Powerpoint Output"
   ]
  },
  {
   "cell_type": "code",
   "execution_count": 110,
   "metadata": {
    "scrolled": true
   },
   "outputs": [
    {
     "ename": "AttributeError",
     "evalue": "module 'L4.FileIO' has no attribute 'SlideSingleCell'",
     "output_type": "error",
     "traceback": [
      "\u001b[1;31m---------------------------------------------------------------------------\u001b[0m",
      "\u001b[1;31mAttributeError\u001b[0m                            Traceback (most recent call last)",
      "\u001b[1;32m<ipython-input-110-302d80709c08>\u001b[0m in \u001b[0;36m<module>\u001b[1;34m\u001b[0m\n\u001b[0;32m      2\u001b[0m \u001b[0mreload\u001b[0m\u001b[1;33m(\u001b[0m\u001b[0mimage_util\u001b[0m\u001b[1;33m)\u001b[0m\u001b[1;33m\u001b[0m\u001b[1;33m\u001b[0m\u001b[0m\n\u001b[0;32m      3\u001b[0m \u001b[0mreload\u001b[0m\u001b[1;33m(\u001b[0m\u001b[0mFileIO\u001b[0m\u001b[1;33m)\u001b[0m\u001b[1;33m\u001b[0m\u001b[1;33m\u001b[0m\u001b[0m\n\u001b[1;32m----> 4\u001b[1;33m \u001b[0mSlideSingleCell\u001b[0m \u001b[1;33m=\u001b[0m \u001b[0mFileIO\u001b[0m\u001b[1;33m.\u001b[0m\u001b[0mSlideSingleCell\u001b[0m\u001b[1;33m\u001b[0m\u001b[1;33m\u001b[0m\u001b[0m\n\u001b[0m",
      "\u001b[1;31mAttributeError\u001b[0m: module 'L4.FileIO' has no attribute 'SlideSingleCell'"
     ]
    },
    {
     "name": "stderr",
     "output_type": "stream",
     "text": [
      "Exception in thread Thread-111581:\n",
      "Traceback (most recent call last):\n",
      "  File \"C:\\Users\\NikonTE300CE\\miniconda3\\envs\\CEpy37\\lib\\threading.py\", line 932, in _bootstrap_inner\n",
      "    self.run()\n",
      "  File \"C:\\Users\\NikonTE300CE\\miniconda3\\envs\\CEpy37\\lib\\threading.py\", line 870, in run\n",
      "    self._target(*self._args, **self._kwargs)\n",
      "  File \"C:\\Users\\NikonTE300CE\\Desktop\\Barracuda_Updated\\AutomatedCE\\L2\\CameraControl.py\", line 240, in _sequence_update\n",
      "    img = self.controller.send_command(self.controller.core.get_last_image)\n",
      "  File \"C:\\Users\\NikonTE300CE\\Desktop\\Barracuda_Updated\\AutomatedCE\\L1\\Controllers.py\", line 232, in send_command\n",
      "    raise e\n",
      "  File \"C:\\Users\\NikonTE300CE\\Desktop\\Barracuda_Updated\\AutomatedCE\\L1\\Controllers.py\", line 223, in send_command\n",
      "    ans = command(*args)\n",
      "  File \"C:\\Users\\NikonTE300CE\\miniconda3\\envs\\CEpy37\\lib\\site-packages\\pycromanager\\core.py\", line 399, in <lambda>\n",
      "    ): instance._translate_call(signatures_list, args)\n",
      "  File \"C:\\Users\\NikonTE300CE\\miniconda3\\envs\\CEpy37\\lib\\site-packages\\pycromanager\\core.py\", line 519, in _translate_call\n",
      "    return self._deserialize(self._socket.receive())\n",
      "  File \"C:\\Users\\NikonTE300CE\\miniconda3\\envs\\CEpy37\\lib\\site-packages\\pycromanager\\core.py\", line 176, in receive\n",
      "    self._check_exception(message)\n",
      "  File \"C:\\Users\\NikonTE300CE\\miniconda3\\envs\\CEpy37\\lib\\site-packages\\pycromanager\\core.py\", line 181, in _check_exception\n",
      "    raise Exception(response[\"value\"])\n",
      "Exception: java.lang.Exception: Circular buffer is empty.\n",
      "mmcorej.MMCoreJJNI.CMMCore_getLastImage(Native Method)\n",
      "mmcorej.CMMCore.getLastImage(CMMCore.java:1040)\n",
      "sun.reflect.GeneratedMethodAccessor26.invoke(Unknown Source)\n",
      "sun.reflect.DelegatingMethodAccessorImpl.invoke(DelegatingMethodAccessorImpl.java:43)\n",
      "java.lang.reflect.Method.invoke(Method.java:498)\n",
      "org.micromanager.internal.zmq.ZMQServer.runMethod(ZMQServer.java:339)\n",
      "org.micromanager.internal.zmq.ZMQServer.parseAndExecuteCommand(ZMQServer.java:394)\n",
      "org.micromanager.internal.zmq.ZMQServer.lambda$initialize$1(ZMQServer.java:103)\n",
      "java.util.concurrent.FutureTask.run(FutureTask.java:266)\n",
      "java.util.concurrent.ThreadPoolExecutor.runWorker(ThreadPoolExecutor.java:1149)\n",
      "java.util.concurrent.ThreadPoolExecutor$Worker.run(ThreadPoolExecutor.java:624)\n",
      "java.lang.Thread.run(Thread.java:748)\n",
      "\n"
     ]
    }
   ],
   "source": [
    "reload(auto_utils)\n",
    "reload(image_util)\n",
    "reload(FileIO)\n",
    "SlideSingleCell = FileIO.SlideSingleCell\n"
   ]
  },
  {
   "cell_type": "code",
   "execution_count": null,
   "metadata": {},
   "outputs": [],
   "source": [
    "# Enter power point file name here\n",
    "file_name = 'SingleCellData'\n",
    "\n",
    "# Ask \n",
    "resp = get_yes_no(\"Do you want to save the old presentation (if applicable) and start a new record?\\n\"\n",
    "                  \"Previous Presentations will not be overwritten. \\n\" \n",
    "                  \"Slides will be saved to the Data Folder\")\n",
    "if resp:\n",
    "    cell_notes = \"\"\n",
    "    file_name = FileIO.get_data_filename(file_name+'.pptx', auto_program.data_dir, extension=\".pptx\")\n",
    "    slide_show = SlideSingleCell(file_name)\n",
    "    last_lysis = None"
   ]
  },
  {
   "cell_type": "markdown",
   "metadata": {},
   "source": [
    "# Automated Run Start and Stop Commands"
   ]
  },
  {
   "cell_type": "code",
   "execution_count": 41,
   "metadata": {
    "scrolled": false
   },
   "outputs": [
    {
     "name": "stdout",
     "output_type": "stream",
     "text": [
      "After special True\n",
      "Time to wait is  3\n",
      "XY Errr ['']\n",
      "After special True\n",
      "Time to wait is  160\n"
     ]
    }
   ],
   "source": [
    "# Start the run\n",
    "auto_program.start_run()"
   ]
  },
  {
   "cell_type": "code",
   "execution_count": 51,
   "metadata": {},
   "outputs": [
    {
     "name": "stderr",
     "output_type": "stream",
     "text": [
      "ERROR:root:Error while moving during System Move. Aborting\n",
      "ERROR:root:Exiting the run...\n",
      "Exception in thread Thread-302249:\n",
      "Traceback (most recent call last):\n",
      "  File \"C:\\Users\\NikonTE300CE\\miniconda3\\envs\\CEpy37\\lib\\threading.py\", line 932, in _bootstrap_inner\n",
      "    self.run()\n",
      "  File \"C:\\Users\\NikonTE300CE\\miniconda3\\envs\\CEpy37\\lib\\threading.py\", line 870, in run\n",
      "    self._target(*self._args, **self._kwargs)\n",
      "Thorlabs.MotionControl.DeviceManagerCLI.MoveTimeoutException: Move failed to complete in time\n",
      "   at Thorlabs.MotionControl.GenericMotorCLI.GenericMotorCLI.Wait(Int32 waitTimeout)\n",
      "   at Thorlabs.MotionControl.GenericMotorCLI.AdvancedMotor.GenericAdvancedMotorCLI.MoveTo(Decimal position, Int32 waitTimeout)\n"
     ]
    }
   ],
   "source": [
    "# Stop the Run\n",
    "auto_program.stop_run()\n",
    "auto_program.continue_event.set()"
   ]
  },
  {
   "cell_type": "code",
   "execution_count": 84,
   "metadata": {},
   "outputs": [
    {
     "name": "stdout",
     "output_type": "stream",
     "text": [
      "After special True\n",
      "Time to wait is  3\n",
      "After special True\n",
      "Time to wait is  120\n"
     ]
    }
   ],
   "source": [
    "# Run to continue past a wait step\n",
    "auto_program.continue_event.set()"
   ]
  },
  {
   "cell_type": "markdown",
   "metadata": {},
   "source": [
    "# Displays"
   ]
  },
  {
   "cell_type": "code",
   "execution_count": 42,
   "metadata": {
    "scrolled": false
   },
   "outputs": [
    {
     "name": "stdout",
     "output_type": "stream",
     "text": [
      "After special True\n",
      "Time to wait is  3\n",
      "After special True\n",
      "Time to wait is  160\n"
     ]
    },
    {
     "name": "stderr",
     "output_type": "stream",
     "text": [
      "WARNING:root:No data to plot\n"
     ]
    },
    {
     "name": "stdout",
     "output_type": "stream",
     "text": [
      "After special True\n",
      "Time to wait is  3\n"
     ]
    },
    {
     "name": "stderr",
     "output_type": "stream",
     "text": [
      "WARNING:root:No data to plot\n"
     ]
    },
    {
     "name": "stdout",
     "output_type": "stream",
     "text": [
      "After special True\n",
      "Time to wait is  160\n",
      "XY Errr ['']\n",
      "After special True\n",
      "Time to wait is  3\n"
     ]
    },
    {
     "name": "stderr",
     "output_type": "stream",
     "text": [
      "WARNING:root:No data to plot\n"
     ]
    },
    {
     "name": "stdout",
     "output_type": "stream",
     "text": [
      "XY Errr ['']\n",
      "After special True\n",
      "Time to wait is  160\n",
      "XY Errr ['']\n",
      "After special True\n",
      "Time to wait is  3\n",
      "XY Errr ['']\n",
      "After special True\n",
      "Time to wait is  160\n"
     ]
    },
    {
     "name": "stderr",
     "output_type": "stream",
     "text": [
      "WARNING:root:No data to plot\n"
     ]
    },
    {
     "name": "stdout",
     "output_type": "stream",
     "text": [
      "After special True\n",
      "Time to wait is  3\n"
     ]
    },
    {
     "name": "stderr",
     "output_type": "stream",
     "text": [
      "WARNING:root:No data to plot\n"
     ]
    },
    {
     "name": "stdout",
     "output_type": "stream",
     "text": [
      "After special True\n",
      "Time to wait is  160\n"
     ]
    },
    {
     "name": "stderr",
     "output_type": "stream",
     "text": [
      "WARNING:root:No data to plot\n"
     ]
    },
    {
     "name": "stdout",
     "output_type": "stream",
     "text": [
      "After special True\n",
      "Time to wait is  3\n",
      "After special True\n",
      "Time to wait is  160\n"
     ]
    },
    {
     "name": "stderr",
     "output_type": "stream",
     "text": [
      "WARNING:root:No data to plot\n"
     ]
    },
    {
     "name": "stdout",
     "output_type": "stream",
     "text": [
      "XY Errr ['']\n",
      "After special True\n",
      "Time to wait is  3\n",
      "XY Errr ['']\n",
      "After special True\n",
      "Time to wait is  160\n"
     ]
    },
    {
     "name": "stderr",
     "output_type": "stream",
     "text": [
      "WARNING:root:No data to plot\n"
     ]
    },
    {
     "name": "stdout",
     "output_type": "stream",
     "text": [
      "XY Errr ['']\n",
      "After special True\n",
      "Time to wait is  3\n",
      "XY Errr ['']\n",
      "After special True\n",
      "Time to wait is  160\n",
      "After special True\n",
      "Time to wait is  3\n",
      "After special True\n",
      "Time to wait is  160\n"
     ]
    },
    {
     "name": "stderr",
     "output_type": "stream",
     "text": [
      "WARNING:root:No data to plot\n"
     ]
    },
    {
     "name": "stdout",
     "output_type": "stream",
     "text": [
      "After special True\n",
      "Time to wait is  3\n"
     ]
    },
    {
     "name": "stderr",
     "output_type": "stream",
     "text": [
      "WARNING:root:No data to plot\n"
     ]
    },
    {
     "name": "stdout",
     "output_type": "stream",
     "text": [
      "After special True\n",
      "Time to wait is  160\n",
      "XY Errr ['']\n",
      "After special True\n",
      "Time to wait is  3\n"
     ]
    },
    {
     "name": "stderr",
     "output_type": "stream",
     "text": [
      "WARNING:root:No data to plot\n"
     ]
    },
    {
     "name": "stdout",
     "output_type": "stream",
     "text": [
      "XY Errr ['']\n",
      "After special True\n",
      "Time to wait is  160\n"
     ]
    },
    {
     "name": "stderr",
     "output_type": "stream",
     "text": [
      "WARNING:root:No data to plot\n"
     ]
    }
   ],
   "source": [
    "# CE Display\n",
    "ce_gram = DisplayWindows.PLTCEDisplay(ce_system)\n",
    "#ce_disp.stop()\n",
    "#ce_disp.show()\n",
    "ce_gram.start_live_view()\n",
    "\n",
    "# Uncomment the following to reset the detector (start gathering data)\n",
    "#ce_system.detector.start()"
   ]
  },
  {
   "cell_type": "code",
   "execution_count": 46,
   "metadata": {
    "scrolled": true
   },
   "outputs": [
    {
     "name": "stdout",
     "output_type": "stream",
     "text": [
      "HEYYOO\n"
     ]
    }
   ],
   "source": [
    "# Microscope Display\n",
    "cam = DisplayWindows.PLTMicroscopeDisplay(ce_system)\n",
    "cam.scalar=1\n",
    "ce_system.camera.stop()\n",
    "cam.show()\n",
    "cam.live_image()"
   ]
  },
  {
   "cell_type": "markdown",
   "metadata": {},
   "source": [
    "# SET DISTANCE BETWEEN OBJECTIVE AND CAPILLARY"
   ]
  },
  {
   "cell_type": "code",
   "execution_count": 47,
   "metadata": {},
   "outputs": [
    {
     "data": {
      "text/plain": [
       "-0.0002"
      ]
     },
     "execution_count": 47,
     "metadata": {},
     "output_type": "execute_result"
    }
   ],
   "source": [
    "# If this is not 0, make sure the objective won't crash!\n",
    "ce_system.objective.read_z()"
   ]
  },
  {
   "cell_type": "code",
   "execution_count": 45,
   "metadata": {},
   "outputs": [],
   "source": [
    "# Go to Zero at the start of the day\n",
    "ce_system.objective.set_z(0)"
   ]
  },
  {
   "cell_type": "markdown",
   "metadata": {},
   "source": [
    "Now bring cells into focus, by using the coarse objective adjustment! Do not change the coarse adjustment from here on out."
   ]
  },
  {
   "cell_type": "code",
   "execution_count": 79,
   "metadata": {
    "scrolled": true
   },
   "outputs": [],
   "source": [
    "# Move the objective to the cell focus, and run this cell to record it for next time\n",
    "obj_height = ce_system.objective.read_z()\n",
    "ce_system.objective.set_rel_z(.05)"
   ]
  },
  {
   "cell_type": "code",
   "execution_count": 78,
   "metadata": {},
   "outputs": [],
   "source": [
    "# Lower Capillary Inlet into Cell Chamber units in mm\n",
    "ce_system.inlet_z.set_rel_z(0.005)"
   ]
  },
  {
   "cell_type": "code",
   "execution_count": 80,
   "metadata": {},
   "outputs": [],
   "source": [
    "# and record this height for next time \n",
    "cap_height = ce_system.inlet_z.read_z()\n",
    "cap_difference = obj_height - cap_height\n",
    "with open('save_me','w') as fout:\n",
    "    fout.write(f'cap_difference,{cap_difference}')"
   ]
  },
  {
   "cell_type": "code",
   "execution_count": 81,
   "metadata": {},
   "outputs": [],
   "source": [
    "# if you needed to restart you can load the earlier difference\n",
    "with open('save_me','r') as fin:\n",
    "    cap_difference= float(fin.readline().split(',')[1])\n",
    "    "
   ]
  },
  {
   "cell_type": "code",
   "execution_count": 82,
   "metadata": {},
   "outputs": [
    {
     "data": {
      "text/plain": [
       "14.168074"
      ]
     },
     "execution_count": 82,
     "metadata": {},
     "output_type": "execute_result"
    }
   ],
   "source": [
    "ce_system.inlet_z.read_z()"
   ]
  },
  {
   "cell_type": "code",
   "execution_count": 83,
   "metadata": {},
   "outputs": [],
   "source": [
    "ce_system.inlet_z.set_z(30)"
   ]
  },
  {
   "cell_type": "code",
   "execution_count": 84,
   "metadata": {},
   "outputs": [],
   "source": [
    "ce_system.objective.set_rel_z(-0.05)"
   ]
  },
  {
   "cell_type": "markdown",
   "metadata": {},
   "source": [
    "# Take Fluorescent Images\n",
    "\n",
    "This is for the NikonTE300 Microscope. \n",
    "\n",
    "*light_channel* corresponds to the lumencor light. Please enter the lowercase name of light to show:\n",
    "'red', 'blue', 'cyan', etc...\n",
    "\n",
    "*fluor_channel* corresponds to the filter wheel position for the emission filter. \n",
    "\n",
    "GFP Fluoresence settings:\n",
    "light_channel = 'cyan'\n",
    "fluor_channel = 4\n"
   ]
  },
  {
   "cell_type": "code",
   "execution_count": 6,
   "metadata": {},
   "outputs": [
    {
     "name": "stderr",
     "output_type": "stream",
     "text": [
      "WARNING:root:Binning not possible with test configuration\n",
      "WARNING:root:Binning not possible with test configuration\n"
     ]
    },
    {
     "name": "stdout",
     "output_type": "stream",
     "text": [
      "HEYYOO\n"
     ]
    },
    {
     "name": "stderr",
     "output_type": "stream",
     "text": [
      "Exception in thread Thread-135:\n",
      "Traceback (most recent call last):\n",
      "  File \"D:\\Software\\MiniConda\\envs\\CEpy3\\lib\\threading.py\", line 926, in _bootstrap_inner\n",
      "    self.run()\n",
      "  File \"D:\\Software\\MiniConda\\envs\\CEpy3\\lib\\threading.py\", line 870, in run\n",
      "    self._target(*self._args, **self._kwargs)\n",
      "  File \"D:\\Scripts\\CEInstrument\\AutomatedCE\\L2\\CameraControl.py\", line 241, in _sequence_update\n",
      "    img = self.controller.send_command(self.controller.core.get_last_image)\n",
      "  File \"D:\\Scripts\\CEInstrument\\AutomatedCE\\L1\\Controllers.py\", line 232, in send_command\n",
      "    raise e\n",
      "  File \"D:\\Scripts\\CEInstrument\\AutomatedCE\\L1\\Controllers.py\", line 223, in send_command\n",
      "    ans = command(*args)\n",
      "  File \"D:\\Software\\MiniConda\\envs\\CEpy3\\lib\\site-packages\\pycromanager\\core.py\", line 399, in <lambda>\n",
      "    ): instance._translate_call(signatures_list, args)\n",
      "  File \"D:\\Software\\MiniConda\\envs\\CEpy3\\lib\\site-packages\\pycromanager\\core.py\", line 519, in _translate_call\n",
      "    return self._deserialize(self._socket.receive())\n",
      "  File \"D:\\Software\\MiniConda\\envs\\CEpy3\\lib\\site-packages\\pycromanager\\core.py\", line 176, in receive\n",
      "    self._check_exception(message)\n",
      "  File \"D:\\Software\\MiniConda\\envs\\CEpy3\\lib\\site-packages\\pycromanager\\core.py\", line 181, in _check_exception\n",
      "    raise Exception(response[\"value\"])\n",
      "Exception: java.lang.Exception: Circular buffer is empty.\n",
      "mmcorej.MMCoreJJNI.CMMCore_getLastImage(Native Method)\n",
      "mmcorej.CMMCore.getLastImage(CMMCore.java:1040)\n",
      "sun.reflect.GeneratedMethodAccessor31.invoke(Unknown Source)\n",
      "sun.reflect.DelegatingMethodAccessorImpl.invoke(DelegatingMethodAccessorImpl.java:43)\n",
      "java.lang.reflect.Method.invoke(Method.java:498)\n",
      "org.micromanager.internal.zmq.ZMQServer.runMethod(ZMQServer.java:339)\n",
      "org.micromanager.internal.zmq.ZMQServer.parseAndExecuteCommand(ZMQServer.java:394)\n",
      "org.micromanager.internal.zmq.ZMQServer.lambda$initialize$1(ZMQServer.java:103)\n",
      "java.util.concurrent.FutureTask.run(FutureTask.java:266)\n",
      "java.util.concurrent.ThreadPoolExecutor.runWorker(ThreadPoolExecutor.java:1149)\n",
      "java.util.concurrent.ThreadPoolExecutor$Worker.run(ThreadPoolExecutor.java:624)\n",
      "java.lang.Thread.run(Thread.java:748)\n",
      "\n",
      "\n"
     ]
    }
   ],
   "source": [
    "fluor_channel=4\n",
    "light_channel='cyan'\n",
    "bins=2\n",
    "ce_system.excitation_wheel.set_intensity(['cyan'],1)\n",
    "auto_utils.pre_fluoresence(ce_system)\n",
    "img = ce_system.camera.snap()\n",
    "auto_utils.post_fluoresence(ce_system)\n",
    "\n"
   ]
  },
  {
   "cell_type": "code",
   "execution_count": null,
   "metadata": {},
   "outputs": [],
   "source": [
    "# Show the image you just took \n",
    "fig, ax = plt.subplots()\n",
    "ax.imshow(img)"
   ]
  },
  {
   "cell_type": "code",
   "execution_count": 71,
   "metadata": {
    "scrolled": true
   },
   "outputs": [
    {
     "data": {
      "text/plain": [
       "(array([ 3718., 12182.,  3998.,  1532.,   633.,   326.,   129.,    55.,\n",
       "           33.,    14.]),\n",
       " array([192. , 206.2, 220.4, 234.6, 248.8, 263. , 277.2, 291.4, 305.6,\n",
       "        319.8, 334. ]),\n",
       " <BarContainer object of 10 artists>)"
      ]
     },
     "execution_count": 71,
     "metadata": {},
     "output_type": "execute_result"
    }
   ],
   "source": [
    "# Show the histogram of the image you just took \n",
    "fig,ax = plt.subplots()\n",
    "ax.hist(img.flatten())"
   ]
  },
  {
   "cell_type": "markdown",
   "metadata": {},
   "source": [
    "# SINGLE CELL "
   ]
  },
  {
   "cell_type": "code",
   "execution_count": 85,
   "metadata": {
    "scrolled": true
   },
   "outputs": [
    {
     "name": "stdout",
     "output_type": "stream",
     "text": [
      "you want to raise the objective? n\n"
     ]
    }
   ],
   "source": [
    "# Run this box, when you need to raise the objective up, following a single cell. \n",
    "resp = get_yes_no(\"you want to raise the objective?\")\n",
    "if resp:\n",
    "    ce_system.objective.set_rel_z(5)"
   ]
  },
  {
   "cell_type": "code",
   "execution_count": 58,
   "metadata": {},
   "outputs": [],
   "source": [
    "# Use these two commands to record, or go to previous locations on the glass slide. \n",
    "#xy = ce_system.xy_stage.read_xy()\n",
    "#ce_system.xy_stage.set_xy(xy)"
   ]
  },
  {
   "cell_type": "code",
   "execution_count": 86,
   "metadata": {},
   "outputs": [],
   "source": [
    "# Record lysis images? \n",
    "record_lysis = True\n",
    "lysis_dir = r\"C:\\Users\\NikonTE300CE\\Desktop\\Luke\\Lysis\\images\""
   ]
  },
  {
   "cell_type": "markdown",
   "metadata": {},
   "source": [
    "### Find your cells of interest, lower the capillary \n",
    "Find cells of interest and focus them before running the next command. Adjust Drift if necessary. \n",
    "Drift is how much of an offset on the capillary Z. "
   ]
  },
  {
   "cell_type": "code",
   "execution_count": 109,
   "metadata": {
    "scrolled": true
   },
   "outputs": [
    {
     "name": "stdout",
     "output_type": "stream",
     "text": [
      "are the cells in focus? (You may crush the capillary if not...) y\n",
      "0.1431\n",
      "Saving Presentation... this may take 15-20 s\n"
     ]
    },
    {
     "ename": "NameError",
     "evalue": "name 'slide_show' is not defined",
     "output_type": "error",
     "traceback": [
      "\u001b[1;31m---------------------------------------------------------------------------\u001b[0m",
      "\u001b[1;31mNameError\u001b[0m                                 Traceback (most recent call last)",
      "\u001b[1;32m<ipython-input-109-9a3686ee9ab2>\u001b[0m in \u001b[0;36m<module>\u001b[1;34m\u001b[0m\n\u001b[0;32m     30\u001b[0m             \u001b[0mfile_path\u001b[0m \u001b[1;33m=\u001b[0m \u001b[0mstr\u001b[0m\u001b[1;33m(\u001b[0m\u001b[0mauto_program\u001b[0m\u001b[1;33m.\u001b[0m\u001b[0mlast_path\u001b[0m\u001b[1;33m)\u001b[0m\u001b[1;33m\u001b[0m\u001b[1;33m\u001b[0m\u001b[0m\n\u001b[0;32m     31\u001b[0m             \u001b[0mcell_notes\u001b[0m \u001b[1;33m=\u001b[0m \u001b[1;34mf'EK Injection: {voltage_level} kV, {injection_time} s, Pulses required: {pulses} \\n'\u001b[0m \u001b[1;33m+\u001b[0m \u001b[0mcell_notes\u001b[0m\u001b[1;33m\u001b[0m\u001b[1;33m\u001b[0m\u001b[0m\n\u001b[1;32m---> 32\u001b[1;33m             \u001b[0mthreading\u001b[0m\u001b[1;33m.\u001b[0m\u001b[0mThread\u001b[0m\u001b[1;33m(\u001b[0m\u001b[0mtarget\u001b[0m\u001b[1;33m=\u001b[0m\u001b[0msave_slides\u001b[0m\u001b[1;33m,\u001b[0m \u001b[0margs\u001b[0m\u001b[1;33m=\u001b[0m\u001b[1;33m(\u001b[0m\u001b[0mslide_show\u001b[0m\u001b[1;33m,\u001b[0m \u001b[0mfile_path\u001b[0m\u001b[1;33m,\u001b[0m\u001b[0mlast_lysis\u001b[0m\u001b[1;33m,\u001b[0m \u001b[1;32mNone\u001b[0m\u001b[1;33m,\u001b[0m \u001b[0mcell_notes\u001b[0m\u001b[1;33m)\u001b[0m\u001b[1;33m)\u001b[0m\u001b[1;33m.\u001b[0m\u001b[0mstart\u001b[0m\u001b[1;33m(\u001b[0m\u001b[1;33m)\u001b[0m\u001b[1;33m\u001b[0m\u001b[1;33m\u001b[0m\u001b[0m\n\u001b[0m\u001b[0;32m     33\u001b[0m             \u001b[0mauto_program\u001b[0m\u001b[1;33m.\u001b[0m\u001b[0mlast_path\u001b[0m\u001b[1;33m=\u001b[0m\u001b[1;32mNone\u001b[0m\u001b[1;33m\u001b[0m\u001b[1;33m\u001b[0m\u001b[0m\n\u001b[0;32m     34\u001b[0m             \u001b[0mpulses\u001b[0m\u001b[1;33m=\u001b[0m\u001b[1;36m0\u001b[0m\u001b[1;33m\u001b[0m\u001b[1;33m\u001b[0m\u001b[0m\n",
      "\u001b[1;31mNameError\u001b[0m: name 'slide_show' is not defined"
     ]
    },
    {
     "name": "stderr",
     "output_type": "stream",
     "text": [
      "Exception in thread Thread-122029:\n",
      "Traceback (most recent call last):\n",
      "  File \"C:\\Users\\NikonTE300CE\\miniconda3\\envs\\CEpy37\\lib\\threading.py\", line 932, in _bootstrap_inner\n",
      "    self.run()\n",
      "  File \"C:\\Users\\NikonTE300CE\\miniconda3\\envs\\CEpy37\\lib\\threading.py\", line 870, in run\n",
      "    self._target(*self._args, **self._kwargs)\n",
      "Thorlabs.MotionControl.DeviceManagerCLI.MoveToInvalidPositionException: 49125264: Action will result in an invalid position\n",
      "   at Thorlabs.MotionControl.DeviceManagerCLI.ThorlabsGenericCoreDeviceCLI.RaiseDeviceException(CDeviceException* exception)\r\n",
      "   at Thorlabs.MotionControl.GenericMotorCLI.GenericMotorCLI.RaiseDeviceException(CDeviceException* exception)\r\n",
      "   at Thorlabs.MotionControl.GenericMotorCLI.AdvancedMotor.GenericAdvancedMotorCLI.MoveStep_internal(MotorDirection direction, Action`1 callback)\r\n",
      "   at Thorlabs.MotionControl.GenericMotorCLI.AdvancedMotor.GenericAdvancedMotorCLI.MoveJog(MotorDirection direction, Int32 waitTimeout)\n"
     ]
    }
   ],
   "source": [
    "ims = image_util.ImageSaver(ce_system,folder_prefix='lysis', data_folder=lysis_dir )\n",
    "\n",
    "def save_slides(slide_show, *args):\n",
    "    warnings.filterwarnings(\"ignore\")\n",
    "    slide_show.add_slide(*args)\n",
    "    slide_show.save_presentation()\n",
    "    warnings.filterwarnings(\"default\")\n",
    "\n",
    "resp=True\n",
    "\n",
    "if resp:\n",
    "    # on reruns, you just need to run this command when you have the cells in focus\n",
    "    resp = get_yes_no(\"are the cells in focus? (You may crush the capillary if not...)\")\n",
    "    drift = +0.0\n",
    "    if resp:\n",
    "        obj_height = ce_system.objective.read_z()\n",
    "        print(obj_height)\n",
    "        cap_z = auto_utils.get_cap_height(obj_height, cap_difference)\n",
    "        z = ce_system.inlet_z.read_z()\n",
    "        rel_z = cap_z-z\n",
    "        rel_z+=drift\n",
    "        ce_system.inlet_z.set_rel_z(rel_z)\n",
    "\n",
    "        lysis_attempts = 0 \n",
    "        if record_lysis:\n",
    "            ims.add_callback()\n",
    "        \n",
    "        if auto_program.last_path is not None:\n",
    "            print(\"Saving Presentation... this may take 15-20 s\")\n",
    "            file_path = str(auto_program.last_path)\n",
    "            cell_notes = f'EK Injection: {voltage_level} kV, {injection_time} s, Pulses required: {pulses} \\n' + cell_notes\n",
    "            threading.Thread(target=save_slides, args=(slide_show, file_path,last_lysis, None, cell_notes)).start()\n",
    "            auto_program.last_path=None\n",
    "            pulses=0\n",
    "    else:\n",
    "        print(\"Bring cells into focus.\")\n",
    "        "
   ]
  },
  {
   "cell_type": "markdown",
   "metadata": {},
   "source": [
    "Check the capillary drift here. The first of the two cells will let you move the objective. Do so to investigate the capillary p ositoin. "
   ]
  },
  {
   "cell_type": "code",
   "execution_count": 101,
   "metadata": {},
   "outputs": [],
   "source": [
    "# Raise the objective for optimal plasma formation\n",
    "# Optional, uncomment if needed\n",
    "ce_system.objective.set_rel_z(0.002)"
   ]
  },
  {
   "cell_type": "code",
   "execution_count": 103,
   "metadata": {
    "scrolled": true
   },
   "outputs": [],
   "source": [
    "# Lower the capillary (ADJUSTMENT)\n",
    "# If desired, add this to your drift to keep the capillary in the correct distance above the cell focus. \n",
    "ce_system.inlet_z.set_rel_z(0.025)"
   ]
  },
  {
   "cell_type": "markdown",
   "metadata": {},
   "source": [
    "### Lyse the Cell and load the lysate into the capillary "
   ]
  },
  {
   "cell_type": "code",
   "execution_count": 104,
   "metadata": {},
   "outputs": [
    {
     "name": "stdout",
     "output_type": "stream",
     "text": [
      "Fire\n",
      "Finished 3.025714635848999\n"
     ]
    }
   ],
   "source": [
    "# Start the Single Cell Injection\n",
    "\n",
    "# General Injection Parameters\n",
    "injection_time = 3 # in seconds\n",
    "gravity_drop = 0 # in millimeters\n",
    "voltage_level = 10 # in kilovolts\n",
    "delay = 1 # inseconds\n",
    "\n",
    "\n",
    "\n",
    "import threading\n",
    "#pulses+=1\n",
    "def limited_fire(ce_system, gravity_drop, voltage_level, injection_time):\n",
    "        \n",
    "    time.sleep(delay)\n",
    "    print('Fire')\n",
    "    ce_system.outlet_z.set_rel_z(-gravity_drop)\n",
    "    ce_system.high_voltage.set_voltage(voltage_level)\n",
    "    ce_system.outlet_pressure.release()\n",
    "    ce_system.high_voltage.start()\n",
    "    start_time = time.time()\n",
    "    time.sleep(0.1)\n",
    "    ce_system.lysis_laser.laser_standby()\n",
    "    ce_system.lysis_laser.laser_fire()\n",
    "    \n",
    "    first=False\n",
    "    while time.time()-start_time < injection_time:\n",
    "        time.sleep(0.1)\n",
    "        if time.time()-start_time >10 and first:\n",
    "            ce_system.lysis_laser.laser_fire()\n",
    "            first=False\n",
    "    ce_system.high_voltage.stop()\n",
    "    print(f\"Finished {time.time()-start_time}\")\n",
    "    ce_system.outlet_z.set_rel_z(gravity_drop)\n",
    "    ce_system.outlet_pressure.seal()\n",
    "    \n",
    "\n",
    "#lysis_attempts+=1\n",
    "threading.Thread(target=limited_fire, args=(ce_system, gravity_drop, voltage_level, injection_time)).start()\n",
    "#threading.Thread(target=fire_me, args=arg).start()"
   ]
  },
  {
   "cell_type": "code",
   "execution_count": 233,
   "metadata": {
    "scrolled": true
   },
   "outputs": [],
   "source": [
    "# Run this to push out ECB buffer if you want to redo injections\n",
    "ce_system.outlet_pressure.rinse_pressure()\n",
    "time.sleep(10)\n",
    "ce_system.outlet_pressure.release()"
   ]
  },
  {
   "cell_type": "code",
   "execution_count": 100,
   "metadata": {},
   "outputs": [],
   "source": [
    "#Move the capillary up to see better\n",
    "ce_system.inlet_z.set_rel_z(0.5)"
   ]
  },
  {
   "cell_type": "markdown",
   "metadata": {},
   "source": [
    "### Continue to the separation (or whatever the next step in the method is) "
   ]
  },
  {
   "cell_type": "code",
   "execution_count": 57,
   "metadata": {
    "scrolled": true
   },
   "outputs": [
    {
     "name": "stderr",
     "output_type": "stream",
     "text": [
      "Exception in thread Thread-338:\n",
      "Traceback (most recent call last):\n",
      "  File \"C:\\Users\\NikonTE300CE\\Miniconda3\\envs\\CEpy37\\lib\\threading.py\", line 926, in _bootstrap_inner\n",
      "    self.run()\n",
      "  File \"C:\\Users\\NikonTE300CE\\Miniconda3\\envs\\CEpy37\\lib\\threading.py\", line 870, in run\n",
      "    self._target(*self._args, **self._kwargs)\n",
      "  File \"<ipython-input-57-01bd0674e48e>\", line 16, in go_ahead\n",
      "    if record_lysis:\n",
      "NameError: name 'record_lysis' is not defined\n",
      "\n"
     ]
    },
    {
     "name": "stdout",
     "output_type": "stream",
     "text": [
      "After special True\n",
      "Time to wait is  2\n"
     ]
    }
   ],
   "source": [
    "# Continue the Method\n",
    "def go_ahead():\n",
    "    global last_lysis \n",
    "    ce_system.objective.set_rel_z(0.05)\n",
    "    time.sleep(2)\n",
    "    ce_system.inlet_z.set_rel_z(3)\n",
    "    ce_system.objective.set_rel_z(-0.05)\n",
    "    time.sleep(2)\n",
    "    ce_system.objective.set_rel_z(-5)\n",
    "    if not auto_program.continue_event.is_set():\n",
    "        \n",
    "        auto_program.continue_event.set()\n",
    "    else:\n",
    "        auto_program.start_run()\n",
    "        \n",
    "    if record_lysis:\n",
    "        ims.remove_callback()\n",
    "        \n",
    "        last_lysis = ims.save_gif('Lysis', None, scale=0.25)\n",
    "    \n",
    "threading.Thread(target=go_ahead).start()"
   ]
  },
  {
   "cell_type": "markdown",
   "metadata": {},
   "source": [
    "### Add any notes about the cell or injection that you wish to record here. \n",
    "\n",
    "If you are collecting NA it is a good idea to record which pcr tube you are collecting this into. \n",
    "ie (Strip A, Well 1) "
   ]
  },
  {
   "cell_type": "code",
   "execution_count": 108,
   "metadata": {
    "scrolled": false
   },
   "outputs": [],
   "source": [
    "cell_notes = 'practice, 6th of the day'"
   ]
  },
  {
   "cell_type": "markdown",
   "metadata": {},
   "source": [
    "# misc functions"
   ]
  },
  {
   "cell_type": "code",
   "execution_count": 217,
   "metadata": {},
   "outputs": [
    {
     "data": {
      "text/plain": [
       "'C:\\\\Users\\\\NikonTE300CE\\\\Documents\\\\Data\\\\MiaPaCa 20 mM I_00055.csv'"
      ]
     },
     "execution_count": 217,
     "metadata": {},
     "output_type": "execute_result"
    }
   ],
   "source": [
    "# Record the previous path as the last path, this should be run when restarting the auto_program object\n",
    "auto_program.last_path = file_path\n",
    "file_path"
   ]
  },
  {
   "cell_type": "code",
   "execution_count": 440,
   "metadata": {},
   "outputs": [
    {
     "name": "stdout",
     "output_type": "stream",
     "text": [
      "0.13137462749445225\n",
      "0.039348088551829634\n",
      "0.03305663045761187\n",
      "0.0024370335196449077\n",
      "0.00210813739937042\n",
      "0.0022232124694871484\n",
      "0.0019132362323810905\n",
      "0.0002587032163300099\n"
     ]
    }
   ],
   "source": [
    "# Run this when you have finished the last repetition\n",
    "file_path = r\"C:\\Users\\NikonTE300CE\\Documents\\Data\\MiaPaCa 20 mM I_00071.csv\" #str(auto_program.last_path)\n",
    "cell_notes = f'EK Injection: {voltage_level} kV, {injection_time} s, Pulses required: {pulses} \\n' + cell_notes\n",
    "threading.Thread(target=save_slides, args=(slide_show, file_path,last_lysis, None, cell_notes)).start()\n",
    "auto_program.last_path=None\n",
    "pulses=0"
   ]
  },
  {
   "cell_type": "code",
   "execution_count": 354,
   "metadata": {},
   "outputs": [
    {
     "name": "stderr",
     "output_type": "stream",
     "text": [
      "Exception in thread Thread-185947:\n",
      "Traceback (most recent call last):\n",
      "  File \"C:\\Users\\NikonTE300CE\\Miniconda3\\envs\\CEpy37\\lib\\threading.py\", line 926, in _bootstrap_inner\n",
      "    self.run()\n",
      "  File \"C:\\Users\\NikonTE300CE\\Miniconda3\\envs\\CEpy37\\lib\\threading.py\", line 870, in run\n",
      "    self._target(*self._args, **self._kwargs)\n",
      "Thorlabs.MotionControl.DeviceManagerCLI.MoveToInvalidPositionException: Cannot move to requested position\n",
      "   at Thorlabs.MotionControl.GenericMotorCLI.AdvancedMotor.GenericAdvancedMotorCLI.VerifyDeviceMovement(Int32 functionDepth, Decimal position, PositionType positionType)\n",
      "   at Thorlabs.MotionControl.GenericMotorCLI.AdvancedMotor.GenericAdvancedMotorCLI.MoveTo(Decimal position, Int32 waitTimeout)\n",
      "\n",
      "ERROR:root:Error while moving during Inlet Move Down. Aborting\n",
      "ERROR:root:Exiting the run...\n"
     ]
    }
   ],
   "source": [
    "# Save the presentation \n",
    "slide_show.save_presentation()"
   ]
  },
  {
   "cell_type": "code",
   "execution_count": 45,
   "metadata": {},
   "outputs": [],
   "source": [
    "ce_system.outlet_pressure.rinse_pressure()"
   ]
  },
  {
   "cell_type": "code",
   "execution_count": 46,
   "metadata": {},
   "outputs": [],
   "source": [
    "ce_system.outlet_pressure.release()"
   ]
  },
  {
   "cell_type": "code",
   "execution_count": 307,
   "metadata": {
    "scrolled": true
   },
   "outputs": [
    {
     "name": "stdout",
     "output_type": "stream",
     "text": [
      "After special True\n",
      "Time to wait is  120\n",
      "After special True\n",
      "Time to wait is  45\n"
     ]
    },
    {
     "name": "stderr",
     "output_type": "stream",
     "text": [
      "WARNING:root:No data to plot\n"
     ]
    },
    {
     "name": "stdout",
     "output_type": "stream",
     "text": [
      "After special True\n",
      "Time to wait is  45\n"
     ]
    },
    {
     "name": "stderr",
     "output_type": "stream",
     "text": [
      "C:\\Users\\NikonTE300CE\\Desktop\\Barracuda\\AutomatedCE\\L4\\DisplayWindows.py:277: UserWarning: Attempting to set identical left == right == 0.0 results in singular transformations; automatically expanding.\n",
      "  ax1.set_xlim(min(data['time_data']), max(data['time_data']))\n"
     ]
    },
    {
     "name": "stdout",
     "output_type": "stream",
     "text": [
      "After special True\n",
      "Time to wait is  45\n"
     ]
    },
    {
     "name": "stderr",
     "output_type": "stream",
     "text": [
      "WARNING:root:No data to plot\n"
     ]
    }
   ],
   "source": [
    "ce_system.objective.set_rel_z(-5)"
   ]
  },
  {
   "cell_type": "code",
   "execution_count": 456,
   "metadata": {},
   "outputs": [],
   "source": [
    "ce_system.outlet_pressure.seal()"
   ]
  },
  {
   "cell_type": "code",
   "execution_count": 53,
   "metadata": {},
   "outputs": [
    {
     "data": {
      "text/plain": [
       "0.8488835"
      ]
     },
     "execution_count": 53,
     "metadata": {},
     "output_type": "execute_result"
    }
   ],
   "source": [
    "ce_system.inlet_z.read_z()"
   ]
  },
  {
   "cell_type": "code",
   "execution_count": 37,
   "metadata": {
    "scrolled": true
   },
   "outputs": [],
   "source": [
    "ce_system.inlet_z.set_z(24)"
   ]
  }
 ],
 "metadata": {
  "kernelspec": {
   "display_name": "Python 3",
   "language": "python",
   "name": "python3"
  },
  "language_info": {
   "codemirror_mode": {
    "name": "ipython",
    "version": 3
   },
   "file_extension": ".py",
   "mimetype": "text/x-python",
   "name": "python",
   "nbconvert_exporter": "python",
   "pygments_lexer": "ipython3",
   "version": "3.8.5"
  }
 },
 "nbformat": 4,
 "nbformat_minor": 4
}
