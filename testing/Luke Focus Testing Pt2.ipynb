{
 "cells": [
  {
   "cell_type": "markdown",
   "metadata": {},
   "source": [
    "# Load the modules needed "
   ]
  },
  {
   "cell_type": "code",
   "execution_count": 1,
   "metadata": {},
   "outputs": [
    {
     "name": "stderr",
     "output_type": "stream",
     "text": [
      "WARNING:root:python2path is not a var in system_config.txt\n"
     ]
    },
    {
     "name": "stdout",
     "output_type": "stream",
     "text": [
      "new directory is: C:\\Users\\NikonTE300CE\\Desktop\\Barracuda_Updated\\AutomatedCE\n",
      "C:\\Users\\NikonTE300CE\\Desktop\\Barracuda_Updated\\AutomatedCE\\L1\\MicroControlServer.py\n"
     ]
    }
   ],
   "source": [
    "# Basic Function Modules\n",
    "import sys\n",
    "import os\n",
    "import glob\n",
    "from imp import reload\n",
    "import csv\n",
    "import threading\n",
    "from pathlib import Path\n",
    "import warnings\n",
    "#Data Analysis Modules\n",
    "import time\n",
    "import numpy as np\n",
    "import pandas as pd\n",
    "import matplotlib.pyplot as plt\n",
    "# Image Detection Modules\n",
    "import skimage.measure as measure\n",
    "from scipy.ndimage import label, distance_transform_edt\n",
    "from skimage import io, img_as_float, filters, morphology\n",
    "from skimage.feature import peak_local_max\n",
    "from skimage.measure import regionprops, regionprops_table\n",
    "from skimage.morphology import watershed\n",
    "# Set the working directory to the AutomatedCE folder so we have access to L1-L4 modules\n",
    "resp = os.getcwd()\n",
    "if 'testing' in resp[-7:]:\n",
    "    os.chdir(os.path.abspath(os.path.join(os.getcwd(), '..')))\n",
    "    print(f\"new directory is: {os.getcwd()}\")\n",
    "#AutomatedCE Modules\n",
    "import testing.inputs  \n",
    "from testing.inputs import *\n",
    "from L4 import DisplayWindows\n",
    "from L4 import FileIO\n",
    "from L4 import Focus\n",
    "from L4 import AutomatedControl\n",
    "from L4 import Trajectory\n",
    "from L4.image_util import ImageSaver\n",
    "from L3 import SystemsBuilder\n",
    "import testing.te300_auto_utils as auto_utils\n",
    "from L4 import image_util\n",
    "from L4 import FileIO\n",
    "from L4 import CellDetection\n",
    "%config Completer.use_jedi = False\n",
    " \n",
    "# Reload (when changing aspects in the following modules)\n",
    "reload(Focus)\n",
    "reload(DisplayWindows)\n",
    "reload(testing.inputs)\n",
    "import warnings\n",
    "warnings.simplefilter(\"ignore\", UserWarning)\n",
    "# Make the plots pop up in a separate window\n",
    "%matplotlib qt\n",
    "counter=0"
   ]
  },
  {
   "cell_type": "markdown",
   "metadata": {},
   "source": [
    "## Step 1. Load the CE System with a Config File\n",
    "\n",
    "Select one of the predesigned configurations (TE300, Eclipse Ti, Simulation). See an example config under \"/config/test-system.cfg\". \n",
    "\n",
    "Change the variable CONFIG_PATH to the absolute path where the config file resides. \n",
    "\n",
    "Be sure to make the string a raw string by prepending *'r'*. **Example:** r\"C:\\path\\to\\config\\\"*\n",
    "\n",
    "If you get an error, you must restart the kernel before re-running. "
   ]
  },
  {
   "cell_type": "code",
   "execution_count": 2,
   "metadata": {
    "scrolled": true
   },
   "outputs": [
    {
     "name": "stdout",
     "output_type": "stream",
     "text": [
      "daq\n",
      "newwave\n",
      "{'outlet_pressure': <L2.PressureControl.ArduinoPressure object at 0x000001E93A6B14C0>, 'xy_stage': <L2.XYControl.PriorXY object at 0x000001E93A6B1520>, 'objective': <L2.ZControl.PriorZ object at 0x000001E93A6B1580>, 'outlet_z': <L2.ZControl.ArduinoZ object at 0x000001E93A6B15B0>, 'inlet_rgb': <L2.LightControl.RGBArduino object at 0x000001E93A6B1550>, 'inlet_z': <L2.ZControl.KinesisZ object at 0x000001E93A6B1640>, 'high_voltage': <L2.HighVoltageControl.SpellmanPowerSupply object at 0x000001E93A6B1610>, 'camera': <L2.CameraControl.PycromanagerControl object at 0x000001E93A6B16A0>, 'detector': <L2.DetectorControl.PhotomultiplierDetector object at 0x000001E93A6B1AC0>, 'lysis_laser': <L2.LaserControl.NewWaveBNC object at 0x000001E93A6B1D30>, 'excitation_wheel': <L2.FilterWheelControl.LumencorFilter object at 0x000001E93A6B1D00>, 'filter_wheel': <L2.FilterWheelControl.PriorFilter object at 0x000001E93A6B1CA0>}\n",
      "OPENING:  ard1 <L1.Controllers.ArduinoController object at 0x000001E93A5F9370> using port: COM8\n",
      "OPENING:  pr1 <L1.Controllers.PriorController object at 0x000001E93A5F9460> using port: COM4\n",
      "OPENING:  mmc1 <L1.Controllers.PycromanagerController object at 0x000001E93A5F9520> using port: pycromanager\n",
      "OPENING:  daq1 <L1.DAQControllers.NiDaq object at 0x000001E93A5F9550>\n",
      "OPENING:  ks1 <L1.Controllers.SimulatedController object at 0x000001E93A6B1340> using port: 49125264\n",
      "OPENING:  lmn <L1.Controllers.LumencorController object at 0x000001E93A6B13D0> using port: COM7\n",
      "Starting up: outlet_pressure, <L2.PressureControl.ArduinoPressure object at 0x000001E93A6B14C0>\n",
      "Starting up: xy_stage, <L2.XYControl.PriorXY object at 0x000001E93A6B1520>\n",
      "Starting up: objective, <L2.ZControl.PriorZ object at 0x000001E93A6B1580>\n",
      "Starting up: outlet_z, <L2.ZControl.ArduinoZ object at 0x000001E93A6B15B0>\n",
      "Starting up: inlet_rgb, <L2.LightControl.RGBArduino object at 0x000001E93A6B1550>\n",
      "Starting up: inlet_z, <L2.ZControl.KinesisZ object at 0x000001E93A6B1640>\n",
      "Starting up: high_voltage, <L2.HighVoltageControl.SpellmanPowerSupply object at 0x000001E93A6B1610>\n",
      "Starting up: camera, <L2.CameraControl.PycromanagerControl object at 0x000001E93A6B16A0>\n",
      "Starting up: detector, <L2.DetectorControl.PhotomultiplierDetector object at 0x000001E93A6B1AC0>\n",
      "Starting up: lysis_laser, <L2.LaserControl.NewWaveBNC object at 0x000001E93A6B1D30>\n",
      "Starting up: excitation_wheel, <L2.FilterWheelControl.LumencorFilter object at 0x000001E93A6B1D00>\n",
      "Starting up: filter_wheel, <L2.FilterWheelControl.PriorFilter object at 0x000001E93A6B1CA0>\n"
     ]
    }
   ],
   "source": [
    "#CONFIG_PATH = r\"C:\\Users\\Luke\\Desktop\\Barracuda\\AutomatedCE\\var\\Eclipse.cfg\"\n",
    "CONFIG_PATH = r\"C:\\Users\\NikonTE300CE\\Desktop\\Barracuda_Updated\\AutomatedCE\\config\\TE300.cfg\"\n",
    "#CONFIG_PATH = r\"D:\\Scripts\\CEInstrument\\AutomatedCE\\config\\Test-System.cfg\"\n",
    "reload(SystemsBuilder)\n",
    "\n",
    "# Create the system object\n",
    "ce_system = SystemsBuilder.CESystem()\n",
    "# Read the config file\n",
    "ce_system.load_config(CONFIG_PATH)\n",
    "# Open the controllers and run the startup functions\n",
    "ce_system.open_controllers()\n",
    "ce_system.startup_utilities()\n",
    "\n",
    "# Adjust the poorly wired RGB lighting lol\n",
    "ce_system.inlet_rgb.turn_on_channel('B')\n",
    "ce_system.inlet_rgb.turn_off_channel('R')\n",
    "\n",
    "# Adjust the excitation wheel start position\n",
    "ce_system.filter_wheel.set_channel(1)\n",
    "ce_system.camera.set_exposure(100)\n",
    "\n",
    "pulses=0"
   ]
  },
  {
   "cell_type": "code",
   "execution_count": 3,
   "metadata": {},
   "outputs": [
    {
     "data": {
      "text/plain": [
       "'R:Off, G:Off, B:Off'"
      ]
     },
     "execution_count": 3,
     "metadata": {},
     "output_type": "execute_result"
    }
   ],
   "source": [
    "# Turn off LED\n",
    "ce_system.inlet_rgb.turn_off_channel('B')\n"
   ]
  },
  {
   "cell_type": "code",
   "execution_count": 4,
   "metadata": {},
   "outputs": [
    {
     "data": {
      "text/plain": [
       "'R:Off, G:Off, B:On'"
      ]
     },
     "execution_count": 4,
     "metadata": {},
     "output_type": "execute_result"
    }
   ],
   "source": [
    "# Turn on LED\n",
    "ce_system.inlet_rgb.turn_on_channel('B')"
   ]
  },
  {
   "cell_type": "code",
   "execution_count": 5,
   "metadata": {},
   "outputs": [],
   "source": [
    "# Random Globals Need to Run for Powerpoint!\n",
    "pulses=0\n",
    "cell_notes = ''\n",
    "\n",
    "# Record lysis images? \n",
    "record_lysis = True\n",
    "#lysis_dir = r\"C:\\Users\\NikonTE300CE\\Desktop\\Luke\\Lysis\\images\"\n",
    "#lysis_dir = r\"C:\\Users\\NikonTE300CE\\Desktop\\Mani\\Lysis\\images\"\n",
    "lysis_dir = r\"C:\\Users\\NikonTE300CE\\Desktop\\Luke\\Lysis\\images\""
   ]
  },
  {
   "cell_type": "markdown",
   "metadata": {},
   "source": [
    "# Step 2. Prepare the Capillary for Electrophoresis\n",
    "\n",
    "We need to prep the capillary for CE. This involves rinsing the capillary surface and removing contaminants as well as re-establsihing a deprotonated silanol layer. We also need to align the capillary with detection objective. \n",
    "\n",
    "### Step 2.1 Rinse the capillary (Repeatable)\n",
    "\n",
    "Rinse the capillary according to your method. A good place to start is 10 min with HCl, 30 min with NaOH, 2 min with water. If this is your first rinse of the day,rinse with an empty vial first to make sure there are no leaks on the outlet side of the apparatus. "
   ]
  },
  {
   "cell_type": "code",
   "execution_count": 4,
   "metadata": {},
   "outputs": [],
   "source": [
    "# Start Rinse\n",
    "ce_system.outlet_pressure.rinse_pressure()"
   ]
  },
  {
   "cell_type": "code",
   "execution_count": 477,
   "metadata": {},
   "outputs": [],
   "source": [
    "# Stop Rinse \n",
    "ce_system.outlet_pressure.release()"
   ]
  },
  {
   "cell_type": "markdown",
   "metadata": {},
   "source": [
    "### Step 2.2 Align the capillary with fluorescein. \n",
    "\n",
    "Place a vial with 125 nM fluorescein in the outlet. Once the pressure is rinsing adjust the capillary position using the two set screws as well as the adjustable objective collar until the signal is maximized for the detector being used. (PMT gain voltage should be set to 250 mV, or the lowest setting with appreciable gain). "
   ]
  },
  {
   "cell_type": "code",
   "execution_count": 47,
   "metadata": {},
   "outputs": [],
   "source": [
    "# Run the CE View\n",
    "reload(DisplayWindows)\n",
    "\n",
    "# Create a CE Display\n",
    "ce_disp = DisplayWindows.PLTCEDisplay(ce_system)\n",
    "ce_disp.show()\n",
    "ce_system.detector.start()\n",
    "ce_disp.start_live_view()"
   ]
  },
  {
   "cell_type": "code",
   "execution_count": 17,
   "metadata": {},
   "outputs": [
    {
     "name": "stdout",
     "output_type": "stream",
     "text": [
      "Is fluorescein in the outlet and ready to be rinsed with? y\n",
      "Adjust the capillary inlet while maximizing the signal\n"
     ]
    }
   ],
   "source": [
    "resp = get_yes_no(\"Is fluorescein in the outlet and ready to be rinsed with?\")\n",
    "\n",
    "if resp:\n",
    "    ce_system.outlet_pressure.rinse_pressure()\n",
    "    print(\"Adjust the capillary inlet while maximizing the signal\")\n",
    "if not resp:\n",
    "    print(\"Please insert the fluorscein in the outlet, then re-run this cell.\")"
   ]
  },
  {
   "cell_type": "markdown",
   "metadata": {},
   "source": [
    "When finished. Record the maximum signal, along with the detector used, its gain setting (or bias when using SiPM), and the fluorescein concentration in the calibration log (located on the desktop). \n",
    "\n",
    "Run the next cell to stop the pressure rinse. "
   ]
  },
  {
   "cell_type": "code",
   "execution_count": 25,
   "metadata": {},
   "outputs": [
    {
     "name": "stdout",
     "output_type": "stream",
     "text": [
      "XY Errr ['']\n",
      "After special True\n",
      "Time to wait is  5\n",
      "XY Errr ['']\n",
      "After special True\n",
      "Time to wait is  100\n",
      "XY Errr ['']\n",
      "After special True\n",
      "Time to wait is  5\n",
      "XY Errr ['']\n",
      "After special True\n",
      "Time to wait is  100\n",
      "XY Errr ['']\n",
      "After special True\n",
      "Time to wait is  5\n",
      "XY Errr ['']\n",
      "After special True\n",
      "Time to wait is  100\n",
      "XY Errr ['']\n",
      "After special True\n",
      "Time to wait is  5\n",
      "XY Errr ['']\n",
      "After special True\n",
      "Time to wait is  100\n"
     ]
    }
   ],
   "source": [
    "ce_system.outlet_pressure.release()"
   ]
  },
  {
   "cell_type": "markdown",
   "metadata": {},
   "source": [
    "### Step 2.2 Post Fluorescein Rinse\n",
    "\n",
    "Take a vial and add close to 4 mL of H20. Insert it into the outlet and then remove it. This removes any residual Fluorescein from the capillary, electrode, or other surfaces.  \n",
    "\n",
    "Repeat with a second vial, with liquid slightly higher or the same height. \n",
    "\n",
    "Finally switch with separation buffer and rinse for 10 min. "
   ]
  },
  {
   "cell_type": "code",
   "execution_count": 20,
   "metadata": {},
   "outputs": [
    {
     "name": "stdout",
     "output_type": "stream",
     "text": [
      "Have you done the pre-fluorescein rinses? y\n",
      "Is the separation buffer placed in the outlet? y\n",
      "Run the next cell when finished\n"
     ]
    }
   ],
   "source": [
    "#Optional Step\n",
    "resp = get_yes_no(\"Have you done the pre-fluorescein rinses?\")\n",
    "if not resp:\n",
    "    print(\"Please follow instructions in step 2.2\")\n",
    "else:\n",
    "    resp = get_yes_no(\"Is the separation buffer placed in the outlet?\")\n",
    "    if resp:\n",
    "        ce_system.outlet_pressure.rinse_pressure()\n",
    "        print(\"Run the next cell when finished\")\n",
    "    else:\n",
    "        print(\"Please place the separation buffer in the outlet before rinsing.\")"
   ]
  },
  {
   "cell_type": "code",
   "execution_count": 25,
   "metadata": {},
   "outputs": [],
   "source": [
    "ce_system.outlet_pressure.release()"
   ]
  },
  {
   "cell_type": "markdown",
   "metadata": {},
   "source": [
    "# Step 3. Calibrate the Capillary Inlet\n",
    "\n",
    "The method for calibration depends on the z-stage used to raise the capillary inlet. Select the correct route for the hardware employed. "
   ]
  },
  {
   "cell_type": "markdown",
   "metadata": {},
   "source": [
    "## Thorlabs Kinesis Z Stage\n",
    "\n",
    "### Step 3.1 Lower the Capillary (thorlabs)\n",
    "Move the capillary to a safe location where it will not be crushed if the stage lowers too far. Using the controls on the Z-stage itself, lower the capillary till as far as it will go. "
   ]
  },
  {
   "cell_type": "code",
   "execution_count": 5,
   "metadata": {},
   "outputs": [
    {
     "name": "stdout",
     "output_type": "stream",
     "text": [
      "Have you lowered the Kinesis Z stage to its lowest position? (y/n):   y\n",
      "Proceed to the next cell.\n"
     ]
    }
   ],
   "source": [
    "resp = get_yes_no(\"Have you lowered the Kinesis Z stage to its lowest position? (y/n):  \")\n",
    "if not resp:\n",
    "    print(\"Please make sure the Kinesis stage is lowered to its lowest position before continuing\")\n",
    "else:\n",
    "    print(\"Proceed to the next cell.\")\n",
    "    "
   ]
  },
  {
   "cell_type": "markdown",
   "metadata": {},
   "source": [
    "### Step 3.2 Home the Capillary (thorlabs)\n",
    "\n",
    "Thorlabs needs to register the home position. In the next cell we will call the go_home command to home the capillary. "
   ]
  },
  {
   "cell_type": "code",
   "execution_count": 6,
   "metadata": {},
   "outputs": [],
   "source": [
    "ce_system.inlet_z.homing()"
   ]
  },
  {
   "cell_type": "markdown",
   "metadata": {},
   "source": [
    "### Step 3.3 Adjust Capillary Position (all stages)\n",
    "\n",
    "Adjust the capillary position by sliding the detection apparatus up or down the optical support post. The capillary should be level with the bottom of the template for single-cell assays, or the top-of the template for well-based assays. \n",
    "\n",
    "*Aligning to the top of the template is a minor safety feature to prevent the user from sending the capillary to Zero position unexpetedly and crashing the capillary against the bottom of the template. However, capillary needs to be able to reach at least the glass slide of the cell reservoir for single-cell assays*"
   ]
  },
  {
   "cell_type": "code",
   "execution_count": 7,
   "metadata": {},
   "outputs": [
    {
     "name": "stdout",
     "output_type": "stream",
     "text": [
      "Have you adjusted the capillary height manually so that it is flush (level) with the top or bottom of the template? (y/n):   y\n",
      "Proceed to the next cell\n"
     ]
    }
   ],
   "source": [
    "resp = get_yes_no(\"Have you adjusted the capillary height manually so that it is flush (level) with the top or bottom of the template? (y/n):  \")\n",
    "if not resp:\n",
    "    print(\"Please make sure the capillary is moved to the correct height with respect to the template before continuing\")\n",
    "else:\n",
    "    print(\"Proceed to the next cell\")"
   ]
  },
  {
   "cell_type": "markdown",
   "metadata": {},
   "source": [
    "### Step 3.4 Raise the capillary to a safe height\n",
    "\n",
    "The next cell will raise the capillary height to a location where it ***should*** be safe for any XY movements. Verify the capillary will not crash at this new height. "
   ]
  },
  {
   "cell_type": "code",
   "execution_count": 8,
   "metadata": {},
   "outputs": [
    {
     "name": "stdout",
     "output_type": "stream",
     "text": [
      "Please enter a safe height to move the stage to:  26\n",
      "Is the capillary at a safe location?:  y\n",
      "Continue to next step\n"
     ]
    }
   ],
   "source": [
    "target_z = get_float(\"Please enter a safe height to move the stage to: \")\n",
    "# Move the capillary up and wait for it to stop\n",
    "ce_system.inlet_z.set_z(target_z)\n",
    "ce_system.inlet_z.wait_for_target(target_z)\n",
    "\n",
    "resp = get_yes_no(\"Is the capillary at a safe location?: \")\n",
    "if resp:\n",
    "    print(\"Continue to next step\")\n",
    "else:\n",
    "    print(\"Please raise the capillary to an appropriate height\")"
   ]
  },
  {
   "cell_type": "markdown",
   "metadata": {},
   "source": [
    "# Step 4. Home the XY Stage\n",
    "\n",
    "This next step provides the calibration for the XY axis for the XY stage and capillary inlet. \n"
   ]
  },
  {
   "cell_type": "markdown",
   "metadata": {},
   "source": [
    "### Step 4.1 (TE300, Prior)\n",
    "\n",
    "The TE300 does not have the encoders wired to tell it where absolute 0,0 is. Thus, we need to tell the microcontroller where 0,0 is for each template. The home position before any offset, will be when the objective is in the top-right corner (if looking down at it). \n",
    "\n",
    "1. Move the objective to the upper right corner of the template. \n",
    "2. Align the capillary over the well or the objective\n"
   ]
  },
  {
   "cell_type": "code",
   "execution_count": 24,
   "metadata": {},
   "outputs": [
    {
     "name": "stdout",
     "output_type": "stream",
     "text": [
      "Is the capillary aligned with the objective and home well? y\n",
      "Home set at this position.\n",
      "Continue to next step\n"
     ]
    }
   ],
   "source": [
    "resp = get_yes_no(\"Is the capillary aligned with the objective and home well?\")\n",
    "if resp:\n",
    "    ce_system.xy_stage.set_home()\n",
    "    print(\"Home set at this position.\")\n",
    "    print(\"Continue to next step\")\n",
    "else:\n",
    "    print(\"Please raise align the capillary with the objective\")   "
   ]
  },
  {
   "cell_type": "markdown",
   "metadata": {},
   "source": [
    "# Step 5 Verify your calibration\n",
    "\n",
    "Steps 3-4 calibrate the capillaries position with the microscope's position. Now we need to verify that our alignment is correct. To do this we will move the capillary to a well and make sure that it is centered over the well. Then we will lower the capillary to a height specified by the method to make sure the capillary can reach the liquid. "
   ]
  },
  {
   "cell_type": "markdown",
   "metadata": {},
   "source": [
    "### Step 5.1. Load the Template File\n",
    "\n",
    "The template file tells the program where to move the XY stage for each well as well as how high to raise the capillary inlet during a move. Change the variable TEMPLATE_PATH to the absolute path where the template.txt file resides. "
   ]
  },
  {
   "cell_type": "code",
   "execution_count": 6,
   "metadata": {},
   "outputs": [],
   "source": [
    "TEMPLATE_PATH = r\"C:\\Users\\NikonTE300CE\\Desktop\\Barracuda_Updated\\AutomatedCE\\var\\TE300CellTemplate.txt\"\n",
    "\n",
    "reload(AutomatedControl)\n",
    "reload(Trajectory)\n",
    "\n",
    "auto_program = AutomatedControl.AutoRun(ce_system)\n",
    "auto_program.set_template(TEMPLATE_PATH)"
   ]
  },
  {
   "cell_type": "markdown",
   "metadata": {},
   "source": [
    "### Step 5.2a Raise the capillary to a safe height "
   ]
  },
  {
   "cell_type": "code",
   "execution_count": 285,
   "metadata": {},
   "outputs": [
    {
     "name": "stdout",
     "output_type": "stream",
     "text": [
      "Set the capillary to a safe travel height:  25\n",
      "Proceed to next cell\n"
     ]
    }
   ],
   "source": [
    "z = get_float(\"Set the capillary to a safe travel height: \")\n",
    "ce_system.inlet_z.set_z(z)\n",
    "print(\"Proceed to next cell\")"
   ]
  },
  {
   "cell_type": "markdown",
   "metadata": {},
   "source": [
    "### Step 5.2b Center the Capillary over a well"
   ]
  },
  {
   "cell_type": "code",
   "execution_count": 25,
   "metadata": {
    "scrolled": true
   },
   "outputs": [
    {
     "name": "stdout",
     "output_type": "stream",
     "text": [
      "Please enter the well name to move to (press enter to see a list): w_a0\n",
      "Please move the capillary using the fine adjustment knobs, or the z-stage base so that capillary is centered over this well.y\n"
     ]
    }
   ],
   "source": [
    "name = get_value(\"Please enter the well name to move to (press enter to see a list): \", auto_program.template.wells.keys())\n",
    "well = auto_program.template.wells[name]\n",
    "ce_system.xy_stage.set_xy(well.xy)\n",
    "resp = input(\"Please move the capillary using the fine adjustment knobs, or the z-stage base so that capillary is centered over this well.\")\n"
   ]
  },
  {
   "cell_type": "markdown",
   "metadata": {},
   "source": [
    "### Step 5.2c Adjusting the capillary center software offset.\n",
    "**(you can run this after aligning the cap to the objective for better centering over vials)**\n",
    "Occasionally, when the capillary is aligned over the objective, it will no longer be aligned over the vials. The next commands allow you account for this slight shift. Unlike the calibration steps above, this step allows you to move the XY-stage to center the well and keep the capillary stationary. This is most important for when the electrode or capillary look as if they may hit the vial walls during the run. \n",
    "\n",
    "#### For single cell runs, run this offset after the capillary has been aligned to the objecive using the micromanipulators. \n"
   ]
  },
  {
   "cell_type": "markdown",
   "metadata": {},
   "source": []
  },
  {
   "cell_type": "code",
   "execution_count": 60,
   "metadata": {},
   "outputs": [],
   "source": [
    "# If you had to create a new 'auto_program' object, run this command to run the xy_offset from earlier.\n",
    "try:\n",
    "    auto_program.offset = xy_offset\n",
    "except:\n",
    "    print(\"XY Offset not set\")"
   ]
  },
  {
   "cell_type": "code",
   "execution_count": 12,
   "metadata": {},
   "outputs": [
    {
     "name": "stdout",
     "output_type": "stream",
     "text": [
      "Please enter the well name to move to (press enter to see a list): w_a2\n",
      "Move the capillary using the xy stage joystick, or the z-stage base so that capillary is centered over this well. \n",
      " Is the capillary centered? y\n",
      "Offset is: [2.7420000000000044, -1.4601428571428556]\n"
     ]
    }
   ],
   "source": [
    "# Run this command to create a new XY_offset \n",
    "name = get_value(\"Please enter the well name to move to (press enter to see a list): \", auto_program.template.wells.keys())\n",
    "well = auto_program.template.wells[name]\n",
    "auto_program.move_to_well(name)\n",
    "resp = get_yes_no(\"Move the capillary using the xy stage joystick, or the z-stage base so that capillary is centered over this well. \\n Is the capillary centered?\")\n",
    "if resp: \n",
    "    xy_offset = auto_program.offset_template(well.xy)"
   ]
  },
  {
   "cell_type": "markdown",
   "metadata": {},
   "source": [
    "### Step 5.3 Lower the capillary to the height described in the method file\n"
   ]
  },
  {
   "cell_type": "code",
   "execution_count": 47,
   "metadata": {},
   "outputs": [
    {
     "name": "stdout",
     "output_type": "stream",
     "text": [
      "What height should the capillary be lowered to? (in mm, use inlet height from methods file) 1.5\n",
      "Is the capillary touching the liquid in this well?  y\n",
      "Calibration Finished\n"
     ]
    }
   ],
   "source": [
    "height_z = get_float(\"What height should the capillary be lowered to? (in mm, use inlet height from methods file)\")\n",
    "prev_height = ce_system.inlet_z.read_z()\n",
    "ce_system.inlet_z.set_z(height_z)\n",
    "resp = get_yes_no(\"Is the capillary touching the liquid in this well? \")\n",
    "if not resp:\n",
    "    print(\"Adjust the height of the capillary manually (and carefully!) so that the capillary is touching the liquid\")\n",
    "else:\n",
    "    print(\"Calibration Finished\")\n",
    "ce_system.inlet_z.set_z(prev_height)"
   ]
  },
  {
   "cell_type": "markdown",
   "metadata": {},
   "source": [
    "### Optional> \n",
    "Read out the height you are currently at..."
   ]
  },
  {
   "cell_type": "code",
   "execution_count": 63,
   "metadata": {},
   "outputs": [
    {
     "name": "stdout",
     "output_type": "stream",
     "text": [
      "You are at 5.56536 mm\n"
     ]
    }
   ],
   "source": [
    "print(\"You are at {} mm\".format(ce_system.inlet_z.read_z()))"
   ]
  },
  {
   "cell_type": "code",
   "execution_count": null,
   "metadata": {},
   "outputs": [],
   "source": [
    "resp = get_yes_no(\"Would you like to lower the capillary?\")\n",
    "if resp:\n",
    "    resp = get_float(\"What would you like to lower it to?\")\n",
    "    ce_system.inlet_z.set_z(resp)\n",
    "else:\n",
    "    pass"
   ]
  },
  {
   "cell_type": "markdown",
   "metadata": {},
   "source": [
    "# Step 6. Load a method\n",
    "\n",
    "### NOTE: Step 5.1 must be run before this \n",
    "\n",
    "Load a method file. Verify your method file in excel and make sure the run is set up as intended. You can add multiple files to the same auto_program"
   ]
  },
  {
   "cell_type": "markdown",
   "metadata": {},
   "source": [
    "If you need to reset the methods (remove and start over) run the next cell"
   ]
  },
  {
   "cell_type": "code",
   "execution_count": 13,
   "metadata": {},
   "outputs": [],
   "source": [
    "# Clears the methods to be added to the run protocol\n",
    "auto_program.methods=[]"
   ]
  },
  {
   "cell_type": "code",
   "execution_count": 14,
   "metadata": {
    "scrolled": true
   },
   "outputs": [
    {
     "name": "stderr",
     "output_type": "stream",
     "text": [
      "WARNING:root:Adding step separate\tcells\t21 cm\t10 mm\t0\t0\t10 kV\t3 s\twait\t0\n",
      "WARNING:root:Adding step 20210501_LysisTesting\tw_a1\t21 cm\t10 mm\t0\t0\t20 kV\t5 s\t\t1\n",
      "WARNING:root:Adding step 1M NaOH\tw_a2\t21 cm\t10 mm\t0\t1\t0\t15 s\t\t0\n",
      "WARNING:root:Adding step pressure rinse\tw_a3\t21 cm\t10 mm\t1\t0\t0\t5 s\t\t0\n"
     ]
    },
    {
     "name": "stdout",
     "output_type": "stream",
     "text": [
      "WHASSUZ ['separate\\tcells\\t21 cm\\t10 mm\\t0\\t0\\t10 kV\\t3 s\\twait\\t0', '20210501_LysisTesting\\tw_a1\\t21 cm\\t10 mm\\t0\\t0\\t20 kV\\t5 s\\t\\t1', '1M NaOH\\tw_a2\\t21 cm\\t10 mm\\t0\\t1\\t0\\t15 s\\t\\t0', 'pressure rinse\\tw_a3\\t21 cm\\t10 mm\\t1\\t0\\t0\\t5 s\\t\\t0']\n",
      "ADDING\n",
      "ADDING\n",
      "ADDING\n",
      "ADDING\n"
     ]
    }
   ],
   "source": [
    "# Put the filepath to your method here:\n",
    "file_to_add = r\"C:\\Users\\NikonTE300CE\\Desktop\\Barracuda_Updated\\AutomatedCE\\var\\Luke/SingleCell.txt\"\n",
    "#file_to_add = r\"C:\\Users\\NikonTE300CE\\Desktop\\Barracuda_Updated\\AutomatedCE\\var\\Luke/SingleCell.txt\"\n",
    "# Reads the method, adds it to our list of methods to run\n",
    "auto_program.add_method(file_to_add)"
   ]
  },
  {
   "cell_type": "code",
   "execution_count": 15,
   "metadata": {},
   "outputs": [],
   "source": [
    "# Set the number of repetitions to run each method\n",
    "auto_program.repetitions=45"
   ]
  },
  {
   "cell_type": "markdown",
   "metadata": {},
   "source": [
    "# Setup Powerpoint Output"
   ]
  },
  {
   "cell_type": "code",
   "execution_count": 16,
   "metadata": {
    "scrolled": true
   },
   "outputs": [],
   "source": [
    "reload(auto_utils)\n",
    "reload(image_util)\n",
    "reload(FileIO)\n",
    "SlideSingleCell = FileIO.SlideSingleCell"
   ]
  },
  {
   "cell_type": "code",
   "execution_count": 17,
   "metadata": {
    "scrolled": true
   },
   "outputs": [
    {
     "name": "stdout",
     "output_type": "stream",
     "text": [
      "Do you want to save the old presentation (if applicable) and start a new record?\n",
      "Previous Presentations will not be overwritten. \n",
      "Slides will be saved to the Data Folder y\n"
     ]
    }
   ],
   "source": [
    "# Enter power point file name here\n",
    "file_name = '20210508_Luke_BraeLysisTest'\n",
    "\n",
    "# Ask \n",
    "resp = get_yes_no(\"Do you want to save the old presentation (if applicable) and start a new record?\\n\"\n",
    "                  \"Previous Presentations will not be overwritten. \\n\" \n",
    "                  \"Slides will be saved to the Data Folder\")\n",
    "if resp:\n",
    "    cell_notes = \"\"\n",
    "    file_name = FileIO.get_data_filename(file_name+'.pptx', auto_program.data_dir, extension=\".pptx\")\n",
    "    slide_show = SlideSingleCell(file_name)\n",
    "    last_lysis = None"
   ]
  },
  {
   "cell_type": "markdown",
   "metadata": {},
   "source": [
    "# Automated Run Start and Stop Commands"
   ]
  },
  {
   "cell_type": "code",
   "execution_count": 18,
   "metadata": {},
   "outputs": [],
   "source": [
    "# Start the run\n",
    "auto_program.start_run()"
   ]
  },
  {
   "cell_type": "code",
   "execution_count": 68,
   "metadata": {},
   "outputs": [
    {
     "ename": "AttributeError",
     "evalue": "'AutoRun' object has no attribute 'co'",
     "output_type": "error",
     "traceback": [
      "\u001b[1;31m---------------------------------------------------------------------------\u001b[0m",
      "\u001b[1;31mAttributeError\u001b[0m                            Traceback (most recent call last)",
      "\u001b[1;32m<ipython-input-68-e15007bf10d4>\u001b[0m in \u001b[0;36m<module>\u001b[1;34m\u001b[0m\n\u001b[0;32m      1\u001b[0m \u001b[1;31m# Stop the Run\u001b[0m\u001b[1;33m\u001b[0m\u001b[1;33m\u001b[0m\u001b[1;33m\u001b[0m\u001b[0m\n\u001b[0;32m      2\u001b[0m \u001b[0mauto_program\u001b[0m\u001b[1;33m.\u001b[0m\u001b[0mstop_run\u001b[0m\u001b[1;33m(\u001b[0m\u001b[1;33m)\u001b[0m\u001b[1;33m\u001b[0m\u001b[1;33m\u001b[0m\u001b[0m\n\u001b[1;32m----> 3\u001b[1;33m \u001b[0mauto_program\u001b[0m\u001b[1;33m.\u001b[0m\u001b[0mco\u001b[0m\u001b[1;33m\u001b[0m\u001b[1;33m\u001b[0m\u001b[0m\n\u001b[0m\u001b[0;32m      4\u001b[0m \u001b[0mntinue_event\u001b[0m\u001b[1;33m.\u001b[0m\u001b[0mset\u001b[0m\u001b[1;33m(\u001b[0m\u001b[1;33m)\u001b[0m\u001b[1;33m\u001b[0m\u001b[1;33m\u001b[0m\u001b[0m\n",
      "\u001b[1;31mAttributeError\u001b[0m: 'AutoRun' object has no attribute 'co'"
     ]
    },
    {
     "name": "stderr",
     "output_type": "stream",
     "text": [
      "ERROR:root:Error while moving during System Move. Aborting\n",
      "ERROR:root:Exiting the run...\n"
     ]
    }
   ],
   "source": [
    "# Stop the Run\n",
    "auto_program.stop_run()\n",
    "auto_program.continue_event.set()"
   ]
  },
  {
   "cell_type": "code",
   "execution_count": 50,
   "metadata": {
    "scrolled": true
   },
   "outputs": [],
   "source": [
    "# Run to continue past a wait step\n",
    "auto_program.continue_event.set()"
   ]
  },
  {
   "cell_type": "markdown",
   "metadata": {},
   "source": [
    "# Displays"
   ]
  },
  {
   "cell_type": "code",
   "execution_count": 85,
   "metadata": {},
   "outputs": [
    {
     "name": "stdout",
     "output_type": "stream",
     "text": [
      "After special True\n",
      "Time to wait is  300\n",
      "XY Errr ['']\n",
      "After special True\n",
      "Time to wait is  3\n",
      "XY Errr ['']\n",
      "After special True\n",
      "Time to wait is  300\n",
      "XY Errr ['']\n",
      "After special True\n",
      "Time to wait is  3\n",
      "After special True\n",
      "Time to wait is  300\n",
      "After special True\n",
      "Time to wait is  3\n",
      "After special True\n",
      "Time to wait is  300\n",
      "XY Errr ['']\n",
      "After special True\n",
      "Time to wait is  3\n",
      "XY Errr ['']\n",
      "After special True\n",
      "Time to wait is  300\n",
      "After special True\n",
      "Time to wait is  3\n",
      "After special True\n",
      "Time to wait is  300\n",
      "After special True\n",
      "Time to wait is  3\n",
      "After special True\n",
      "Time to wait is  300\n",
      "XY Errr ['']\n",
      "After special True\n",
      "Time to wait is  3\n",
      "XY Errr ['']\n",
      "After special True\n",
      "Time to wait is  300\n",
      "XY Errr ['']\n",
      "After special True\n",
      "Time to wait is  3\n",
      "After special True\n",
      "Time to wait is  300\n"
     ]
    }
   ],
   "source": [
    "# CE Display\n",
    "ce_gram = DisplayWindows.PLTCEDisplay(ce_system)\n",
    "#ce_disp.stop()\n",
    "#ce_disp.show()\n",
    "ce_gram.start_live_view()\n",
    "\n",
    "# Uncomment the following to reset the detector (start gathering data)\n",
    "#ce_system.detector.start()"
   ]
  },
  {
   "cell_type": "code",
   "execution_count": 54,
   "metadata": {
    "scrolled": true
   },
   "outputs": [
    {
     "name": "stdout",
     "output_type": "stream",
     "text": [
      "HEYYOO\n"
     ]
    }
   ],
   "source": [
    "# Microscope Display\n",
    "cam = DisplayWindows.PLTMicroscopeDisplay(ce_system)\n",
    "cam.scalar=1\n",
    "ce_system.camera.stop()\n",
    "cam.show()\n",
    "cam.live_image()"
   ]
  },
  {
   "cell_type": "markdown",
   "metadata": {},
   "source": [
    "# SET DISTANCE BETWEEN OBJECTIVE AND CAPILLARY"
   ]
  },
  {
   "cell_type": "code",
   "execution_count": 27,
   "metadata": {},
   "outputs": [
    {
     "data": {
      "text/plain": [
       "0.0"
      ]
     },
     "execution_count": 27,
     "metadata": {},
     "output_type": "execute_result"
    }
   ],
   "source": [
    "# If this is not 0, make sure the objective won't crash!\n",
    "ce_system.objective.read_z()"
   ]
  },
  {
   "cell_type": "code",
   "execution_count": 26,
   "metadata": {},
   "outputs": [],
   "source": [
    "# Go to Zero at the start of the day\n",
    "ce_system.objective.set_z(0)"
   ]
  },
  {
   "cell_type": "markdown",
   "metadata": {},
   "source": [
    "Now bring cells into focus, by using the coarse objective adjustment! Do not change the coarse adjustment from here on out."
   ]
  },
  {
   "cell_type": "code",
   "execution_count": 83,
   "metadata": {
    "scrolled": true
   },
   "outputs": [],
   "source": [
    "# Move the objective to the cell focus, and run this cell to record it for next time\n",
    "obj_height = ce_system.objective.read_z()\n",
    "ce_system.objective.set_rel_z(-0.05)"
   ]
  },
  {
   "cell_type": "code",
   "execution_count": 82,
   "metadata": {},
   "outputs": [],
   "source": [
    "# Lower Capillary Inlet into Cell Chamber units in mm\n",
    "ce_system.inlet_z.set_rel_z(-0.005)"
   ]
  },
  {
   "cell_type": "code",
   "execution_count": 84,
   "metadata": {},
   "outputs": [],
   "source": [
    "# and record this height for next time \n",
    "cap_height = ce_system.inlet_z.read_z()\n",
    "cap_difference = obj_height - cap_height\n",
    "with open('save_me','w') as fout:\n",
    "    fout.write(f'cap_difference,{cap_difference}')"
   ]
  },
  {
   "cell_type": "code",
   "execution_count": 8,
   "metadata": {},
   "outputs": [],
   "source": [
    "# if you needed to restart you can load the earlier difference\n",
    "with open('save_me','r') as fin:\n",
    "    cap_difference= float(fin.readline().split(',')[1])\n",
    "    "
   ]
  },
  {
   "cell_type": "code",
   "execution_count": 82,
   "metadata": {},
   "outputs": [
    {
     "data": {
      "text/plain": [
       "14.168074"
      ]
     },
     "execution_count": 82,
     "metadata": {},
     "output_type": "execute_result"
    }
   ],
   "source": [
    "ce_system.inlet_z.read_z()"
   ]
  },
  {
   "cell_type": "code",
   "execution_count": 85,
   "metadata": {},
   "outputs": [],
   "source": [
    "ce_system.inlet_z.set_rel_z(5)"
   ]
  },
  {
   "cell_type": "code",
   "execution_count": 55,
   "metadata": {},
   "outputs": [],
   "source": [
    "ce_system.objective.set_rel_z(-0.025)"
   ]
  },
  {
   "cell_type": "markdown",
   "metadata": {},
   "source": [
    "# Take Fluorescent Images\n",
    "\n",
    "This is for the NikonTE300 Microscope. \n",
    "\n",
    "*light_channel* corresponds to the lumencor light. Please enter the lowercase name of light to show:\n",
    "'red', 'blue', 'cyan', etc...\n",
    "\n",
    "*fluor_channel* corresponds to the filter wheel position for the emission filter. \n",
    "\n",
    "GFP Fluoresence settings:\n",
    "light_channel = 'cyan'\n",
    "fluor_channel = 4\n"
   ]
  },
  {
   "cell_type": "code",
   "execution_count": 76,
   "metadata": {},
   "outputs": [
    {
     "name": "stdout",
     "output_type": "stream",
     "text": [
      "HEYYOO\n"
     ]
    }
   ],
   "source": [
    "fluor_channel=4\n",
    "light_channel='cyan'\n",
    "bins=2\n",
    "ce_system.excitation_wheel.set_intensity(['cyan'],1)\n",
    "auto_utils.pre_fluoresence(ce_system)\n",
    "img = ce_system.camera.snap()\n",
    "auto_utils.post_fluoresence(ce_system)\n",
    "\n"
   ]
  },
  {
   "cell_type": "code",
   "execution_count": 77,
   "metadata": {},
   "outputs": [
    {
     "data": {
      "text/plain": [
       "<matplotlib.image.AxesImage at 0x2a4f4e8c9d0>"
      ]
     },
     "execution_count": 77,
     "metadata": {},
     "output_type": "execute_result"
    }
   ],
   "source": [
    "# Show the image you just took \n",
    "fig, ax = plt.subplots()\n",
    "ax.imshow(img)"
   ]
  },
  {
   "cell_type": "code",
   "execution_count": 71,
   "metadata": {},
   "outputs": [
    {
     "data": {
      "text/plain": [
       "(array([ 3718., 12182.,  3998.,  1532.,   633.,   326.,   129.,    55.,\n",
       "           33.,    14.]),\n",
       " array([192. , 206.2, 220.4, 234.6, 248.8, 263. , 277.2, 291.4, 305.6,\n",
       "        319.8, 334. ]),\n",
       " <BarContainer object of 10 artists>)"
      ]
     },
     "execution_count": 71,
     "metadata": {},
     "output_type": "execute_result"
    }
   ],
   "source": [
    "# Show the histogram of the image you just took \n",
    "fig,ax = plt.subplots()\n",
    "ax.hist(img.flatten())"
   ]
  },
  {
   "cell_type": "markdown",
   "metadata": {},
   "source": [
    "# SINGLE CELL "
   ]
  },
  {
   "cell_type": "code",
   "execution_count": 287,
   "metadata": {
    "scrolled": true
   },
   "outputs": [
    {
     "name": "stdout",
     "output_type": "stream",
     "text": [
      "You want to raise the objective? DO NOT RUN IF FIRST CELL. y\n"
     ]
    },
    {
     "name": "stderr",
     "output_type": "stream",
     "text": [
      "Exception in thread Thread-135364:\n",
      "Traceback (most recent call last):\n",
      "  File \"C:\\Users\\NikonTE300CE\\miniconda3\\envs\\CEpy37\\lib\\threading.py\", line 932, in _bootstrap_inner\n",
      "    self.run()\n",
      "  File \"C:\\Users\\NikonTE300CE\\miniconda3\\envs\\CEpy37\\lib\\threading.py\", line 870, in run\n",
      "    self._target(*self._args, **self._kwargs)\n",
      "  File \"C:\\Users\\NikonTE300CE\\Desktop\\Barracuda_Updated\\AutomatedCE\\L2\\CameraControl.py\", line 240, in _sequence_update\n",
      "    img = self.controller.send_command(self.controller.core.get_last_image)\n",
      "  File \"C:\\Users\\NikonTE300CE\\Desktop\\Barracuda_Updated\\AutomatedCE\\L1\\Controllers.py\", line 232, in send_command\n",
      "    raise e\n",
      "  File \"C:\\Users\\NikonTE300CE\\Desktop\\Barracuda_Updated\\AutomatedCE\\L1\\Controllers.py\", line 223, in send_command\n",
      "    ans = command(*args)\n",
      "  File \"C:\\Users\\NikonTE300CE\\miniconda3\\envs\\CEpy37\\lib\\site-packages\\pycromanager\\core.py\", line 399, in <lambda>\n",
      "    ): instance._translate_call(signatures_list, args)\n",
      "  File \"C:\\Users\\NikonTE300CE\\miniconda3\\envs\\CEpy37\\lib\\site-packages\\pycromanager\\core.py\", line 519, in _translate_call\n",
      "    return self._deserialize(self._socket.receive())\n",
      "  File \"C:\\Users\\NikonTE300CE\\miniconda3\\envs\\CEpy37\\lib\\site-packages\\pycromanager\\core.py\", line 176, in receive\n",
      "    self._check_exception(message)\n",
      "  File \"C:\\Users\\NikonTE300CE\\miniconda3\\envs\\CEpy37\\lib\\site-packages\\pycromanager\\core.py\", line 181, in _check_exception\n",
      "    raise Exception(response[\"value\"])\n",
      "Exception: java.lang.Exception: Circular buffer is empty.\n",
      "mmcorej.MMCoreJJNI.CMMCore_getLastImage(Native Method)\n",
      "mmcorej.CMMCore.getLastImage(CMMCore.java:1040)\n",
      "sun.reflect.GeneratedMethodAccessor26.invoke(Unknown Source)\n",
      "sun.reflect.DelegatingMethodAccessorImpl.invoke(DelegatingMethodAccessorImpl.java:43)\n",
      "java.lang.reflect.Method.invoke(Method.java:498)\n",
      "org.micromanager.internal.zmq.ZMQServer.runMethod(ZMQServer.java:339)\n",
      "org.micromanager.internal.zmq.ZMQServer.parseAndExecuteCommand(ZMQServer.java:394)\n",
      "org.micromanager.internal.zmq.ZMQServer.lambda$initialize$1(ZMQServer.java:103)\n",
      "java.util.concurrent.FutureTask.run(FutureTask.java:266)\n",
      "java.util.concurrent.ThreadPoolExecutor.runWorker(ThreadPoolExecutor.java:1149)\n",
      "java.util.concurrent.ThreadPoolExecutor$Worker.run(ThreadPoolExecutor.java:624)\n",
      "java.lang.Thread.run(Thread.java:748)\n",
      "\n"
     ]
    }
   ],
   "source": [
    "# DO NOT RUN THIS BOX FOR THE FIRST CELL OR YOU WILL WRECK THE CAPILLARY.\n",
    "#FOR FIRST CELL, RUN \"FIND YOUR CELLS OF INTEREST, LOWER THE CAPILLARY\"\n",
    "#Run this box, when you need to raise the objective up, following a single cell. \n",
    "resp = get_yes_no(\"You want to raise the objective? DO NOT RUN IF FIRST CELL.\")\n",
    "if resp:\n",
    "    ce_system.objective.set_rel_z(5)"
   ]
  },
  {
   "cell_type": "code",
   "execution_count": 93,
   "metadata": {},
   "outputs": [
    {
     "data": {
      "text/plain": [
       "'\\n635, 169\\n527, 191\\n436, 206\\n436, 115\\n436, 211\\n\\n\\n'"
      ]
     },
     "execution_count": 93,
     "metadata": {},
     "output_type": "execute_result"
    }
   ],
   "source": [
    "# Use these two commands to record, or go to previous locations on the glass slide. \n",
    "#xy = ce_system.xy_stage.read_xy()\n",
    "#ce_system.xy_stage.set_xy(xy)\n",
    "ce_system.xy_stage.set_rel_y(-0.01)\n",
    "\n",
    "\"\"\"\n",
    "635, 169\n",
    "527, 191\n",
    "436, 206\n",
    "436, 115\n",
    "436, 211\n",
    "436, 314\n",
    "\n",
    "\"\"\""
   ]
  },
  {
   "cell_type": "code",
   "execution_count": 44,
   "metadata": {},
   "outputs": [],
   "source": [
    "scan_radius=0.5\n",
    "ce_system.xy_stage.set_rel_xy(np.random.uniform(low=-scan_radius, high=scan_radius,size= 2))\n"
   ]
  },
  {
   "cell_type": "code",
   "execution_count": 88,
   "metadata": {},
   "outputs": [
    {
     "data": {
      "text/plain": [
       "True"
      ]
     },
     "execution_count": 88,
     "metadata": {},
     "output_type": "execute_result"
    }
   ],
   "source": [
    "ce_system.camera.continuous_snap()"
   ]
  },
  {
   "cell_type": "code",
   "execution_count": 9,
   "metadata": {},
   "outputs": [],
   "source": [
    "import numpy as np\n",
    "from scipy.ndimage import label, distance_transform_edt\n",
    "from skimage import io, img_as_float, filters, morphology, transform, draw\n",
    "from skimage.feature import peak_local_max\n",
    "from skimage.measure import regionprops\n",
    "from skimage.morphology import watershed\n",
    "#from L4.image_util import *\n",
    "import pandas as pd\n",
    "import glob\n",
    "\n",
    "class ImageDetect:\n",
    "    \n",
    "    \"\"\"\n",
    "    Detect whether there are cells located on the image,\n",
    "    and locate the distance needed to move to center over a lysis spot.\n",
    "    \n",
    "    Image detect rescales images to 50%, be cautious of this as you compare raw or other transformed images.\n",
    "    \n",
    "    Example Usage:\n",
    "    # files is a list of image files for testing purposes. \n",
    "    # Get Laser Position Information\n",
    "    move_to = (200,400) # Pixel coordinates for the lysis position\n",
    "    im_size = image_display.shape #should be the size of image used to determine pixel coordinates\n",
    "    \n",
    "    # Convert to general fractions of the image (for changing image sizes)\n",
    "    move_to_frac = np.divide(move_to, im_size)\n",
    "    lysis_radius_frac = 20/im_size[0]\n",
    "    \n",
    "    # This will need to be for the image at 0.5 scaled image\n",
    "    mm_per_pix = [1, 1] * 1 # Change inside the brackets to flip an axis, change outside the axis to change the scalar\n",
    "\n",
    "    # Keep searching images until you find one that will work.\n",
    "    wait= True\n",
    "    while wait:\n",
    "        file = np.random.choice(files)\n",
    "        print(file)\n",
    "        img = io.imread(file)\n",
    "        imd = ImageDetect(img)\n",
    "        try:\n",
    "            imd.get_regions()\n",
    "            imd.select_cell()\n",
    "            wait=False\n",
    "        except AssertionError as e:\n",
    "            print(e)\n",
    "\n",
    "    imd.draw_cell()\n",
    "    lysis_yx, lysis_rad = imd.draw_lysis(move_to_frac, lysis_radius_frac)\n",
    "    imd.draw_vector(lysis_yx, lysis_rad, mm_per_pix)\n",
    "    \"\"\"\n",
    "    \n",
    "    def __init__(self, img):\n",
    "        self.img = img.copy()\n",
    "        self.img_display = None\n",
    "        self.regions=None\n",
    "        self.labels=None\n",
    "        self.row = None\n",
    "        self.create_blank_display()\n",
    "        self.signal_image = None\n",
    "        self.normalized_image = None\n",
    "        self.filtered_image = None\n",
    "        self.edge_sobel = None\n",
    "        self.binary_otsu = None\n",
    "        self.closed_image1 = None\n",
    "        self.filled = None\n",
    "        self.opened = None\n",
    "        self.closed_image2 = None\n",
    "        self.labels = None\n",
    "        self.opened2 = None\n",
    "        \n",
    "    \n",
    "    def get_regions(self):\n",
    "        image = self.img\n",
    "        # Make sure types are the same\n",
    "        input_image = img_as_float(image)\n",
    "        input_image = input_image \n",
    "        # Subtract background\n",
    "        signal_image = input_image# - background\n",
    "\n",
    "        #Resize for faster analysis\n",
    "        signal_image = transform.rescale(signal_image, 0.5)\n",
    "\n",
    "        # Normalize between 0 and 1\n",
    "        self.normalized_image = normalized_image = (signal_image - signal_image.min()) / (signal_image.max() - signal_image.min())\n",
    "        # Filter Image\n",
    "        self.filtered_image = filtered_image = filters.median(normalized_image, behavior='ndimage')\n",
    "        # Edge Detection\n",
    "        self.edge_sobel = edge_sobel = filters.sobel(filtered_image)\n",
    "\n",
    "        # Threshold\n",
    "        thresh = filters.threshold_otsu(edge_sobel)\n",
    "        self.binary_otsu = binary_otsu = edge_sobel > thresh\n",
    "\n",
    "        # Binary Morphology Operations\n",
    "        structure_element = morphology.disk(5)\n",
    "\n",
    "        self.closed_image1 = closed_image = morphology.binary_closing(binary_otsu, structure_element)\n",
    "        self.filled = filled = morphology.remove_small_holes(closed_image, area_threshold=200)\n",
    "        self.opened = opened = morphology.remove_small_objects(filled, min_size=50)\n",
    "        structure_element = morphology.disk(20)\n",
    "        self.closed_image2 = closed_image = morphology.binary_closing(opened, structure_element)\n",
    "        structure_element = morphology.disk(20)\n",
    "        self.opened2 = opened_image = morphology.binary_opening(closed_image, structure_element)\n",
    "\n",
    "        # Watershed\n",
    "        distance = distance_transform_edt(opened_image)\n",
    "        local_maxi = peak_local_max(distance, indices=False, footprint=np.ones((50,50)), labels=opened_image)\n",
    "        markers = label(local_maxi)[0]\n",
    "        self.labels = labels = watershed(-distance, markers, mask=opened_image)\n",
    "\n",
    "        #Regions\n",
    "        assert np.max(labels)-np.min(labels)>=1, \"No Cells Detected, Move and Try again\"\n",
    "            \n",
    "        properties = ['centroid', 'area', 'eccentricity', 'convex_area', 'equivalent_diameter']\n",
    "        regions = regionprops_table(labels,properties=properties)\n",
    "        self.regions = regions = pd.DataFrame(regions)\n",
    "        self.labels = labels\n",
    "        return regions\n",
    "    \n",
    "    def select_cell(self):\n",
    "        regions = self.regions\n",
    "\n",
    "        # Filter the regions by area\n",
    "        regions=regions[regions['area']>10000]\n",
    "        assert regions.shape[0]>1, \"No Cells Detected, Move and Try again\"\n",
    "\n",
    "        # Get a random row from the regions\n",
    "        row = regions.sample(1).iloc[0]\n",
    "        self.row = row\n",
    "        return row\n",
    "    \n",
    "    def create_blank_display(self):\n",
    "        # Normalize the image\n",
    "        img=self.img.copy()\n",
    "        img_display = transform.rescale(img, 0.5)\n",
    "        im_st = img_display - np.quantile(img_display,0.1)\n",
    "        #Convert to color\n",
    "        rggb = gray2rgb(im_st*1/(np.quantile(im_st,0.95)))\n",
    "        self.img_display=rggb\n",
    "        return rggb\n",
    "    \n",
    "    def draw_cell(self):\n",
    "        img_display = self.img_display[:,:,0]\n",
    "        rggb = self.img_display\n",
    "        row = self.row\n",
    "        \n",
    "        # Display our detected images:\n",
    "        # Draw a circle around the selected cell\n",
    "        rr, cc = draw.circle_perimeter(int(row['centroid-0']), int(row['centroid-1']),\n",
    "                              int(row['equivalent_diameter']/2), shape=img_display.shape)\n",
    "\n",
    "        # Get the circle perimeter of the cell and make it bigger\n",
    "        perim = np.zeros(img_display.shape)\n",
    "        perim[rr,cc]=1\n",
    "        perim = morphology.dilation(perim, selem=morphology.disk(5))\n",
    "        # Add it to the color image for the perimeter\n",
    "        rggb[perim>0, :] = [1,0,0]\n",
    "        return rggb\n",
    "\n",
    "    def draw_lysis(self, move_to_frac, lysis_radius_frac):\n",
    "        img_display = self.img_display[:,:,0]\n",
    "        rggb = self.img_display\n",
    "        # Read back the magic :D \n",
    "        lysis_yx = np.multiply(move_to_frac, img_display.shape).astype(int)\n",
    "        lysis_radius = int(lysis_radius_frac*img_display.shape[0])\n",
    "        # Get the Circle\n",
    "        rr, cc = draw.circle(lysis_yx[0], lysis_yx[1], lysis_radius)\n",
    "        rggb[rr,cc, :]=[0,1,0]\n",
    "        return lysis_yx, lysis_radius\n",
    "    \n",
    "    def draw_vector(self, lysis_yx, lysis_radius, mm_per_pix):\n",
    "        # Draw the Movement Vector\n",
    "        img_display = self.img_display[:,:,0]\n",
    "        rggb = self.img_display\n",
    "        row = self.row\n",
    "        # Get the difference between the coords\n",
    "        cell_yx = [int(row['centroid-0']), int(row['centroid-1'])]\n",
    "        cell_yx[1]+= int(row['equivalent_diameter']/4)\n",
    "        diff_in_pixels = np.subtract(lysis_yx, cell_yx )\n",
    "        # Draw a line\n",
    "        rr,cc = draw.line(cell_yx[0], cell_yx[1], cell_yx[0]+diff_in_pixels[0], cell_yx[1]+diff_in_pixels[1])\n",
    "        perim = np.zeros(img_display.shape)\n",
    "        perim[rr,cc]=1\n",
    "        perim = morphology.dilation(perim, selem=morphology.disk(5))\n",
    "        rggb[perim>0, :] = [0,0,1]\n",
    "        #Scalar to convert to mm\n",
    "        diff_in_mm = diff_in_pixels*mm_per_pix\n",
    "        print(f'From: {cell_yx} to {lysis_yx} in pixels')\n",
    "        print(f'Pixel Distance = {diff_in_pixels} (y,x)')\n",
    "        print(f'mm distance = {diff_in_mm} (y,x)')\n",
    "        return diff_in_mm"
   ]
  },
  {
   "cell_type": "code",
   "execution_count": 13,
   "metadata": {},
   "outputs": [
    {
     "name": "stderr",
     "output_type": "stream",
     "text": [
      "C:\\Users\\NikonTE300CE\\miniconda3\\envs\\CEpy37\\lib\\site-packages\\skimage\\morphology\\_deprecated.py:5: skimage_deprecation: Function ``watershed`` is deprecated and will be removed in version 0.19. Use ``skimage.segmentation.watershed`` instead.\n",
      "  def watershed(image, markers=None, connectivity=1, offset=None, mask=None,\n"
     ]
    },
    {
     "name": "stdout",
     "output_type": "stream",
     "text": [
      "HEYYOO\n"
     ]
    },
    {
     "name": "stderr",
     "output_type": "stream",
     "text": [
      "<ipython-input-9-68a903e2044d>:166: FutureWarning: circle is deprecated in favor of disk.circle will be removed in version 0.19\n",
      "  rr, cc = draw.circle(lysis_yx[0], lysis_yx[1], lysis_radius)\n",
      "WARNING:matplotlib.image:Clipping input data to the valid range for imshow with RGB data ([0..1] for floats or [0..255] for integers).\n"
     ]
    },
    {
     "name": "stdout",
     "output_type": "stream",
     "text": [
      "From: [392, 163] to [400 124] in pixels\n",
      "Pixel Distance = [  8 -39] (y,x)\n",
      "mm distance = [-0.00080402  0.0039196 ] (y,x)\n"
     ]
    }
   ],
   "source": [
    "reload(CellDetection)\n",
    "\n",
    "scan_radius = 0.5\n",
    "_focus_adjust = -.01\n",
    "move_to = (800,250) # Pixel coordinates for the lysis position\n",
    "# (1040, 1392)\n",
    "im_size = (1040, 1392) # ce_system.camera.get_last_image().shape #should be the size of image used to determine pixel coordinates\n",
    "# Convert to general fractions of the image (for changing image sizes)\n",
    "move_to_frac = np.divide(move_to, im_size)\n",
    "lysis_radius_frac = 20/im_size[0]\n",
    "# This will need to be for the image at 0.5 scaled image\n",
    "# For every 10 microns we move 99.5 pixels\n",
    "# \n",
    "mm_per_pix = np.multiply([-1, -1], 0.01/99.5) # Change inside the brackets to flip an axis, change outside the axis to change the scalar\n",
    "auto_lysis_dir = r\"G:\\My Drive\\ForLuke\\AutoLysisPt3\"\n",
    "note_file = auto_lysis_dir +r\"\\notes.csv\"\n",
    "import datetime\n",
    "def save_a_note(prefix, msg, val, file):\n",
    "    with open(file,'a') as fout:\n",
    "        fout.write(f\"{datetime.datetime.now()},{prefix},{msg},{val}\\n\")\n",
    "\n",
    "no_cell = True\n",
    "fig, ax = plt.subplots()\n",
    "ce_system.camera.stop()\n",
    "\n",
    "while no_cell:\n",
    "    # Move Randomly\n",
    "    #ce_system.xy_stage.set_rel_xy(np.random.uniform(low=-scan_radius, high=scan_radius,size= 2))\n",
    "    time.sleep(.2)\n",
    "\n",
    "    #Focus the Cells\n",
    "    rsc = Focus.RefinedStepClimb(ce_system, Focus.brenner)\n",
    "    bf_climb_focus = rsc.climb(initial_step = 0.05, final_step=0.002, refinements=3)\n",
    "    ce_system.objective.set_z(bf_climb_focus + _focus_adjust)\n",
    "    save_a_note(\"Auto\",f\"{counter}\", f\"{bf_climb_focus}\", note_file)\n",
    "\n",
    "    # Grab the Image\n",
    "    img = img_as_float(ce_system.camera.snap())\n",
    "    imd = ImageDetect(img)\n",
    "\n",
    "    #See if there are any Cells, If not it will catch the assertion error and repeat\n",
    "    try:\n",
    "        imd.get_regions()\n",
    "        imd.select_cell()\n",
    "        no_cell=False\n",
    "    except AssertionError as e:\n",
    "        print(e)\n",
    "    break\n",
    "\n",
    "ce_system.camera.continuous_snap()  \n",
    "        \n",
    "# Once Cell has been found, create the outlines and move forward\n",
    "imd.draw_cell()\n",
    "lysis_yx, lysis_rad = imd.draw_lysis(move_to_frac, lysis_radius_frac)\n",
    "imd.draw_vector(lysis_yx, lysis_rad, mm_per_pix)\n",
    "# Display the image for the user\n",
    "ax.imshow(imd.img_display)\n",
    "plt.show()\n",
    "save_a_note(\"CELLINFO\", \"SELECTED\", f\"{imd.row}\".replace('\\n', '~'), note_file)\n",
    "# Wait for user to confirm\n",
    " \n",
    "# Move the Stage to the relative position\n"
   ]
  },
  {
   "cell_type": "code",
   "execution_count": 11,
   "metadata": {},
   "outputs": [],
   "source": [
    "from pathlib import Path\n",
    "import numpy as np\n",
    "from scipy.ndimage import label, distance_transform_edt\n",
    "from skimage import io, img_as_float, filters, morphology, draw, transform\n",
    "from skimage.color import gray2rgb\n",
    "from skimage.feature import peak_local_max\n",
    "from skimage.measure import regionprops\n",
    "from skimage.morphology import watershed\n",
    "\n"
   ]
  },
  {
   "cell_type": "code",
   "execution_count": 137,
   "metadata": {},
   "outputs": [
    {
     "ename": "TypeError",
     "evalue": "Invalid shape (696,) for image data",
     "output_type": "error",
     "traceback": [
      "\u001b[1;31m---------------------------------------------------------------------------\u001b[0m",
      "\u001b[1;31mTypeError\u001b[0m                                 Traceback (most recent call last)",
      "\u001b[1;32m<ipython-input-137-ba3bd9454ff8>\u001b[0m in \u001b[0;36m<module>\u001b[1;34m\u001b[0m\n\u001b[0;32m      1\u001b[0m \u001b[0mplt\u001b[0m\u001b[1;33m.\u001b[0m\u001b[0mimshow\u001b[0m\u001b[1;33m(\u001b[0m\u001b[0mmarkers\u001b[0m\u001b[1;33m)\u001b[0m\u001b[1;33m\u001b[0m\u001b[1;33m\u001b[0m\u001b[0m\n\u001b[1;32m----> 2\u001b[1;33m \u001b[0mplt\u001b[0m\u001b[1;33m.\u001b[0m\u001b[0mimshow\u001b[0m\u001b[1;33m(\u001b[0m\u001b[0mimd\u001b[0m\u001b[1;33m.\u001b[0m\u001b[0mmarkers\u001b[0m\u001b[1;33m)\u001b[0m\u001b[1;33m\u001b[0m\u001b[1;33m\u001b[0m\u001b[0m\n\u001b[0m",
      "\u001b[1;32m~\\miniconda3\\envs\\CEpy37\\lib\\site-packages\\matplotlib\\pyplot.py\u001b[0m in \u001b[0;36mimshow\u001b[1;34m(X, cmap, norm, aspect, interpolation, alpha, vmin, vmax, origin, extent, filternorm, filterrad, resample, url, data, **kwargs)\u001b[0m\n\u001b[0;32m   2722\u001b[0m         \u001b[0mfilternorm\u001b[0m\u001b[1;33m=\u001b[0m\u001b[1;32mTrue\u001b[0m\u001b[1;33m,\u001b[0m \u001b[0mfilterrad\u001b[0m\u001b[1;33m=\u001b[0m\u001b[1;36m4.0\u001b[0m\u001b[1;33m,\u001b[0m \u001b[0mresample\u001b[0m\u001b[1;33m=\u001b[0m\u001b[1;32mNone\u001b[0m\u001b[1;33m,\u001b[0m \u001b[0murl\u001b[0m\u001b[1;33m=\u001b[0m\u001b[1;32mNone\u001b[0m\u001b[1;33m,\u001b[0m\u001b[1;33m\u001b[0m\u001b[1;33m\u001b[0m\u001b[0m\n\u001b[0;32m   2723\u001b[0m         data=None, **kwargs):\n\u001b[1;32m-> 2724\u001b[1;33m     __ret = gca().imshow(\n\u001b[0m\u001b[0;32m   2725\u001b[0m         \u001b[0mX\u001b[0m\u001b[1;33m,\u001b[0m \u001b[0mcmap\u001b[0m\u001b[1;33m=\u001b[0m\u001b[0mcmap\u001b[0m\u001b[1;33m,\u001b[0m \u001b[0mnorm\u001b[0m\u001b[1;33m=\u001b[0m\u001b[0mnorm\u001b[0m\u001b[1;33m,\u001b[0m \u001b[0maspect\u001b[0m\u001b[1;33m=\u001b[0m\u001b[0maspect\u001b[0m\u001b[1;33m,\u001b[0m\u001b[1;33m\u001b[0m\u001b[1;33m\u001b[0m\u001b[0m\n\u001b[0;32m   2726\u001b[0m         \u001b[0minterpolation\u001b[0m\u001b[1;33m=\u001b[0m\u001b[0minterpolation\u001b[0m\u001b[1;33m,\u001b[0m \u001b[0malpha\u001b[0m\u001b[1;33m=\u001b[0m\u001b[0malpha\u001b[0m\u001b[1;33m,\u001b[0m \u001b[0mvmin\u001b[0m\u001b[1;33m=\u001b[0m\u001b[0mvmin\u001b[0m\u001b[1;33m,\u001b[0m\u001b[1;33m\u001b[0m\u001b[1;33m\u001b[0m\u001b[0m\n",
      "\u001b[1;32m~\\miniconda3\\envs\\CEpy37\\lib\\site-packages\\matplotlib\\__init__.py\u001b[0m in \u001b[0;36minner\u001b[1;34m(ax, data, *args, **kwargs)\u001b[0m\n\u001b[0;32m   1436\u001b[0m     \u001b[1;32mdef\u001b[0m \u001b[0minner\u001b[0m\u001b[1;33m(\u001b[0m\u001b[0max\u001b[0m\u001b[1;33m,\u001b[0m \u001b[1;33m*\u001b[0m\u001b[0margs\u001b[0m\u001b[1;33m,\u001b[0m \u001b[0mdata\u001b[0m\u001b[1;33m=\u001b[0m\u001b[1;32mNone\u001b[0m\u001b[1;33m,\u001b[0m \u001b[1;33m**\u001b[0m\u001b[0mkwargs\u001b[0m\u001b[1;33m)\u001b[0m\u001b[1;33m:\u001b[0m\u001b[1;33m\u001b[0m\u001b[1;33m\u001b[0m\u001b[0m\n\u001b[0;32m   1437\u001b[0m         \u001b[1;32mif\u001b[0m \u001b[0mdata\u001b[0m \u001b[1;32mis\u001b[0m \u001b[1;32mNone\u001b[0m\u001b[1;33m:\u001b[0m\u001b[1;33m\u001b[0m\u001b[1;33m\u001b[0m\u001b[0m\n\u001b[1;32m-> 1438\u001b[1;33m             \u001b[1;32mreturn\u001b[0m \u001b[0mfunc\u001b[0m\u001b[1;33m(\u001b[0m\u001b[0max\u001b[0m\u001b[1;33m,\u001b[0m \u001b[1;33m*\u001b[0m\u001b[0mmap\u001b[0m\u001b[1;33m(\u001b[0m\u001b[0msanitize_sequence\u001b[0m\u001b[1;33m,\u001b[0m \u001b[0margs\u001b[0m\u001b[1;33m)\u001b[0m\u001b[1;33m,\u001b[0m \u001b[1;33m**\u001b[0m\u001b[0mkwargs\u001b[0m\u001b[1;33m)\u001b[0m\u001b[1;33m\u001b[0m\u001b[1;33m\u001b[0m\u001b[0m\n\u001b[0m\u001b[0;32m   1439\u001b[0m \u001b[1;33m\u001b[0m\u001b[0m\n\u001b[0;32m   1440\u001b[0m         \u001b[0mbound\u001b[0m \u001b[1;33m=\u001b[0m \u001b[0mnew_sig\u001b[0m\u001b[1;33m.\u001b[0m\u001b[0mbind\u001b[0m\u001b[1;33m(\u001b[0m\u001b[0max\u001b[0m\u001b[1;33m,\u001b[0m \u001b[1;33m*\u001b[0m\u001b[0margs\u001b[0m\u001b[1;33m,\u001b[0m \u001b[1;33m**\u001b[0m\u001b[0mkwargs\u001b[0m\u001b[1;33m)\u001b[0m\u001b[1;33m\u001b[0m\u001b[1;33m\u001b[0m\u001b[0m\n",
      "\u001b[1;32m~\\miniconda3\\envs\\CEpy37\\lib\\site-packages\\matplotlib\\axes\\_axes.py\u001b[0m in \u001b[0;36mimshow\u001b[1;34m(self, X, cmap, norm, aspect, interpolation, alpha, vmin, vmax, origin, extent, filternorm, filterrad, resample, url, **kwargs)\u001b[0m\n\u001b[0;32m   5521\u001b[0m                               resample=resample, **kwargs)\n\u001b[0;32m   5522\u001b[0m \u001b[1;33m\u001b[0m\u001b[0m\n\u001b[1;32m-> 5523\u001b[1;33m         \u001b[0mim\u001b[0m\u001b[1;33m.\u001b[0m\u001b[0mset_data\u001b[0m\u001b[1;33m(\u001b[0m\u001b[0mX\u001b[0m\u001b[1;33m)\u001b[0m\u001b[1;33m\u001b[0m\u001b[1;33m\u001b[0m\u001b[0m\n\u001b[0m\u001b[0;32m   5524\u001b[0m         \u001b[0mim\u001b[0m\u001b[1;33m.\u001b[0m\u001b[0mset_alpha\u001b[0m\u001b[1;33m(\u001b[0m\u001b[0malpha\u001b[0m\u001b[1;33m)\u001b[0m\u001b[1;33m\u001b[0m\u001b[1;33m\u001b[0m\u001b[0m\n\u001b[0;32m   5525\u001b[0m         \u001b[1;32mif\u001b[0m \u001b[0mim\u001b[0m\u001b[1;33m.\u001b[0m\u001b[0mget_clip_path\u001b[0m\u001b[1;33m(\u001b[0m\u001b[1;33m)\u001b[0m \u001b[1;32mis\u001b[0m \u001b[1;32mNone\u001b[0m\u001b[1;33m:\u001b[0m\u001b[1;33m\u001b[0m\u001b[1;33m\u001b[0m\u001b[0m\n",
      "\u001b[1;32m~\\miniconda3\\envs\\CEpy37\\lib\\site-packages\\matplotlib\\image.py\u001b[0m in \u001b[0;36mset_data\u001b[1;34m(self, A)\u001b[0m\n\u001b[0;32m    707\u001b[0m         if not (self._A.ndim == 2\n\u001b[0;32m    708\u001b[0m                 or self._A.ndim == 3 and self._A.shape[-1] in [3, 4]):\n\u001b[1;32m--> 709\u001b[1;33m             raise TypeError(\"Invalid shape {} for image data\"\n\u001b[0m\u001b[0;32m    710\u001b[0m                             .format(self._A.shape))\n\u001b[0;32m    711\u001b[0m \u001b[1;33m\u001b[0m\u001b[0m\n",
      "\u001b[1;31mTypeError\u001b[0m: Invalid shape (696,) for image data"
     ]
    }
   ],
   "source": [
    "plt.imshow(markers)\n",
    "plt.imshow(imd.markers)"
   ]
  },
  {
   "cell_type": "code",
   "execution_count": 14,
   "metadata": {},
   "outputs": [],
   "source": [
    "brae_idx = 0"
   ]
  },
  {
   "cell_type": "markdown",
   "metadata": {},
   "source": [
    "## When it doesn't focus a cell correctly (no cell in view) Run the Below code before rerunning"
   ]
  },
  {
   "cell_type": "code",
   "execution_count": 64,
   "metadata": {},
   "outputs": [
    {
     "name": "stderr",
     "output_type": "stream",
     "text": [
      "C:\\Users\\NikonTE300CE\\miniconda3\\envs\\CEpy37\\lib\\site-packages\\skimage\\morphology\\_deprecated.py:5: skimage_deprecation: Function ``watershed`` is deprecated and will be removed in version 0.19. Use ``skimage.segmentation.watershed`` instead.\n",
      "  def watershed(image, markers=None, connectivity=1, offset=None, mask=None,\n",
      "<ipython-input-9-68a903e2044d>:166: FutureWarning: circle is deprecated in favor of disk.circle will be removed in version 0.19\n",
      "  rr, cc = draw.circle(lysis_yx[0], lysis_yx[1], lysis_radius)\n"
     ]
    },
    {
     "name": "stdout",
     "output_type": "stream",
     "text": [
      "From: [384, 276] to [400 124] in pixels\n",
      "Pixel Distance = [  16 -152] (y,x)\n",
      "mm distance = [-0.00160804  0.01527638] (y,x)\n",
      "HEYYOO\n",
      "HEYYOO\n",
      "Cell Focus and Lysis taking Place...Wait\n",
      "Fire\n",
      "Injection Complete 5.04047417640686\n",
      "Saving Data...\n",
      "Data Saved... Find the next cell somewhere else on the slide\n"
     ]
    }
   ],
   "source": [
    "ce_system.xy_stage.set_xy([-24.494, 39.283])\n",
    "ce_system.objective.set_z(0.0785)"
   ]
  },
  {
   "cell_type": "markdown",
   "metadata": {},
   "source": [
    "# If the Camera gives a \"JAVA... Circular Buffer Error\", Run the Below Code (after exiting the old camera view window)"
   ]
  },
  {
   "cell_type": "code",
   "execution_count": 57,
   "metadata": {},
   "outputs": [
    {
     "name": "stdout",
     "output_type": "stream",
     "text": [
      "HEYYOO\n"
     ]
    }
   ],
   "source": [
    "# Microscope Display\n",
    "cam = DisplayWindows.PLTMicroscopeDisplay(ce_system)\n",
    "cam.scalar=1\n",
    "ce_system.camera.stop()\n",
    "cam.show()\n",
    "cam.live_image()"
   ]
  },
  {
   "cell_type": "markdown",
   "metadata": {},
   "source": [
    "# Run this below code for testing"
   ]
  },
  {
   "cell_type": "code",
   "execution_count": 63,
   "metadata": {
    "scrolled": false
   },
   "outputs": [
    {
     "name": "stdout",
     "output_type": "stream",
     "text": [
      "Testing Cell {counter}\n",
      "Are there cells in the field of view? Do you want to autofocus? y\n"
     ]
    },
    {
     "name": "stderr",
     "output_type": "stream",
     "text": [
      "C:\\Users\\NikonTE300CE\\miniconda3\\envs\\CEpy37\\lib\\site-packages\\skimage\\morphology\\_deprecated.py:5: skimage_deprecation: Function ``watershed`` is deprecated and will be removed in version 0.19. Use ``skimage.segmentation.watershed`` instead.\n",
      "  def watershed(image, markers=None, connectivity=1, offset=None, mask=None,\n"
     ]
    },
    {
     "name": "stdout",
     "output_type": "stream",
     "text": [
      "No Cells Detected, Move and Try again\n"
     ]
    },
    {
     "name": "stderr",
     "output_type": "stream",
     "text": [
      "C:\\Users\\NikonTE300CE\\miniconda3\\envs\\CEpy37\\lib\\site-packages\\skimage\\morphology\\_deprecated.py:5: skimage_deprecation: Function ``watershed`` is deprecated and will be removed in version 0.19. Use ``skimage.segmentation.watershed`` instead.\n",
      "  def watershed(image, markers=None, connectivity=1, offset=None, mask=None,\n"
     ]
    },
    {
     "name": "stdout",
     "output_type": "stream",
     "text": [
      "No Cells Detected, Move and Try again\n"
     ]
    },
    {
     "name": "stderr",
     "output_type": "stream",
     "text": [
      "C:\\Users\\NikonTE300CE\\miniconda3\\envs\\CEpy37\\lib\\site-packages\\skimage\\morphology\\_deprecated.py:5: skimage_deprecation: Function ``watershed`` is deprecated and will be removed in version 0.19. Use ``skimage.segmentation.watershed`` instead.\n",
      "  def watershed(image, markers=None, connectivity=1, offset=None, mask=None,\n"
     ]
    },
    {
     "name": "stdout",
     "output_type": "stream",
     "text": [
      "No Cells Detected, Move and Try again\n"
     ]
    },
    {
     "name": "stderr",
     "output_type": "stream",
     "text": [
      "C:\\Users\\NikonTE300CE\\miniconda3\\envs\\CEpy37\\lib\\site-packages\\skimage\\morphology\\_deprecated.py:5: skimage_deprecation: Function ``watershed`` is deprecated and will be removed in version 0.19. Use ``skimage.segmentation.watershed`` instead.\n",
      "  def watershed(image, markers=None, connectivity=1, offset=None, mask=None,\n"
     ]
    },
    {
     "name": "stdout",
     "output_type": "stream",
     "text": [
      "No Cells Detected, Move and Try again\n"
     ]
    },
    {
     "name": "stderr",
     "output_type": "stream",
     "text": [
      "C:\\Users\\NikonTE300CE\\miniconda3\\envs\\CEpy37\\lib\\site-packages\\skimage\\morphology\\_deprecated.py:5: skimage_deprecation: Function ``watershed`` is deprecated and will be removed in version 0.19. Use ``skimage.segmentation.watershed`` instead.\n",
      "  def watershed(image, markers=None, connectivity=1, offset=None, mask=None,\n"
     ]
    },
    {
     "name": "stdout",
     "output_type": "stream",
     "text": [
      "No Cells Detected, Move and Try again\n"
     ]
    },
    {
     "name": "stderr",
     "output_type": "stream",
     "text": [
      "C:\\Users\\NikonTE300CE\\miniconda3\\envs\\CEpy37\\lib\\site-packages\\skimage\\morphology\\_deprecated.py:5: skimage_deprecation: Function ``watershed`` is deprecated and will be removed in version 0.19. Use ``skimage.segmentation.watershed`` instead.\n",
      "  def watershed(image, markers=None, connectivity=1, offset=None, mask=None,\n"
     ]
    },
    {
     "name": "stdout",
     "output_type": "stream",
     "text": [
      "No Cells Detected, Move and Try again\n",
      "OH NO ['R']\n"
     ]
    },
    {
     "name": "stderr",
     "output_type": "stream",
     "text": [
      "C:\\Users\\NikonTE300CE\\miniconda3\\envs\\CEpy37\\lib\\site-packages\\skimage\\morphology\\_deprecated.py:5: skimage_deprecation: Function ``watershed`` is deprecated and will be removed in version 0.19. Use ``skimage.segmentation.watershed`` instead.\n",
      "  def watershed(image, markers=None, connectivity=1, offset=None, mask=None,\n"
     ]
    },
    {
     "name": "stdout",
     "output_type": "stream",
     "text": [
      "No Cells Detected, Move and Try again\n",
      "OH NO ['R']\n"
     ]
    }
   ],
   "source": [
    "from L4 import Focus\n",
    "import datetime\n",
    "# Reload the L4 Files for any updates/changes\n",
    "reload(Focus)\n",
    "reload(image_util)\n",
    "reload(CellDetection)\n",
    "\n",
    "# File Saving Parameters\n",
    "auto_lysis_dir = r\"G:\\My Drive\\ForLuke\\AutoLysisPt3\"\n",
    "note_file = auto_lysis_dir +r\"\\notes.csv\"\n",
    "\n",
    "# Injection Parameters\n",
    "gravity_drop, voltage_level, injection_time  = [0, 5, 5]\n",
    "delay=0.5\n",
    "drift = 0\n",
    "\n",
    "#Cell Searching Parameters\n",
    "scan_radius=0.05 # mm \n",
    "\n",
    "# Laser Positioning Parameters\n",
    "# Get Laser Position Information\n",
    "move_to = (800,250) # Pixel coordinates for the lysis position\n",
    "# (1040, 1392)\n",
    "im_size = (1040, 1392) # ce_system.camera.get_last_image().shape #should be the size of image used to determine pixel coordinates\n",
    "# Convert to general fractions of the image (for changing image sizes)\n",
    "move_to_frac = np.divide(move_to, im_size)\n",
    "lysis_radius_frac = 20/im_size[0]\n",
    "mm_per_pix = np.multiply([-1, -1], 0.01/99.5) # Change inside the brackets to flip an axis, change outside the axis to change the scalar\n",
    "\n",
    "#Focus Parameters\n",
    "_focus_adjust = -0.01\n",
    "\n",
    "# Set up the Objects Needed to Run\n",
    "ims = image_util.ImageSaver(ce_system,folder_prefix='lysis', data_folder=auto_lysis_dir )\n",
    "\n",
    "print(\"Testing Cell {counter}\")\n",
    "def save_slides(slide_show, *args):\n",
    "    warnings.filterwarnings(\"ignore\")\n",
    "    slide_show.add_slide(*args)\n",
    "    slide_show.save_presentation()\n",
    "    warnings.filterwarnings(\"default\")\n",
    "    \n",
    "def save_a_note(prefix, msg, val, file):\n",
    "    with open(file,'a') as fout:\n",
    "        fout.write(f\"{datetime.datetime.now()},{prefix},{msg},{val}\\n\")\n",
    "\n",
    "def finish_auto_lysis(ce_system):\n",
    "    global counter\n",
    "    ce_system.objective.set_rel_z(0.05)\n",
    "    time.sleep(3)\n",
    "    ce_system.inlet_z.set_rel_z(5)\n",
    "    ce_system.objective.set_rel_z(-0.05)\n",
    "    time.sleep(3)\n",
    "    ims.remove_callback()    \n",
    "    ims.save_image('IMG',folder_prefix=\"AutoLysis\")\n",
    "    ims.save_gif(\"AutoLysis\", auto_lysis_dir)\n",
    "    print(\"Data Saved... Find the next cell somewhere else on the slide\")\n",
    "    counter+=1\n",
    "    \n",
    "def limited_fire(ce_system, gravity_drop, voltage_level, injection_time):\n",
    "    time.sleep(delay)\n",
    "    print('Fire')\n",
    "    ce_system.outlet_z.set_rel_z(-gravity_drop)\n",
    "    ce_system.high_voltage.set_voltage(voltage_level)\n",
    "    ce_system.outlet_pressure.release()\n",
    "    ce_system.high_voltage.start()\n",
    "    start_time = time.time()\n",
    "    time.sleep(0.1)\n",
    "    ce_system.lysis_laser.laser_standby()\n",
    "    ce_system.lysis_laser.laser_fire()\n",
    "\n",
    "    first=False\n",
    "    while time.time()-start_time < injection_time:\n",
    "        time.sleep(0.1)\n",
    "        if time.time()-start_time >2 and first:\n",
    "            ce_system.objective.set_rel_z(-_focus_adjust)\n",
    "            time.sleep(0.2)\n",
    "            ce_system.lysis_laser.laser_fire()\n",
    "            first=False\n",
    "        \n",
    "    ce_system.high_voltage.stop()\n",
    "    print(f\"Injection Complete {time.time()-start_time}\")\n",
    "    ce_system.outlet_z.set_rel_z(gravity_drop)\n",
    "    ce_system.outlet_pressure.seal()\n",
    "    print(\"Saving Data...\")\n",
    "    finish_auto_lysis(ce_system)\n",
    "    \n",
    "\n",
    "fig, ax = plt.subplots()\n",
    "    \n",
    "resp=True\n",
    "def run_me (user_input=True):\n",
    "    def move_to_cell():\n",
    "        no_cell = True\n",
    "        save_a_note(\"CELLINFO\", \"RUNNING\", f\"START\".replace(',', ' '), note_file)\n",
    "\n",
    "        while no_cell:\n",
    "            # Move Randomly\n",
    "            ce_system.xy_stage.set_rel_xy(np.random.uniform(low=-scan_radius, high=scan_radius,size= 2))\n",
    "            time.sleep(1.5)\n",
    "            pre_xy = ce_system.xy_stage.read_xy()\n",
    "            save_a_note(\"POSITIONINFO\", \"XY PRE\", f\"{pre_xy}\".replace(',', ' '), note_file)\n",
    "            pre_focus_start = ce_system.objective.read_z()\n",
    "            save_a_note(\"POSITIONINFO\", \"OBJ PRE\", f\"{pre_focus_start}\".replace(',', ' '), note_file)\n",
    "\n",
    "            \n",
    "            #Focus the Cells\n",
    "            rsc = Focus.RefinedStepClimb(ce_system, Focus.brenner)\n",
    "            bf_climb_focus = rsc.climb(initial_step = 0.075, final_step=0.002, refinements=4)\n",
    "            ce_system.objective.set_z(bf_climb_focus)\n",
    "            save_a_note(\"FOCUS\",f\"{counter}\", f\"{bf_climb_focus}\", note_file)\n",
    "            focus_start = ce_system.objective.read_z()\n",
    "            save_a_note(\"POSITIONINFO\", \"OBJ POST\", f\"{focus_start}\".replace(',', ' '), note_file)\n",
    "\n",
    "            # Grab the Image\n",
    "            img = img_as_float(ce_system.camera.snap())\n",
    "            imd = ImageDetect(img)\n",
    "            \n",
    "            \n",
    "            #See if there are any Cells, If not it will catch the assertion error and repeat\n",
    "            try:\n",
    "                imd.get_regions()\n",
    "                imd.select_cell()\n",
    "                no_cell=False\n",
    "            except AssertionError as e:\n",
    "                print(e)\n",
    "                save_a_note(\"CELLINFO\", \"RUNNING\", f\"BROKEN\".replace(',', ' '), note_file)\n",
    "                ce_system.objective.set_z(pre_focus_start)\n",
    "        ce_system.objective.set_rel_z(_focus_adjust)\n",
    "        focus_start = ce_system.objective.read_z()\n",
    "\n",
    "        # Once Cell has been found, create the outlines and move forward\n",
    "        imd.draw_cell()\n",
    "        lysis_yx, lysis_rad = imd.draw_lysis(move_to_frac, lysis_radius_frac)\n",
    "        mm_move_y_x = imd.draw_vector(lysis_yx, lysis_rad, mm_per_pix)\n",
    "        # Display the image for the user\n",
    "        #ax.imshow(imd.img_display)\n",
    "        xy = ce_system.xy_stage.read_xy()\n",
    "        save_a_note(\"POSITIONINFO\", \"XY POST\", f\"{xy}\".replace(',', ' '), note_file)\n",
    "        save_a_note(\"CELLINFO\", \"SELECTED\", f\"{imd.row}\".replace('\\n', '~'), note_file)\n",
    "        # Wait for user to confirm\n",
    "  \n",
    "        # Move the Stage to the relative position\n",
    "        ce_system.xy_stage.set_rel_xy(mm_move_y_x[::-1] )\n",
    "\n",
    "    resp=True\n",
    "    if resp:\n",
    "        # on reruns, you just need to run this command when you have the cells in focus\n",
    "        resp = get_yes_no(\"Are there cells in the field of view? Do you want to autofocus?\")\n",
    "        drift = +0.005\n",
    "        if resp:\n",
    "            # Start Recording\n",
    "            ce_system.camera.stop()\n",
    "            ims.add_callback()\n",
    "            # Find a Cell\n",
    "            lysis_attempts = 0 \n",
    "            move_to_cell()\n",
    "            \n",
    "            #Return so user can see updates\n",
    "            ce_system.camera.continuous_snap()\n",
    "            time.sleep(1)\n",
    "            obj_height = ce_system.objective.read_z()\n",
    "            cap_z = auto_utils.get_cap_height(obj_height, cap_difference)\n",
    "            z = ce_system.inlet_z.read_z()\n",
    "\n",
    "            rel_z = cap_z-z\n",
    "            rel_z+=drift\n",
    "            ce_system.inlet_z.set_rel_z(rel_z+0.015)\n",
    "            save_a_note(\"Cap\",f\"{counter}\", f\"{rel_z} {_focus_adjust} {brae_idx}\", note_file)\n",
    "            #ce_system.inlet_z.wait_for_move()\n",
    "            ce_system.objective.set_rel_z(-0.02)\n",
    "            time.sleep(8)\n",
    "            ce_system.camera.stop()\n",
    "            rsc = Focus.RefinedStepClimb(ce_system, Focus.brenner)\n",
    "            bf_climb_focus = rsc.climb(initial_step = 0.01, final_step=0.0002, refinements=3)\n",
    "            ce_system.objective.set_z(bf_climb_focus)\n",
    "            ce_system.inlet_z.set_rel_z(-0.015)\n",
    "            time.sleep(2)\n",
    "\n",
    "            ce_system.camera.continuous_snap()\n",
    "            import threading\n",
    "            #pulses+=1\n",
    "            #lysis_attempts+=1\n",
    "            threading.Thread(target=limited_fire, args=(ce_system, gravity_drop, voltage_level, injection_time)).start()\n",
    "            print(\"Cell Focus and Lysis taking Place...Wait\")\n",
    "\n",
    "        else:\n",
    "            print(\"Bring cells into focus.\")\n",
    "            assert 1==0, \"Cells not in focus!!\"\n",
    "threading.Thread(target=run_me).start()\n",
    "brae_idx +=1"
   ]
  },
  {
   "cell_type": "markdown",
   "metadata": {},
   "source": [
    "### For Auto Focus test part two, you will need to find the cells on the slide.\n",
    "\n",
    "Use a capillary you don't care about just in case something goes wrong. Does not need a detection window if thats easier (Does need a clean inlet)\n",
    "\n",
    "We don't need to adjust the focus of the objective finely at all. All we care about is replicating the conditions. \n",
    "\n",
    "We will need 30 cells to get a good idea of its performance. It doesn't need to run the separation. \n",
    "\n",
    "Once you have calibrated the stages and capillary, you should be good to run the scripts. "
   ]
  },
  {
   "cell_type": "markdown",
   "metadata": {},
   "source": [
    "### Test the Auto Focus here!\n",
    "Find cells of interest and focus them before running the next command. Auto focus, capillary lowering, and lysis will follow. \n",
    "\n",
    "Repeat for 30 cells, one after the other. No separation needed yet. "
   ]
  },
  {
   "cell_type": "markdown",
   "metadata": {},
   "source": [
    "## This is what we have previously done. You may need to verify this on your own. "
   ]
  },
  {
   "cell_type": "code",
   "execution_count": 278,
   "metadata": {
    "scrolled": true
   },
   "outputs": [
    {
     "name": "stdout",
     "output_type": "stream",
     "text": [
      "Testing Cell {counter}\n",
      "Are there cells in the field of view? Do you want to autofocus? y\n",
      "HEYYOO\n",
      "0.0271\n",
      "Data Saved... Find the next cell somewhere else on the slide\n",
      "HEYYOO\n",
      "Cell Focus and Lysis taking Place...Wait\n",
      "Fire\n",
      "Injection Complete 5.0412750244140625\n",
      "Saving Data...\n",
      "Data Saved... Find the next cell somewhere else on the slide\n"
     ]
    }
   ],
   "source": [
    "reload(image_util)\n",
    "auto_lysis_dir = r\"G:\\My Drive\\ForLuke\\AutoLysisPt2\"\n",
    "note_file = auto_lysis_dir +r\"\\notes.csv\"\n",
    "gravity_drop, voltage_level, injection_time  = [0, 5, 5]\n",
    "delay=0.5\n",
    "drift = 0\n",
    "ims = image_util.ImageSaver(ce_system,folder_prefix='lysis', data_folder=auto_lysis_dir )\n",
    "if np.random.random() >0.:\n",
    "    _focus_adjust = -0.01\n",
    "else:\n",
    "    _focus_adjust = -0.01\n",
    "\n",
    "print(\"Testing Cell {counter}\")\n",
    "from L4 import Focus\n",
    "def save_slides(slide_show, *args):\n",
    "    warnings.filterwarnings(\"ignore\")\n",
    "    slide_show.add_slide(*args)\n",
    "    slide_show.save_presentation()\n",
    "    warnings.filterwarnings(\"default\")\n",
    "    \n",
    "def save_a_note(prefix, msg, val, file):\n",
    "    with open(file,'a') as fout:\n",
    "        fout.write(f\"{prefix},{msg},{val}\\n\")\n",
    "\n",
    "\n",
    "def finish_auto_lysis(ce_system):\n",
    "    global counter\n",
    "    ce_system.objective.set_rel_z(0.05)\n",
    "    time.sleep(3)\n",
    "    ce_system.inlet_z.set_rel_z(5)\n",
    "    ce_system.objective.set_rel_z(-0.05)\n",
    "    time.sleep(3)\n",
    "    ims.remove_callback()    \n",
    "    ims.save_image('IMG',folder_prefix=\"AutoLysis\")\n",
    "    ims.save_gif(\"AutoLysis\", auto_lysis_dir)\n",
    "    print(\"Data Saved... Find the next cell somewhere else on the slide\")\n",
    "    counter+=1\n",
    "    \n",
    "def limited_fire(ce_system, gravity_drop, voltage_level, injection_time):\n",
    "    time.sleep(delay)\n",
    "    print('Fire')\n",
    "    ce_system.outlet_z.set_rel_z(-gravity_drop)\n",
    "    ce_system.high_voltage.set_voltage(voltage_level)\n",
    "    ce_system.outlet_pressure.release()\n",
    "    ce_system.high_voltage.start()\n",
    "    start_time = time.time()\n",
    "    time.sleep(0.1)\n",
    "    ce_system.lysis_laser.laser_standby()\n",
    "    ce_system.lysis_laser.laser_fire()\n",
    "\n",
    "    first=False\n",
    "    while time.time()-start_time < injection_time:\n",
    "        time.sleep(0.1)\n",
    "        if time.time()-start_time >2 and first:\n",
    "            ce_system.objective.set_rel_z(-_focus_adjust)\n",
    "            time.sleep(0.2)\n",
    "            ce_system.lysis_laser.laser_fire()\n",
    "            first=False\n",
    "    ce_system.high_voltage.stop()\n",
    "    print(f\"Injection Complete {time.time()-start_time}\")\n",
    "    ce_system.outlet_z.set_rel_z(gravity_drop)\n",
    "    ce_system.outlet_pressure.seal()\n",
    "    print(\"Saving Data...\")\n",
    "    finish_auto_lysis(ce_system)\n",
    "\n",
    "    \n",
    "resp=True\n",
    "def run_me ():\n",
    "    resp=True\n",
    "    if resp:\n",
    "        # on reruns, you just need to run this command when you have the cells in focus\n",
    "        resp = get_yes_no(\"Are there cells in the field of view? Do you want to autofocus?\")\n",
    "        drift = +0.005\n",
    "        if resp:\n",
    "            # Start Recording\n",
    "            ce_system.camera.stop()\n",
    "            ims.add_callback()\n",
    "            lysis_attempts = 0 \n",
    "\n",
    "            rsc = Focus.RefinedStepClimb(ce_system, Focus.brenner)\n",
    "            bf_climb_focus = rsc.climb(initial_step = 0.01, final_step=0.0002, refinements=3)\n",
    "            ce_system.objective.set_z(bf_climb_focus + _focus_adjust)\n",
    "            save_a_note(\"Auto\",f\"{counter}\", f\"{bf_climb_focus}\", note_file)\n",
    "            ce_system.camera.continuous_snap()\n",
    "            time.sleep(1)\n",
    "            obj_height = ce_system.objective.read_z()\n",
    "            print(obj_height)\n",
    "            cap_z = auto_utils.get_cap_height(obj_height, cap_difference)\n",
    "            z = ce_system.inlet_z.read_z()\n",
    "\n",
    "            rel_z = cap_z-z\n",
    "            rel_z+=drift\n",
    "            ce_system.inlet_z.set_rel_z(rel_z+0.015)\n",
    "            save_a_note(\"Cap\",f\"{counter}\", f\"{rel_z} {_focus_adjust} {brae_idx}\", note_file)\n",
    "            #ce_system.inlet_z.wait_for_move()\n",
    "            ce_system.objective.set_rel_z(-0.02)\n",
    "            time.sleep(8)\n",
    "            ce_system.camera.stop()\n",
    "            rsc = Focus.RefinedStepClimb(ce_system, Focus.brenner)\n",
    "            bf_climb_focus = rsc.climb(initial_step = 0.01, final_step=0.0002, refinements=3)\n",
    "            ce_system.objective.set_z(bf_climb_focus)\n",
    "            ce_system.inlet_z.set_rel_z(-0.015)\n",
    "            time.sleep(2)\n",
    "\n",
    "            ce_system.camera.continuous_snap()\n",
    "            import threading\n",
    "            #pulses+=1\n",
    "            #lysis_attempts+=1\n",
    "            threading.Thread(target=limited_fire, args=(ce_system, gravity_drop, voltage_level, injection_time)).start()\n",
    "            print(\"Cell Focus and Lysis taking Place...Wait\")\n",
    "\n",
    "        else:\n",
    "            print(\"Bring cells into focus.\")\n",
    "            assert 1==0, \"Cells not in focus!!\"\n",
    "threading.Thread(target=run_me).start()\n",
    "brae_idx +=1"
   ]
  },
  {
   "cell_type": "code",
   "execution_count": 159,
   "metadata": {},
   "outputs": [],
   "source": [
    "ce_system.inlet_z.set_rel_z(1)"
   ]
  },
  {
   "cell_type": "code",
   "execution_count": 343,
   "metadata": {},
   "outputs": [],
   "source": [
    "ce_system.xy_stage.set_rel_xy(np.random.random(2))"
   ]
  },
  {
   "cell_type": "code",
   "execution_count": 344,
   "metadata": {},
   "outputs": [],
   "source": [
    "lysis_pos = [800,300] # Row Column"
   ]
  },
  {
   "cell_type": "code",
   "execution_count": 346,
   "metadata": {},
   "outputs": [],
   "source": [
    "xy = ce_system.xy_stage.read_xy()"
   ]
  },
  {
   "cell_type": "code",
   "execution_count": 386,
   "metadata": {},
   "outputs": [],
   "source": [
    "ce_system.xy_stage.set_xy(xy)"
   ]
  },
  {
   "cell_type": "code",
   "execution_count": 407,
   "metadata": {},
   "outputs": [
    {
     "data": {
      "application/vnd.jupyter.widget-view+json": {
       "model_id": "54084b0d95984bf9a7e305574a38fdce",
       "version_major": 2,
       "version_minor": 0
      },
      "text/plain": [
       "  0%|          | 0/50 [00:00<?, ?it/s]"
      ]
     },
     "metadata": {},
     "output_type": "display_data"
    },
    {
     "name": "stdout",
     "output_type": "stream",
     "text": [
      "HEYYOO\n"
     ]
    }
   ],
   "source": [
    "# get background\n",
    "from skimage import io, img_as_float, filters, morphology\n",
    "from tqdm.notebook import tqdm\n",
    "#ce_system.objective.set_rel_z(-1)\n",
    "ce_system.camera.stop()\n",
    "imgs = []\n",
    "st = time.time()\n",
    "for i in tqdm(range(50)):\n",
    "    ce_system.xy_stage.set_rel_xy(np.random.uniform(low=-.5, high=0.5,size= 2))\n",
    "    time.sleep(.2)\n",
    "    imgs.append( img_as_float(ce_system.camera.snap()))\n",
    "ce_system.camera.continuous_snap()\n",
    "imgs = np.asarray(imgs)\n",
    "median_img = np.median(imgs[:50,:,:],axis=0)\n",
    "#ce_system.objective.set_rel_z(1)\n"
   ]
  },
  {
   "cell_type": "code",
   "execution_count": 468,
   "metadata": {},
   "outputs": [
    {
     "name": "stdout",
     "output_type": "stream",
     "text": [
      "[] [[0 0 0 ... 0 0 0]\n",
      " [0 0 0 ... 0 0 0]\n",
      " [0 0 0 ... 0 0 0]\n",
      " ...\n",
      " [0 0 0 ... 0 0 0]\n",
      " [0 0 0 ... 0 0 0]\n",
      " [0 0 0 ... 0 0 0]]\n"
     ]
    },
    {
     "name": "stderr",
     "output_type": "stream",
     "text": [
      "C:\\Users\\NikonTE300CE\\miniconda3\\envs\\CEpy37\\lib\\site-packages\\skimage\\morphology\\_deprecated.py:5: skimage_deprecation: Function ``watershed`` is deprecated and will be removed in version 0.19. Use ``skimage.segmentation.watershed`` instead.\n",
      "  def watershed(image, markers=None, connectivity=1, offset=None, mask=None,\n"
     ]
    },
    {
     "data": {
      "text/plain": [
       "[]"
      ]
     },
     "execution_count": 468,
     "metadata": {},
     "output_type": "execute_result"
    }
   ],
   "source": [
    "from L4 import CellDetection as cd\n",
    "reload(cd)\n",
    "img = ce_system.camera.get_last_image()\n",
    "cd.get_blobs(img, 'scikit_threshold', mean_img, 10, 50, (10,10))"
   ]
  },
  {
   "cell_type": "code",
   "execution_count": 382,
   "metadata": {},
   "outputs": [
    {
     "data": {
      "text/plain": [
       "<matplotlib.image.AxesImage at 0x18584f87700>"
      ]
     },
     "execution_count": 382,
     "metadata": {},
     "output_type": "execute_result"
    }
   ],
   "source": [
    "import numpy as np\n",
    "from scipy.ndimage import label, distance_transform_edt\n",
    "from skimage import io, img_as_float, filters, morphology\n",
    "from skimage.feature import peak_local_max\n",
    "from skimage.measure import regionprops\n",
    "from skimage.morphology import watershed\n",
    "#from L4.image_util import *\n",
    "import pandas as pd"
   ]
  },
  {
   "cell_type": "code",
   "execution_count": 472,
   "metadata": {},
   "outputs": [
    {
     "data": {
      "text/plain": [
       "<matplotlib.image.AxesImage at 0x185c3f651f0>"
      ]
     },
     "execution_count": 472,
     "metadata": {},
     "output_type": "execute_result"
    }
   ],
   "source": [
    "plt.figure()\n",
    "plt.imshow(labels)"
   ]
  },
  {
   "cell_type": "code",
   "execution_count": 469,
   "metadata": {},
   "outputs": [
    {
     "name": "stderr",
     "output_type": "stream",
     "text": [
      "C:\\Users\\NikonTE300CE\\miniconda3\\envs\\CEpy37\\lib\\site-packages\\skimage\\morphology\\_deprecated.py:5: skimage_deprecation: Function ``watershed`` is deprecated and will be removed in version 0.19. Use ``skimage.segmentation.watershed`` instead.\n",
      "  def watershed(image, markers=None, connectivity=1, offset=None, mask=None,\n"
     ]
    }
   ],
   "source": [
    "image = img\n",
    "imgs = np.asarray(imgs)\n",
    "mean_img = np.mean(imgs[:50,:,:],axis=0)\n",
    "background = img_as_float(mean_img)\n",
    "background = background \n",
    "# Make sure types are the same\n",
    "input_image = img_as_float(image)\n",
    "input_image = input_image \n",
    "# Subtract background\n",
    "signal_image = input_image - background\n",
    "\n",
    "# Normalize between 0 and 1\n",
    "normalized_image = (signal_image - signal_image.min()) / (signal_image.max() - signal_image.min())\n",
    "# Filter Image\n",
    "filtered_image = filters.median(normalized_image, behavior='ndimage')\n",
    "# Edge Detection\n",
    "edge_sobel = filters.sobel(filtered_image)\n",
    "\n",
    "# Threshold\n",
    "thresh = filters.threshold_otsu(edge_sobel)\n",
    "binary_otsu = edge_sobel > thresh\n",
    "\n",
    "# Binary Morphology Operations\n",
    "structure_element = morphology.disk(10)\n",
    "closed_image = morphology.binary_closing(binary_otsu, structure_element)\n",
    "structure_element = morphology.disk(50)\n",
    "opened_image = morphology.binary_opening(closed_image, structure_element)\n",
    "# Watershed\n",
    "distance = distance_transform_edt(opened_image)\n",
    "local_maxi = peak_local_max(distance, indices=False, footprint=np.ones((50,50)), labels=opened_image)\n",
    "markers = label(local_maxi)[0]\n",
    "labels = watershed(-distance, markers, mask=opened_image)"
   ]
  },
  {
   "cell_type": "code",
   "execution_count": null,
   "metadata": {},
   "outputs": [],
   "source": [
    "\n",
    "\n",
    "\n",
    "\n",
    "\n",
    "\n",
    "\n",
    "\n",
    "\n",
    "\n",
    "\n",
    "\n"
   ]
  },
  {
   "cell_type": "code",
   "execution_count": 118,
   "metadata": {},
   "outputs": [
    {
     "data": {
      "text/plain": [
       "0.015"
      ]
     },
     "execution_count": 118,
     "metadata": {},
     "output_type": "execute_result"
    }
   ],
   "source": [
    "_focus_adjust"
   ]
  },
  {
   "cell_type": "markdown",
   "metadata": {},
   "source": [
    "1. Go to random spot\n",
    "2. Focus\n",
    "3. Lower cap\n",
    "4. Raise Obj (at steps) up to 0.1\n"
   ]
  },
  {
   "cell_type": "code",
   "execution_count": 415,
   "metadata": {},
   "outputs": [
    {
     "name": "stdout",
     "output_type": "stream",
     "text": [
      "HEYYOO\n"
     ]
    },
    {
     "data": {
      "text/plain": [
       "True"
      ]
     },
     "execution_count": 415,
     "metadata": {},
     "output_type": "execute_result"
    }
   ],
   "source": [
    "ce_system.camera.stop()\n",
    "rsc = Focus.RefinedStepClimb(ce_system, Focus.brenner)\n",
    "bf_climb_focus = rsc.climb(initial_step = 0.03, final_step=0.0002, refinements=3)\n",
    "ce_system.objective.set_z(bf_climb_focus)\n",
    "ce_system.camera.continuous_snap()"
   ]
  },
  {
   "cell_type": "code",
   "execution_count": 284,
   "metadata": {},
   "outputs": [],
   "source": [
    "ce_system.objective.set_rel_z(-0.02)"
   ]
  },
  {
   "cell_type": "code",
   "execution_count": 281,
   "metadata": {},
   "outputs": [
    {
     "name": "stdout",
     "output_type": "stream",
     "text": [
      "0.0116\n"
     ]
    }
   ],
   "source": [
    "\n",
    "obj_height = ce_system.objective.read_z()\n",
    "print(obj_height)\n",
    "cap_z = auto_utils.get_cap_height(obj_height, cap_difference)\n",
    "z = ce_system.inlet_z.read_z()\n",
    "rel_z = cap_z-z\n",
    "rel_z+=drift\n",
    "ce_system.inlet_z.set_rel_z(rel_z)"
   ]
  },
  {
   "cell_type": "code",
   "execution_count": 341,
   "metadata": {
    "scrolled": true
   },
   "outputs": [],
   "source": [
    "# Lower the capillary (ADJUSTMENT)\n",
    "# If desired, add this to your drift to keep the capillary in the correct distance above the cell focus. \n",
    "ce_system.inlet_z.set_rel_z(3)"
   ]
  },
  {
   "cell_type": "markdown",
   "metadata": {},
   "source": [
    "### Lyse the Cell and load the lysate into the capillary "
   ]
  },
  {
   "cell_type": "code",
   "execution_count": 295,
   "metadata": {},
   "outputs": [
    {
     "name": "stdout",
     "output_type": "stream",
     "text": [
      "Fire\n",
      "Finished 3.028820037841797\n"
     ]
    }
   ],
   "source": [
    "# Start the Single Cell Injection\n",
    "\n",
    "# General Injection Parameters\n",
    "injection_time = 3 # in seconds\n",
    "gravity_drop = 0 # in millimeters\n",
    "voltage_level = 5 # in kilovolts\n",
    "delay = 1 # inseconds\n",
    "\n",
    "_focus_adjust = 0.033257\n",
    "from L4 import Focus\n",
    "rsc = Focus.RefinedStepClimb(ce_system, Focus.brenner)\n",
    "bf_climb_focus = rsc.climb(initial_step = 0.005, final_step=0.0002, refinements=3)\n",
    "ce_system.objective.set_rel_z(_focus_adjust)\n",
    "\n",
    "\n",
    "import threading\n",
    "\n",
    "def finish_auto_lysis(ce_system):\n",
    "    \n",
    "    ce_system.objective.set_rel_z(0.05)\n",
    "    time.sleep(3)\n",
    "    ce_system.inlet_z.set_rel_z(5)\n",
    "    ce_system.objective.set_rel_z(-0.05)\n",
    "    time.sleep(3)\n",
    "    ims.remove_callback()    \n",
    "    last_lysis = ims.save_image('IMG',folder_prefix=\"AutoLysis\")\n",
    "\n",
    "#pulses+=1\n",
    "def limited_fire(ce_system, gravity_drop, voltage_level, injection_time):\n",
    "        \n",
    "    time.sleep(delay)\n",
    "    print('Fire')\n",
    "    ce_system.outlet_z.set_rel_z(-gravity_drop)\n",
    "    ce_system.high_voltage.set_voltage(voltage_level)\n",
    "    ce_system.outlet_pressure.release()\n",
    "    ce_system.high_voltage.start()\n",
    "    start_time = time.time()\n",
    "    time.sleep(0.1)\n",
    "    ce_system.lysis_laser.laser_standby()\n",
    "    ce_system.lysis_laser.laser_fire()\n",
    "    \n",
    "    first=False\n",
    "    while time.time()-start_time < injection_time:\n",
    "        time.sleep(0.1)\n",
    "        if time.time()-start_time >10 and first:\n",
    "            ce_system.lysis_laser.laser_fire()\n",
    "            first=False\n",
    "    ce_system.high_voltage.stop()\n",
    "    print(f\"Finished {time.time()-start_time}\")\n",
    "    ce_system.outlet_z.set_rel_z(gravity_drop)\n",
    "    ce_system.outlet_pressure.seal()\n",
    "    \n",
    "    finish_auto_lysis()\n",
    "    \n",
    "\n",
    "#lysis_attempts+=1\n",
    "threading.Thread(target=limited_fire, args=(ce_system, gravity_drop, voltage_level, injection_time)).start()\n",
    "\n",
    "#threading.Thread(target=fire_me, args=arg).start()"
   ]
  },
  {
   "cell_type": "code",
   "execution_count": 189,
   "metadata": {
    "scrolled": true
   },
   "outputs": [],
   "source": [
    "# Run this to push out ECB buffer if you want to redo injections\n",
    "ce_system.outlet_pressure.rinse_pressure()\n",
    "time.sleep(10)\n",
    "ce_system.outlet_pressure.release()"
   ]
  },
  {
   "cell_type": "code",
   "execution_count": 190,
   "metadata": {
    "scrolled": true
   },
   "outputs": [],
   "source": [
    "#Move the capillary up to see better\n",
    "ce_system.inlet_z.set_rel_z(0.02)"
   ]
  },
  {
   "cell_type": "markdown",
   "metadata": {},
   "source": [
    "### Continue to the separation (or whatever the next step in the method is) "
   ]
  },
  {
   "cell_type": "code",
   "execution_count": 296,
   "metadata": {
    "scrolled": true
   },
   "outputs": [
    {
     "name": "stdout",
     "output_type": "stream",
     "text": [
      "After special True\n",
      "Time to wait is  3\n",
      "After special True\n",
      "Time to wait is  240\n"
     ]
    }
   ],
   "source": [
    "# Continue the Method\n",
    "def go_ahead():\n",
    "    global last_lysis \n",
    "    ce_system.objective.set_rel_z(0.05)\n",
    "    time.sleep(2)\n",
    "    ce_system.inlet_z.set_rel_z(3)\n",
    "    ce_system.objective.set_rel_z(-0.05)\n",
    "    time.sleep(2)\n",
    "    ce_system.objective.set_rel_z(-5)\n",
    "    if not auto_program.continue_event.is_set():\n",
    "        \n",
    "        auto_program.continue_event.set()\n",
    "    else:\n",
    "        auto_program.start_run()\n",
    "        \n",
    "    if record_lysis:\n",
    "        ims.remove_callback()\n",
    "        \n",
    "        last_lysis = ims.save_gif('Lysis', None, scale=0.25)\n",
    "    \n",
    "threading.Thread(target=go_ahead).start()"
   ]
  },
  {
   "cell_type": "markdown",
   "metadata": {},
   "source": [
    "### Add any notes about the cell or injection that you wish to record here. \n",
    "\n",
    "If you are collecting NA it is a good idea to record which pcr tube you are collecting this into. \n",
    "ie (Strip A, Well 1) "
   ]
  },
  {
   "cell_type": "code",
   "execution_count": 297,
   "metadata": {},
   "outputs": [
    {
     "name": "stdout",
     "output_type": "stream",
     "text": [
      "XY Errr ['']\n",
      "After special True\n",
      "Time to wait is  90\n",
      "XY Errr ['']\n",
      "After special True\n",
      "Time to wait is  45\n"
     ]
    }
   ],
   "source": [
    "cell_notes = 'blank injection'"
   ]
  },
  {
   "cell_type": "markdown",
   "metadata": {},
   "source": [
    "# misc functions"
   ]
  },
  {
   "cell_type": "code",
   "execution_count": 194,
   "metadata": {},
   "outputs": [
    {
     "data": {
      "text/plain": [
       "'.\\\\Data\\\\Pinocytosis C24C ECB_00024.csv'"
      ]
     },
     "execution_count": 194,
     "metadata": {},
     "output_type": "execute_result"
    }
   ],
   "source": [
    "# Record the previous path as the last path, this should be run when restarting the auto_program object\n",
    "auto_program.last_path = file_path\n",
    "file_path"
   ]
  },
  {
   "cell_type": "code",
   "execution_count": 298,
   "metadata": {
    "scrolled": true
   },
   "outputs": [
    {
     "name": "stderr",
     "output_type": "stream",
     "text": [
      "Exception in thread Thread-168622:\n",
      "Traceback (most recent call last):\n",
      "  File \"C:\\Users\\NikonTE300CE\\miniconda3\\envs\\CEpy37\\lib\\threading.py\", line 932, in _bootstrap_inner\n",
      "    self.run()\n",
      "  File \"C:\\Users\\NikonTE300CE\\miniconda3\\envs\\CEpy37\\lib\\threading.py\", line 870, in run\n",
      "    self._target(*self._args, **self._kwargs)\n",
      "  File \"<ipython-input-289-0af344fc7e7d>\", line 7, in save_slides\n",
      "  File \"C:\\Users\\NikonTE300CE\\Desktop\\Barracuda_Updated\\AutomatedCE\\L4\\FileIO.py\", line 168, in add_slide\n",
      "    pks_rfu, pks_time = generate_table(egram_filename, slide, x=pad, y=graph_h + pad, cx=graph_w,\n",
      "  File \"C:\\Users\\NikonTE300CE\\Desktop\\Barracuda_Updated\\AutomatedCE\\L4\\FileIO.py\", line 228, in generate_table\n",
      "    data = pd.read_csv(data_file)\n",
      "  File \"C:\\Users\\NikonTE300CE\\miniconda3\\envs\\CEpy37\\lib\\site-packages\\pandas\\io\\parsers.py\", line 605, in read_csv\n",
      "    return _read(filepath_or_buffer, kwds)\n",
      "  File \"C:\\Users\\NikonTE300CE\\miniconda3\\envs\\CEpy37\\lib\\site-packages\\pandas\\io\\parsers.py\", line 457, in _read\n",
      "    parser = TextFileReader(filepath_or_buffer, **kwds)\n",
      "  File \"C:\\Users\\NikonTE300CE\\miniconda3\\envs\\CEpy37\\lib\\site-packages\\pandas\\io\\parsers.py\", line 814, in __init__\n",
      "    self._engine = self._make_engine(self.engine)\n",
      "  File \"C:\\Users\\NikonTE300CE\\miniconda3\\envs\\CEpy37\\lib\\site-packages\\pandas\\io\\parsers.py\", line 1045, in _make_engine\n",
      "    return mapping[engine](self.f, **self.options)  # type: ignore[call-arg]\n",
      "  File \"C:\\Users\\NikonTE300CE\\miniconda3\\envs\\CEpy37\\lib\\site-packages\\pandas\\io\\parsers.py\", line 1862, in __init__\n",
      "    self._open_handles(src, kwds)\n",
      "  File \"C:\\Users\\NikonTE300CE\\miniconda3\\envs\\CEpy37\\lib\\site-packages\\pandas\\io\\parsers.py\", line 1357, in _open_handles\n",
      "    self.handles = get_handle(\n",
      "  File \"C:\\Users\\NikonTE300CE\\miniconda3\\envs\\CEpy37\\lib\\site-packages\\pandas\\io\\common.py\", line 639, in get_handle\n",
      "    handle = open(\n",
      "FileNotFoundError: [Errno 2] No such file or directory: 'C:\\\\Users\\\\NikonTE300CE\\\\Documents\\\\Data\\\\24C SCA 022821.csv'\n"
     ]
    }
   ],
   "source": [
    "# Run this when you have finished the last repetition\n",
    "file_path = r\"C:\\Users\\NikonTE300CE\\Documents\\Data\\24C SCA 022821.csv\" #str(auto_program.last_path)\n",
    "cell_notes = f'EK Injection: {voltage_level} kV, {injection_time} s, Pulses required: {pulses} \\n' + cell_notes\n",
    "threading.Thread(target=save_slides, args=(slide_show, file_path,last_lysis, None, cell_notes)).start()\n",
    "auto_program.last_path=None\n",
    "pulses=0"
   ]
  },
  {
   "cell_type": "code",
   "execution_count": 299,
   "metadata": {},
   "outputs": [],
   "source": [
    "# Save the presentation \n",
    "slide_show.save_presentation()"
   ]
  },
  {
   "cell_type": "code",
   "execution_count": 302,
   "metadata": {},
   "outputs": [],
   "source": [
    "ce_system.outlet_pressure.rinse_pressure()"
   ]
  },
  {
   "cell_type": "code",
   "execution_count": 303,
   "metadata": {},
   "outputs": [],
   "source": [
    "ce_system.outlet_pressure.release()"
   ]
  },
  {
   "cell_type": "code",
   "execution_count": 307,
   "metadata": {
    "scrolled": true
   },
   "outputs": [
    {
     "name": "stdout",
     "output_type": "stream",
     "text": [
      "After special True\n",
      "Time to wait is  120\n",
      "After special True\n",
      "Time to wait is  45\n"
     ]
    },
    {
     "name": "stderr",
     "output_type": "stream",
     "text": [
      "WARNING:root:No data to plot\n"
     ]
    },
    {
     "name": "stdout",
     "output_type": "stream",
     "text": [
      "After special True\n",
      "Time to wait is  45\n"
     ]
    },
    {
     "name": "stderr",
     "output_type": "stream",
     "text": [
      "C:\\Users\\NikonTE300CE\\Desktop\\Barracuda\\AutomatedCE\\L4\\DisplayWindows.py:277: UserWarning: Attempting to set identical left == right == 0.0 results in singular transformations; automatically expanding.\n",
      "  ax1.set_xlim(min(data['time_data']), max(data['time_data']))\n"
     ]
    },
    {
     "name": "stdout",
     "output_type": "stream",
     "text": [
      "After special True\n",
      "Time to wait is  45\n"
     ]
    },
    {
     "name": "stderr",
     "output_type": "stream",
     "text": [
      "WARNING:root:No data to plot\n"
     ]
    }
   ],
   "source": [
    "ce_system.objective.set_rel_z(-5)"
   ]
  },
  {
   "cell_type": "code",
   "execution_count": 456,
   "metadata": {},
   "outputs": [],
   "source": [
    "ce_system.outlet_pressure.seal()"
   ]
  },
  {
   "cell_type": "code",
   "execution_count": 53,
   "metadata": {},
   "outputs": [
    {
     "data": {
      "text/plain": [
       "0.8488835"
      ]
     },
     "execution_count": 53,
     "metadata": {},
     "output_type": "execute_result"
    }
   ],
   "source": [
    "ce_system.inlet_z.read_z()"
   ]
  },
  {
   "cell_type": "code",
   "execution_count": 37,
   "metadata": {
    "scrolled": true
   },
   "outputs": [],
   "source": [
    "ce_system.inlet_z.set_z(24)"
   ]
  }
 ],
 "metadata": {
  "kernelspec": {
   "display_name": "Python 3",
   "language": "python",
   "name": "python3"
  },
  "language_info": {
   "codemirror_mode": {
    "name": "ipython",
    "version": 3
   },
   "file_extension": ".py",
   "mimetype": "text/x-python",
   "name": "python",
   "nbconvert_exporter": "python",
   "pygments_lexer": "ipython3",
   "version": "3.7.9"
  }
 },
 "nbformat": 4,
 "nbformat_minor": 4
}
