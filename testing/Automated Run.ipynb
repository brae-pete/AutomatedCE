{
 "cells": [
  {
   "cell_type": "code",
   "execution_count": 1,
   "metadata": {},
   "outputs": [
    {
     "name": "stdout",
     "output_type": "stream",
     "text": [
      "new directory is: C:\\Users\\NikonTE300CE\\Desktop\\Barracuda\\AutomatedCE\n"
     ]
    },
    {
     "name": "stderr",
     "output_type": "stream",
     "text": [
      "WARNING:root:python2path is not a var in system_config.txt\n"
     ]
    },
    {
     "name": "stdout",
     "output_type": "stream",
     "text": [
      "C:\\Users\\NikonTE300CE\\Desktop\\Barracuda\\AutomatedCE\\L1\\MicroControlServer.py\n"
     ]
    },
    {
     "data": {
      "text/plain": [
       "<module 'L4.DisplayWindows' from 'C:\\\\Users\\\\NikonTE300CE\\\\Desktop\\\\Barracuda\\\\AutomatedCE\\\\L4\\\\DisplayWindows.py'>"
      ]
     },
     "execution_count": 1,
     "metadata": {},
     "output_type": "execute_result"
    }
   ],
   "source": [
    "import sys\n",
    "import os\n",
    "import numpy as np\n",
    "import time\n",
    "from imp import reload\n",
    "\n",
    "# Set the working directory to the AutomatedCE folder so we have access to L1-L4 modules\n",
    "resp = os.getcwd()\n",
    "if 'testing' in resp[-7:]:\n",
    "    os.chdir(os.path.abspath(os.path.join(os.getcwd(), '..')))\n",
    "    print(f\"new directory is: {os.getcwd()}\")\n",
    "import testing.inputs  \n",
    "reload(testing.inputs)\n",
    "from testing.inputs import *\n",
    "from L4 import DisplayWindows\n",
    "reload(DisplayWindows)"
   ]
  },
  {
   "cell_type": "markdown",
   "metadata": {},
   "source": [
    "## Step 1. Load the CE System with a Config File\n",
    "\n",
    "Select one of the predesigned configurations (TE300, Eclipse Ti, Simulation). See an example config under \"/config/test-system.cfg\". \n",
    "\n",
    "Change the variable CONFIG_PATH to the absolute path where the config file resides. \n",
    "\n",
    "Be sure to make the string a raw string by prepending *'r'*. **Example:** r\"C:\\path\\to\\config\\\"*\n",
    "\n",
    "If you get an error, you must restart the kernel before re-running. "
   ]
  },
  {
   "cell_type": "code",
   "execution_count": 2,
   "metadata": {},
   "outputs": [
    {
     "name": "stdout",
     "output_type": "stream",
     "text": [
      "{'outlet_pressure': <L2.PressureControl.ArduinoPressure object at 0x00000207E9F23988>, 'xy_stage': <L2.XYControl.PriorXY object at 0x00000207CF1C3FC8>, 'objective': <L2.ZControl.PriorZ object at 0x00000207E9F23A48>, 'outlet_z': <L2.ZControl.ArduinoZ object at 0x00000207E9F23AC8>, 'inlet_rgb': <L2.LightControl.RGBArduino object at 0x00000207E9F239C8>, 'inlet_z': <L2.ZControl.KinesisZ object at 0x00000207E9F23BC8>, 'high_voltage': <L2.HighVoltageControl.SpellmanPowerSupply object at 0x00000207E9F23A08>, 'camera': <L2.CameraControl.PycromanagerControl object at 0x00000207E9F23D08>, 'detector': <L2.DetectorControl.PhotomultiplierDetector object at 0x00000207E9F18788>, 'excitation_wheel': <L2.FilterWheelControl.LumencorFilter object at 0x00000207E9F29408>, 'filter_wheel': <L2.FilterWheelControl.PriorFilter object at 0x00000207E9F29648>}\n",
      "OPENING:  ard1 <L1.Controllers.ArduinoController object at 0x00000207CC71EE08> using port: COM8\n",
      "OPENING:  pr1 <L1.Controllers.PriorController object at 0x00000207CD6F1188> using port: COM4\n",
      "OPENING:  mmc1 <L1.Controllers.PycromanagerController object at 0x00000207CD6F1688> using port: pycromanager\n",
      "OPENING:  daq1 <L1.DAQControllers.NiDaq object at 0x00000207CC71EF48>\n",
      "OPENING:  ks1 <L1.Controllers.SimulatedController object at 0x00000207CC71E6C8> using port: 49125264\n",
      "OPENING:  lmn <L1.Controllers.LumencorController object at 0x00000207E9E8C288> using port: COM7\n",
      "Starting up: outlet_pressure, <L2.PressureControl.ArduinoPressure object at 0x00000207E9F23988>\n",
      "Starting up: xy_stage, <L2.XYControl.PriorXY object at 0x00000207CF1C3FC8>\n",
      "Starting up: objective, <L2.ZControl.PriorZ object at 0x00000207E9F23A48>\n",
      "Starting up: outlet_z, <L2.ZControl.ArduinoZ object at 0x00000207E9F23AC8>\n",
      "Starting up: inlet_rgb, <L2.LightControl.RGBArduino object at 0x00000207E9F239C8>\n",
      "Starting up: inlet_z, <L2.ZControl.KinesisZ object at 0x00000207E9F23BC8>\n",
      "Starting up: high_voltage, <L2.HighVoltageControl.SpellmanPowerSupply object at 0x00000207E9F23A08>\n",
      "Starting up: camera, <L2.CameraControl.PycromanagerControl object at 0x00000207E9F23D08>\n",
      "Starting up: detector, <L2.DetectorControl.PhotomultiplierDetector object at 0x00000207E9F18788>\n",
      "Starting up: excitation_wheel, <L2.FilterWheelControl.LumencorFilter object at 0x00000207E9F29408>\n",
      "Starting up: filter_wheel, <L2.FilterWheelControl.PriorFilter object at 0x00000207E9F29648>\n"
     ]
    }
   ],
   "source": [
    "CONFIG_PATH = r\"C:\\Users\\NikonTE300CE\\Desktop\\Barracuda\\AutomatedCE\\var\\TE300.cfg\"\n",
    "from L3 import SystemsBuilder\n",
    "reload(SystemsBuilder)\n",
    "\n",
    "ce_system = SystemsBuilder.CESystem()\n",
    "\n",
    "ce_system.load_config(CONFIG_PATH)\n",
    "ce_system.open_controllers()\n",
    "ce_system.startup_utilities()\n",
    "\n"
   ]
  },
  {
   "cell_type": "code",
   "execution_count": 3,
   "metadata": {},
   "outputs": [
    {
     "data": {
      "text/plain": [
       "'R:Off, G:Off, B:On'"
      ]
     },
     "execution_count": 3,
     "metadata": {},
     "output_type": "execute_result"
    }
   ],
   "source": [
    "# For TE300 only \n",
    "ce_system.inlet_rgb.turn_off_channel('R')\n",
    "ce_system.inlet_rgb.turn_on_channel('B')"
   ]
  },
  {
   "cell_type": "markdown",
   "metadata": {},
   "source": [
    "# Step 2. Prepare the Capillary for Electrophoresis\n",
    "\n",
    "We need to prep the capillary for CE. This involves rinsing the capillary surface and removing contaminants as well as re-establsihing a deprotonated silanol layer. We also need to align the capillary with detection objective. \n",
    "\n",
    "### Step 2.1 Rinse the capillary (Repeatable)\n",
    "\n",
    "Rinse the capillary according to your method. A good place to start is 10 min with HCl, 30 min with NaOH, 2 min with water. If this is your first rinse of the day,rinse with an empty vial first to make sure there are no leaks on the outlet side of the apparatus. "
   ]
  },
  {
   "cell_type": "code",
   "execution_count": 16,
   "metadata": {},
   "outputs": [],
   "source": [
    "# Start Rinse\n",
    "ce_system.outlet_pressure.rinse_pressure()"
   ]
  },
  {
   "cell_type": "code",
   "execution_count": 17,
   "metadata": {},
   "outputs": [],
   "source": [
    "# Stop Rinse \n",
    "ce_system.outlet_pressure.release()"
   ]
  },
  {
   "cell_type": "markdown",
   "metadata": {},
   "source": [
    "### Step 2.2 Align the capillary with fluorescein. \n",
    "\n",
    "Place a vial with 125 nM fluorescein in the outlet. Once the pressure is rinsing adjust the capillary position using the two set screws as well as the adjustable objective collar until the signal is maximized for the detector being used. (PMT gain voltage should be set to 250 mV, or the lowest setting with appreciable gain). "
   ]
  },
  {
   "cell_type": "code",
   "execution_count": 21,
   "metadata": {},
   "outputs": [
    {
     "name": "stderr",
     "output_type": "stream",
     "text": [
      "WARNING:root:No data to plot\n"
     ]
    }
   ],
   "source": [
    "# Run the CE View\n",
    "from L4 import DisplayWindows\n",
    "reload(DisplayWindows)\n",
    "%matplotlib qt\n",
    "ce_disp = DisplayWindows.PLTCEDisplay(ce_system)\n",
    "ce_disp.show()\n",
    "ce_system.detector.start()\n",
    "ce_disp.start_live_view()"
   ]
  },
  {
   "cell_type": "code",
   "execution_count": 22,
   "metadata": {},
   "outputs": [
    {
     "name": "stdout",
     "output_type": "stream",
     "text": [
      "Is fluorescein in the outlet and ready to be rinsed with? y\n",
      "Adjust the capillary inlet while maximizing the signal\n"
     ]
    }
   ],
   "source": [
    "resp = get_yes_no(\"Is fluorescein in the outlet and ready to be rinsed with?\")\n",
    "\n",
    "if resp:\n",
    "    ce_system.outlet_pressure.rinse_pressure()\n",
    "    print(\"Adjust the capillary inlet while maximizing the signal\")\n",
    "if not resp:\n",
    "    print(\"Please insert the fluorscein in the outlet, then re-run this cell.\")"
   ]
  },
  {
   "cell_type": "markdown",
   "metadata": {},
   "source": [
    "When finished. Record the maximum signal, along with the detector used, its gain setting (or bias when using SiPM), and the fluorescein concentration in the calibration log (located on the desktop). \n",
    "\n",
    "Run the next cell to stop the pressure rinse. "
   ]
  },
  {
   "cell_type": "code",
   "execution_count": 23,
   "metadata": {},
   "outputs": [],
   "source": [
    "ce_system.outlet_pressure.release()"
   ]
  },
  {
   "cell_type": "markdown",
   "metadata": {},
   "source": [
    "### Step 2.2 Post Fluorescein Rinse\n",
    "\n",
    "Take a vial and add close to 4 mL of H20. Insert it into the outlet and then remove it. This removes any residual Fluorescein from the capillary, electrode, or other surfaces.  \n",
    "\n",
    "Repeat with a second vial, with liquid slightly higher or the same height. \n",
    "\n",
    "Finally switch with separation buffer and rinse for 10 min. "
   ]
  },
  {
   "cell_type": "code",
   "execution_count": 15,
   "metadata": {},
   "outputs": [
    {
     "name": "stdout",
     "output_type": "stream",
     "text": [
      "Have you done the pre-fluorescein rinses? y\n",
      "Is the separation buffer placed in the outlet? y\n",
      "Run the next cell when finished\n"
     ]
    }
   ],
   "source": [
    "resp = get_yes_no(\"Have you done the pre-fluorescein rinses?\")\n",
    "if not resp:\n",
    "    print(\"Please follow instructions in step 2.2\")\n",
    "else:\n",
    "    resp = get_yes_no(\"Is the separation buffer placed in the outlet?\")\n",
    "    if resp:\n",
    "        ce_system.outlet_pressure.rinse_pressure()\n",
    "        print(\"Run the next cell when finished\")\n",
    "    else:\n",
    "        print(\"Please place the separation buffer in the outlet before rinsing.\")"
   ]
  },
  {
   "cell_type": "code",
   "execution_count": 16,
   "metadata": {},
   "outputs": [],
   "source": [
    "ce_system.outlet_pressure.release()"
   ]
  },
  {
   "cell_type": "markdown",
   "metadata": {},
   "source": [
    "# Step 3. Calibrate the Capillary Inlet\n",
    "\n",
    "The method for calibration depends on the z-stage used to raise the capillary inlet. Select the correct route for the hardware employed. "
   ]
  },
  {
   "cell_type": "markdown",
   "metadata": {},
   "source": [
    "## Thorlabs Kinesis Z Stage\n",
    "\n",
    "### Step 3.1 Lower the Capillary (thorlabs)\n",
    "Move the capillary to a safe location where it will not be crushed if the stage lowers too far. Using the controls on the Z-stage itself, lower the capillary till as far as it will go. \n"
   ]
  },
  {
   "cell_type": "code",
   "execution_count": 17,
   "metadata": {},
   "outputs": [
    {
     "name": "stdout",
     "output_type": "stream",
     "text": [
      "Have you lowered the Kinesis Z stage to its lowest position? (y/n):   y\n",
      "Proceed to the next cell.\n"
     ]
    }
   ],
   "source": [
    "resp = get_yes_no(\"Have you lowered the Kinesis Z stage to its lowest position? (y/n):  \")\n",
    "if not resp:\n",
    "    print(\"Please make sure the Kinesis stage is lowered to its lowest position before continuing\")\n",
    "else:\n",
    "    print(\"Proceed to the next cell.\")\n",
    "    "
   ]
  },
  {
   "cell_type": "markdown",
   "metadata": {},
   "source": [
    "### Step 3.2 Home the Capillary (thorlabs)\n",
    "\n",
    "Thorlabs needs to register the home position. In the next cell we will call the go_home command to home the capillary. "
   ]
  },
  {
   "cell_type": "code",
   "execution_count": 6,
   "metadata": {},
   "outputs": [],
   "source": [
    "ce_system.inlet_z.homing()"
   ]
  },
  {
   "cell_type": "markdown",
   "metadata": {},
   "source": [
    "### Step 3.1 (Arduino/Optics-Focus)\n",
    "The optics focus moves the capillary all the way up during the home step. Once this is done, move the capillary to a safe position and lower (with 1-5mm increments) until the capillary is at 0 mm. "
   ]
  },
  {
   "cell_type": "code",
   "execution_count": 12,
   "metadata": {},
   "outputs": [],
   "source": [
    "ce_system.inlet_z.set_rel_z(-5)"
   ]
  },
  {
   "cell_type": "code",
   "execution_count": 4,
   "metadata": {},
   "outputs": [],
   "source": [
    "ce_system.inlet_z.set_z(0)"
   ]
  },
  {
   "cell_type": "code",
   "execution_count": null,
   "metadata": {},
   "outputs": [],
   "source": [
    "resp = get_yes_no(\"Have you lowered the Arduino Z stage to 0 mm? (y/n):  \")\n",
    "if not resp:\n",
    "    print(\"Please make sure the Aduino stage is lowered to 1 mm position before continuing\")\n",
    "else:\n",
    "    print(\"Proceed to the step 3.3 \")"
   ]
  },
  {
   "cell_type": "markdown",
   "metadata": {},
   "source": [
    "### Step 3.3 Adjust Capillary Position (all stages)\n",
    "\n",
    "Adjust the capillary position by sliding the detection apparatus up or down the optical support post. The capillary should be level with the bottom of the template for single-cell assays, or the top-of the template for well-based assays. \n",
    "\n",
    "*Aligning to the top of the template is a minor safety feature to prevent the user from sending the capillary to Zero position unexpetedly and crashing the capillary against the bottom of the template. However, capillary needs to be able to reach at least the glass slide of the cell reservoir for single-cell assays*\n"
   ]
  },
  {
   "cell_type": "code",
   "execution_count": 19,
   "metadata": {},
   "outputs": [
    {
     "name": "stdout",
     "output_type": "stream",
     "text": [
      "Have you adjusted the capillary height manually so that it is flush (level) with the top or bottom of the template? (y/n):   y\n",
      "Proceed to the next cell\n"
     ]
    }
   ],
   "source": [
    "resp = get_yes_no(\"Have you adjusted the capillary height manually so that it is flush (level) with the top or bottom of the template? (y/n):  \")\n",
    "if not resp:\n",
    "    print(\"Please make sure the capillary is moved to the correct height with respect to the template before continuing\")\n",
    "else:\n",
    "    print(\"Proceed to the next cell\")"
   ]
  },
  {
   "cell_type": "markdown",
   "metadata": {},
   "source": [
    "### Step 3.4 Raise the capillary to a safe height\n",
    "\n",
    "The next cell will raise the capillary height to a location where it ***should*** be safe for any XY movements. Verify the capillary will not crash at this new height. "
   ]
  },
  {
   "cell_type": "code",
   "execution_count": 6,
   "metadata": {},
   "outputs": [
    {
     "name": "stdout",
     "output_type": "stream",
     "text": [
      "Please enter a safe height to move the stage to:  35\n",
      "Is the capillary at a safe location?:  y\n",
      "Continue to next step\n"
     ]
    }
   ],
   "source": [
    "target_z = get_float(\"Please enter a safe height to move the stage to: \")\n",
    "# Move the capillary up and wait for it to stop\n",
    "ce_system.inlet_z.set_z(target_z)\n",
    "ce_system.inlet_z.wait_for_target(target_z)\n",
    "\n",
    "resp = get_yes_no(\"Is the capillary at a safe location?: \")\n",
    "if resp:\n",
    "    print(\"Continue to next step\")\n",
    "else:\n",
    "    print(\"Please raise the capillary to an appropriate height\")"
   ]
  },
  {
   "cell_type": "markdown",
   "metadata": {},
   "source": [
    "# Step 4. Home the XY Stage\n",
    "\n",
    "This next step provides the calibration for the XY axis for the XY stage and capillary inlet. \n"
   ]
  },
  {
   "cell_type": "markdown",
   "metadata": {},
   "source": [
    "### Step 4.1 (TE300, Prior)\n",
    "\n",
    "The TE300 does not have the encoders wired to tell it where absolute 0,0 is. Thus, we need to tell the microcontroller where 0,0 is for each template. The home position will likely vary as you switch templates and you may need to investigate the template.txt file for the template you plan to use. \n",
    "\n",
    "1. Move the template's home well (0,0) over the objective using the motorized XY stage\n",
    "2. Align the capillary over the well or the objective\n"
   ]
  },
  {
   "cell_type": "code",
   "execution_count": 22,
   "metadata": {},
   "outputs": [
    {
     "name": "stdout",
     "output_type": "stream",
     "text": [
      "Is the capillary aligned with the objective and home well? y\n",
      "holo?\n",
      "Home set at this position.\n",
      "Continue to next step\n"
     ]
    }
   ],
   "source": [
    "resp = get_yes_no(\"Is the capillary aligned with the objective and home well?\")\n",
    "if resp:\n",
    "    ce_system.xy_stage.set_home()\n",
    "    print(\"Home set at this position.\")\n",
    "    print(\"Continue to next step\")\n",
    "else:\n",
    "    print(\"Please raise align the capillary with the objective\")   \n"
   ]
  },
  {
   "cell_type": "markdown",
   "metadata": {},
   "source": [
    "### Step 4.1 (Nikon Eclipse)\n",
    "\n",
    "The nikon eclipse has a home position defined to the center of the template. It is best to use this as the home position. For the capillary alignment, align the capillary concentrically with the objective. The capillary should be within 0.5 mm of the center of the objective if using PCR tubes at any point. "
   ]
  },
  {
   "cell_type": "code",
   "execution_count": 23,
   "metadata": {},
   "outputs": [
    {
     "name": "stdout",
     "output_type": "stream",
     "text": [
      "Is the capillary aligned with the objective? y\n",
      "Continue to next step\n"
     ]
    }
   ],
   "source": [
    "resp = get_yes_no(\"Is the capillary aligned with the objective?\")\n",
    "if resp:\n",
    "    print(\"Continue to next step\")\n",
    "else:\n",
    "    print(\"Please raise align the capillary with the objective\")"
   ]
  },
  {
   "cell_type": "markdown",
   "metadata": {},
   "source": [
    "# Step 5 Verify your calibration\n",
    "\n",
    "Steps 3-4 calibrate the capillaries position with the microscope's position. Now we need to verify that our alignment is correct. To do this we will move the capillary to a well and make sure that it is centered over the well. Then we will lower the capillary to a height specified by the method to make sure the capillary can reach the liquid. \n"
   ]
  },
  {
   "cell_type": "markdown",
   "metadata": {},
   "source": [
    "### Step 5.1. Load the Template File\n",
    "\n",
    "The template file tells the program where to move the XY stage for each well as well as how high to raise the capillary inlet during a move. Change the variable TEMPLATE_PATH to the absolute path where the template.txt file resides. "
   ]
  },
  {
   "cell_type": "code",
   "execution_count": 4,
   "metadata": {},
   "outputs": [],
   "source": [
    "TEMPLATE_PATH = r\"C:\\Users\\NikonTE300CE\\Desktop\\Barracuda\\AutomatedCE\\var\\TE300CellChamber.txt\"\n",
    "from L4 import AutomatedControl\n",
    "from L4 import Trajectory\n",
    "reload(AutomatedControl)\n",
    "reload(Trajectory)\n",
    "\n",
    "\n",
    "auto_program = AutomatedControl.AutoRun(ce_system)\n",
    "auto_program.set_template(TEMPLATE_PATH)"
   ]
  },
  {
   "cell_type": "code",
   "execution_count": null,
   "metadata": {},
   "outputs": [],
   "source": [
    "m =auto_program._queue.get()"
   ]
  },
  {
   "cell_type": "markdown",
   "metadata": {},
   "source": [
    "### Step 5.2 Raise the capillary to a safe height "
   ]
  },
  {
   "cell_type": "code",
   "execution_count": 5,
   "metadata": {},
   "outputs": [
    {
     "name": "stdout",
     "output_type": "stream",
     "text": [
      "Set the capillary to a safe travel height:  35\n",
      "Proceed to next cell\n"
     ]
    }
   ],
   "source": [
    "z = get_float(\"Set the capillary to a safe travel height: \")\n",
    "ce_system.inlet_z.set_z(z)\n",
    "print(\"Proceed to next cell\")"
   ]
  },
  {
   "cell_type": "markdown",
   "metadata": {},
   "source": [
    "\n",
    "### Step 5.2 Center the Capillary over a well"
   ]
  },
  {
   "cell_type": "code",
   "execution_count": 173,
   "metadata": {},
   "outputs": [
    {
     "name": "stdout",
     "output_type": "stream",
     "text": [
      "Please enter the well name to move to (press enter to see a list): w_e0\n",
      "Please move the capillary using the fine adjustment knobs, or the z-stage base so that capillary is centered over this well.y\n"
     ]
    }
   ],
   "source": [
    "name = get_value(\"Please enter the well name to move to (press enter to see a list): \", auto_program.template.wells.keys())\n",
    "well = auto_program.template.wells[name]\n",
    "ce_system.xy_stage.set_xy(well.xy)\n",
    "resp = input(\"Please move the capillary using the fine adjustment knobs, or the z-stage base so that capillary is centered over this well.\")\n"
   ]
  },
  {
   "cell_type": "markdown",
   "metadata": {},
   "source": [
    "### Step 5.3 Lower the capillary to the height described in the method file\n"
   ]
  },
  {
   "cell_type": "code",
   "execution_count": 9,
   "metadata": {},
   "outputs": [
    {
     "name": "stdout",
     "output_type": "stream",
     "text": [
      "What height should the capillary be lowered to? 1\n",
      "Is the capillary touching the liquid in this well?  y\n",
      "Calibration Finished\n"
     ]
    }
   ],
   "source": [
    "height_z = get_float(\"What height should the capillary be lowered to?\")\n",
    "prev_height = ce_system.inlet_z.read_z()\n",
    "ce_system.inlet_z.set_z(height_z)\n",
    "resp = get_yes_no(\"Is the capillary touching the liquid in this well? \")\n",
    "if not resp:\n",
    "    print(\"Adjust the height of the capillary manually (and carefully!) so that the capillary is touching the liquid\")\n",
    "else:\n",
    "    print(\"Calibration Finished\")\n",
    "ce_system.inlet_z.set_z(prev_height)"
   ]
  },
  {
   "cell_type": "markdown",
   "metadata": {},
   "source": [
    "Optional> \n",
    "Read out the height you are currently at..."
   ]
  },
  {
   "cell_type": "code",
   "execution_count": 8,
   "metadata": {},
   "outputs": [
    {
     "name": "stdout",
     "output_type": "stream",
     "text": [
      "You are at 27.76678 mm\n"
     ]
    }
   ],
   "source": [
    "print(\"You are at {} mm\".format(ce_system.inlet_z.read_z()))\n"
   ]
  },
  {
   "cell_type": "code",
   "execution_count": 9,
   "metadata": {},
   "outputs": [
    {
     "name": "stdout",
     "output_type": "stream",
     "text": [
      "Would you like to lower the capillary? n\n"
     ]
    }
   ],
   "source": [
    "resp = get_yes_no(\"Would you like to lower the capillary?\")\n",
    "if resp:\n",
    "    resp = get_float(\"What would you like to lower it to?\")\n",
    "    ce_system.inlet_z.set_z(resp)\n",
    "else:\n",
    "    pass"
   ]
  },
  {
   "cell_type": "markdown",
   "metadata": {},
   "source": [
    "# Step 6. Load a method\n",
    "\n",
    "Load a method file. Verify your method file in excel and make sure the run is set up as intended. You can add multiple files to the same auto_program\n"
   ]
  },
  {
   "cell_type": "code",
   "execution_count": 5,
   "metadata": {},
   "outputs": [],
   "source": [
    "auto_program.methods=[]"
   ]
  },
  {
   "cell_type": "code",
   "execution_count": 6,
   "metadata": {
    "scrolled": true
   },
   "outputs": [
    {
     "name": "stderr",
     "output_type": "stream",
     "text": [
      "WARNING:root:Adding step separate\tw_a1, w_a2, w_a3, w_a4, w_a5, w_a6, w_a7, w_b0, w_b1, w_b2, w_b3, w_b4, w_b5, w_b6, w_b7\t24 cm\t0 mm\t0\t0\t20 kV\t200 s\t\t1\n",
      "WARNING:root:Adding step collect\tw_a1, w_a2, w_a3, w_a4, w_a5, w_a6, w_a7, w_b0, w_b1, w_b2, w_b3, w_b4, w_b5, w_b6, w_b7\t24 cm\t0 mm\t1\t0\t0 kV\t30 s\t\t0\n",
      "WARNING:root:Adding step hypo_rinse\tw_e0\t24 cm\t5 mm\t0\t1\t0\t50 s\t\t0\n",
      "WARNING:root:Adding step wait\tw_e0\t24 cm\t5 mm\t0\t0\t0\t30 s\t\t0\n",
      "WARNING:root:Adding step buffer_rinse\tw_e1\t24 cm\t5 mm\t1\t0\t0\t60 s\t\t0\n",
      "WARNING:root:Adding step wait\tcells\t24 cm\t5 mm\t0\t0\t0\t3 s\twait\t0\n"
     ]
    },
    {
     "name": "stdout",
     "output_type": "stream",
     "text": [
      "WHASSUZ ['separate\\tw_a1, w_a2, w_a3, w_a4, w_a5, w_a6, w_a7, w_b0, w_b1, w_b2, w_b3, w_b4, w_b5, w_b6, w_b7\\t24 cm\\t0 mm\\t0\\t0\\t20 kV\\t200 s\\t\\t1', 'collect\\tw_a1, w_a2, w_a3, w_a4, w_a5, w_a6, w_a7, w_b0, w_b1, w_b2, w_b3, w_b4, w_b5, w_b6, w_b7\\t24 cm\\t0 mm\\t1\\t0\\t0 kV\\t30 s\\t\\t0', 'hypo_rinse\\tw_e0\\t24 cm\\t5 mm\\t0\\t1\\t0\\t50 s\\t\\t0', 'wait\\tw_e0\\t24 cm\\t5 mm\\t0\\t0\\t0\\t30 s\\t\\t0', 'buffer_rinse\\tw_e1\\t24 cm\\t5 mm\\t1\\t0\\t0\\t60 s\\t\\t0', 'wait\\tcells\\t24 cm\\t5 mm\\t0\\t0\\t0\\t3 s\\twait\\t0']\n",
      "ADDING\n",
      "ADDING\n",
      "ADDING\n",
      "ADDING\n",
      "ADDING\n",
      "ADDING\n"
     ]
    }
   ],
   "source": [
    "file_to_add = r\"C:\\Users\\NikonTE300CE\\Desktop\\Barracuda\\AutomatedCE\\var\\Mani\\SingleCellCollectionDNA.txt\"\n",
    "auto_program.add_method(file_to_add)"
   ]
  },
  {
   "cell_type": "code",
   "execution_count": 7,
   "metadata": {},
   "outputs": [],
   "source": [
    "auto_program.repetitions=15"
   ]
  },
  {
   "cell_type": "markdown",
   "metadata": {},
   "source": [
    "If you need to reset the methods (remove and start over) run the next cell"
   ]
  },
  {
   "cell_type": "markdown",
   "metadata": {},
   "source": [
    "### Step 6.2  Run your method (repeatable)\n",
    "\n",
    "When you are ready to start your method, run the next cell. "
   ]
  },
  {
   "cell_type": "code",
   "execution_count": 8,
   "metadata": {
    "scrolled": true
   },
   "outputs": [
    {
     "name": "stderr",
     "output_type": "stream",
     "text": [
      "WARNING:root:No data to plot\n",
      "WARNING:root:No data to plot\n",
      "WARNING:root:No data to plot\n",
      "WARNING:root:No data to plot\n",
      "WARNING:root:No data to plot\n",
      "WARNING:root:No data to plot\n",
      "WARNING:root:No data to plot\n"
     ]
    }
   ],
   "source": [
    "%matplotlib qt\n",
    "\n",
    "ce_gram = DisplayWindows.PLTCEDisplay(ce_system)\n",
    "#ce_disp.stop()\n",
    "#ce_disp.show()\n",
    "ce_gram.start_live_view()\n"
   ]
  },
  {
   "cell_type": "code",
   "execution_count": 179,
   "metadata": {
    "scrolled": false
   },
   "outputs": [
    {
     "name": "stdout",
     "output_type": "stream",
     "text": [
      "After special True\n",
      "Time to wait is  50\n",
      "After special True\n",
      "Time to wait is  30\n",
      "After special True\n",
      "Time to wait is  60\n"
     ]
    }
   ],
   "source": [
    "auto_program.start_run()"
   ]
  },
  {
   "cell_type": "code",
   "execution_count": 48,
   "metadata": {},
   "outputs": [
    {
     "name": "stderr",
     "output_type": "stream",
     "text": [
      "ERROR:root:ERR: <class 'L2.LaserControl.LaserAbstraction'> did not stop. \n",
      " type object 'LaserAbstraction' has no attribute 'stop'\n"
     ]
    }
   ],
   "source": [
    "auto_program.stop_run()"
   ]
  },
  {
   "cell_type": "markdown",
   "metadata": {},
   "source": [
    "### 6.3 Manual Single Cell Methods\n",
    "\n",
    "For a manual single cell run, the method assumes the user will start the program after the cell as been loaded. The first step of the method should be the first step you want to perform following lysing and loading a cell into the capillary (ie. separation step). The method should end at the well where the cells are plated, or wherever you would like to regain manual control over the instrument. \n",
    "\n",
    "The injection/loading of the cell can be done in two ways. In either case at the start of the next cell are a few parameters for you to specify: **injection time, delay, gravity drop, and voltage level**. \n",
    "1. **Injection time** refers to how long the injection should last and is only applied in methods 6.3a. \n",
    "1. **Delay** is the amount of time to delay the injection steps after running the cell, the word 'Fire' will be printed once the delay is finished.\n",
    "1. **Gravity drop** is how far to lower the outlet in mm from its current position. \n",
    "1. **Voltage level** is the amount of voltage to apply. \n",
    "\n",
    "In the first way the cell is loaded using a preset amount of time. The injection volume will be much more consistent, but if the cell is not loaded, the user will either choose to run a blank (no cell), rinse the capillary to remove the ECB, or start the auto-method. \n",
    "\n",
    "The second way, the loading parameters are held till the user presses the space-bar to continue the run. The injection volume may change run to run, but the user decides when to stop which means a higher likely-hood over loading a cell (at the expense of possible greater de-stacking. \n",
    "\n",
    "\n",
    "\n"
   ]
  },
  {
   "cell_type": "code",
   "execution_count": 18,
   "metadata": {},
   "outputs": [
    {
     "name": "stdout",
     "output_type": "stream",
     "text": [
      "HEYYOO\n"
     ]
    }
   ],
   "source": [
    "ce_disp = DisplayWindows.PLTMicroscopeDisplay(ce_system)\n",
    "%matplotlib qt\n",
    "ce_system.camera.stop()\n",
    "ce_disp.show()\n",
    "ce_disp.live_image()"
   ]
  },
  {
   "cell_type": "code",
   "execution_count": 9,
   "metadata": {},
   "outputs": [
    {
     "data": {
      "text/plain": [
       "True"
      ]
     },
     "execution_count": 9,
     "metadata": {},
     "output_type": "execute_result"
    }
   ],
   "source": [
    "ce_system.camera.stop()\n"
   ]
  },
  {
   "cell_type": "markdown",
   "metadata": {},
   "source": [
    "### Calibrate the Capillary for Single Cell Injections\n",
    "\n",
    "First we need to find the difference in height between the capillary and the objective. Bring cells into focus. When they are in focus run the next cell. "
   ]
  },
  {
   "cell_type": "code",
   "execution_count": 20,
   "metadata": {},
   "outputs": [],
   "source": [
    "# BRAE ONLY\n",
    "ce_system.objective.set_z(0.0)"
   ]
  },
  {
   "cell_type": "code",
   "execution_count": 21,
   "metadata": {},
   "outputs": [],
   "source": [
    "# Move the objective to the height and run this cell to record it for next time\n",
    "obj_height = ce_system.objective.read_z()\n",
    "ce_system.objective.max_z=1000000\n",
    "#ce_system.objective.set_rel_z(+.00)\n",
    "ce_system.objective.set_rel_z(+.03)"
   ]
  },
  {
   "cell_type": "markdown",
   "metadata": {},
   "source": [
    "The objective automatically moved up 50 microns, so now slowly lower the capillary until the capillary is in focus. It is best to lower the capillary in small increments (100 microns) once the capillary tip is touching the liquid of the cell chamber. \n",
    "Move to even smaller increments when the capillary is in view. "
   ]
  },
  {
   "cell_type": "code",
   "execution_count": 249,
   "metadata": {},
   "outputs": [
    {
     "name": "stdout",
     "output_type": "stream",
     "text": [
      "Do you really want to raise/lower the capillary? y\n",
      "Height before move 6.019482\n"
     ]
    }
   ],
   "source": [
    "resp=get_yes_no(\"Do you really want to raise/lower the capillary?\")\n",
    "if resp:\n",
    "    print(\"Height before move {}\".format(ce_system.inlet_z.read_z()))\n",
    "    # Set the capillary to 5 mm above 0 (5mm above bottom) \n",
    "    ce_system.inlet_z.set_z(3)"
   ]
  },
  {
   "cell_type": "code",
   "execution_count": 125,
   "metadata": {},
   "outputs": [],
   "source": [
    "ce_system.inlet_z.set_rel_z(+.001)"
   ]
  },
  {
   "cell_type": "code",
   "execution_count": 30,
   "metadata": {},
   "outputs": [],
   "source": [
    "# Cell is left intentially blank in case you double run a cell. "
   ]
  },
  {
   "cell_type": "markdown",
   "metadata": {},
   "source": [
    "Once the capillary is in focus, run the next cell"
   ]
  },
  {
   "cell_type": "code",
   "execution_count": 126,
   "metadata": {},
   "outputs": [],
   "source": [
    "# and record this height for next time \n",
    "cap_height = ce_system.inlet_z.read_z()\n",
    "cap_difference = obj_height - cap_height\n",
    "\n",
    "def get_cap_height(obj_height, cap_difference):\n",
    "    cap_height = obj_height - cap_difference\n",
    "    return cap_height"
   ]
  },
  {
   "cell_type": "markdown",
   "metadata": {},
   "source": [
    "# Repeatable Single Cell Commands\n"
   ]
  },
  {
   "cell_type": "markdown",
   "metadata": {},
   "source": [
    "### 6.3a Injection Time Limited Loading\n",
    "\n",
    "Run the following block when the cell is ready to by lysed and loaded. \n",
    "\n",
    "**For the eclipse system you will have to manually press the fire button after running the cell"
   ]
  },
  {
   "cell_type": "code",
   "execution_count": 17,
   "metadata": {},
   "outputs": [],
   "source": [
    "ce_system.objective.set_z(0.0)"
   ]
  },
  {
   "cell_type": "code",
   "execution_count": 128,
   "metadata": {},
   "outputs": [
    {
     "name": "stdout",
     "output_type": "stream",
     "text": [
      "are the cells in focus? (You may crush the capillary if not...) y\n",
      "0.0844\n"
     ]
    }
   ],
   "source": [
    "# on reruns, you just need to run this command when you have the cells in focus\n",
    "resp = get_yes_no(\"are the cells in focus? (You may crush the capillary if not...)\")\n",
    "if resp:\n",
    "    obj_height = ce_system.objective.read_z()\n",
    "    print(obj_height)\n",
    "    cap_z = get_cap_height(obj_height, cap_difference)\n",
    "    z = ce_system.inlet_z.read_z()\n",
    "    rel_z = cap_z-z\n",
    "    rel_z += 0.02\n",
    "    ce_system.inlet_z.set_rel_z(rel_z)\n",
    "else:\n",
    "    print(\"Bring cells into focus.\")"
   ]
  },
  {
   "cell_type": "code",
   "execution_count": 129,
   "metadata": {},
   "outputs": [],
   "source": [
    "# Raise the objective by 35 microns for optimal plasma formation\n",
    "ce_system.objective.set_rel_z(+0.015)"
   ]
  },
  {
   "cell_type": "code",
   "execution_count": 326,
   "metadata": {},
   "outputs": [],
   "source": [
    "# Lower the capillary till it is in focus with the cells (40 microns should be close but may need to adjust)\n",
    "ce_system.inlet_z.set_rel_z(+0.01)"
   ]
  },
  {
   "cell_type": "code",
   "execution_count": 212,
   "metadata": {},
   "outputs": [],
   "source": [
    "ce_system.inlet_z.set_rel_z(-.01)"
   ]
  },
  {
   "cell_type": "markdown",
   "metadata": {},
   "source": [
    "Once the capillary has been lowered, adjust these injection parameters if needed. "
   ]
  },
  {
   "cell_type": "code",
   "execution_count": 130,
   "metadata": {},
   "outputs": [],
   "source": [
    "# General Injection Parameters\n",
    "injection_time = 5 # in seconds\n",
    "gravity_drop = 0 # in millimeters\n",
    "voltage_level = 10 # in kilovolts\n",
    "delay = 1 # inseconds"
   ]
  },
  {
   "cell_type": "markdown",
   "metadata": {},
   "source": [
    "When ready to lyse a cell, run the following cell. When the cell prints out 'Fire' press the lysis button. Continue to press the button until you are confident there was a cavitation bubble. "
   ]
  },
  {
   "cell_type": "code",
   "execution_count": 131,
   "metadata": {},
   "outputs": [
    {
     "name": "stdout",
     "output_type": "stream",
     "text": [
      "Fire\n",
      "Finished 5.013099908828735\n"
     ]
    }
   ],
   "source": [
    "import threading\n",
    "\n",
    "\n",
    "def limited_fire(ce_system, gravity_drop, voltage_level, injection_time):\n",
    "    time.sleep(delay)\n",
    "    print('Fire')\n",
    "    ce_system.outlet_z.set_rel_z(-gravity_drop)\n",
    "    ce_system.high_voltage.set_voltage(voltage_level)\n",
    "    ce_system.high_voltage.start()\n",
    "    start_time = time.time()\n",
    "    while time.time()-start_time < injection_time:\n",
    "        time.sleep(0.01)\n",
    "    ce_system.high_voltage.stop()\n",
    "    print(f\"Finished {time.time()-start_time}\")\n",
    "    ce_system.outlet_z.set_rel_z(gravity_drop)\n",
    "    \n",
    "\n",
    "threading.Thread(target=limited_fire, args=(ce_system, gravity_drop, voltage_level, injection_time)).start()"
   ]
  },
  {
   "cell_type": "markdown",
   "metadata": {},
   "source": [
    "When finished, raise the capillary and start the run. "
   ]
  },
  {
   "cell_type": "code",
   "execution_count": 132,
   "metadata": {},
   "outputs": [],
   "source": [
    "ce_system.inlet_z.set_z(5)"
   ]
  },
  {
   "cell_type": "code",
   "execution_count": 14,
   "metadata": {},
   "outputs": [
    {
     "name": "stderr",
     "output_type": "stream",
     "text": [
      "ERROR:root:ERR: <class 'L2.LaserControl.LaserAbstraction'> did not stop. \n",
      " type object 'LaserAbstraction' has no attribute 'stop'\n"
     ]
    }
   ],
   "source": [
    "auto_program.stop_run()"
   ]
  },
  {
   "cell_type": "code",
   "execution_count": 133,
   "metadata": {},
   "outputs": [
    {
     "ename": "NameError",
     "evalue": "name 'last_focal_point' is not defined",
     "output_type": "error",
     "traceback": [
      "\u001b[1;31m---------------------------------------------------------------------------\u001b[0m",
      "\u001b[1;31mNameError\u001b[0m                                 Traceback (most recent call last)",
      "\u001b[1;32m<ipython-input-133-5080b093d595>\u001b[0m in \u001b[0;36m<module>\u001b[1;34m\u001b[0m\n\u001b[1;32m----> 1\u001b[1;33m \u001b[0mce_system\u001b[0m\u001b[1;33m.\u001b[0m\u001b[0mobjective\u001b[0m\u001b[1;33m.\u001b[0m\u001b[0mset_z\u001b[0m\u001b[1;33m(\u001b[0m\u001b[0mlast_focal_point\u001b[0m\u001b[1;33m)\u001b[0m\u001b[1;33m\u001b[0m\u001b[1;33m\u001b[0m\u001b[0m\n\u001b[0m",
      "\u001b[1;31mNameError\u001b[0m: name 'last_focal_point' is not defined"
     ]
    }
   ],
   "source": [
    "ce_system.objective.set_z(last_focal_point)"
   ]
  },
  {
   "cell_type": "code",
   "execution_count": 134,
   "metadata": {},
   "outputs": [
    {
     "name": "stdout",
     "output_type": "stream",
     "text": [
      "0.1078\n"
     ]
    }
   ],
   "source": [
    "last_focal_point = ce_system.objective.read_z()\n",
    "print(last_focal_point)"
   ]
  },
  {
   "cell_type": "code",
   "execution_count": 135,
   "metadata": {
    "scrolled": true
   },
   "outputs": [],
   "source": [
    "ce_system.objective.set_rel_z(-5)"
   ]
  },
  {
   "cell_type": "code",
   "execution_count": 136,
   "metadata": {
    "scrolled": true
   },
   "outputs": [
    {
     "name": "stderr",
     "output_type": "stream",
     "text": [
      "Exception in thread Thread-10:\n",
      "Traceback (most recent call last):\n",
      "  File \"C:\\Users\\NikonTE300CE\\Miniconda3\\envs\\CEpy37\\lib\\threading.py\", line 926, in _bootstrap_inner\n",
      "    self.run()\n",
      "  File \"C:\\Users\\NikonTE300CE\\Miniconda3\\envs\\CEpy37\\lib\\threading.py\", line 870, in run\n",
      "    self._target(*self._args, **self._kwargs)\n",
      "  File \"C:\\Users\\NikonTE300CE\\Desktop\\Barracuda\\AutomatedCE\\L2\\CameraControl.py\", line 185, in _sequence_update\n",
      "    img = self.controller.send_command(self.controller.core.get_last_image)\n",
      "  File \"C:\\Users\\NikonTE300CE\\Desktop\\Barracuda\\AutomatedCE\\L1\\Controllers.py\", line 228, in send_command\n",
      "    raise e\n",
      "  File \"C:\\Users\\NikonTE300CE\\Desktop\\Barracuda\\AutomatedCE\\L1\\Controllers.py\", line 220, in send_command\n",
      "    ans = command(*args)\n",
      "  File \"C:\\Users\\NikonTE300CE\\Miniconda3\\envs\\CEpy37\\lib\\site-packages\\pycromanager\\core.py\", line 263, in <lambda>\n",
      "    fn = lambda instance, *args, signatures_list=tuple(methods_with_name): instance._translate_call(signatures_list, args)\n",
      "  File \"C:\\Users\\NikonTE300CE\\Miniconda3\\envs\\CEpy37\\lib\\site-packages\\pycromanager\\core.py\", line 350, in _translate_call\n",
      "    return self._deserialize(self._socket.receive())\n",
      "  File \"C:\\Users\\NikonTE300CE\\Miniconda3\\envs\\CEpy37\\lib\\site-packages\\pycromanager\\core.py\", line 97, in receive\n",
      "    self._check_exception(message)\n",
      "  File \"C:\\Users\\NikonTE300CE\\Miniconda3\\envs\\CEpy37\\lib\\site-packages\\pycromanager\\core.py\", line 102, in _check_exception\n",
      "    raise Exception(response['value'])\n",
      "Exception: java.lang.Exception: Circular buffer is empty.\n",
      "mmcorej.MMCoreJJNI.CMMCore_getLastImage(Native Method)\n",
      "mmcorej.CMMCore.getLastImage(CMMCore.java:1040)\n",
      "sun.reflect.GeneratedMethodAccessor40.invoke(Unknown Source)\n",
      "sun.reflect.DelegatingMethodAccessorImpl.invoke(DelegatingMethodAccessorImpl.java:43)\n",
      "java.lang.reflect.Method.invoke(Method.java:498)\n",
      "org.micromanager.internal.zmq.ZMQServer.runMethod(ZMQServer.java:268)\n",
      "org.micromanager.internal.zmq.ZMQServer.parseAndExecuteCommand(ZMQServer.java:324)\n",
      "org.micromanager.internal.zmq.ZMQServer.lambda$initialize$1(ZMQServer.java:80)\n",
      "java.util.concurrent.FutureTask.run(FutureTask.java:266)\n",
      "java.util.concurrent.ThreadPoolExecutor.runWorker(ThreadPoolExecutor.java:1149)\n",
      "java.util.concurrent.ThreadPoolExecutor$Worker.run(ThreadPoolExecutor.java:624)\n",
      "java.lang.Thread.run(Thread.java:748)\n",
      "\n",
      "\n"
     ]
    }
   ],
   "source": [
    "# if the  method uses a wait command, set it otherwise start a new method\n",
    "if not auto_program.continue_event.is_set():\n",
    "    auto_program.continue_event.set()\n",
    "else:\n",
    "    auto_program.start_run()"
   ]
  },
  {
   "cell_type": "code",
   "execution_count": 339,
   "metadata": {
    "scrolled": true
   },
   "outputs": [
    {
     "name": "stderr",
     "output_type": "stream",
     "text": [
      "WARNING:root:No data to plot\n",
      "WARNING:root:No data to plot\n",
      "WARNING:root:No data to plot\n",
      "WARNING:root:No data to plot\n",
      "WARNING:root:No data to plot\n",
      "WARNING:root:No data to plot\n",
      "WARNING:root:No data to plot\n"
     ]
    }
   ],
   "source": [
    "#Display the CE trace\n",
    "\n",
    "%matplotlib qt\n",
    "\n",
    "ce_gram = DisplayWindows.PLTCEDisplay(ce_system)\n",
    "#ce_disp.stop()\n",
    "#ce_disp.show()\n",
    "ce_gram.start_live_view()\n"
   ]
  },
  {
   "cell_type": "code",
   "execution_count": 15,
   "metadata": {},
   "outputs": [
    {
     "name": "stderr",
     "output_type": "stream",
     "text": [
      "ERROR:root:ERR: <class 'L2.LaserControl.LaserAbstraction'> did not stop. \n",
      " type object 'LaserAbstraction' has no attribute 'stop'\n"
     ]
    }
   ],
   "source": [
    "auto_program.stop_run()"
   ]
  },
  {
   "cell_type": "code",
   "execution_count": 309,
   "metadata": {},
   "outputs": [],
   "source": [
    "ce_disp = DisplayWindows.PLTCEDisplay(ce_system)\n"
   ]
  },
  {
   "cell_type": "code",
   "execution_count": 16,
   "metadata": {},
   "outputs": [
    {
     "ename": "NameError",
     "evalue": "name 'last_focal_point' is not defined",
     "output_type": "error",
     "traceback": [
      "\u001b[1;31m---------------------------------------------------------------------------\u001b[0m",
      "\u001b[1;31mNameError\u001b[0m                                 Traceback (most recent call last)",
      "\u001b[1;32m<ipython-input-16-5080b093d595>\u001b[0m in \u001b[0;36m<module>\u001b[1;34m\u001b[0m\n\u001b[1;32m----> 1\u001b[1;33m \u001b[0mce_system\u001b[0m\u001b[1;33m.\u001b[0m\u001b[0mobjective\u001b[0m\u001b[1;33m.\u001b[0m\u001b[0mset_z\u001b[0m\u001b[1;33m(\u001b[0m\u001b[0mlast_focal_point\u001b[0m\u001b[1;33m)\u001b[0m\u001b[1;33m\u001b[0m\u001b[1;33m\u001b[0m\u001b[0m\n\u001b[0m",
      "\u001b[1;31mNameError\u001b[0m: name 'last_focal_point' is not defined"
     ]
    }
   ],
   "source": [
    "ce_system.objective.set_z(last_focal_point)"
   ]
  },
  {
   "cell_type": "code",
   "execution_count": 310,
   "metadata": {},
   "outputs": [
    {
     "name": "stdout",
     "output_type": "stream",
     "text": [
      "HEYYOO\n"
     ]
    }
   ],
   "source": [
    "\n",
    "ce_disp = DisplayWindows.PLTMicroscopeDisplay(ce_system)\n",
    "%matplotlib qt\n",
    "ce_system.camera.stop()\n",
    "ce_disp.show()\n",
    "ce_disp.live_image()\n",
    "\n",
    "ce_system.objective.set_z(last_focal_point)"
   ]
  },
  {
   "cell_type": "markdown",
   "metadata": {},
   "source": [
    "### 6.3b Unlimited Loading\n",
    "\n",
    "Run the following block when the cell is ready to by lysed and loaded. \n",
    "\n",
    "Run the block after when the loading process is complete. \n",
    "\n",
    "**For the eclipse system you will have to manually press the fire button after running the cell**\n"
   ]
  },
  {
   "cell_type": "code",
   "execution_count": 308,
   "metadata": {},
   "outputs": [
    {
     "name": "stdout",
     "output_type": "stream",
     "text": [
      "Fire\n"
     ]
    }
   ],
   "source": [
    "time.sleep(delay)\n",
    "print('Fire')\n",
    "ce_system.outlet_z.set_rel_z(-gravity_drop)\n",
    "ce_system.high_voltage.set_voltage(voltage_level)\n",
    "ce_system.high_voltage.start()\n",
    "#ce_system.lysis_laser.laser_standby()\n",
    "#ce_system.lysis_laser.laser_fire()\n",
    "start_time = time.time()"
   ]
  },
  {
   "cell_type": "code",
   "execution_count": 310,
   "metadata": {},
   "outputs": [],
   "source": [
    "ce_system.high_voltage.stop()\n",
    "ce_system.outlet_z.set_rel_z(gravity_drop)"
   ]
  },
  {
   "cell_type": "code",
   "execution_count": 128,
   "metadata": {},
   "outputs": [],
   "source": [
    "ce_system.objective.set_rel_z(0.045)"
   ]
  },
  {
   "cell_type": "markdown",
   "metadata": {},
   "source": [
    "# Step 7. End of Day\n",
    "\n",
    "1. Repeat Step 2.1, this time rinse for 5 min with water, then 30 min with air. Run the next cell when you are finished rinsing.\n",
    "2. Turn off all equipment. "
   ]
  },
  {
   "cell_type": "code",
   "execution_count": 17,
   "metadata": {},
   "outputs": [
    {
     "ename": "AttributeError",
     "evalue": "'NoneType' object has no attribute 'shutdown'",
     "output_type": "error",
     "traceback": [
      "\u001b[1;31m---------------------------------------------------------------------------\u001b[0m",
      "\u001b[1;31mAttributeError\u001b[0m                            Traceback (most recent call last)",
      "\u001b[1;32m<ipython-input-17-b68a8e444e1e>\u001b[0m in \u001b[0;36m<module>\u001b[1;34m\u001b[0m\n\u001b[1;32m----> 1\u001b[1;33m \u001b[0mce_system\u001b[0m\u001b[1;33m.\u001b[0m\u001b[0mshutdown_utilities\u001b[0m\u001b[1;33m(\u001b[0m\u001b[1;33m)\u001b[0m\u001b[1;33m\u001b[0m\u001b[1;33m\u001b[0m\u001b[0m\n\u001b[0m",
      "\u001b[1;32m~\\Desktop\\Barracuda\\AutomatedCE\\L3\\SystemsBuilder.py\u001b[0m in \u001b[0;36mshutdown_utilities\u001b[1;34m(self)\u001b[0m\n\u001b[0;32m    426\u001b[0m         \"\"\"\n\u001b[0;32m    427\u001b[0m         \u001b[1;32mfor\u001b[0m \u001b[0m_\u001b[0m\u001b[1;33m,\u001b[0m \u001b[0mutility\u001b[0m \u001b[1;32min\u001b[0m \u001b[0mself\u001b[0m\u001b[1;33m.\u001b[0m\u001b[0mutilities\u001b[0m\u001b[1;33m.\u001b[0m\u001b[0mitems\u001b[0m\u001b[1;33m(\u001b[0m\u001b[1;33m)\u001b[0m\u001b[1;33m:\u001b[0m\u001b[1;33m\u001b[0m\u001b[1;33m\u001b[0m\u001b[0m\n\u001b[1;32m--> 428\u001b[1;33m             \u001b[0mutility\u001b[0m\u001b[1;33m.\u001b[0m\u001b[0mshutdown\u001b[0m\u001b[1;33m(\u001b[0m\u001b[1;33m)\u001b[0m\u001b[1;33m\u001b[0m\u001b[1;33m\u001b[0m\u001b[0m\n\u001b[0m\u001b[0;32m    429\u001b[0m \u001b[1;33m\u001b[0m\u001b[0m\n\u001b[0;32m    430\u001b[0m \u001b[1;33m\u001b[0m\u001b[0m\n",
      "\u001b[1;31mAttributeError\u001b[0m: 'NoneType' object has no attribute 'shutdown'"
     ]
    }
   ],
   "source": [
    "ce_system.shutdown_utilities()"
   ]
  },
  {
   "cell_type": "code",
   "execution_count": null,
   "metadata": {},
   "outputs": [],
   "source": [
    "ce_system.close_controllers()"
   ]
  },
  {
   "cell_type": "code",
   "execution_count": null,
   "metadata": {},
   "outputs": [],
   "source": [
    "ce_system.open_controllers()"
   ]
  },
  {
   "cell_type": "code",
   "execution_count": null,
   "metadata": {},
   "outputs": [],
   "source": [
    "cam_disp = DisplayWindows.PLTMicroscopeDisplay(ce_system)"
   ]
  },
  {
   "cell_type": "markdown",
   "metadata": {},
   "source": [
    "# Appendix A. Adding a Template\n"
   ]
  },
  {
   "cell_type": "code",
   "execution_count": 18,
   "metadata": {},
   "outputs": [],
   "source": [
    "from L4.AutomatedControl import TemplateMaker\n",
    "tm = TemplateMaker()"
   ]
  },
  {
   "cell_type": "code",
   "execution_count": null,
   "metadata": {},
   "outputs": [],
   "source": [
    "Add a well "
   ]
  },
  {
   "cell_type": "code",
   "execution_count": null,
   "metadata": {},
   "outputs": [],
   "source": [
    "cam_disp.show()"
   ]
  },
  {
   "cell_type": "code",
   "execution_count": 295,
   "metadata": {},
   "outputs": [
    {
     "name": "stderr",
     "output_type": "stream",
     "text": [
      "C:\\Users\\NikonTE300CE\\Miniconda3\\envs\\CEpy37\\lib\\site-packages\\skimage\\exposure\\exposure.py:351: RuntimeWarning: invalid value encountered in true_divide\n",
      "  image = (image - imin) / float(imax - imin)\n"
     ]
    }
   ],
   "source": [
    "ce_system.outlet_pressure.release()"
   ]
  },
  {
   "cell_type": "code",
   "execution_count": null,
   "metadata": {},
   "outputs": [],
   "source": [
    "cam_disp.stop_live_image()"
   ]
  },
  {
   "cell_type": "code",
   "execution_count": null,
   "metadata": {},
   "outputs": [],
   "source": [
    "cam_disp.percentiles = 0"
   ]
  },
  {
   "cell_type": "code",
   "execution_count": null,
   "metadata": {},
   "outputs": [],
   "source": [
    "ce_system.camera.set_exposure(45)"
   ]
  },
  {
   "cell_type": "code",
   "execution_count": null,
   "metadata": {},
   "outputs": [],
   "source": [
    "cam_disp.live_image()"
   ]
  },
  {
   "cell_type": "code",
   "execution_count": 278,
   "metadata": {},
   "outputs": [
    {
     "name": "stderr",
     "output_type": "stream",
     "text": [
      "WARNING:root:'NoneType' object has no attribute 'shutdown'\n",
      "WARNING:root:None had error on shutdown\n",
      "WARNING:root:'NoneType' object has no attribute 'shutdown'\n",
      "WARNING:root:None had error on shutdown\n"
     ]
    }
   ],
   "source": [
    "ce_system.shutdown_utilities()"
   ]
  },
  {
   "cell_type": "code",
   "execution_count": 279,
   "metadata": {},
   "outputs": [
    {
     "data": {
      "text/plain": [
       "'R:Off, G:Off, B:Off'"
      ]
     },
     "execution_count": 279,
     "metadata": {},
     "output_type": "execute_result"
    }
   ],
   "source": [
    "ce_system.inlet_rgb.turn_off_channel('R')"
   ]
  },
  {
   "cell_type": "code",
   "execution_count": 282,
   "metadata": {},
   "outputs": [
    {
     "data": {
      "text/plain": [
       "'LB0\\r\\n'"
      ]
     },
     "execution_count": 282,
     "metadata": {},
     "output_type": "execute_result"
    }
   ],
   "source": [
    "ce_system.inlet_rgb.controller.send_command(\"LB0\\n\")"
   ]
  },
  {
   "cell_type": "code",
   "execution_count": 209,
   "metadata": {},
   "outputs": [],
   "source": [
    "data = {'start':[], 'stop':[], 'diff':[], 'xy':[], 'start_img':[], 'stop_img':[]}"
   ]
  },
  {
   "cell_type": "code",
   "execution_count": 269,
   "metadata": {},
   "outputs": [
    {
     "data": {
      "text/plain": [
       "0.03234000048191774"
      ]
     },
     "execution_count": 269,
     "metadata": {},
     "output_type": "execute_result"
    }
   ],
   "source": [
    "start_z = ce_system.objective.read_z()\n",
    "ce_system.objective.set_rel_z(np.mean(data['diff'][-5:]))\n",
    "ce_system.camera.stop()\n",
    "start_img = ce_system.camera.snap()\n",
    "ce_system.camera.continuous_snap()\n",
    "np.mean(data['diff'][-5:])"
   ]
  },
  {
   "cell_type": "code",
   "execution_count": 270,
   "metadata": {},
   "outputs": [
    {
     "name": "stdout",
     "output_type": "stream",
     "text": [
      "Average : 0.03362857192968046\n"
     ]
    }
   ],
   "source": [
    "import numpy as np\n",
    "stop_z = ce_system.objective.read_z()\n",
    "ce_system.camera.stop()\n",
    "stop_img = ce_system.camera.snap()\n",
    "ce_system.camera.continuous_snap()\n",
    "data['start'].append(start_z)\n",
    "data['stop'].append(stop_z)\n",
    "data['diff'].append(stop_z-start_z)\n",
    "data['xy'].append(ce_system.xy_stage.read_xy())\n",
    "data['start_img'].append(start_img)\n",
    "data['stop_img'].append(stop_img)\n",
    "\n",
    "print(f\"Average : {np.mean(data['diff'])}\")\n"
   ]
  },
  {
   "cell_type": "code",
   "execution_count": 230,
   "metadata": {},
   "outputs": [],
   "source": [
    "for key in data:\n",
    "    data[key]=data[key][0:-1]"
   ]
  },
  {
   "cell_type": "code",
   "execution_count": 271,
   "metadata": {},
   "outputs": [
    {
     "name": "stderr",
     "output_type": "stream",
     "text": [
      "C:\\Users\\Luke\\Anaconda3\\envs\\CEpy37\\lib\\site-packages\\skimage\\exposure\\exposure.py:351: RuntimeWarning: invalid value encountered in true_divide\n",
      "  image = (image - imin) / float(imax - imin)\n"
     ]
    }
   ],
   "source": [
    "import pandas as pd\n",
    "df = pd.DataFrame.from_dict(data)"
   ]
  },
  {
   "cell_type": "code",
   "execution_count": 329,
   "metadata": {
    "scrolled": true
   },
   "outputs": [],
   "source": [
    "%matplotlib qt\n",
    "#auto_program.start_run()\n",
    "ce_gram = DisplayWindows.PLTCEDisplay(ce_system)\n",
    "\n",
    "#ce_gram.show()\n",
    "ce_gram.start_live_view()"
   ]
  },
  {
   "cell_type": "code",
   "execution_count": 272,
   "metadata": {},
   "outputs": [],
   "source": [
    "df.to_csv('lysis_data')"
   ]
  }
 ],
 "metadata": {
  "kernelspec": {
   "display_name": "Python 3",
   "language": "python",
   "name": "python3"
  },
  "language_info": {
   "codemirror_mode": {
    "name": "ipython",
    "version": 3
   },
   "file_extension": ".py",
   "mimetype": "text/x-python",
   "name": "python",
   "nbconvert_exporter": "python",
   "pygments_lexer": "ipython3",
   "version": "3.7.9"
  }
 },
 "nbformat": 4,
 "nbformat_minor": 2
}
