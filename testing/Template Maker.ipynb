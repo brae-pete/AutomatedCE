{
 "cells": [
  {
   "cell_type": "code",
   "execution_count": 1,
   "metadata": {},
   "outputs": [
    {
     "name": "stdout",
     "output_type": "stream",
     "text": [
      "new directory is: C:\\Users\\NikonTE300CE\\Desktop\\Barracuda\\AutomatedCE\n"
     ]
    },
    {
     "name": "stderr",
     "output_type": "stream",
     "text": [
      "WARNING:root:python2path is not a var in system_config.txt\n"
     ]
    },
    {
     "name": "stdout",
     "output_type": "stream",
     "text": [
      "C:\\Users\\NikonTE300CE\\Desktop\\Barracuda\\AutomatedCE\\L1\\MicroControlServer.py\n"
     ]
    }
   ],
   "source": [
    "import sys\n",
    "import os\n",
    "import numpy as np\n",
    "import time\n",
    "from imp import reload\n",
    "\n",
    "# Set the working directory to the AutomatedCE folder so we have access to L1-L4 modules\n",
    "resp = os.getcwd()\n",
    "if 'testing' in resp[-7:]:\n",
    "    os.chdir(os.path.abspath(os.path.join(os.getcwd(), '..')))\n",
    "    print(f\"new directory is: {os.getcwd()}\")\n",
    "    \n",
    "from L4 import AutomatedControl"
   ]
  },
  {
   "cell_type": "code",
   "execution_count": 2,
   "metadata": {},
   "outputs": [],
   "source": [
    "def get_float(msg:str, failed=False):\n",
    "    \"\"\"\n",
    "    :param msg: message to display\n",
    "    :param failed: flag if user has failed the question requirments\n",
    "    :return : float number\n",
    "    \"\"\"\n",
    "    if failed:\n",
    "        print(\"Please enter a number\")\n",
    "    resp = input(msg+ \" \")\n",
    "    if resp.replace('.','').isnumeric():\n",
    "        return float(resp)\n",
    "    else:\n",
    "        return get_float(msg,failed=True)\n",
    "    \n",
    "def get_int(msg:str, failed=False):\n",
    "    \"\"\"\n",
    "    :param msg: message to display\n",
    "    :param failed: flag if user has failed the question requirments\n",
    "    :return : float number\n",
    "    \"\"\"\n",
    "    if failed:\n",
    "        print(\"Please enter a number\")\n",
    "    resp = input(msg+ \" \")\n",
    "    if resp.isnumeric():\n",
    "        return int(resp)\n",
    "    else:\n",
    "        return get_float(msg,failed=True)\n",
    "def get_yes_no(msg:str, failed=False):\n",
    "    \"\"\"\n",
    "    Asks user for Y/N response\n",
    "    :return : True for Yes, False for No\n",
    "    \"\"\"\n",
    "    if failed:\n",
    "        print(\"Please enter y or n as you answer\")\n",
    "    resp = input(msg+ \" \")\n",
    "    if resp.lower()=='n':\n",
    "        return False\n",
    "    elif resp.lower()=='y':\n",
    "        return True\n",
    "    else:\n",
    "        return get_yes_no(msg,failed=True)"
   ]
  },
  {
   "cell_type": "markdown",
   "metadata": {},
   "source": [
    "##  Load the CE System with a Config File\n",
    "\n",
    "Select one of the predesigned configurations (TE300, Eclipse Ti, Simulation). See an example config under \"/config/test-system.cfg\". \n",
    "\n",
    "Change the variable CONFIG_PATH to the absolute path where the config file resides. \n",
    "\n",
    "Be sure to make the string a raw string by prepending *'r'*. **Example:** r\"C:\\path\\to\\config\\\"*"
   ]
  },
  {
   "cell_type": "code",
   "execution_count": 3,
   "metadata": {},
   "outputs": [
    {
     "name": "stdout",
     "output_type": "stream",
     "text": [
      "{'outlet_pressure': <L2.PressureControl.ArduinoPressure object at 0x000001397296BF88>, 'xy_stage': <L2.XYControl.PriorXY object at 0x000001397296BE88>, 'objective': <L2.ZControl.PriorZ object at 0x000001397296BFC8>, 'outlet_z': <L2.ZControl.ArduinoZ object at 0x0000013972970108>, 'inlet_rgb': <L2.LightControl.RGBArduino object at 0x0000013972970088>, 'inlet_z': <L2.ZControl.KinesisZ object at 0x0000013972970208>, 'high_voltage': <L2.HighVoltageControl.SpellmanPowerSupply object at 0x0000013972970048>, 'camera': <L2.CameraControl.PycromanagerControl object at 0x00000139729702C8>, 'detector': <L2.DetectorControl.PhotomultiplierDetector object at 0x0000013972970648>}\n",
      "OPENING:  ard1 <L1.Controllers.ArduinoController object at 0x00000139728A1208> using port: COM8\n",
      "OPENING:  pr1 <L1.Controllers.PriorController object at 0x00000139728A1188> using port: COM4\n",
      "OPENING:  mmc1 <L1.Controllers.PycromanagerController object at 0x00000139728A1288> using port: pycromanager\n",
      "OPENING:  daq1 <L1.DAQControllers.NiDaq object at 0x00000139728A1308>\n",
      "OPENING:  ks1 <L1.Controllers.SimulatedController object at 0x0000013972892B48> using port: 49125264\n",
      "Starting up: outlet_pressure, <L2.PressureControl.ArduinoPressure object at 0x000001397296BF88>\n",
      "Starting up: xy_stage, <L2.XYControl.PriorXY object at 0x000001397296BE88>\n",
      "Starting up: objective, <L2.ZControl.PriorZ object at 0x000001397296BFC8>\n",
      "Starting up: outlet_z, <L2.ZControl.ArduinoZ object at 0x0000013972970108>\n",
      "Starting up: inlet_rgb, <L2.LightControl.RGBArduino object at 0x0000013972970088>\n",
      "Starting up: inlet_z, <L2.ZControl.KinesisZ object at 0x0000013972970208>\n",
      "Starting up: high_voltage, <L2.HighVoltageControl.SpellmanPowerSupply object at 0x0000013972970048>\n",
      "Starting up: camera, <L2.CameraControl.PycromanagerControl object at 0x00000139729702C8>\n",
      "Starting up: detector, <L2.DetectorControl.PhotomultiplierDetector object at 0x0000013972970648>\n"
     ]
    }
   ],
   "source": [
    "CONFIG_PATH = r\"C:\\Users\\NikonTE300CE\\Desktop\\Barracuda\\AutomatedCE\\var\\TE300.cfg\"\n",
    "from L3 import SystemsBuilder\n",
    "reload(SystemsBuilder)\n",
    "\n",
    "ce_system = SystemsBuilder.CESystem()\n",
    "ce_system.load_config(CONFIG_PATH)\n",
    "ce_system.open_controllers()\n",
    "ce_system.startup_utilities()"
   ]
  },
  {
   "cell_type": "code",
   "execution_count": 6,
   "metadata": {},
   "outputs": [],
   "source": [
    "ce_system.xy_stage.set_home()"
   ]
  },
  {
   "cell_type": "markdown",
   "metadata": {},
   "source": [
    "# Make a New Template\n",
    "\n",
    "\n",
    "### Step 1. Enter in basic information\n",
    "Also if you would want to home the stage to a special position, now would be the time. If the home position is changed partway through, you will have to restart the template making process. \n",
    "\n",
    "Run the following cell if you wish to restart (it will remove all well positions)"
   ]
  },
  {
   "cell_type": "code",
   "execution_count": 4,
   "metadata": {},
   "outputs": [],
   "source": [
    "header_info = \"Basic Template for Eclipse using Native Home position\" # String that describes the template\n",
    "dimensions = [130, 150] # Width and Height of the Template\n",
    "new_template = AutomatedControl.TemplateMaker()\n"
   ]
  },
  {
   "cell_type": "markdown",
   "metadata": {},
   "source": [
    "### Step 2. Get the outer limits\n",
    "\n",
    "Move the stage to the lower left corner, then run the next cell"
   ]
  },
  {
   "cell_type": "code",
   "execution_count": 5,
   "metadata": {},
   "outputs": [],
   "source": [
    "lower_left_corner = ce_system.xy_stage.read_xy()"
   ]
  },
  {
   "cell_type": "markdown",
   "metadata": {},
   "source": [
    "Move the stage to the upper right corner, then run the next cell"
   ]
  },
  {
   "cell_type": "code",
   "execution_count": 6,
   "metadata": {},
   "outputs": [],
   "source": [
    "upper_right_coner = ce_system.xy_stage.read_xy()"
   ]
  },
  {
   "cell_type": "markdown",
   "metadata": {},
   "source": [
    "## Step 3. Add a Single Well (repeatable)\n",
    "Move the capillary to the center of the well you want to add then run the next cell. "
   ]
  },
  {
   "cell_type": "code",
   "execution_count": 8,
   "metadata": {},
   "outputs": [
    {
     "name": "stdout",
     "output_type": "stream",
     "text": [
      "What would you like to call this well? calibration\n",
      "What is the well width in mm?  4\n",
      "Position the well directly under the capillary. Press enter to continue: \n",
      "Well calibration added.\n"
     ]
    }
   ],
   "source": [
    "new_well_name = input(\"What would you like to call this well? \")\n",
    "new_well_width = get_float(\"What is the well width in mm? \")\n",
    "resp = input(\"Position the well directly under the capillary. Press enter to continue: \")\n",
    "new_well_center = ce_system.xy_stage.read_xy()\n",
    "new_template.add_well(new_well_name, new_well_center, new_well_width, 'Circle')\n",
    "print(f\"Well {new_well_name} added.\")"
   ]
  },
  {
   "cell_type": "markdown",
   "metadata": {},
   "source": [
    "### Step 4. Add an Array of Wells (repeatable)\n",
    "Add an array  of wells specified by two corners of the well array. \n"
   ]
  },
  {
   "cell_type": "code",
   "execution_count": 9,
   "metadata": {},
   "outputs": [
    {
     "name": "stdout",
     "output_type": "stream",
     "text": [
      "What is the prefix for these wells? w\n",
      "What is the radius of these wells?  2\n",
      "Enter the number of rows:  8\n",
      "Enter the number of columns:  5\n",
      "Move the well array to the center of the lower_left well\n",
      "Move the well array to the center of the upper right well\n",
      "Well array added\n"
     ]
    }
   ],
   "source": [
    "name = input(\"What is the prefix for these wells? \")\n",
    "size = get_float(\"What is the radius of these wells? \")\n",
    "rows = get_int(\"Enter the number of rows: \")\n",
    "cols = get_int(\"Enter the number of columns: \")\n",
    "resp = input(\"Move the well array to the center of the lower_left well\")\n",
    "xy1 = ce_system.xy_stage.read_xy()\n",
    "resp = input(\"Move the well array to the center of the upper right well\")\n",
    "xy2 = ce_system.xy_stage.read_xy()\n",
    "new_template.add_array(name, xy1, xy2, rows, cols, size, 'circle')\n",
    "print(f\"Well array added\")"
   ]
  },
  {
   "cell_type": "markdown",
   "metadata": {},
   "source": [
    "### Step 5. Add a Ledge\n",
    "\n",
    "Ledges contain the height information so that the program knows when to raise the capillary while moving the XY stage. For now, enter a safe height the capillary can move to for the entire stage"
   ]
  },
  {
   "cell_type": "code",
   "execution_count": 10,
   "metadata": {},
   "outputs": [
    {
     "name": "stdout",
     "output_type": "stream",
     "text": [
      "Please enter a safe height for capillary in mm:  26\n"
     ]
    }
   ],
   "source": [
    "safe_height = get_float(\"Please enter a safe height for capillary in mm: \")\n",
    "new_template.add_ledge('SafeHeight', (0,0), 500, 'circle', safe_height)"
   ]
  },
  {
   "cell_type": "markdown",
   "metadata": {},
   "source": [
    "### Step 6. Save and Name the template"
   ]
  },
  {
   "cell_type": "code",
   "execution_count": 11,
   "metadata": {},
   "outputs": [
    {
     "name": "stdout",
     "output_type": "stream",
     "text": [
      "Please enter the name for this template (it will be saved to the var folder): TE300CellTemplate\n"
     ]
    },
    {
     "data": {
      "text/plain": [
       "True"
      ]
     },
     "execution_count": 11,
     "metadata": {},
     "output_type": "execute_result"
    }
   ],
   "source": [
    "import os\n",
    "file_name = input(\"Please enter the name for this template (it will be saved to the var folder): \")\n",
    "file_path = os.path.relpath(f'./var/{file_name}.txt')\n",
    "x1,y1 = lower_left_corner\n",
    "x2,y2 = upper_right_coner\n",
    "new_template.add_dimension(x1, y1, x2, y2)\n",
    "new_template.save_to_file(file_path)"
   ]
  },
  {
   "cell_type": "code",
   "execution_count": 14,
   "metadata": {},
   "outputs": [],
   "source": [
    "ce_system.close_controllers()"
   ]
  },
  {
   "cell_type": "code",
   "execution_count": null,
   "metadata": {},
   "outputs": [],
   "source": []
  }
 ],
 "metadata": {
  "kernelspec": {
   "display_name": "Python 3",
   "language": "python",
   "name": "python3"
  },
  "language_info": {
   "codemirror_mode": {
    "name": "ipython",
    "version": 3
   },
   "file_extension": ".py",
   "mimetype": "text/x-python",
   "name": "python",
   "nbconvert_exporter": "python",
   "pygments_lexer": "ipython3",
   "version": "3.7.4"
  }
 },
 "nbformat": 4,
 "nbformat_minor": 2
}
