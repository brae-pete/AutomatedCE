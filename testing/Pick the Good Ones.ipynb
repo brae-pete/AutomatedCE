{
 "cells": [
  {
   "cell_type": "code",
   "execution_count": 2,
   "metadata": {
    "scrolled": false
   },
   "outputs": [
    {
     "ename": "FileNotFoundError",
     "evalue": "[Errno 2] No such file or directory: 'C:\\\\Users\\\\Luke\\\\Desktop\\\\Barracuda\\\\AutomatedCE\\\\var\\\\Eclipse.cfg'",
     "output_type": "error",
     "traceback": [
      "\u001b[1;31m---------------------------------------------------------------------------\u001b[0m",
      "\u001b[1;31mFileNotFoundError\u001b[0m                         Traceback (most recent call last)",
      "\u001b[1;32m<ipython-input-2-c66462cfcaa3>\u001b[0m in \u001b[0;36m<module>\u001b[1;34m\u001b[0m\n\u001b[0;32m     41\u001b[0m \u001b[0mce_system\u001b[0m \u001b[1;33m=\u001b[0m \u001b[0mSystemsBuilder\u001b[0m\u001b[1;33m.\u001b[0m\u001b[0mCESystem\u001b[0m\u001b[1;33m(\u001b[0m\u001b[1;33m)\u001b[0m\u001b[1;33m\u001b[0m\u001b[1;33m\u001b[0m\u001b[0m\n\u001b[0;32m     42\u001b[0m \u001b[1;33m\u001b[0m\u001b[0m\n\u001b[1;32m---> 43\u001b[1;33m \u001b[0mce_system\u001b[0m\u001b[1;33m.\u001b[0m\u001b[0mload_config\u001b[0m\u001b[1;33m(\u001b[0m\u001b[0mCONFIG_PATH\u001b[0m\u001b[1;33m)\u001b[0m\u001b[1;33m\u001b[0m\u001b[1;33m\u001b[0m\u001b[0m\n\u001b[0m\u001b[0;32m     44\u001b[0m \u001b[0mce_system\u001b[0m\u001b[1;33m.\u001b[0m\u001b[0mopen_controllers\u001b[0m\u001b[1;33m(\u001b[0m\u001b[1;33m)\u001b[0m\u001b[1;33m\u001b[0m\u001b[1;33m\u001b[0m\u001b[0m\n\u001b[0;32m     45\u001b[0m \u001b[0mce_system\u001b[0m\u001b[1;33m.\u001b[0m\u001b[0mstartup_utilities\u001b[0m\u001b[1;33m(\u001b[0m\u001b[1;33m)\u001b[0m\u001b[1;33m\u001b[0m\u001b[1;33m\u001b[0m\u001b[0m\n",
      "\u001b[1;32m~\\Desktop\\Barracuda_Updated\\AutomatedCE\\L3\\SystemsBuilder.py\u001b[0m in \u001b[0;36mload_config\u001b[1;34m(self, config_file)\u001b[0m\n\u001b[0;32m    394\u001b[0m \u001b[1;33m\u001b[0m\u001b[0m\n\u001b[0;32m    395\u001b[0m         \u001b[0mdirector\u001b[0m \u001b[1;33m=\u001b[0m \u001b[0mConcreteDirector\u001b[0m\u001b[1;33m(\u001b[0m\u001b[1;33m)\u001b[0m\u001b[1;33m\u001b[0m\u001b[1;33m\u001b[0m\u001b[0m\n\u001b[1;32m--> 396\u001b[1;33m         \u001b[0mdirector\u001b[0m\u001b[1;33m.\u001b[0m\u001b[0mconstruct\u001b[0m\u001b[1;33m(\u001b[0m\u001b[0mconfig_file\u001b[0m\u001b[1;33m)\u001b[0m\u001b[1;33m\u001b[0m\u001b[1;33m\u001b[0m\u001b[0m\n\u001b[0m\u001b[0;32m    397\u001b[0m         \u001b[0mutilities\u001b[0m \u001b[1;33m=\u001b[0m \u001b[0mdirector\u001b[0m\u001b[1;33m.\u001b[0m\u001b[0mget_utilities\u001b[0m\u001b[1;33m(\u001b[0m\u001b[1;33m)\u001b[0m\u001b[1;33m\u001b[0m\u001b[1;33m\u001b[0m\u001b[0m\n\u001b[0;32m    398\u001b[0m \u001b[1;33m\u001b[0m\u001b[0m\n",
      "\u001b[1;32m~\\Desktop\\Barracuda_Updated\\AutomatedCE\\L3\\SystemsBuilder.py\u001b[0m in \u001b[0;36mconstruct\u001b[1;34m(self, config_file)\u001b[0m\n\u001b[0;32m    232\u001b[0m         \u001b[1;33m:\u001b[0m\u001b[1;32mreturn\u001b[0m\u001b[1;33m:\u001b[0m\u001b[1;33m\u001b[0m\u001b[1;33m\u001b[0m\u001b[0m\n\u001b[0;32m    233\u001b[0m         \"\"\"\n\u001b[1;32m--> 234\u001b[1;33m         \u001b[0mcontroller_list\u001b[0m\u001b[1;33m,\u001b[0m \u001b[0mutility_list\u001b[0m \u001b[1;33m=\u001b[0m \u001b[0mself\u001b[0m\u001b[1;33m.\u001b[0m\u001b[0m_interpreter\u001b[0m\u001b[1;33m.\u001b[0m\u001b[0mread_config\u001b[0m\u001b[1;33m(\u001b[0m\u001b[0mfilepath\u001b[0m\u001b[1;33m=\u001b[0m\u001b[0mconfig_file\u001b[0m\u001b[1;33m)\u001b[0m\u001b[1;33m\u001b[0m\u001b[1;33m\u001b[0m\u001b[0m\n\u001b[0m\u001b[0;32m    235\u001b[0m         \u001b[0mself\u001b[0m\u001b[1;33m.\u001b[0m\u001b[0m_build_controllers\u001b[0m\u001b[1;33m(\u001b[0m\u001b[0mcontroller_list\u001b[0m\u001b[1;33m)\u001b[0m\u001b[1;33m\u001b[0m\u001b[1;33m\u001b[0m\u001b[0m\n\u001b[0;32m    236\u001b[0m         \u001b[0mself\u001b[0m\u001b[1;33m.\u001b[0m\u001b[0m_build_utilities\u001b[0m\u001b[1;33m(\u001b[0m\u001b[0mutility_list\u001b[0m\u001b[1;33m,\u001b[0m \u001b[0mself\u001b[0m\u001b[1;33m.\u001b[0m\u001b[0m_controller_builder\u001b[0m\u001b[1;33m.\u001b[0m\u001b[0mconstructed_object\u001b[0m\u001b[1;33m)\u001b[0m\u001b[1;33m\u001b[0m\u001b[1;33m\u001b[0m\u001b[0m\n",
      "\u001b[1;32m~\\Desktop\\Barracuda_Updated\\AutomatedCE\\L3\\SystemsBuilder.py\u001b[0m in \u001b[0;36mread_config\u001b[1;34m(self, filepath)\u001b[0m\n\u001b[0;32m    347\u001b[0m         \u001b[1;33m:\u001b[0m\u001b[1;32mreturn\u001b[0m \u001b[1;33m:\u001b[0m \u001b[0mtuple\u001b[0m \u001b[1;33m(\u001b[0m \u001b[1;33m[\u001b[0m\u001b[0mcontrollers\u001b[0m\u001b[1;33m...\u001b[0m\u001b[1;33m]\u001b[0m\u001b[1;33m,\u001b[0m \u001b[1;33m[\u001b[0m\u001b[0mutilities\u001b[0m\u001b[1;33m...\u001b[0m\u001b[1;33m]\u001b[0m \u001b[1;33m)\u001b[0m\u001b[1;33m\u001b[0m\u001b[1;33m\u001b[0m\u001b[0m\n\u001b[0;32m    348\u001b[0m         \"\"\"\n\u001b[1;32m--> 349\u001b[1;33m         \u001b[1;32mwith\u001b[0m \u001b[0mopen\u001b[0m\u001b[1;33m(\u001b[0m\u001b[0mfilepath\u001b[0m\u001b[1;33m,\u001b[0m \u001b[1;34m'r'\u001b[0m\u001b[1;33m)\u001b[0m \u001b[1;32mas\u001b[0m \u001b[0min_file\u001b[0m\u001b[1;33m:\u001b[0m\u001b[1;33m\u001b[0m\u001b[1;33m\u001b[0m\u001b[0m\n\u001b[0m\u001b[0;32m    350\u001b[0m             \u001b[0mcfg_list\u001b[0m \u001b[1;33m=\u001b[0m \u001b[0min_file\u001b[0m\u001b[1;33m.\u001b[0m\u001b[0mreadlines\u001b[0m\u001b[1;33m(\u001b[0m\u001b[1;33m)\u001b[0m\u001b[1;33m\u001b[0m\u001b[1;33m\u001b[0m\u001b[0m\n\u001b[0;32m    351\u001b[0m         \u001b[0mcfg_list\u001b[0m \u001b[1;33m=\u001b[0m \u001b[1;33m[\u001b[0m\u001b[0mx\u001b[0m\u001b[1;33m.\u001b[0m\u001b[0mrstrip\u001b[0m\u001b[1;33m(\u001b[0m\u001b[1;34m'\\n'\u001b[0m\u001b[1;33m)\u001b[0m \u001b[1;32mfor\u001b[0m \u001b[0mx\u001b[0m \u001b[1;32min\u001b[0m \u001b[0mcfg_list\u001b[0m\u001b[1;33m]\u001b[0m\u001b[1;33m\u001b[0m\u001b[1;33m\u001b[0m\u001b[0m\n",
      "\u001b[1;31mFileNotFoundError\u001b[0m: [Errno 2] No such file or directory: 'C:\\\\Users\\\\Luke\\\\Desktop\\\\Barracuda\\\\AutomatedCE\\\\var\\\\Eclipse.cfg'"
     ]
    }
   ],
   "source": [
    "# Reset and Restart \n",
    "\n",
    "import sys\n",
    "import os\n",
    "import numpy as np\n",
    "import time\n",
    "from imp import reload\n",
    "import threading\n",
    "import csv\n",
    "from pathlib import Path\n",
    "import numpy as np\n",
    "from scipy.ndimage import label, distance_transform_edt\n",
    "from skimage import io, img_as_float, filters, morphology\n",
    "from skimage.feature import peak_local_max\n",
    "from skimage.measure import regionprops, regionprops_table\n",
    "from skimage.morphology import watershed\n",
    "import pandas as pd\n",
    "import glob\n",
    "import skimage.measure as measure\n",
    "\n",
    "import matplotlib.pyplot as plt\n",
    "\n",
    "# Set the working directory to the AutomatedCE folder so we have access to L1-L4 modules\n",
    "resp = os.getcwd()\n",
    "if 'testing' in resp[-7:]:\n",
    "    os.chdir(os.path.abspath(os.path.join(os.getcwd(), '..')))\n",
    "    print(f\"new directory is: {os.getcwd()}\")\n",
    "import testing.inputs  \n",
    "reload(testing.inputs)\n",
    "from testing.inputs import *\n",
    "from L4 import DisplayWindows\n",
    "from L4 import FileIO\n",
    "\n",
    "reload(DisplayWindows)\n",
    "\n",
    "CONFIG_PATH = r\"C:\\Users\\Luke\\Desktop\\Barracuda\\AutomatedCE\\var\\Eclipse.cfg\"\n",
    "#CONFIG_PATH = r\"C:\\Users\\NikonTE300CE\\Desktop\\Barracuda\\AutomatedCE\\var\\TE300.cfg\"\n",
    "from L3 import SystemsBuilder\n",
    "reload(SystemsBuilder)\n",
    "\n",
    "ce_system = SystemsBuilder.CESystem()\n",
    "\n",
    "ce_system.load_config(CONFIG_PATH)\n",
    "ce_system.open_controllers()\n",
    "ce_system.startup_utilities()\n",
    "\n",
    "%matplotlib qt"
   ]
  },
  {
   "cell_type": "code",
   "execution_count": 2,
   "metadata": {},
   "outputs": [
    {
     "data": {
      "text/plain": [
       "'R:On, G:Off, B:Off'"
      ]
     },
     "execution_count": 2,
     "metadata": {},
     "output_type": "execute_result"
    }
   ],
   "source": [
    "ce_system.inlet_rgb.turn_off_channel('r')"
   ]
  },
  {
   "cell_type": "code",
   "execution_count": 3,
   "metadata": {},
   "outputs": [
    {
     "data": {
      "text/plain": [
       "'R:On, G:Off, B:On'"
      ]
     },
     "execution_count": 3,
     "metadata": {},
     "output_type": "execute_result"
    }
   ],
   "source": [
    "ce_system.inlet_rgb.turn_on_channel('B')"
   ]
  },
  {
   "cell_type": "code",
   "execution_count": 3,
   "metadata": {},
   "outputs": [
    {
     "data": {
      "text/plain": [
       "<module 'L4.Focus' from 'C:\\\\Users\\\\Luke\\\\Desktop\\\\Barracuda\\\\AutomatedCE\\\\L4\\\\Focus.py'>"
      ]
     },
     "execution_count": 3,
     "metadata": {},
     "output_type": "execute_result"
    }
   ],
   "source": [
    "from L4 import Focus\n",
    "reload(Focus)"
   ]
  },
  {
   "cell_type": "markdown",
   "metadata": {},
   "source": [
    "# Automation Objects"
   ]
  },
  {
   "cell_type": "code",
   "execution_count": 33,
   "metadata": {
    "scrolled": true
   },
   "outputs": [
    {
     "name": "stderr",
     "output_type": "stream",
     "text": [
      "WARNING:root:Adding step inject\tw_e0\t210\t7 mm\t0\t0\t0\t5\t\t0\n",
      "WARNING:root:Adding step standard 50to50\tw_e1\t240\t7 mm\t0\t0\t20\t60\t\t1\n"
     ]
    },
    {
     "name": "stdout",
     "output_type": "stream",
     "text": [
      "WHASSUZ ['inject\\tw_e0\\t210\\t7 mm\\t0\\t0\\t0\\t5\\t\\t0', 'standard 50to50\\tw_e1\\t240\\t7 mm\\t0\\t0\\t20\\t60\\t\\t1']\n",
      "ADDING\n",
      "ADDING\n"
     ]
    }
   ],
   "source": [
    "# Set up the Automation Method & Template \n",
    "TEMPLATE_PATH = r\"C:\\Users\\Luke\\Desktop\\Barracuda\\AutomatedCE\\var\\EclipseCellTemplate.txt\"\n",
    "#METHOD_PATH = r\"C:\\Users\\Luke\\Desktop\\Barracuda\\AutomatedCE\\var\\Brae\\Cell.txt\"\n",
    "\n",
    "#TEMPLATE_PATH = r\"C:\\Users\\NikonTE300CE\\Desktop\\Barracuda\\AutomatedCE\\var\\TE300CellTemplate.txt\"\n",
    "METHOD_PATH = r\"C:\\Users\\Luke\\Desktop\\Barracuda\\AutomatedCE\\var\\Brae\\Fluorescein.txt\"\n",
    "\n",
    "from L4 import AutomatedControl\n",
    "from L4 import Trajectory\n",
    "reload(AutomatedControl)\n",
    "reload(Trajectory)\n",
    "\n",
    "auto_program = AutomatedControl.AutoRun(ce_system)\n",
    "auto_program.set_template(TEMPLATE_PATH)\n",
    "auto_program.add_method(METHOD_PATH)\n",
    "auto_program.repetitions=3"
   ]
  },
  {
   "cell_type": "code",
   "execution_count": 27,
   "metadata": {},
   "outputs": [],
   "source": [
    "ce_system.inlet_z.set_z(22)"
   ]
  },
  {
   "cell_type": "code",
   "execution_count": 69,
   "metadata": {},
   "outputs": [],
   "source": [
    "# Start the Method\n",
    "if not auto_program.continue_event.is_set():\n",
    "    auto_program.continue_event.set()\n",
    "else:\n",
    "    auto_program.start_run()"
   ]
  },
  {
   "cell_type": "code",
   "execution_count": 26,
   "metadata": {
    "scrolled": true
   },
   "outputs": [
    {
     "name": "stderr",
     "output_type": "stream",
     "text": [
      "WARNING:root:STOP not implemented\n",
      "WARNING:root:STOP not implemented\n"
     ]
    }
   ],
   "source": [
    "# Stop the Method\n",
    "auto_program.stop_run()"
   ]
  },
  {
   "cell_type": "code",
   "execution_count": 34,
   "metadata": {
    "scrolled": false
   },
   "outputs": [
    {
     "name": "stdout",
     "output_type": "stream",
     "text": [
      "After special True\n",
      "Time to wait is  5\n"
     ]
    },
    {
     "name": "stderr",
     "output_type": "stream",
     "text": [
      "C:\\Users\\Luke\\Desktop\\Barracuda\\AutomatedCE\\L4\\DisplayWindows.py:277: UserWarning: Attempting to set identical left == right == 0.0 results in singular transformations; automatically expanding.\n",
      "  ax1.set_xlim(min(data['time_data']), max(data['time_data']))\n"
     ]
    },
    {
     "name": "stdout",
     "output_type": "stream",
     "text": [
      "After special True\n",
      "Time to wait is  60\n",
      "After special True\n",
      "Time to wait is  5\n",
      "After special True\n",
      "Time to wait is  60\n"
     ]
    },
    {
     "name": "stderr",
     "output_type": "stream",
     "text": [
      "WARNING:root:No data to plot\n"
     ]
    },
    {
     "name": "stdout",
     "output_type": "stream",
     "text": [
      "After special True\n",
      "Time to wait is  5\n",
      "After special True\n",
      "Time to wait is  60\n"
     ]
    }
   ],
   "source": [
    "auto_program.start_run()"
   ]
  },
  {
   "cell_type": "code",
   "execution_count": 55,
   "metadata": {
    "scrolled": true
   },
   "outputs": [
    {
     "data": {
      "text/plain": [
       "'.\\\\Data'"
      ]
     },
     "execution_count": 55,
     "metadata": {},
     "output_type": "execute_result"
    },
    {
     "name": "stdout",
     "output_type": "stream",
     "text": [
      "After special True\n",
      "Time to wait is  5\n"
     ]
    },
    {
     "name": "stderr",
     "output_type": "stream",
     "text": [
      "C:\\Users\\Luke\\Desktop\\Barracuda\\AutomatedCE\\L4\\DisplayWindows.py:277: UserWarning: Attempting to set identical left == right == 0.0 results in singular transformations; automatically expanding.\n",
      "  ax1.set_xlim(min(data['time_data']), max(data['time_data']))\n"
     ]
    },
    {
     "name": "stdout",
     "output_type": "stream",
     "text": [
      "After special True\n",
      "Time to wait is  180\n",
      "After special True\n",
      "Time to wait is  5\n"
     ]
    },
    {
     "name": "stderr",
     "output_type": "stream",
     "text": [
      "WARNING:root:No data to plot\n"
     ]
    },
    {
     "name": "stdout",
     "output_type": "stream",
     "text": [
      "After special True\n",
      "Time to wait is  180\n"
     ]
    },
    {
     "name": "stderr",
     "output_type": "stream",
     "text": [
      "WARNING:root:No data to plot\n"
     ]
    },
    {
     "name": "stdout",
     "output_type": "stream",
     "text": [
      "After special True\n",
      "Time to wait is  5\n",
      "After special True\n",
      "Time to wait is  180\n"
     ]
    },
    {
     "name": "stderr",
     "output_type": "stream",
     "text": [
      "WARNING:root:No data to plot\n"
     ]
    },
    {
     "name": "stdout",
     "output_type": "stream",
     "text": [
      "After special True\n",
      "Time to wait is  5\n",
      "After special True\n",
      "Time to wait is  180\n",
      "After special True\n",
      "Time to wait is  5\n"
     ]
    },
    {
     "name": "stderr",
     "output_type": "stream",
     "text": [
      "WARNING:root:No data to plot\n"
     ]
    },
    {
     "name": "stdout",
     "output_type": "stream",
     "text": [
      "After special True\n",
      "Time to wait is  180\n"
     ]
    },
    {
     "name": "stderr",
     "output_type": "stream",
     "text": [
      "WARNING:root:No data to plot\n"
     ]
    },
    {
     "name": "stdout",
     "output_type": "stream",
     "text": [
      "After special True\n",
      "Time to wait is  5\n"
     ]
    },
    {
     "name": "stderr",
     "output_type": "stream",
     "text": [
      "WARNING:root:No data to plot\n"
     ]
    },
    {
     "name": "stdout",
     "output_type": "stream",
     "text": [
      "After special True\n",
      "Time to wait is  180\n"
     ]
    },
    {
     "name": "stderr",
     "output_type": "stream",
     "text": [
      "WARNING:root:No data to plot\n"
     ]
    }
   ],
   "source": [
    "auto_program.data_dir"
   ]
  },
  {
   "cell_type": "code",
   "execution_count": 54,
   "metadata": {},
   "outputs": [],
   "source": [
    "ce_system.inlet_z.set_z(22)"
   ]
  },
  {
   "cell_type": "code",
   "execution_count": 31,
   "metadata": {},
   "outputs": [],
   "source": [
    "ce_system.outlet_pressure.rinse_pressure()"
   ]
  },
  {
   "cell_type": "code",
   "execution_count": 32,
   "metadata": {},
   "outputs": [],
   "source": [
    "ce_system.outlet_pressure.release()"
   ]
  },
  {
   "cell_type": "code",
   "execution_count": 42,
   "metadata": {},
   "outputs": [
    {
     "name": "stdout",
     "output_type": "stream",
     "text": [
      "Please enter the well name to move to (press enter to see a list): w_e7\n",
      "Please move the capillary using the fine adjustment knobs, or the z-stage base so that capillary is centered over this well.\n"
     ]
    }
   ],
   "source": [
    "name = get_value(\"Please enter the well name to move to (press enter to see a list): \", auto_program.template.wells.keys())\n",
    "well = auto_program.template.wells[name]\n",
    "ce_system.xy_stage.set_xy(well.xy)\n",
    "resp = input(\"Please move the capillary using the fine adjustment knobs, or the z-stage base so that capillary is centered over this well.\")\n"
   ]
  },
  {
   "cell_type": "code",
   "execution_count": 37,
   "metadata": {
    "scrolled": true
   },
   "outputs": [],
   "source": [
    "# CE Display\n",
    "ce_gram = DisplayWindows.PLTCEDisplay(ce_system)\n",
    "#ce_disp.stop()\n",
    "#ce_disp.show()\n",
    "ce_gram.start_live_view()\n",
    "ce_system.detector.start()"
   ]
  },
  {
   "cell_type": "code",
   "execution_count": 68,
   "metadata": {},
   "outputs": [
    {
     "name": "stdout",
     "output_type": "stream",
     "text": [
      "HEYYOO\n"
     ]
    }
   ],
   "source": [
    "# Microscope Display\n",
    "cam = DisplayWindows.PLTMicroscopeDisplay(ce_system)\n",
    "ce_system.camera.stop()\n",
    "cam.show()\n",
    "cam.live_image()"
   ]
  },
  {
   "cell_type": "code",
   "execution_count": 40,
   "metadata": {},
   "outputs": [
    {
     "data": {
      "text/plain": [
       "True"
      ]
     },
     "execution_count": 40,
     "metadata": {},
     "output_type": "execute_result"
    }
   ],
   "source": [
    "ce_system.camera.set_exposure(200)"
   ]
  },
  {
   "cell_type": "code",
   "execution_count": 49,
   "metadata": {},
   "outputs": [],
   "source": [
    "ce_system.xy_stage.controller.open()\n"
   ]
  },
  {
   "cell_type": "markdown",
   "metadata": {},
   "source": [
    "# Set the Focus Plane for the cells"
   ]
  },
  {
   "cell_type": "code",
   "execution_count": 9,
   "metadata": {},
   "outputs": [],
   "source": [
    "focus_plane = Focus.PlaneFocus(ce_system)\n",
    "\n",
    "#focus_plane.get_three_points()\n"
   ]
  },
  {
   "cell_type": "code",
   "execution_count": 20,
   "metadata": {},
   "outputs": [],
   "source": [
    "# run this three times\n",
    "focus_plane.give_response()"
   ]
  },
  {
   "cell_type": "code",
   "execution_count": 21,
   "metadata": {},
   "outputs": [
    {
     "data": {
      "text/plain": [
       "True"
      ]
     },
     "execution_count": 21,
     "metadata": {},
     "output_type": "execute_result"
    }
   ],
   "source": [
    "focus_plane.find_a_plane()"
   ]
  },
  {
   "cell_type": "code",
   "execution_count": 22,
   "metadata": {},
   "outputs": [],
   "source": [
    "with open('focus_save_me','w') as fout:\n",
    "    fout.write(f'focus_plane,{focus_plane._plane_coefficients}')"
   ]
  },
  {
   "cell_type": "code",
   "execution_count": 10,
   "metadata": {},
   "outputs": [],
   "source": [
    "with open('focus_save_me','r') as fin:\n",
    "    focus_plane._plane_coefficients= eval(fin.readline().split('focus_plane,')[1])\n",
    "    "
   ]
  },
  {
   "cell_type": "code",
   "execution_count": 16,
   "metadata": {},
   "outputs": [],
   "source": [
    "focus_plane.get_plane_focus()"
   ]
  },
  {
   "cell_type": "code",
   "execution_count": 25,
   "metadata": {},
   "outputs": [],
   "source": [
    "focus_search = Focus.FindFocus(ce_system)"
   ]
  },
  {
   "cell_type": "markdown",
   "metadata": {},
   "source": [
    "# Set the Capillary Adjustments"
   ]
  },
  {
   "cell_type": "code",
   "execution_count": 40,
   "metadata": {},
   "outputs": [],
   "source": [
    "# Move the objective to the height and run this cell to record it for next time\n",
    "obj_height = ce_system.objective.read_z()\n",
    "ce_system.objective.set_rel_z(+.05)"
   ]
  },
  {
   "cell_type": "code",
   "execution_count": 63,
   "metadata": {},
   "outputs": [],
   "source": [
    "ce_system.inlet_z.set_rel_z(-0.03)\n"
   ]
  },
  {
   "cell_type": "code",
   "execution_count": 69,
   "metadata": {},
   "outputs": [],
   "source": [
    "ce_system.inlet_z.set_z(5)"
   ]
  },
  {
   "cell_type": "code",
   "execution_count": 64,
   "metadata": {},
   "outputs": [],
   "source": [
    "# and record this height for next time \n",
    "cap_height = ce_system.inlet_z.read_z()\n",
    "cap_difference = obj_height - cap_height"
   ]
  },
  {
   "cell_type": "code",
   "execution_count": 65,
   "metadata": {},
   "outputs": [],
   "source": [
    "with open('save_me','w') as fout:\n",
    "    fout.write(f'cap_difference,{cap_difference}')"
   ]
  },
  {
   "cell_type": "code",
   "execution_count": 11,
   "metadata": {},
   "outputs": [],
   "source": [
    "with open('save_me','r') as fin:\n",
    "    cap_difference= float(fin.readline().split(',')[1])\n",
    "    "
   ]
  },
  {
   "cell_type": "markdown",
   "metadata": {},
   "source": [
    "# Single Cell Routine"
   ]
  },
  {
   "cell_type": "code",
   "execution_count": 12,
   "metadata": {},
   "outputs": [
    {
     "data": {
      "text/plain": [
       "-6.7641084"
      ]
     },
     "execution_count": 12,
     "metadata": {},
     "output_type": "execute_result"
    }
   ],
   "source": [
    "rep = get_yes_no(\"Do you want to raise the objective?\")\n",
    "if rep:\n",
    "    ce_system.objective_z.set_rel_z(+4)"
   ]
  },
  {
   "cell_type": "code",
   "execution_count": 16,
   "metadata": {},
   "outputs": [
    {
     "name": "stdout",
     "output_type": "stream",
     "text": [
      "are the cells in focus? (You may crush the capillary if not...) y\n",
      "-5.31\n"
     ]
    }
   ],
   "source": [
    "# on reruns, you just need to run this command when you have the cells in focus\n",
    "resp = get_yes_no(\"are the cells in focus? (You may crush the capillary if not...)\")\n",
    "if resp:\n",
    "    obj_height = ce_system.objective.read_z()\n",
    "    print(obj_height)\n",
    "    cap_z = get_cap_height(obj_height, cap_difference)\n",
    "    z = ce_system.inlet_z.read_z()\n",
    "    rel_z = cap_z-z\n",
    "    ce_system.inlet_z.set_rel_z(rel_z)\n",
    "else:\n",
    "    print(\"Bring cells into focus.\")"
   ]
  },
  {
   "cell_type": "code",
   "execution_count": 51,
   "metadata": {},
   "outputs": [],
   "source": [
    "# General Injection Parameters\n",
    "injection_time = 4 # in seconds\n",
    "gravity_drop = 0 # in millimeters\n",
    "voltage_level = 3 # in kilovolts\n",
    "delay = 0 # inseconds\n",
    "\n",
    "# Start the Single Cell Injection\n",
    "import threading\n",
    "las = ce_system.lysis_laser\n",
    "def limited_fire(ce_system, gravity_drop, voltage_level, injection_time):\n",
    "    time.sleep(delay)\n",
    "    print('Fire')\n",
    "    ce_system.outlet_z.set_rel_z(-gravity_drop)\n",
    "    ce_system.high_voltage.set_voltage(voltage_level)\n",
    "    ce_system.high_voltage.start()\n",
    "    start_time = time.time()\n",
    "    las.laser_standby()\n",
    "    time.sleep(1)\n",
    "    las.laser_fire()\n",
    "    while time.time()-start_time < injection_time:\n",
    "        time.sleep(0.5)\n",
    "        #ce_system.objective.set_rel_z(0.005)\n",
    "        #ce_system.xy_stage.set_rel_x(0.001)\n",
    "        #ce_system.lysis_laser.laser_fire()\n",
    "    ce_system.high_voltage.stop()\n",
    "    print(f\"Finished {time.time()-start_time}\")\n",
    "    ce_system.outlet_z.set_rel_z(gravity_drop)\n",
    "    \n",
    "\n",
    "threading.Thread(target=limited_fire, args=(ce_system, gravity_drop, voltage_level, injection_time)).start()"
   ]
  },
  {
   "cell_type": "code",
   "execution_count": null,
   "metadata": {},
   "outputs": [],
   "source": []
  },
  {
   "cell_type": "code",
   "execution_count": 53,
   "metadata": {},
   "outputs": [
    {
     "name": "stdout",
     "output_type": "stream",
     "text": [
      "After special True\n",
      "Time to wait is  3\n"
     ]
    },
    {
     "name": "stderr",
     "output_type": "stream",
     "text": [
      "WARNING:root:No data to plot\n"
     ]
    },
    {
     "name": "stdout",
     "output_type": "stream",
     "text": [
      "After special True\n",
      "Time to wait is  150\n"
     ]
    }
   ],
   "source": [
    "# Start the Method\n",
    "def go_ahead():\n",
    "    ce_system.inlet_z.set_rel_z(3)\n",
    "    time.sleep(2)\n",
    "    ce_system.objective.set_rel_z(-4)\n",
    "    if not auto_program.continue_event.is_set():\n",
    "        auto_program.continue_event.set()\n",
    "    else:\n",
    "        auto_program.start_run()\n",
    "threading.Thread(target=go_ahead).start()"
   ]
  },
  {
   "cell_type": "markdown",
   "metadata": {},
   "source": [
    "# Extra"
   ]
  },
  {
   "cell_type": "code",
   "execution_count": 35,
   "metadata": {},
   "outputs": [],
   "source": [
    "ce_system.inlet_z.set_z(22)"
   ]
  },
  {
   "cell_type": "code",
   "execution_count": 4,
   "metadata": {},
   "outputs": [],
   "source": [
    "las = ce_system.lysis_laser"
   ]
  },
  {
   "cell_type": "code",
   "execution_count": 9,
   "metadata": {},
   "outputs": [],
   "source": [
    "las.stop()"
   ]
  },
  {
   "cell_type": "code",
   "execution_count": 10,
   "metadata": {},
   "outputs": [],
   "source": [
    "las.laser_standby()"
   ]
  },
  {
   "cell_type": "code",
   "execution_count": 69,
   "metadata": {},
   "outputs": [],
   "source": [
    "stop_flag = threading.Event()\n",
    "\n",
    "def fire_on():\n",
    "    while not stop_flag.is_set():\n",
    "        las.laser_fire()\n",
    "        time.sleep(0.5)\n",
    "        \n",
    "threading.Thread(target=fire_on).start()"
   ]
  },
  {
   "cell_type": "code",
   "execution_count": 70,
   "metadata": {},
   "outputs": [],
   "source": [
    "stop_flag.set()"
   ]
  },
  {
   "cell_type": "code",
   "execution_count": 27,
   "metadata": {},
   "outputs": [
    {
     "data": {
      "text/plain": [
       "True"
      ]
     },
     "execution_count": 27,
     "metadata": {},
     "output_type": "execute_result"
    }
   ],
   "source": [
    "ce_system.camera.set_exposure(5)"
   ]
  },
  {
   "cell_type": "code",
   "execution_count": 10,
   "metadata": {},
   "outputs": [],
   "source": [
    "# PARAMETERS\n",
    "target_x = 871\n",
    "target_y = 585\n",
    "rgb_chnl = 'R'\n",
    "fluor_channel = 1\n",
    "wait = 0.25\n",
    "exp = 500\n",
    "_old_exp=100\n",
    "_old_bin = 1\n",
    "_old_channel = 0\n",
    "bins = 1\n",
    "conversion =0.0003125\n",
    "obj_40x = 0.0001607717041800643\n",
    "\n",
    "\n",
    "def pre_fluoresence(auto_shutter=False):\n",
    "    # SNAP a FLUOR IMAGE\n",
    "    # Set to new values\n",
    "    ce_system.inlet_rgb.turn_off_channel(rgb_chnl)\n",
    "    ce_system.camera.stop()\n",
    "    ce_system.filter_wheel.set_channel(fluor_channel)\n",
    "    if auto_shutter:\n",
    "        ce_system.excitation_shutter.set_auto_on()\n",
    "    #_old_exp = ce_system.camera.exposure\n",
    "    #ce_system.camera.set_binning(bins)\n",
    "    #_old_bin = ce_system.camera.bin_size\n",
    "    time.sleep(wait)\n",
    "    \n",
    "def post_fluoresence(auto_shutter=False):\n",
    "    # Return to old values\n",
    "    ce_system.camera.set_exposure(_old_exp)\n",
    "    #ce_system.camera.set_binning(_old_bin)\n",
    "    ce_system.excitation_shutter.set_auto_off()\n",
    "    ce_system.filter_wheel.set_channel(_old_channel)\n",
    "    ce_system.inlet_rgb.turn_on_channel(rgb_chnl)\n",
    "    ce_system.camera.continuous_snap()\n",
    "\n",
    "def get_cap_height(obj_height, cap_difference):\n",
    "    cap_height = obj_height - cap_difference\n",
    "    return cap_height\n",
    "\n",
    "def get_brightest_blobs(image):\n",
    "    close_size=5\n",
    "    open_size=5\n",
    "    watershed_footprint = (5,5)\n",
    "    # Make sure types are the same\n",
    "    input_image = img_as_float(img)\n",
    "\n",
    "    # Filter Image\n",
    "    filtered_image = filters.median(input_image, behavior='ndimage')\n",
    "\n",
    "    # Edge Detection\n",
    "    edge_sobel = filters.sobel(filtered_image)\n",
    "\n",
    "    # Threshold\n",
    "    thresh = filters.threshold_otsu(filtered_image)\n",
    "    binary_otsu = filtered_image > thresh\n",
    "\n",
    "    # Binary Morphology Operations\n",
    "    structure_element = morphology.disk(close_size)\n",
    "    closed_image = morphology.binary_closing(binary_otsu, structure_element)\n",
    "    structure_element = morphology.disk(open_size)\n",
    "    opened_image = morphology.binary_opening(closed_image, structure_element)\n",
    "\n",
    "    # Watershed\n",
    "    distance = distance_transform_edt(opened_image)\n",
    "    local_maxi = peak_local_max(distance, indices=False, footprint=np.ones(watershed_footprint), labels=opened_image)\n",
    "    markers = label(local_maxi)[0]\n",
    "    labels = watershed(-distance, markers, mask=opened_image)\n",
    "    \n",
    "    # Labeling and Sorting\n",
    "    regions = regionprops_table(labels, intensity_image=img, properties=('label', 'centroid', 'max_intensity', 'mean_intensity'))\n",
    "    df = pd.DataFrame(regions)\n",
    "    df = df.sort_values(by=['mean_intensity','max_intensity'], ascending=False)\n",
    "    \n",
    "    return df\n",
    "\n",
    "def move_to_blob(df):\n",
    "    if df.shape[0] > 0:\n",
    "        y=df['centroid-0'][0]*bins\n",
    "        x=df['centroid-1'][0]*bins\n",
    "\n",
    "        movex = (x-target_x)*conversion\n",
    "        movey = (y-target_y)*conversion\n",
    "        ce_system.xy_stage.set_rel_x(movex)\n",
    "        ce_system.xy_stage.set_rel_y(-movey)\n",
    "        \n",
    "def limited_fire(ce_system, gravity_drop, voltage_level, injection_time):\n",
    "    time.sleep(delay)\n",
    "    print('Fire')\n",
    "    ce_system.outlet_z.set_rel_z(-gravity_drop)\n",
    "    ce_system.high_voltage.set_voltage(voltage_level)\n",
    "    ce_system.high_voltage.start()\n",
    "    start_time = time.time()\n",
    "    ce_system.lysis_laser.laser_fire()\n",
    "    ce_system.objective.set_rel_z(-0.010)\n",
    "\n",
    "    while time.time()-start_time < injection_time:\n",
    "        if time.time()-start_time < 3:\n",
    "            ce_system.objective.set_rel_z(0.005)\n",
    "            ce_system.xy_stage.set_rel_x(0.001)\n",
    "            ce_system.lysis_laser.laser_fire()\n",
    "        time.sleep(0.35)\n",
    "    ce_system.high_voltage.stop()\n",
    "    print(f\"Finished {time.time()-start_time}\")\n",
    "    ce_system.outlet_z.set_rel_z(gravity_drop)"
   ]
  },
  {
   "cell_type": "code",
   "execution_count": 27,
   "metadata": {
    "scrolled": true
   },
   "outputs": [],
   "source": [
    "# Bring the Cells into focus\n",
    "fluor_channel = 3\n",
    "focus_plane.get_plane_focus()\n"
   ]
  },
  {
   "cell_type": "code",
   "execution_count": 28,
   "metadata": {
    "scrolled": false
   },
   "outputs": [
    {
     "ename": "NameError",
     "evalue": "name 'ImageSaver' is not defined",
     "output_type": "error",
     "traceback": [
      "\u001b[1;31m---------------------------------------------------------------------------\u001b[0m",
      "\u001b[1;31mNameError\u001b[0m                                 Traceback (most recent call last)",
      "\u001b[1;32m<ipython-input-28-7af91d04f872>\u001b[0m in \u001b[0;36m<module>\u001b[1;34m\u001b[0m\n\u001b[0;32m      1\u001b[0m \u001b[0mdata_dir\u001b[0m \u001b[1;33m=\u001b[0m \u001b[1;34mr\"C:\\Users\\Luke\\Documents\\Brae\\9-19-2020\\images\"\u001b[0m\u001b[1;33m\u001b[0m\u001b[1;33m\u001b[0m\u001b[0m\n\u001b[1;32m----> 2\u001b[1;33m \u001b[0mfluor_saver\u001b[0m \u001b[1;33m=\u001b[0m \u001b[0mImageSaver\u001b[0m\u001b[1;33m(\u001b[0m\u001b[0mce_system\u001b[0m\u001b[1;33m,\u001b[0m \u001b[0mfolder_prefix\u001b[0m\u001b[1;33m=\u001b[0m\u001b[1;34m'Picking'\u001b[0m\u001b[1;33m,\u001b[0m \u001b[0mdata_folder\u001b[0m\u001b[1;33m=\u001b[0m\u001b[0mdata_dir\u001b[0m\u001b[1;33m)\u001b[0m\u001b[1;33m\u001b[0m\u001b[1;33m\u001b[0m\u001b[0m\n\u001b[0m\u001b[0;32m      3\u001b[0m \u001b[0mfocus_saver\u001b[0m \u001b[1;33m=\u001b[0m \u001b[0mImageSaver\u001b[0m\u001b[1;33m(\u001b[0m\u001b[0mce_system\u001b[0m\u001b[1;33m,\u001b[0m \u001b[0mfolder_prefix\u001b[0m\u001b[1;33m=\u001b[0m\u001b[1;34m'Focusing'\u001b[0m\u001b[1;33m,\u001b[0m \u001b[0mdata_folder\u001b[0m\u001b[1;33m=\u001b[0m\u001b[0mdata_dir\u001b[0m\u001b[1;33m)\u001b[0m\u001b[1;33m\u001b[0m\u001b[1;33m\u001b[0m\u001b[0m\n\u001b[0;32m      4\u001b[0m \u001b[0mlysis_saver\u001b[0m \u001b[1;33m=\u001b[0m \u001b[0mImageSaver\u001b[0m\u001b[1;33m(\u001b[0m\u001b[0mce_system\u001b[0m\u001b[1;33m,\u001b[0m \u001b[0mfolder_prefix\u001b[0m\u001b[1;33m=\u001b[0m\u001b[1;34m'Lysis'\u001b[0m\u001b[1;33m,\u001b[0m \u001b[0mdata_folder\u001b[0m\u001b[1;33m=\u001b[0m\u001b[0mdata_dir\u001b[0m\u001b[1;33m)\u001b[0m\u001b[1;33m\u001b[0m\u001b[1;33m\u001b[0m\u001b[0m\n\u001b[0;32m      5\u001b[0m \u001b[1;33m\u001b[0m\u001b[0m\n",
      "\u001b[1;31mNameError\u001b[0m: name 'ImageSaver' is not defined"
     ]
    }
   ],
   "source": [
    "data_dir = r\"C:\\Users\\Luke\\Documents\\Brae\\9-19-2020\\images\"\n",
    "fluor_saver = ImageSaver(ce_system, folder_prefix='Picking', data_folder=data_dir)\n",
    "focus_saver = ImageSaver(ce_system, folder_prefix='Focusing', data_folder=data_dir)\n",
    "lysis_saver = ImageSaver(ce_system, folder_prefix='Lysis', data_folder=data_dir)\n",
    "\n",
    "def automatic_sampling():\n",
    "    # Bring the Cells into focus\n",
    "    fluor_channel = 3\n",
    "    focus_plane.get_plane_focus()\n",
    "    time.sleep(3)\n",
    "    \n",
    "    # Test Alec's Focus and get data\n",
    "    pre_fluoresence()\n",
    "    focus_saver.add_callback()\n",
    "    focus_search = Focus.FindFocus(ce_system)\n",
    "    focus_search.search_step_global()\n",
    "    focus_saver.remove_callback()\n",
    "    post_fluoresence()\n",
    "    focus_saver.save_image()\n",
    "    \n",
    "    # We don't Trust Alec's function yet\n",
    "    fluor_channel = 3\n",
    "    focus_plane.get_plane_focus()\n",
    "    \n",
    "    # Get Fluoresence Image for Best chance\n",
    "    fluor_channel = 1\n",
    "    pre_fluoresence()\n",
    "    fluor_saver.add_callback()\n",
    "    img = ce_system.camera.snap()\n",
    "    fluor_saver.remove_callback()\n",
    "    post_fluoresence()\n",
    "    \n",
    "    \n",
    "    # Move to the brighest blob\n",
    "    blobs = get_brightest_blobs(img)\n",
    "    move_to_blob(blobs)\n",
    "    \n",
    "    \n",
    "    # Bring the Cells into focus\n",
    "    fluor_channel = 3\n",
    "    focus_plane.get_plane_focus()\n",
    "    lysis_saver.add_callback()\n",
    "    time.sleep(0.5)\n",
    "    \n",
    "    # on reruns, you just need to run this command when you have the cells in focus\n",
    "    resp= True\n",
    "    if resp:\n",
    "        obj_height = ce_system.objective.read_z()\n",
    "        print(obj_height)\n",
    "        cap_z = get_cap_height(obj_height, cap_difference)\n",
    "        z = ce_system.inlet_z.read_z()\n",
    "        rel_z = cap_z-z\n",
    "        rel_z += 0.02\n",
    "        ce_system.inlet_z.set_rel_z(rel_z)\n",
    "    else:\n",
    "        print(\"Bring cells into focus.\")\n",
    "        raise RuntimeError(\"Cells not in Focus\")\n",
    "\n",
    "    time.sleep(5)\n",
    "    \n",
    "    # Start the Single Cell Injection\n",
    "    limited_fire(ce_system, gravity_drop, voltage_level, injection_time)\n",
    "    \n",
    "    # Prepare to start the method\n",
    "    ce_system.inlet_z.set_rel_z(3)\n",
    "    time.sleep(3)\n",
    "    lysis_saver.remove_callback()\n",
    "    lysis_saver.save_image()\n",
    "    \n",
    "    # Start the Method\n",
    "    ce_system.objective.set_rel_z(-3)\n",
    "    if not auto_program.continue_event.is_set():\n",
    "        auto_program.continue_event.set()\n",
    "    else:\n",
    "        auto_program.start_run()"
   ]
  },
  {
   "cell_type": "code",
   "execution_count": null,
   "metadata": {},
   "outputs": [],
   "source": [
    "light = "
   ]
  },
  {
   "cell_type": "markdown",
   "metadata": {},
   "source": [
    "# TE300 Automation"
   ]
  },
  {
   "cell_type": "code",
   "execution_count": 11,
   "metadata": {},
   "outputs": [],
   "source": [
    " # PARAMETERS\n",
    "target_x = 871\n",
    "target_y = 585\n",
    "rgb_chnl = 'B'\n",
    "fluor_channel = 4\n",
    "wait = 0.25\n",
    "exp = 500\n",
    "_old_exp=100\n",
    "_old_bin = 4\n",
    "_old_channel = 1\n",
    "light_channel = 'cyan'\n",
    "bins = 8\n",
    "obj_60x = 0.0001927525057825752\n",
    "conversion = obj_60x\n",
    "\n",
    "def te300_presnap(ce_sys=ce_system, intensity=1):\n",
    "    ce_system.excitation_wheel.set_intensity(['red','blue','green','cyan','uv','teal'],intensity)\n",
    "\n",
    "def te300_postsnap(ce_sys=ce_system, intensity=0):\n",
    "    ce_system.excitation_wheel.set_intensity(['red','blue','green','cyan','uv','teal'],intensity)\n",
    "\n",
    "def pre_fluoresence(auto_shutter=False):\n",
    "    # SNAP a FLUOR IMAGE\n",
    "    # Set to new values\n",
    "    ce_system.inlet_rgb.turn_off_channel(rgb_chnl)\n",
    "    ce_system.camera.stop()\n",
    "    ce_system.filter_wheel.set_channel(fluor_channel)\n",
    "    ce_system.excitation_wheel.set_channel([light_channel])\n",
    "    ce_system.camera.set_exposure(exp)\n",
    "    #_old_exp = ce_system.camera.exposure\n",
    "    ce_system.camera.set_binning(bins)\n",
    "    #_old_bin = ce_system.camera.bin_size\n",
    "    time.sleep(wait)\n",
    "    \n",
    "def post_fluoresence(auto_shutter=False):\n",
    "    # Return to old values\n",
    "    ce_system.camera.set_exposure(_old_exp)\n",
    "    #ce_system.camera.set_binning(_old_bin)\n",
    "    ce_system.filter_wheel.set_channel(_old_channel)\n",
    "    ce_system.inlet_rgb.turn_on_channel(rgb_chnl)\n",
    "    ce_system.excitation_wheel.set_channel([])\n",
    "    ce_system.camera.set_binning(_old_bin)\n",
    "    ce_system.camera.continuous_snap()\n",
    "\n",
    "ce_system.camera._presnap_callbacks=[]\n",
    "ce_system.camera._postsnap_callbacks=[]\n",
    "ce_system.camera.add_presnap_callback(te300_presnap,ce_sys=ce_system)\n",
    "ce_system.camera.add_postsnap_callback(te300_postsnap, ce_sys=ce_system)"
   ]
  },
  {
   "cell_type": "markdown",
   "metadata": {},
   "source": [
    "# Find the Brightest Cell"
   ]
  },
  {
   "cell_type": "code",
   "execution_count": 26,
   "metadata": {},
   "outputs": [
    {
     "name": "stdout",
     "output_type": "stream",
     "text": [
      "HEYYOO\n"
     ]
    },
    {
     "data": {
      "text/plain": [
       "<matplotlib.image.AxesImage at 0x271cdf5a588>"
      ]
     },
     "execution_count": 26,
     "metadata": {},
     "output_type": "execute_result"
    }
   ],
   "source": [
    "pre_fluoresence()\n",
    "img = ce_system.camera.snap()\n",
    "post_fluoresence()\n",
    "fig, ax = plt.subplots()\n",
    "ax.imshow(img)"
   ]
  },
  {
   "cell_type": "code",
   "execution_count": 15,
   "metadata": {},
   "outputs": [],
   "source": [
    "ce_system.filter_wheel.set_channel(1)"
   ]
  },
  {
   "cell_type": "code",
   "execution_count": 32,
   "metadata": {},
   "outputs": [],
   "source": [
    "ce_system.outlet_pressure.rinse_pressure()"
   ]
  },
  {
   "cell_type": "code",
   "execution_count": 31,
   "metadata": {},
   "outputs": [],
   "source": [
    "ce_system.outlet_pressure.release()"
   ]
  },
  {
   "cell_type": "code",
   "execution_count": 16,
   "metadata": {},
   "outputs": [
    {
     "data": {
      "text/plain": [
       "'R:On, G:Off, B:On'"
      ]
     },
     "execution_count": 16,
     "metadata": {},
     "output_type": "execute_result"
    }
   ],
   "source": [
    "ce_system.inlet_rgb.turn_on_channel('B')"
   ]
  },
  {
   "cell_type": "code",
   "execution_count": 17,
   "metadata": {},
   "outputs": [
    {
     "data": {
      "text/plain": [
       "'R:Off, G:Off, B:On'"
      ]
     },
     "execution_count": 17,
     "metadata": {},
     "output_type": "execute_result"
    }
   ],
   "source": [
    "ce_system.inlet_rgb.turn_off_channel('R')"
   ]
  },
  {
   "cell_type": "code",
   "execution_count": 13,
   "metadata": {},
   "outputs": [],
   "source": [
    "ce_system.excitation_wheel.set_channel(['cyan'])"
   ]
  },
  {
   "cell_type": "code",
   "execution_count": 19,
   "metadata": {},
   "outputs": [
    {
     "name": "stdout",
     "output_type": "stream",
     "text": [
      "hi there\n"
     ]
    },
    {
     "data": {
      "text/plain": [
       "array([[199, 203, 198, ..., 196, 199, 202],\n",
       "       [201, 200, 199, ..., 200, 203, 196],\n",
       "       [204, 202, 200, ..., 198, 196, 200],\n",
       "       ...,\n",
       "       [204, 199, 198, ..., 192, 195, 192],\n",
       "       [201, 195, 197, ..., 195, 196, 197],\n",
       "       [197, 201, 197, ..., 197, 196, 193]], dtype=uint16)"
      ]
     },
     "execution_count": 19,
     "metadata": {},
     "output_type": "execute_result"
    }
   ],
   "source": [
    "ce_system.camera.snap()"
   ]
  },
  {
   "cell_type": "code",
   "execution_count": 271,
   "metadata": {},
   "outputs": [],
   "source": [
    "# Bring the Cells into focus\n",
    "fluor_channel = 3\n",
    "focus_plane.get_plane_focus()\n"
   ]
  },
  {
   "cell_type": "code",
   "execution_count": 236,
   "metadata": {},
   "outputs": [
    {
     "name": "stdout",
     "output_type": "stream",
     "text": [
      "HEYYOO\n"
     ]
    }
   ],
   "source": [
    "# Search for the best focal plane near here\n",
    "pre_fluoresence()\n",
    "focus_search.search_step_global()\n",
    "post_fluoresence()"
   ]
  },
  {
   "cell_type": "code",
   "execution_count": 258,
   "metadata": {},
   "outputs": [
    {
     "name": "stdout",
     "output_type": "stream",
     "text": [
      "HEYYOO\n"
     ]
    }
   ],
   "source": [
    "fluor_channel = 1\n",
    "pre_fluoresence()\n",
    "img = ce_system.camera.snap()\n",
    "post_fluoresence()\n"
   ]
  },
  {
   "cell_type": "code",
   "execution_count": 184,
   "metadata": {},
   "outputs": [
    {
     "data": {
      "text/plain": [
       "<matplotlib.image.AxesImage at 0x2394716c148>"
      ]
     },
     "execution_count": 184,
     "metadata": {},
     "output_type": "execute_result"
    }
   ],
   "source": [
    "plt.figure()\n",
    "plt.imshow(img)"
   ]
  },
  {
   "cell_type": "code",
   "execution_count": 259,
   "metadata": {},
   "outputs": [],
   "source": [
    "close_size=5\n",
    "open_size=5\n",
    "watershed_footprint = (5,5)\n",
    "# Make sure types are the same\n",
    "input_image = img_as_float(img)\n",
    "\n",
    "# Filter Image\n",
    "filtered_image = filters.median(input_image, behavior='ndimage')\n",
    "\n",
    "# Edge Detection\n",
    "edge_sobel = filters.sobel(filtered_image)\n",
    "\n",
    "# Threshold\n",
    "thresh = filters.threshold_otsu(filtered_image)\n",
    "binary_otsu = filtered_image > thresh\n",
    "\n",
    "# Binary Morphology Operations\n",
    "structure_element = morphology.disk(close_size)\n",
    "closed_image = morphology.binary_closing(binary_otsu, structure_element)\n",
    "structure_element = morphology.disk(open_size)\n",
    "opened_image = morphology.binary_opening(closed_image, structure_element)\n",
    "\n",
    "# Watershed\n",
    "distance = distance_transform_edt(opened_image)\n",
    "local_maxi = peak_local_max(distance, indices=False, footprint=np.ones(watershed_footprint), labels=opened_image)\n",
    "markers = label(local_maxi)[0]\n",
    "labels = watershed(-distance, markers, mask=opened_image)\n",
    "\n",
    "plt.figure()\n",
    "plt.imshow(labels)\n",
    "\n",
    "regions = regionprops_table(labels, intensity_image=img, properties=('label', 'centroid', 'max_intensity', 'mean_intensity'))\n",
    "\n",
    "\n",
    "df = pd.DataFrame(regions)\n",
    "\n",
    "df = df.sort_values(by=['mean_intensity','max_intensity'], ascending=False)"
   ]
  },
  {
   "cell_type": "code",
   "execution_count": 260,
   "metadata": {},
   "outputs": [],
   "source": [
    "if df.shape[0] > 0:\n",
    "    y=df['centroid-0'][0]*bins\n",
    "    x=df['centroid-1'][0]*bins\n",
    "    \n",
    "    movex = (x-target_x)*conversion\n",
    "    movey = (y-target_y)*conversion\n",
    "    ce_system.xy_stage.set_rel_x(movex)\n",
    "    ce_system.xy_stage.set_rel_y(-movey)"
   ]
  },
  {
   "cell_type": "markdown",
   "metadata": {},
   "source": [
    "# Single Cell Injection/Load "
   ]
  },
  {
   "cell_type": "code",
   "execution_count": 54,
   "metadata": {},
   "outputs": [],
   "source": [
    "focus_plane.get_plane_focus()"
   ]
  },
  {
   "cell_type": "code",
   "execution_count": 7,
   "metadata": {},
   "outputs": [],
   "source": [
    "ce_system.filter_wheel.set_channel(1)"
   ]
  },
  {
   "cell_type": "code",
   "execution_count": 55,
   "metadata": {},
   "outputs": [
    {
     "name": "stdout",
     "output_type": "stream",
     "text": [
      "HEYYOO\n"
     ]
    },
    {
     "data": {
      "text/plain": [
       "<matplotlib.image.AxesImage at 0x271ce4c8708>"
      ]
     },
     "execution_count": 55,
     "metadata": {},
     "output_type": "execute_result"
    }
   ],
   "source": [
    "pre_fluoresence()\n",
    "img = ce_system.camera.snap()\n",
    "post_fluoresence()\n",
    "fig, ax = plt.subplots()\n",
    "ax.imshow(img)"
   ]
  },
  {
   "cell_type": "code",
   "execution_count": 16,
   "metadata": {},
   "outputs": [
    {
     "name": "stdout",
     "output_type": "stream",
     "text": [
      "are the cells in focus? (You may crush the capillary if not...) y\n",
      "-5.31\n"
     ]
    }
   ],
   "source": [
    "# on reruns, you just need to run this command when you have the cells in focus\n",
    "resp = get_yes_no(\"are the cells in focus? (You may crush the capillary if not...)\")\n",
    "if resp:\n",
    "    obj_height = ce_system.objective.read_z()\n",
    "    print(obj_height)\n",
    "    cap_z = get_cap_height(obj_height, cap_difference)\n",
    "    z = ce_system.inlet_z.read_z()\n",
    "    rel_z = cap_z-z\n",
    "    ce_system.inlet_z.set_rel_z(rel_z)\n",
    "else:\n",
    "    print(\"Bring cells into focus.\")"
   ]
  },
  {
   "cell_type": "code",
   "execution_count": null,
   "metadata": {},
   "outputs": [],
   "source": []
  },
  {
   "cell_type": "code",
   "execution_count": 225,
   "metadata": {},
   "outputs": [],
   "source": [
    "# Raise the objective for optimal plasma formation\n",
    "ce_system.objective.set_rel_z(-.01)"
   ]
  },
  {
   "cell_type": "code",
   "execution_count": 17,
   "metadata": {},
   "outputs": [],
   "source": [
    "# Lower the capillary (ADJUSTMENT)\n",
    "ce_system.inlet_z.set_rel_z(-0.065)"
   ]
  },
  {
   "cell_type": "code",
   "execution_count": 51,
   "metadata": {},
   "outputs": [],
   "source": [
    "# General Injection Parameters\n",
    "injection_time = 4 # in seconds\n",
    "gravity_drop = 0 # in millimeters\n",
    "voltage_level = 3 # in kilovolts\n",
    "delay = 0 # inseconds\n",
    "\n",
    "# Start the Single Cell Injection\n",
    "import threading\n",
    "\n",
    "def limited_fire(ce_system, gravity_drop, voltage_level, injection_time):\n",
    "    time.sleep(delay)\n",
    "    print('Fire')\n",
    "    ce_system.outlet_z.set_rel_z(-gravity_drop)\n",
    "    ce_system.high_voltage.set_voltage(voltage_level)\n",
    "    ce_system.high_voltage.start()\n",
    "    ce_system.objective.set_rel_z(-0.02)\n",
    "    start_time = time.time()\n",
    "    while time.time()-start_time < injection_time:\n",
    "        time.sleep(0.5)\n",
    "        ce_system.objective.set_rel_z(0.005)\n",
    "        ce_system.xy_stage.set_rel_x(0.001)\n",
    "        #ce_system.lysis_laser.laser_fire()\n",
    "    ce_system.high_voltage.stop()\n",
    "    print(f\"Finished {time.time()-start_time}\")\n",
    "    ce_system.outlet_z.set_rel_z(gravity_drop)\n",
    "    \n",
    "\n",
    "threading.Thread(target=limited_fire, args=(ce_system, gravity_drop, voltage_level, injection_time)).start()"
   ]
  },
  {
   "cell_type": "code",
   "execution_count": 22,
   "metadata": {},
   "outputs": [],
   "source": [
    "ce_system.inlet_z.set_rel_z(3)"
   ]
  },
  {
   "cell_type": "code",
   "execution_count": 244,
   "metadata": {},
   "outputs": [
    {
     "name": "stdout",
     "output_type": "stream",
     "text": [
      "Press enter to fire, press q to exitq\n"
     ]
    }
   ],
   "source": [
    "resp = \"\"\n",
    "while resp != 'q':\n",
    "    resp=input(\"Press enter to fire, press q to exit\")\n",
    "    if resp != 'q':\n",
    "        ce_system.lysis_laser.laser_fire()"
   ]
  },
  {
   "cell_type": "code",
   "execution_count": 53,
   "metadata": {},
   "outputs": [
    {
     "name": "stdout",
     "output_type": "stream",
     "text": [
      "After special True\n",
      "Time to wait is  3\n"
     ]
    },
    {
     "name": "stderr",
     "output_type": "stream",
     "text": [
      "WARNING:root:No data to plot\n"
     ]
    },
    {
     "name": "stdout",
     "output_type": "stream",
     "text": [
      "After special True\n",
      "Time to wait is  150\n"
     ]
    }
   ],
   "source": [
    "# Start the Method\n",
    "def go_ahead():\n",
    "    ce_system.inlet_z.set_rel_z(3)\n",
    "    time.sleep(2)\n",
    "    ce_system.objective.set_rel_z(-6)\n",
    "    if not auto_program.continue_event.is_set():\n",
    "        auto_program.continue_event.set()\n",
    "    else:\n",
    "        auto_program.start_run()\n",
    "threading.Thread(target=go_ahead).start()"
   ]
  },
  {
   "cell_type": "code",
   "execution_count": null,
   "metadata": {},
   "outputs": [],
   "source": [
    "print('hi')"
   ]
  },
  {
   "cell_type": "code",
   "execution_count": 23,
   "metadata": {},
   "outputs": [],
   "source": [
    "im = ImageSaver(ce_system,folder_prefix='degradation',data_folder=r\"C:\\Users\\NikonTE300CE\\Desktop\\Brae\\9-24-2020\")"
   ]
  },
  {
   "cell_type": "code",
   "execution_count": 27,
   "metadata": {},
   "outputs": [],
   "source": [
    "im.remove_callback()\n"
   ]
  },
  {
   "cell_type": "code",
   "execution_count": 17,
   "metadata": {},
   "outputs": [
    {
     "data": {
      "text/plain": [
       "100"
      ]
     },
     "execution_count": 17,
     "metadata": {},
     "output_type": "execute_result"
    }
   ],
   "source": [
    "len(im.images)"
   ]
  },
  {
   "cell_type": "code",
   "execution_count": 13,
   "metadata": {},
   "outputs": [],
   "source": [
    "im.remove_callback()"
   ]
  },
  {
   "cell_type": "code",
   "execution_count": 19,
   "metadata": {
    "scrolled": false
   },
   "outputs": [
    {
     "name": "stdout",
     "output_type": "stream",
     "text": [
      "HEYYOO\n"
     ]
    }
   ],
   "source": [
    "im = ImageSaver(ce_system,folder_prefix='degradation',data_folder=r\"C:\\Users\\NikonTE300CE\\Desktop\\Brae\\9-24-2020\")\n",
    "def run_me():\n",
    "    \n",
    "    pre_fluoresence()\n",
    "    im.add_callback()\n",
    "    for i in range(100):\n",
    "        img = ce_system.camera.snap()\n",
    "        #fig, ax = plt.subplots()\n",
    "        #ax.imshow(img)\n",
    "    im.remove_callback()\n",
    "    post_fluoresence()\n",
    "    \n",
    "threading.Thread(target=run_me).start()\n"
   ]
  },
  {
   "cell_type": "code",
   "execution_count": 20,
   "metadata": {},
   "outputs": [
    {
     "name": "stderr",
     "output_type": "stream",
     "text": [
      "C:\\Users\\NikonTE300CE\\Miniconda3\\envs\\CEpy37\\lib\\site-packages\\ipykernel_launcher.py:42: UserWarning: C:\\Users\\NikonTE300CE\\Desktop\\Brae\\9-24-2020\\img.tiff is a low contrast image\n",
      "C:\\Users\\NikonTE300CE\\Miniconda3\\envs\\CEpy37\\lib\\site-packages\\ipykernel_launcher.py:42: UserWarning: C:\\Users\\NikonTE300CE\\Desktop\\Brae\\9-24-2020\\img_00000.tiff is a low contrast image\n",
      "C:\\Users\\NikonTE300CE\\Miniconda3\\envs\\CEpy37\\lib\\site-packages\\ipykernel_launcher.py:42: UserWarning: C:\\Users\\NikonTE300CE\\Desktop\\Brae\\9-24-2020\\img_00001.tiff is a low contrast image\n",
      "C:\\Users\\NikonTE300CE\\Miniconda3\\envs\\CEpy37\\lib\\site-packages\\ipykernel_launcher.py:42: UserWarning: C:\\Users\\NikonTE300CE\\Desktop\\Brae\\9-24-2020\\img_00002.tiff is a low contrast image\n",
      "C:\\Users\\NikonTE300CE\\Miniconda3\\envs\\CEpy37\\lib\\site-packages\\ipykernel_launcher.py:42: UserWarning: C:\\Users\\NikonTE300CE\\Desktop\\Brae\\9-24-2020\\img_00003.tiff is a low contrast image\n",
      "C:\\Users\\NikonTE300CE\\Miniconda3\\envs\\CEpy37\\lib\\site-packages\\ipykernel_launcher.py:42: UserWarning: C:\\Users\\NikonTE300CE\\Desktop\\Brae\\9-24-2020\\img_00004.tiff is a low contrast image\n",
      "C:\\Users\\NikonTE300CE\\Miniconda3\\envs\\CEpy37\\lib\\site-packages\\ipykernel_launcher.py:42: UserWarning: C:\\Users\\NikonTE300CE\\Desktop\\Brae\\9-24-2020\\img_00005.tiff is a low contrast image\n",
      "C:\\Users\\NikonTE300CE\\Miniconda3\\envs\\CEpy37\\lib\\site-packages\\ipykernel_launcher.py:42: UserWarning: C:\\Users\\NikonTE300CE\\Desktop\\Brae\\9-24-2020\\img_00006.tiff is a low contrast image\n",
      "C:\\Users\\NikonTE300CE\\Miniconda3\\envs\\CEpy37\\lib\\site-packages\\ipykernel_launcher.py:42: UserWarning: C:\\Users\\NikonTE300CE\\Desktop\\Brae\\9-24-2020\\img_00007.tiff is a low contrast image\n",
      "C:\\Users\\NikonTE300CE\\Miniconda3\\envs\\CEpy37\\lib\\site-packages\\ipykernel_launcher.py:42: UserWarning: C:\\Users\\NikonTE300CE\\Desktop\\Brae\\9-24-2020\\img_00008.tiff is a low contrast image\n",
      "C:\\Users\\NikonTE300CE\\Miniconda3\\envs\\CEpy37\\lib\\site-packages\\ipykernel_launcher.py:42: UserWarning: C:\\Users\\NikonTE300CE\\Desktop\\Brae\\9-24-2020\\img_00009.tiff is a low contrast image\n",
      "C:\\Users\\NikonTE300CE\\Miniconda3\\envs\\CEpy37\\lib\\site-packages\\ipykernel_launcher.py:42: UserWarning: C:\\Users\\NikonTE300CE\\Desktop\\Brae\\9-24-2020\\img_00010.tiff is a low contrast image\n",
      "C:\\Users\\NikonTE300CE\\Miniconda3\\envs\\CEpy37\\lib\\site-packages\\ipykernel_launcher.py:42: UserWarning: C:\\Users\\NikonTE300CE\\Desktop\\Brae\\9-24-2020\\img_00011.tiff is a low contrast image\n",
      "C:\\Users\\NikonTE300CE\\Miniconda3\\envs\\CEpy37\\lib\\site-packages\\ipykernel_launcher.py:42: UserWarning: C:\\Users\\NikonTE300CE\\Desktop\\Brae\\9-24-2020\\img_00012.tiff is a low contrast image\n",
      "C:\\Users\\NikonTE300CE\\Miniconda3\\envs\\CEpy37\\lib\\site-packages\\ipykernel_launcher.py:42: UserWarning: C:\\Users\\NikonTE300CE\\Desktop\\Brae\\9-24-2020\\img_00013.tiff is a low contrast image\n",
      "C:\\Users\\NikonTE300CE\\Miniconda3\\envs\\CEpy37\\lib\\site-packages\\ipykernel_launcher.py:42: UserWarning: C:\\Users\\NikonTE300CE\\Desktop\\Brae\\9-24-2020\\img_00014.tiff is a low contrast image\n",
      "C:\\Users\\NikonTE300CE\\Miniconda3\\envs\\CEpy37\\lib\\site-packages\\ipykernel_launcher.py:42: UserWarning: C:\\Users\\NikonTE300CE\\Desktop\\Brae\\9-24-2020\\img_00015.tiff is a low contrast image\n",
      "C:\\Users\\NikonTE300CE\\Miniconda3\\envs\\CEpy37\\lib\\site-packages\\ipykernel_launcher.py:42: UserWarning: C:\\Users\\NikonTE300CE\\Desktop\\Brae\\9-24-2020\\img_00016.tiff is a low contrast image\n",
      "C:\\Users\\NikonTE300CE\\Miniconda3\\envs\\CEpy37\\lib\\site-packages\\ipykernel_launcher.py:42: UserWarning: C:\\Users\\NikonTE300CE\\Desktop\\Brae\\9-24-2020\\img_00017.tiff is a low contrast image\n",
      "C:\\Users\\NikonTE300CE\\Miniconda3\\envs\\CEpy37\\lib\\site-packages\\ipykernel_launcher.py:42: UserWarning: C:\\Users\\NikonTE300CE\\Desktop\\Brae\\9-24-2020\\img_00018.tiff is a low contrast image\n",
      "C:\\Users\\NikonTE300CE\\Miniconda3\\envs\\CEpy37\\lib\\site-packages\\ipykernel_launcher.py:42: UserWarning: C:\\Users\\NikonTE300CE\\Desktop\\Brae\\9-24-2020\\img_00019.tiff is a low contrast image\n",
      "C:\\Users\\NikonTE300CE\\Miniconda3\\envs\\CEpy37\\lib\\site-packages\\ipykernel_launcher.py:42: UserWarning: C:\\Users\\NikonTE300CE\\Desktop\\Brae\\9-24-2020\\img_00020.tiff is a low contrast image\n",
      "C:\\Users\\NikonTE300CE\\Miniconda3\\envs\\CEpy37\\lib\\site-packages\\ipykernel_launcher.py:42: UserWarning: C:\\Users\\NikonTE300CE\\Desktop\\Brae\\9-24-2020\\img_00021.tiff is a low contrast image\n",
      "C:\\Users\\NikonTE300CE\\Miniconda3\\envs\\CEpy37\\lib\\site-packages\\ipykernel_launcher.py:42: UserWarning: C:\\Users\\NikonTE300CE\\Desktop\\Brae\\9-24-2020\\img_00022.tiff is a low contrast image\n",
      "C:\\Users\\NikonTE300CE\\Miniconda3\\envs\\CEpy37\\lib\\site-packages\\ipykernel_launcher.py:42: UserWarning: C:\\Users\\NikonTE300CE\\Desktop\\Brae\\9-24-2020\\img_00023.tiff is a low contrast image\n",
      "C:\\Users\\NikonTE300CE\\Miniconda3\\envs\\CEpy37\\lib\\site-packages\\ipykernel_launcher.py:42: UserWarning: C:\\Users\\NikonTE300CE\\Desktop\\Brae\\9-24-2020\\img_00024.tiff is a low contrast image\n",
      "C:\\Users\\NikonTE300CE\\Miniconda3\\envs\\CEpy37\\lib\\site-packages\\ipykernel_launcher.py:42: UserWarning: C:\\Users\\NikonTE300CE\\Desktop\\Brae\\9-24-2020\\img_00025.tiff is a low contrast image\n",
      "C:\\Users\\NikonTE300CE\\Miniconda3\\envs\\CEpy37\\lib\\site-packages\\ipykernel_launcher.py:42: UserWarning: C:\\Users\\NikonTE300CE\\Desktop\\Brae\\9-24-2020\\img_00026.tiff is a low contrast image\n",
      "C:\\Users\\NikonTE300CE\\Miniconda3\\envs\\CEpy37\\lib\\site-packages\\ipykernel_launcher.py:42: UserWarning: C:\\Users\\NikonTE300CE\\Desktop\\Brae\\9-24-2020\\img_00027.tiff is a low contrast image\n",
      "C:\\Users\\NikonTE300CE\\Miniconda3\\envs\\CEpy37\\lib\\site-packages\\ipykernel_launcher.py:42: UserWarning: C:\\Users\\NikonTE300CE\\Desktop\\Brae\\9-24-2020\\img_00028.tiff is a low contrast image\n",
      "C:\\Users\\NikonTE300CE\\Miniconda3\\envs\\CEpy37\\lib\\site-packages\\ipykernel_launcher.py:42: UserWarning: C:\\Users\\NikonTE300CE\\Desktop\\Brae\\9-24-2020\\img_00029.tiff is a low contrast image\n",
      "C:\\Users\\NikonTE300CE\\Miniconda3\\envs\\CEpy37\\lib\\site-packages\\ipykernel_launcher.py:42: UserWarning: C:\\Users\\NikonTE300CE\\Desktop\\Brae\\9-24-2020\\img_00030.tiff is a low contrast image\n",
      "C:\\Users\\NikonTE300CE\\Miniconda3\\envs\\CEpy37\\lib\\site-packages\\ipykernel_launcher.py:42: UserWarning: C:\\Users\\NikonTE300CE\\Desktop\\Brae\\9-24-2020\\img_00031.tiff is a low contrast image\n",
      "C:\\Users\\NikonTE300CE\\Miniconda3\\envs\\CEpy37\\lib\\site-packages\\ipykernel_launcher.py:42: UserWarning: C:\\Users\\NikonTE300CE\\Desktop\\Brae\\9-24-2020\\img_00032.tiff is a low contrast image\n",
      "C:\\Users\\NikonTE300CE\\Miniconda3\\envs\\CEpy37\\lib\\site-packages\\ipykernel_launcher.py:42: UserWarning: C:\\Users\\NikonTE300CE\\Desktop\\Brae\\9-24-2020\\img_00033.tiff is a low contrast image\n",
      "C:\\Users\\NikonTE300CE\\Miniconda3\\envs\\CEpy37\\lib\\site-packages\\ipykernel_launcher.py:42: UserWarning: C:\\Users\\NikonTE300CE\\Desktop\\Brae\\9-24-2020\\img_00034.tiff is a low contrast image\n",
      "C:\\Users\\NikonTE300CE\\Miniconda3\\envs\\CEpy37\\lib\\site-packages\\ipykernel_launcher.py:42: UserWarning: C:\\Users\\NikonTE300CE\\Desktop\\Brae\\9-24-2020\\img_00035.tiff is a low contrast image\n",
      "C:\\Users\\NikonTE300CE\\Miniconda3\\envs\\CEpy37\\lib\\site-packages\\ipykernel_launcher.py:42: UserWarning: C:\\Users\\NikonTE300CE\\Desktop\\Brae\\9-24-2020\\img_00036.tiff is a low contrast image\n",
      "C:\\Users\\NikonTE300CE\\Miniconda3\\envs\\CEpy37\\lib\\site-packages\\ipykernel_launcher.py:42: UserWarning: C:\\Users\\NikonTE300CE\\Desktop\\Brae\\9-24-2020\\img_00037.tiff is a low contrast image\n",
      "C:\\Users\\NikonTE300CE\\Miniconda3\\envs\\CEpy37\\lib\\site-packages\\ipykernel_launcher.py:42: UserWarning: C:\\Users\\NikonTE300CE\\Desktop\\Brae\\9-24-2020\\img_00038.tiff is a low contrast image\n",
      "C:\\Users\\NikonTE300CE\\Miniconda3\\envs\\CEpy37\\lib\\site-packages\\ipykernel_launcher.py:42: UserWarning: C:\\Users\\NikonTE300CE\\Desktop\\Brae\\9-24-2020\\img_00039.tiff is a low contrast image\n",
      "C:\\Users\\NikonTE300CE\\Miniconda3\\envs\\CEpy37\\lib\\site-packages\\ipykernel_launcher.py:42: UserWarning: C:\\Users\\NikonTE300CE\\Desktop\\Brae\\9-24-2020\\img_00040.tiff is a low contrast image\n",
      "C:\\Users\\NikonTE300CE\\Miniconda3\\envs\\CEpy37\\lib\\site-packages\\ipykernel_launcher.py:42: UserWarning: C:\\Users\\NikonTE300CE\\Desktop\\Brae\\9-24-2020\\img_00041.tiff is a low contrast image\n",
      "C:\\Users\\NikonTE300CE\\Miniconda3\\envs\\CEpy37\\lib\\site-packages\\ipykernel_launcher.py:42: UserWarning: C:\\Users\\NikonTE300CE\\Desktop\\Brae\\9-24-2020\\img_00042.tiff is a low contrast image\n",
      "C:\\Users\\NikonTE300CE\\Miniconda3\\envs\\CEpy37\\lib\\site-packages\\ipykernel_launcher.py:42: UserWarning: C:\\Users\\NikonTE300CE\\Desktop\\Brae\\9-24-2020\\img_00043.tiff is a low contrast image\n",
      "C:\\Users\\NikonTE300CE\\Miniconda3\\envs\\CEpy37\\lib\\site-packages\\ipykernel_launcher.py:42: UserWarning: C:\\Users\\NikonTE300CE\\Desktop\\Brae\\9-24-2020\\img_00044.tiff is a low contrast image\n",
      "C:\\Users\\NikonTE300CE\\Miniconda3\\envs\\CEpy37\\lib\\site-packages\\ipykernel_launcher.py:42: UserWarning: C:\\Users\\NikonTE300CE\\Desktop\\Brae\\9-24-2020\\img_00045.tiff is a low contrast image\n",
      "C:\\Users\\NikonTE300CE\\Miniconda3\\envs\\CEpy37\\lib\\site-packages\\ipykernel_launcher.py:42: UserWarning: C:\\Users\\NikonTE300CE\\Desktop\\Brae\\9-24-2020\\img_00046.tiff is a low contrast image\n",
      "C:\\Users\\NikonTE300CE\\Miniconda3\\envs\\CEpy37\\lib\\site-packages\\ipykernel_launcher.py:42: UserWarning: C:\\Users\\NikonTE300CE\\Desktop\\Brae\\9-24-2020\\img_00047.tiff is a low contrast image\n",
      "C:\\Users\\NikonTE300CE\\Miniconda3\\envs\\CEpy37\\lib\\site-packages\\ipykernel_launcher.py:42: UserWarning: C:\\Users\\NikonTE300CE\\Desktop\\Brae\\9-24-2020\\img_00048.tiff is a low contrast image\n",
      "C:\\Users\\NikonTE300CE\\Miniconda3\\envs\\CEpy37\\lib\\site-packages\\ipykernel_launcher.py:42: UserWarning: C:\\Users\\NikonTE300CE\\Desktop\\Brae\\9-24-2020\\img_00049.tiff is a low contrast image\n",
      "C:\\Users\\NikonTE300CE\\Miniconda3\\envs\\CEpy37\\lib\\site-packages\\ipykernel_launcher.py:42: UserWarning: C:\\Users\\NikonTE300CE\\Desktop\\Brae\\9-24-2020\\img_00050.tiff is a low contrast image\n",
      "C:\\Users\\NikonTE300CE\\Miniconda3\\envs\\CEpy37\\lib\\site-packages\\ipykernel_launcher.py:42: UserWarning: C:\\Users\\NikonTE300CE\\Desktop\\Brae\\9-24-2020\\img_00051.tiff is a low contrast image\n",
      "C:\\Users\\NikonTE300CE\\Miniconda3\\envs\\CEpy37\\lib\\site-packages\\ipykernel_launcher.py:42: UserWarning: C:\\Users\\NikonTE300CE\\Desktop\\Brae\\9-24-2020\\img_00052.tiff is a low contrast image\n",
      "C:\\Users\\NikonTE300CE\\Miniconda3\\envs\\CEpy37\\lib\\site-packages\\ipykernel_launcher.py:42: UserWarning: C:\\Users\\NikonTE300CE\\Desktop\\Brae\\9-24-2020\\img_00053.tiff is a low contrast image\n",
      "C:\\Users\\NikonTE300CE\\Miniconda3\\envs\\CEpy37\\lib\\site-packages\\ipykernel_launcher.py:42: UserWarning: C:\\Users\\NikonTE300CE\\Desktop\\Brae\\9-24-2020\\img_00054.tiff is a low contrast image\n",
      "C:\\Users\\NikonTE300CE\\Miniconda3\\envs\\CEpy37\\lib\\site-packages\\ipykernel_launcher.py:42: UserWarning: C:\\Users\\NikonTE300CE\\Desktop\\Brae\\9-24-2020\\img_00055.tiff is a low contrast image\n",
      "C:\\Users\\NikonTE300CE\\Miniconda3\\envs\\CEpy37\\lib\\site-packages\\ipykernel_launcher.py:42: UserWarning: C:\\Users\\NikonTE300CE\\Desktop\\Brae\\9-24-2020\\img_00056.tiff is a low contrast image\n",
      "C:\\Users\\NikonTE300CE\\Miniconda3\\envs\\CEpy37\\lib\\site-packages\\ipykernel_launcher.py:42: UserWarning: C:\\Users\\NikonTE300CE\\Desktop\\Brae\\9-24-2020\\img_00057.tiff is a low contrast image\n",
      "C:\\Users\\NikonTE300CE\\Miniconda3\\envs\\CEpy37\\lib\\site-packages\\ipykernel_launcher.py:42: UserWarning: C:\\Users\\NikonTE300CE\\Desktop\\Brae\\9-24-2020\\img_00058.tiff is a low contrast image\n"
     ]
    },
    {
     "name": "stderr",
     "output_type": "stream",
     "text": [
      "C:\\Users\\NikonTE300CE\\Miniconda3\\envs\\CEpy37\\lib\\site-packages\\ipykernel_launcher.py:42: UserWarning: C:\\Users\\NikonTE300CE\\Desktop\\Brae\\9-24-2020\\img_00059.tiff is a low contrast image\n",
      "C:\\Users\\NikonTE300CE\\Miniconda3\\envs\\CEpy37\\lib\\site-packages\\ipykernel_launcher.py:42: UserWarning: C:\\Users\\NikonTE300CE\\Desktop\\Brae\\9-24-2020\\img_00060.tiff is a low contrast image\n",
      "C:\\Users\\NikonTE300CE\\Miniconda3\\envs\\CEpy37\\lib\\site-packages\\ipykernel_launcher.py:42: UserWarning: C:\\Users\\NikonTE300CE\\Desktop\\Brae\\9-24-2020\\img_00061.tiff is a low contrast image\n",
      "C:\\Users\\NikonTE300CE\\Miniconda3\\envs\\CEpy37\\lib\\site-packages\\ipykernel_launcher.py:42: UserWarning: C:\\Users\\NikonTE300CE\\Desktop\\Brae\\9-24-2020\\img_00062.tiff is a low contrast image\n",
      "C:\\Users\\NikonTE300CE\\Miniconda3\\envs\\CEpy37\\lib\\site-packages\\ipykernel_launcher.py:42: UserWarning: C:\\Users\\NikonTE300CE\\Desktop\\Brae\\9-24-2020\\img_00063.tiff is a low contrast image\n",
      "C:\\Users\\NikonTE300CE\\Miniconda3\\envs\\CEpy37\\lib\\site-packages\\ipykernel_launcher.py:42: UserWarning: C:\\Users\\NikonTE300CE\\Desktop\\Brae\\9-24-2020\\img_00064.tiff is a low contrast image\n",
      "C:\\Users\\NikonTE300CE\\Miniconda3\\envs\\CEpy37\\lib\\site-packages\\ipykernel_launcher.py:42: UserWarning: C:\\Users\\NikonTE300CE\\Desktop\\Brae\\9-24-2020\\img_00065.tiff is a low contrast image\n",
      "C:\\Users\\NikonTE300CE\\Miniconda3\\envs\\CEpy37\\lib\\site-packages\\ipykernel_launcher.py:42: UserWarning: C:\\Users\\NikonTE300CE\\Desktop\\Brae\\9-24-2020\\img_00066.tiff is a low contrast image\n",
      "C:\\Users\\NikonTE300CE\\Miniconda3\\envs\\CEpy37\\lib\\site-packages\\ipykernel_launcher.py:42: UserWarning: C:\\Users\\NikonTE300CE\\Desktop\\Brae\\9-24-2020\\img_00067.tiff is a low contrast image\n",
      "C:\\Users\\NikonTE300CE\\Miniconda3\\envs\\CEpy37\\lib\\site-packages\\ipykernel_launcher.py:42: UserWarning: C:\\Users\\NikonTE300CE\\Desktop\\Brae\\9-24-2020\\img_00068.tiff is a low contrast image\n",
      "C:\\Users\\NikonTE300CE\\Miniconda3\\envs\\CEpy37\\lib\\site-packages\\ipykernel_launcher.py:42: UserWarning: C:\\Users\\NikonTE300CE\\Desktop\\Brae\\9-24-2020\\img_00069.tiff is a low contrast image\n",
      "C:\\Users\\NikonTE300CE\\Miniconda3\\envs\\CEpy37\\lib\\site-packages\\ipykernel_launcher.py:42: UserWarning: C:\\Users\\NikonTE300CE\\Desktop\\Brae\\9-24-2020\\img_00070.tiff is a low contrast image\n",
      "C:\\Users\\NikonTE300CE\\Miniconda3\\envs\\CEpy37\\lib\\site-packages\\ipykernel_launcher.py:42: UserWarning: C:\\Users\\NikonTE300CE\\Desktop\\Brae\\9-24-2020\\img_00071.tiff is a low contrast image\n",
      "C:\\Users\\NikonTE300CE\\Miniconda3\\envs\\CEpy37\\lib\\site-packages\\ipykernel_launcher.py:42: UserWarning: C:\\Users\\NikonTE300CE\\Desktop\\Brae\\9-24-2020\\img_00072.tiff is a low contrast image\n",
      "C:\\Users\\NikonTE300CE\\Miniconda3\\envs\\CEpy37\\lib\\site-packages\\ipykernel_launcher.py:42: UserWarning: C:\\Users\\NikonTE300CE\\Desktop\\Brae\\9-24-2020\\img_00073.tiff is a low contrast image\n",
      "C:\\Users\\NikonTE300CE\\Miniconda3\\envs\\CEpy37\\lib\\site-packages\\ipykernel_launcher.py:42: UserWarning: C:\\Users\\NikonTE300CE\\Desktop\\Brae\\9-24-2020\\img_00074.tiff is a low contrast image\n",
      "C:\\Users\\NikonTE300CE\\Miniconda3\\envs\\CEpy37\\lib\\site-packages\\ipykernel_launcher.py:42: UserWarning: C:\\Users\\NikonTE300CE\\Desktop\\Brae\\9-24-2020\\img_00075.tiff is a low contrast image\n",
      "C:\\Users\\NikonTE300CE\\Miniconda3\\envs\\CEpy37\\lib\\site-packages\\ipykernel_launcher.py:42: UserWarning: C:\\Users\\NikonTE300CE\\Desktop\\Brae\\9-24-2020\\img_00076.tiff is a low contrast image\n",
      "C:\\Users\\NikonTE300CE\\Miniconda3\\envs\\CEpy37\\lib\\site-packages\\ipykernel_launcher.py:42: UserWarning: C:\\Users\\NikonTE300CE\\Desktop\\Brae\\9-24-2020\\img_00077.tiff is a low contrast image\n",
      "C:\\Users\\NikonTE300CE\\Miniconda3\\envs\\CEpy37\\lib\\site-packages\\ipykernel_launcher.py:42: UserWarning: C:\\Users\\NikonTE300CE\\Desktop\\Brae\\9-24-2020\\img_00078.tiff is a low contrast image\n",
      "C:\\Users\\NikonTE300CE\\Miniconda3\\envs\\CEpy37\\lib\\site-packages\\ipykernel_launcher.py:42: UserWarning: C:\\Users\\NikonTE300CE\\Desktop\\Brae\\9-24-2020\\img_00079.tiff is a low contrast image\n",
      "C:\\Users\\NikonTE300CE\\Miniconda3\\envs\\CEpy37\\lib\\site-packages\\ipykernel_launcher.py:42: UserWarning: C:\\Users\\NikonTE300CE\\Desktop\\Brae\\9-24-2020\\img_00080.tiff is a low contrast image\n",
      "C:\\Users\\NikonTE300CE\\Miniconda3\\envs\\CEpy37\\lib\\site-packages\\ipykernel_launcher.py:42: UserWarning: C:\\Users\\NikonTE300CE\\Desktop\\Brae\\9-24-2020\\img_00081.tiff is a low contrast image\n",
      "C:\\Users\\NikonTE300CE\\Miniconda3\\envs\\CEpy37\\lib\\site-packages\\ipykernel_launcher.py:42: UserWarning: C:\\Users\\NikonTE300CE\\Desktop\\Brae\\9-24-2020\\img_00082.tiff is a low contrast image\n",
      "C:\\Users\\NikonTE300CE\\Miniconda3\\envs\\CEpy37\\lib\\site-packages\\ipykernel_launcher.py:42: UserWarning: C:\\Users\\NikonTE300CE\\Desktop\\Brae\\9-24-2020\\img_00083.tiff is a low contrast image\n",
      "C:\\Users\\NikonTE300CE\\Miniconda3\\envs\\CEpy37\\lib\\site-packages\\ipykernel_launcher.py:42: UserWarning: C:\\Users\\NikonTE300CE\\Desktop\\Brae\\9-24-2020\\img_00084.tiff is a low contrast image\n",
      "C:\\Users\\NikonTE300CE\\Miniconda3\\envs\\CEpy37\\lib\\site-packages\\ipykernel_launcher.py:42: UserWarning: C:\\Users\\NikonTE300CE\\Desktop\\Brae\\9-24-2020\\img_00085.tiff is a low contrast image\n",
      "C:\\Users\\NikonTE300CE\\Miniconda3\\envs\\CEpy37\\lib\\site-packages\\ipykernel_launcher.py:42: UserWarning: C:\\Users\\NikonTE300CE\\Desktop\\Brae\\9-24-2020\\img_00086.tiff is a low contrast image\n",
      "C:\\Users\\NikonTE300CE\\Miniconda3\\envs\\CEpy37\\lib\\site-packages\\ipykernel_launcher.py:42: UserWarning: C:\\Users\\NikonTE300CE\\Desktop\\Brae\\9-24-2020\\img_00087.tiff is a low contrast image\n",
      "C:\\Users\\NikonTE300CE\\Miniconda3\\envs\\CEpy37\\lib\\site-packages\\ipykernel_launcher.py:42: UserWarning: C:\\Users\\NikonTE300CE\\Desktop\\Brae\\9-24-2020\\img_00088.tiff is a low contrast image\n",
      "C:\\Users\\NikonTE300CE\\Miniconda3\\envs\\CEpy37\\lib\\site-packages\\ipykernel_launcher.py:42: UserWarning: C:\\Users\\NikonTE300CE\\Desktop\\Brae\\9-24-2020\\img_00089.tiff is a low contrast image\n",
      "C:\\Users\\NikonTE300CE\\Miniconda3\\envs\\CEpy37\\lib\\site-packages\\ipykernel_launcher.py:42: UserWarning: C:\\Users\\NikonTE300CE\\Desktop\\Brae\\9-24-2020\\img_00090.tiff is a low contrast image\n",
      "C:\\Users\\NikonTE300CE\\Miniconda3\\envs\\CEpy37\\lib\\site-packages\\ipykernel_launcher.py:42: UserWarning: C:\\Users\\NikonTE300CE\\Desktop\\Brae\\9-24-2020\\img_00091.tiff is a low contrast image\n",
      "C:\\Users\\NikonTE300CE\\Miniconda3\\envs\\CEpy37\\lib\\site-packages\\ipykernel_launcher.py:42: UserWarning: C:\\Users\\NikonTE300CE\\Desktop\\Brae\\9-24-2020\\img_00092.tiff is a low contrast image\n",
      "C:\\Users\\NikonTE300CE\\Miniconda3\\envs\\CEpy37\\lib\\site-packages\\ipykernel_launcher.py:42: UserWarning: C:\\Users\\NikonTE300CE\\Desktop\\Brae\\9-24-2020\\img_00093.tiff is a low contrast image\n",
      "C:\\Users\\NikonTE300CE\\Miniconda3\\envs\\CEpy37\\lib\\site-packages\\ipykernel_launcher.py:42: UserWarning: C:\\Users\\NikonTE300CE\\Desktop\\Brae\\9-24-2020\\img_00094.tiff is a low contrast image\n",
      "C:\\Users\\NikonTE300CE\\Miniconda3\\envs\\CEpy37\\lib\\site-packages\\ipykernel_launcher.py:42: UserWarning: C:\\Users\\NikonTE300CE\\Desktop\\Brae\\9-24-2020\\img_00095.tiff is a low contrast image\n",
      "C:\\Users\\NikonTE300CE\\Miniconda3\\envs\\CEpy37\\lib\\site-packages\\ipykernel_launcher.py:42: UserWarning: C:\\Users\\NikonTE300CE\\Desktop\\Brae\\9-24-2020\\img_00096.tiff is a low contrast image\n",
      "C:\\Users\\NikonTE300CE\\Miniconda3\\envs\\CEpy37\\lib\\site-packages\\ipykernel_launcher.py:42: UserWarning: C:\\Users\\NikonTE300CE\\Desktop\\Brae\\9-24-2020\\img_00097.tiff is a low contrast image\n",
      "C:\\Users\\NikonTE300CE\\Miniconda3\\envs\\CEpy37\\lib\\site-packages\\ipykernel_launcher.py:42: UserWarning: C:\\Users\\NikonTE300CE\\Desktop\\Brae\\9-24-2020\\img_00098.tiff is a low contrast image\n"
     ]
    }
   ],
   "source": [
    "im.save_image(unique_folder=False)"
   ]
  },
  {
   "cell_type": "markdown",
   "metadata": {},
   "source": [
    "# PUT YOUR CRAP FUNCTIONS HERE"
   ]
  },
  {
   "cell_type": "code",
   "execution_count": 19,
   "metadata": {},
   "outputs": [],
   "source": [
    "# Start Rinse\n",
    "ce_system.outlet_pressure.rinse_pressure()"
   ]
  },
  {
   "cell_type": "code",
   "execution_count": 17,
   "metadata": {},
   "outputs": [],
   "source": [
    "# Stop Rinse \n",
    "ce_system.outlet_pressure.release()"
   ]
  },
  {
   "cell_type": "code",
   "execution_count": 74,
   "metadata": {},
   "outputs": [],
   "source": [
    "ce_system.inlet_z.set_z(22)"
   ]
  },
  {
   "cell_type": "code",
   "execution_count": 100,
   "metadata": {},
   "outputs": [
    {
     "name": "stdout",
     "output_type": "stream",
     "text": [
      "After special True\n",
      "Time to wait is  150\n"
     ]
    },
    {
     "name": "stderr",
     "output_type": "stream",
     "text": [
      "C:\\Users\\NikonTE300CE\\Desktop\\Barracuda\\AutomatedCE\\L4\\DisplayWindows.py:277: UserWarning: Attempting to set identical left == right == 0.0 results in singular transformations; automatically expanding.\n",
      "  ax1.set_xlim(min(data['time_data']), max(data['time_data']))\n"
     ]
    }
   ],
   "source": [
    "ce_system.objective.set_rel_z(-3)"
   ]
  },
  {
   "cell_type": "code",
   "execution_count": 16,
   "metadata": {},
   "outputs": [],
   "source": [
    "ce_system.outlet_pressure.rinse_vacuum()"
   ]
  },
  {
   "cell_type": "code",
   "execution_count": 18,
   "metadata": {},
   "outputs": [],
   "source": [
    "ce_system.filter_wheel.set_channel(1)"
   ]
  },
  {
   "cell_type": "code",
   "execution_count": 87,
   "metadata": {},
   "outputs": [],
   "source": [
    "ce_system.high_voltage.stop()"
   ]
  },
  {
   "cell_type": "code",
   "execution_count": 78,
   "metadata": {},
   "outputs": [],
   "source": [
    "laser = ce_system.lysis_laser"
   ]
  },
  {
   "cell_type": "code",
   "execution_count": 292,
   "metadata": {},
   "outputs": [],
   "source": [
    "laser.laser_standby()"
   ]
  },
  {
   "cell_type": "code",
   "execution_count": 291,
   "metadata": {},
   "outputs": [],
   "source": [
    "laser.laser_stop()"
   ]
  },
  {
   "cell_type": "code",
   "execution_count": 293,
   "metadata": {},
   "outputs": [],
   "source": [
    "laser.laser_fire()"
   ]
  },
  {
   "cell_type": "code",
   "execution_count": 11,
   "metadata": {},
   "outputs": [],
   "source": [
    "ce_system.objective.set_rel_z(-3)"
   ]
  },
  {
   "cell_type": "code",
   "execution_count": 127,
   "metadata": {},
   "outputs": [
    {
     "data": {
      "text/plain": [
       "'R:On, G:Off, B:Off'"
      ]
     },
     "execution_count": 127,
     "metadata": {},
     "output_type": "execute_result"
    }
   ],
   "source": [
    "ce_system.inlet_rgb.turn_on_channel('R')\n"
   ]
  },
  {
   "cell_type": "code",
   "execution_count": 126,
   "metadata": {
    "scrolled": true
   },
   "outputs": [
    {
     "data": {
      "text/plain": [
       "'R:Off, G:Off, B:Off'"
      ]
     },
     "execution_count": 126,
     "metadata": {},
     "output_type": "execute_result"
    }
   ],
   "source": [
    "ce_system.inlet_rgb.turn_off_channel('R')\n"
   ]
  },
  {
   "cell_type": "code",
   "execution_count": 58,
   "metadata": {},
   "outputs": [
    {
     "data": {
      "text/plain": [
       "[28.52200042501092, -1.8983000282868743]"
      ]
     },
     "execution_count": 58,
     "metadata": {},
     "output_type": "execute_result"
    }
   ],
   "source": [
    "xy = ce_system.xy_stage.read_xy()\n",
    "xy"
   ]
  },
  {
   "cell_type": "code",
   "execution_count": 68,
   "metadata": {},
   "outputs": [],
   "source": [
    "ce_system.xy_stage.set_xy(xy)"
   ]
  },
  {
   "cell_type": "code",
   "execution_count": 19,
   "metadata": {},
   "outputs": [],
   "source": [
    "ce_system.xy_stage.set_rel_x(0.05)"
   ]
  },
  {
   "cell_type": "code",
   "execution_count": 20,
   "metadata": {},
   "outputs": [
    {
     "data": {
      "text/plain": [
       "129.7"
      ]
     },
     "execution_count": 20,
     "metadata": {},
     "output_type": "execute_result"
    }
   ],
   "source": [
    "191.5-61.8"
   ]
  },
  {
   "cell_type": "code",
   "execution_count": 21,
   "metadata": {},
   "outputs": [
    {
     "data": {
      "text/plain": [
       "259.4"
      ]
     },
     "execution_count": 21,
     "metadata": {},
     "output_type": "execute_result"
    }
   ],
   "source": [
    "129.7*2"
   ]
  },
  {
   "cell_type": "code",
   "execution_count": 22,
   "metadata": {},
   "outputs": [
    {
     "data": {
      "text/plain": [
       "0.0001927525057825752"
      ]
     },
     "execution_count": 22,
     "metadata": {},
     "output_type": "execute_result"
    }
   ],
   "source": [
    "0.05/259.4"
   ]
  },
  {
   "cell_type": "code",
   "execution_count": 10,
   "metadata": {},
   "outputs": [],
   "source": [
    "ce_system.inlet_z.set_z(10)"
   ]
  },
  {
   "cell_type": "code",
   "execution_count": 75,
   "metadata": {},
   "outputs": [],
   "source": [
    "ce_system.outlet_pressure.seal()"
   ]
  },
  {
   "cell_type": "code",
   "execution_count": 6,
   "metadata": {},
   "outputs": [],
   "source": [
    "cam = ce_system.camera"
   ]
  },
  {
   "cell_type": "code",
   "execution_count": 7,
   "metadata": {},
   "outputs": [],
   "source": [
    "ce_system.inlet_z.controller.open()"
   ]
  },
  {
   "cell_type": "code",
   "execution_count": 9,
   "metadata": {},
   "outputs": [],
   "source": [
    "ce_system.inlet_z.startup()"
   ]
  },
  {
   "cell_type": "code",
   "execution_count": 3,
   "metadata": {},
   "outputs": [],
   "source": [
    "output = r\"C:\\Users\\Luke\\Documents\\Data\\images\"\n",
    "im_sav = ImageSaver(ce_system, data_folder=output, prefix='testing')"
   ]
  },
  {
   "cell_type": "code",
   "execution_count": 4,
   "metadata": {},
   "outputs": [],
   "source": [
    "im_sav.add_callback()"
   ]
  },
  {
   "cell_type": "code",
   "execution_count": 7,
   "metadata": {},
   "outputs": [
    {
     "name": "stdout",
     "output_type": "stream",
     "text": [
      "HEYYOO\n"
     ]
    },
    {
     "data": {
      "text/plain": [
       "True"
      ]
     },
     "execution_count": 7,
     "metadata": {},
     "output_type": "execute_result"
    }
   ],
   "source": [
    "cam.continuous_snap()"
   ]
  },
  {
   "cell_type": "code",
   "execution_count": 8,
   "metadata": {},
   "outputs": [
    {
     "data": {
      "text/plain": [
       "True"
      ]
     },
     "execution_count": 8,
     "metadata": {},
     "output_type": "execute_result"
    }
   ],
   "source": [
    "cam.stop()"
   ]
  },
  {
   "cell_type": "code",
   "execution_count": 9,
   "metadata": {},
   "outputs": [],
   "source": [
    "im_sav.remove_callback()"
   ]
  },
  {
   "cell_type": "code",
   "execution_count": 14,
   "metadata": {},
   "outputs": [
    {
     "name": "stderr",
     "output_type": "stream",
     "text": [
      "C:\\Users\\Luke\\AppData\\Roaming\\Python\\Python37\\site-packages\\ipykernel_launcher.py:35: UserWarning: C:\\Users\\Luke\\Documents\\Data\\images\\img.tiff is a low contrast image\n",
      "C:\\Users\\Luke\\AppData\\Roaming\\Python\\Python37\\site-packages\\ipykernel_launcher.py:35: UserWarning: C:\\Users\\Luke\\Documents\\Data\\images\\img_00000.tiff is a low contrast image\n",
      "C:\\Users\\Luke\\AppData\\Roaming\\Python\\Python37\\site-packages\\ipykernel_launcher.py:35: UserWarning: C:\\Users\\Luke\\Documents\\Data\\images\\img_00001.tiff is a low contrast image\n",
      "C:\\Users\\Luke\\AppData\\Roaming\\Python\\Python37\\site-packages\\ipykernel_launcher.py:35: UserWarning: C:\\Users\\Luke\\Documents\\Data\\images\\img_00002.tiff is a low contrast image\n",
      "C:\\Users\\Luke\\AppData\\Roaming\\Python\\Python37\\site-packages\\ipykernel_launcher.py:35: UserWarning: C:\\Users\\Luke\\Documents\\Data\\images\\img_00003.tiff is a low contrast image\n",
      "C:\\Users\\Luke\\AppData\\Roaming\\Python\\Python37\\site-packages\\ipykernel_launcher.py:35: UserWarning: C:\\Users\\Luke\\Documents\\Data\\images\\img_00004.tiff is a low contrast image\n",
      "C:\\Users\\Luke\\AppData\\Roaming\\Python\\Python37\\site-packages\\ipykernel_launcher.py:35: UserWarning: C:\\Users\\Luke\\Documents\\Data\\images\\img_00005.tiff is a low contrast image\n",
      "C:\\Users\\Luke\\AppData\\Roaming\\Python\\Python37\\site-packages\\ipykernel_launcher.py:35: UserWarning: C:\\Users\\Luke\\Documents\\Data\\images\\img_00006.tiff is a low contrast image\n",
      "C:\\Users\\Luke\\AppData\\Roaming\\Python\\Python37\\site-packages\\ipykernel_launcher.py:35: UserWarning: C:\\Users\\Luke\\Documents\\Data\\images\\img_00007.tiff is a low contrast image\n",
      "C:\\Users\\Luke\\AppData\\Roaming\\Python\\Python37\\site-packages\\ipykernel_launcher.py:35: UserWarning: C:\\Users\\Luke\\Documents\\Data\\images\\img_00008.tiff is a low contrast image\n",
      "C:\\Users\\Luke\\AppData\\Roaming\\Python\\Python37\\site-packages\\ipykernel_launcher.py:35: UserWarning: C:\\Users\\Luke\\Documents\\Data\\images\\img_00009.tiff is a low contrast image\n"
     ]
    }
   ],
   "source": [
    "im_sav.save_image(unique_folder=False)"
   ]
  },
  {
   "cell_type": "code",
   "execution_count": null,
   "metadata": {},
   "outputs": [],
   "source": []
  },
  {
   "cell_type": "code",
   "execution_count": 2,
   "metadata": {},
   "outputs": [],
   "source": [
    "\n",
    "class ImageSaver:\n",
    "    \n",
    "    def __init__(self, system:SystemsBuilder.CESystem, folder_prefix=None, data_folder=None):\n",
    "        self.system = system\n",
    "        self.prefix = folder_prefix\n",
    "        self.data_folder = data_folder\n",
    "        self.images = []\n",
    "        self._lock = threading.RLock()\n",
    "        \n",
    "    def add_callback(self):\n",
    "        self.system.camera.add_callback(self.callback, tag='save_img')\n",
    "        \n",
    "    def remove_callback(self):\n",
    "        self.system.camera.remove_callback(tag='save_img')\n",
    "    \n",
    "    def callback(self, img, *args, **kwargs):\n",
    "        with self._lock:\n",
    "            self.images.append(img)\n",
    "    \n",
    "    def save_image(self, image_prefix='img', folder_prefix=None, data_folder=None, unique_folder=True):\n",
    "        \"\"\"\n",
    "        Saves the images into an folder with incrementing image names:\n",
    "        \n",
    "        image_prefix: what the image filename should be caleld\n",
    "        folder_prefix: what the data folder will be called\n",
    "        data_folder: where the parent_directory resides\n",
    "        unique_folder: When true, create a new folder everytime the function is called\n",
    "        \n",
    "        \"\"\"\n",
    "        \n",
    "        if folder_prefix is None:\n",
    "            prefix = self.prefix\n",
    "        if data_folder is None:\n",
    "            data_folder = self.data_folder\n",
    "    \n",
    "        if unique_folder:\n",
    "            data_dir = FileIO.get_data_folder(prefix, data_folder)\n",
    "        else:\n",
    "            data_dir = data_folder\n",
    "        for image in self.images:\n",
    "            data_file = FileIO.get_data_filename(image_prefix, data_dir, extension='.tiff')\n",
    "            io.imsave(data_file, image)\n",
    "            \n",
    "    \n",
    "    "
   ]
  }
 ],
 "metadata": {
  "kernelspec": {
   "display_name": "Python 3",
   "language": "python",
   "name": "python3"
  },
  "language_info": {
   "codemirror_mode": {
    "name": "ipython",
    "version": 3
   },
   "file_extension": ".py",
   "mimetype": "text/x-python",
   "name": "python",
   "nbconvert_exporter": "python",
   "pygments_lexer": "ipython3",
   "version": "3.8.5"
  }
 },
 "nbformat": 4,
 "nbformat_minor": 2
}
