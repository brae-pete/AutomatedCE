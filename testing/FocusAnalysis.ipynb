{
 "cells": [
  {
   "cell_type": "code",
   "execution_count": 1,
   "metadata": {},
   "outputs": [
    {
     "name": "stdout",
     "output_type": "stream",
     "text": [
      "new directory is: D:\\Scripts\\CEInstrument\\AutomatedCE\n"
     ]
    }
   ],
   "source": [
    "import os\n",
    "# Set the working directory to the AutomatedCE folder so we have access to L1-L4 modules\n",
    "resp = os.getcwd()\n",
    "if 'testing' in resp[-7:]:\n",
    "    os.chdir(os.path.abspath(os.path.join(os.getcwd(), '..')))\n",
    "    print(f\"new directory is: {os.getcwd()}\")"
   ]
  },
  {
   "cell_type": "code",
   "execution_count": 2,
   "metadata": {},
   "outputs": [],
   "source": [
    "%config Completer.use_jedi = False"
   ]
  },
  {
   "cell_type": "code",
   "execution_count": 3,
   "metadata": {},
   "outputs": [
    {
     "name": "stderr",
     "output_type": "stream",
     "text": [
      "WARNING:root:python2path is not a var in system_config.txt\n"
     ]
    },
    {
     "name": "stdout",
     "output_type": "stream",
     "text": [
      "D:\\Scripts\\CEInstrument\\AutomatedCE\\L1\\MicroControlServer.py\n"
     ]
    },
    {
     "name": "stderr",
     "output_type": "stream",
     "text": [
      "WARNING:root:Path to Thorlabs Kinesis was not found. \n",
      " Change System Config setting if thorlabs is needed. \n"
     ]
    }
   ],
   "source": [
    "from L4 import Focus\n",
    "from importlib import reload\n"
   ]
  },
  {
   "cell_type": "markdown",
   "metadata": {},
   "source": [
    "## Prepare the Data \n",
    "\n",
    "Read a directory and pull all the image files from the directory. Create a database use the identifiers in the filename. "
   ]
  },
  {
   "cell_type": "code",
   "execution_count": 4,
   "metadata": {},
   "outputs": [],
   "source": [
    "import glob\n",
    "\n",
    "# Retrieve images to use as a test\n",
    "test_dir = r\"D:\\WorkDrive\\Images\\Z Focus Cells\"\n",
    "test_dir = r\"D:\\WorkDrive\\Images\\FL\"\n",
    "img_files = [x for x in glob.glob(test_dir+'\\*.tiff')]"
   ]
  },
  {
   "cell_type": "code",
   "execution_count": 5,
   "metadata": {},
   "outputs": [],
   "source": [
    "from skimage import io\n",
    "import pandas as pd\n",
    "\n",
    "def get_coords(file_name):\n",
    "    \"\"\"\n",
    "    takes a file name with structure \"./######z_######x_######y_######F.tiff\" where numbers before z indicate\n",
    "    the current focus position, before x indicates x position, y indicates y position, and F indicates the human selected\n",
    "    focus position. \n",
    "    \n",
    "    returns the z, x, y, and F values\n",
    "    \"\"\"\n",
    "    vals = file_name.strip('.tiff').split('\\\\')[-1].split('_')\n",
    "    identifiers = ['z', 'x', 'y', 'F']\n",
    "    outputs = []\n",
    "    for val_str, id_str in zip(vals, identifiers):\n",
    "        val = float(val_str.strip(id_str))\n",
    "        outputs.append(val)\n",
    "    return outputs\n",
    "\n",
    "def to_database(img_stack):\n",
    "    db_dict = {'z':[], 'xy':[], 'focus':[], \"file\":[]}\n",
    "    for img_file in img_stack:\n",
    "        z,x,y,f = get_coords(img_file)\n",
    "        db_dict['z'].append(z)\n",
    "        db_dict['xy'].append((x,y))\n",
    "        db_dict['focus'].append(f)\n",
    "        db_dict['file'].append(img_file)\n",
    "    \n",
    "    return pd.DataFrame.from_dict(db_dict)\n",
    "\n",
    "def get_img_stack(database):\n",
    "    \"\"\"\n",
    "    Returns a dict of images whose key corresponds to the index to the input database\n",
    "    \"\"\"\n",
    "    img_dict = {}\n",
    "    for idx, row in db.iterrows():\n",
    "        img_dict[idx]=io.imread(row.file)\n",
    "    return img_dict\n",
    "\n",
    "db = to_database(img_files)\n",
    "db['focus']=round(db['focus']/10)\n",
    "db['nz']=db['z']-db['focus']\n"
   ]
  },
  {
   "cell_type": "code",
   "execution_count": 6,
   "metadata": {},
   "outputs": [],
   "source": [
    "# Get a dict of images for the database (loaded into memory for faster analysis)\n",
    "imgs = get_img_stack(db)"
   ]
  },
  {
   "cell_type": "code",
   "execution_count": 7,
   "metadata": {},
   "outputs": [],
   "source": [
    "def get_focus_stack(db, xy=None):\n",
    "    \"\"\"Returns a subset of the database corresponding to a single focus stack (same xy position, varying z)\"\"\"\n",
    "    if xy is None:\n",
    "        s = db.sample(1)\n",
    "        xy = s.xy.values[0]\n",
    "    focus_stack = db[db['xy']==xy]\n",
    "    return focus_stack\n",
    "\n",
    "def get_img_from_z(z, fs, imgs):\n",
    "    result_index = fs['z'].sub(z).abs().idxmin()\n",
    "    img = imgs[result_index]\n",
    "    return img\n",
    "    \n",
    "def get_closest_z(z, fs, imgs):\n",
    "    z = fs.loc[fs['z'].sub(z).abs().idxmin(),'z']\n",
    "    return z\n",
    "    "
   ]
  },
  {
   "cell_type": "code",
   "execution_count": 154,
   "metadata": {},
   "outputs": [],
   "source": [
    "from matplotlib import animation\n",
    "\n",
    "\n",
    "fs = get_focus_stack(db)\n",
    "\n",
    "im = get_img_from_z(fs.focus.values[0], fs, imgs)\n",
    "fs.sort_values(by=['z'])\n",
    "z_pos = fs.z.values\n",
    "fs_idx  = np.argwhere(z_pos == fs.loc[fs['z'].sub(fs.focus.values[0]).abs().idxmin(),'z'])[0][0]\n",
    "current_idx = fs_idx\n",
    "# Display the center image\n",
    "fig, ax = plt.subplots()\n",
    "im_plot = ax.imshow(im)\n",
    "\n",
    "def on_scroll(event):\n",
    "    global fs_idx, z_pos\n",
    "    if event.button=='up':\n",
    "        fs_idx += 1\n",
    "    else:\n",
    "        fs_idx -= 1\n",
    "        \n",
    "    if fs_idx < 0:\n",
    "        fs_idx = 0\n",
    "    elif fs_idx >= len(z_pos):\n",
    "        fs_idx = len(z_pos)-1\n",
    "    \n",
    "def animate(event):\n",
    "    global fs_idx, current_idx\n",
    "    if fs_idx != current_idx:\n",
    "        current_idx=fs_idx\n",
    "        \n",
    "        img = get_img_from_z(z_pos[current_idx], fs, imgs)\n",
    "        im_plot.set_data(img)\n",
    "        ax.set_title(f'Current Pos is :{z_pos[current_idx]}')\n",
    "    return im_plot\n",
    "\n",
    "anim = animation.FuncAnimation(fig, animate, interval=20)\n",
    "cid2 = fig.canvas.mpl_connect('scroll_event', on_scroll)   \n",
    "        \n",
    "# As user scrolls adjust the center of the image\n",
    "# On right click save"
   ]
  },
  {
   "cell_type": "markdown",
   "metadata": {},
   "source": [
    "# Testing the Function as Written"
   ]
  },
  {
   "cell_type": "code",
   "execution_count": 7,
   "metadata": {},
   "outputs": [],
   "source": [
    "import matplotlib.pyplot as plt\n",
    "import seaborn as sns\n",
    "import numpy as np"
   ]
  },
  {
   "cell_type": "code",
   "execution_count": 44,
   "metadata": {},
   "outputs": [],
   "source": [
    "%matplotlib qt"
   ]
  },
  {
   "cell_type": "code",
   "execution_count": 12,
   "metadata": {},
   "outputs": [],
   "source": [
    "import random\n",
    "reload(Focus)\n",
    "\n",
    "# Create a test class on the focus finder that has already been written\n",
    "class TestFocus(Focus.FindFocus):\n",
    "    \n",
    "    def __init__(self, focus_db, imgs):\n",
    "        super().__init__(None)\n",
    "        self.focus_db = focus_db\n",
    "        self.current_pos = focus_db.focus.values[0]+random.randint(-30,30)\n",
    "        self.imgs = imgs\n",
    "        \n",
    "    def move_z(self, distance):\n",
    "        \n",
    "        positions = self.focus_db.z.values\n",
    "        self.current_pos += distance\n",
    "\n",
    "    \n",
    "    def snap_image(self, *args):\n",
    "        img = get_img_from_z(self.current_pos, self.focus_db, self.imgs)\n",
    "        return img\n",
    "\n"
   ]
  },
  {
   "cell_type": "markdown",
   "metadata": {},
   "source": [
    "### Analyzing Single Stack\n",
    "\n",
    "Same stack was used and was analyzed 11-101 times. At the start of each iteration a random starting point is chosen between -30 and + 30 from the user defined center. \n",
    "\n",
    "Overall Fibonacci seems to do poorly for the fluorescent images. 10 - 20 microns above or below the actual focus point. The images themselves don't seem to make any sense on why they were chosen as in focus. \n"
   ]
  },
  {
   "cell_type": "code",
   "execution_count": 99,
   "metadata": {},
   "outputs": [
    {
     "name": "stdout",
     "output_type": "stream",
     "text": [
      "Progress: 0 iterations of 11)\n",
      "Progress: 10 iterations of 11)\n"
     ]
    }
   ],
   "source": [
    "# Compare the results running the program 100 times on the same image stack. How far from the True value does our data land.\n",
    "fs = get_focus_stack(db)\n",
    "iters = 11\n",
    "results = []\n",
    "for i in range(iters):\n",
    "    tf = TestFocus(fs, imgs)\n",
    "    tf.search_fibonacci(z_multiplier=1)\n",
    "    results.append(tf.current_pos-fs.focus.values[0])\n",
    "    if i%10<1:\n",
    "        print(f\"Progress: {i} iterations of {iters})\")"
   ]
  },
  {
   "cell_type": "code",
   "execution_count": 100,
   "metadata": {},
   "outputs": [],
   "source": [
    "# Performance of the Fibonacci Sequence within the same focal stack\n",
    "\n",
    "fig = plt.figure()\n",
    "ax1 = plt.subplot2grid((2,2), (0,0), colspan=3)\n",
    "ax2 = plt.subplot2grid((2,2), (1,0))\n",
    "ax3 = plt.subplot2grid((2,2), (1,1))\n",
    "\n",
    "ax1.hist(results, range=(-30,30), bins=60)\n",
    "ax1.set_xlabel('Distance from User Zero')\n",
    "ax2.imshow(get_img_from_z(np.median(results), fs, imgs), cmap='gist_gray')\n",
    "ax2.set_title(f'Fibonacci Selected: {np.median(results)} um')\n",
    "ax3.imshow(get_img_from_z(fs.focus.values[0], fs, imgs), cmap='gist_gray')\n",
    "ax3.set_title('User Selected:')\n",
    "plt.tight_layout()"
   ]
  },
  {
   "cell_type": "markdown",
   "metadata": {},
   "source": [
    "### Scanning values for the Z-Multiplier input \n",
    "\n",
    "Not sure if it was a poor z-multiplier that I selected or how sensitive the algorithm is to that parameter. To test this screened several z-multipliers using a 100 iterations per multiplier. Data is saved to 'Fibonacci Fluorescent Zmult Scan.csv'. \n",
    "\n",
    "From the analysis, there was no real difference between the zmult values and the output seems to cluster around -20 and +20 but still had fairly poor results as far as accuracy and precision goes. "
   ]
  },
  {
   "cell_type": "code",
   "execution_count": 105,
   "metadata": {},
   "outputs": [
    {
     "name": "stdout",
     "output_type": "stream",
     "text": [
      " Testing Z_mult (0.05)\n",
      " Testing Z_mult (0.1)\n",
      " Testing Z_mult (0.5)\n",
      " Testing Z_mult (1)\n",
      " Testing Z_mult (2)\n",
      " Testing Z_mult (3)\n",
      " Testing Z_mult (5)\n",
      " Testing Z_mult (10)\n"
     ]
    }
   ],
   "source": [
    "# Compare the results running the program 100 times on the same image stack. How far from the True value does our data land.\n",
    "z_mults = [0.05, 0.1,0.5, 1, 2, 3, 5, 10]\n",
    "iters = 100\n",
    "\n",
    "fibonacci_zmult_results = {'xy':[], 'focused':[], 'zmult':[]}\n",
    "\n",
    "for zmu in z_mults:\n",
    "    print(f\" Testing Z_mult ({zmu})\")\n",
    "    for i in range(iters):\n",
    "        fs = get_focus_stack(db)\n",
    "        tf = TestFocus(fs, imgs)\n",
    "        tf.search_fibonacci(z_multiplier=1)\n",
    "        fibonacci_zmult_results['focused'].append(tf.current_pos-fs.focus.values[0])\n",
    "        fibonacci_zmult_results['xy'].append(fs.xy.values[0])\n",
    "        fibonacci_zmult_results['zmult'].append(zmu)\n",
    "        \n",
    "    \n",
    "data_out = pd.DataFrame.from_dict(fibonacci_zmult_results)\n",
    "data_out.to_csv('Fibonacci Fluorescent Zmult Scan')\n",
    "          "
   ]
  },
  {
   "cell_type": "code",
   "execution_count": 114,
   "metadata": {},
   "outputs": [
    {
     "name": "stderr",
     "output_type": "stream",
     "text": [
      "D:\\Software\\MiniConda\\envs\\CEpy3\\lib\\site-packages\\seaborn\\categorical.py:1296: UserWarning: 23.0% of the points cannot be placed; you may want to decrease the size of the markers or use stripplot.\n",
      "  warnings.warn(msg, UserWarning)\n",
      "D:\\Software\\MiniConda\\envs\\CEpy3\\lib\\site-packages\\seaborn\\categorical.py:1296: UserWarning: 20.0% of the points cannot be placed; you may want to decrease the size of the markers or use stripplot.\n",
      "  warnings.warn(msg, UserWarning)\n",
      "D:\\Software\\MiniConda\\envs\\CEpy3\\lib\\site-packages\\seaborn\\categorical.py:1296: UserWarning: 11.0% of the points cannot be placed; you may want to decrease the size of the markers or use stripplot.\n",
      "  warnings.warn(msg, UserWarning)\n",
      "D:\\Software\\MiniConda\\envs\\CEpy3\\lib\\site-packages\\seaborn\\categorical.py:1296: UserWarning: 18.0% of the points cannot be placed; you may want to decrease the size of the markers or use stripplot.\n",
      "  warnings.warn(msg, UserWarning)\n",
      "D:\\Software\\MiniConda\\envs\\CEpy3\\lib\\site-packages\\seaborn\\categorical.py:1296: UserWarning: 22.0% of the points cannot be placed; you may want to decrease the size of the markers or use stripplot.\n",
      "  warnings.warn(msg, UserWarning)\n",
      "D:\\Software\\MiniConda\\envs\\CEpy3\\lib\\site-packages\\seaborn\\categorical.py:1296: UserWarning: 26.0% of the points cannot be placed; you may want to decrease the size of the markers or use stripplot.\n",
      "  warnings.warn(msg, UserWarning)\n",
      "D:\\Software\\MiniConda\\envs\\CEpy3\\lib\\site-packages\\seaborn\\categorical.py:1296: UserWarning: 13.0% of the points cannot be placed; you may want to decrease the size of the markers or use stripplot.\n",
      "  warnings.warn(msg, UserWarning)\n"
     ]
    },
    {
     "data": {
      "text/plain": [
       "<seaborn.axisgrid.FacetGrid at 0x19599697808>"
      ]
     },
     "execution_count": 114,
     "metadata": {},
     "output_type": "execute_result"
    }
   ],
   "source": [
    "# Analysis of Z Mult Screen       \n",
    "temp=data_out\n",
    "sns.catplot(x='zmult', y='focused',hue='xy', kind='swarm', data=temp)"
   ]
  },
  {
   "cell_type": "markdown",
   "metadata": {},
   "source": [
    "### Comparing Global Step Search vs Fibonacci\n",
    "\n",
    "Compare Fibonacci vs the Global Step Search. \n",
    "\n",
    "Results saved serially in comparison.p using pickle. "
   ]
  },
  {
   "cell_type": "code",
   "execution_count": 8,
   "metadata": {},
   "outputs": [],
   "source": [
    "import pickle\n"
   ]
  },
  {
   "cell_type": "code",
   "execution_count": 115,
   "metadata": {
    "scrolled": true
   },
   "outputs": [
    {
     "name": "stdout",
     "output_type": "stream",
     "text": [
      "Stack 0 of 11\n",
      "Stack 1 of 11\n",
      "Stack 2 of 11\n",
      "Stack 3 of 11\n",
      "Stack 4 of 11\n"
     ]
    }
   ],
   "source": [
    "fibonacci_multi_stack_results = []\n",
    "global_multi_stack_results = []\n",
    "iters = 11 # how many iterations per z stack\n",
    "stacks = 5 # how many random z stacks (possible double sampling)\n",
    "for j in range(5):\n",
    "    fs = get_focus_stack(db)\n",
    "    tf = TestFocus(fs, imgs)\n",
    "    print(f\"Stack {j} of {stacks}\")\n",
    "    for i in range(iters):\n",
    "        tf = TestFocus(fs, imgs)\n",
    "        tf.search_fibonacci(z_multiplier=1)\n",
    "        fibonacci_multi_stack_results.append(tf.current_pos-fs.focus.values[0])\n",
    "        \n",
    "        tf = TestFocus(fs, imgs)\n",
    "        tf.search_step_global(max_iterations=15, z_multiplier=1, step_size=7)\n",
    "        global_multi_stack_results.append(tf.current_pos-fs.focus.values[0])\n",
    "        \n",
    "pickle.dump( {'fib':fibonacci_multi_stack_results, 'global':global_multi_stack_results}, open( \"comparison.p\", \"wb\" ) )\n"
   ]
  },
  {
   "cell_type": "markdown",
   "metadata": {},
   "source": [
    "### Comparing input params for Global Step\n",
    "\n",
    "Similar to fibonacci, we parameterize a few of the inputs and run a 100 iterations. \n",
    "\n",
    "Results were on par with the fibonacci. Poor accuracy and \n",
    "\n",
    "Datafiles:\n",
    "\n",
    "* Brightfield: \"GlobalParameterization.csv\"\n",
    "* Fluor: \"GlobalParameterization Fluor.csv\""
   ]
  },
  {
   "cell_type": "code",
   "execution_count": 127,
   "metadata": {},
   "outputs": [
    {
     "name": "stdout",
     "output_type": "stream",
     "text": [
      "Starting 10 iters of step:2 and max:5\n",
      "Starting 10 iters of step:2 and max:10\n",
      "Starting 10 iters of step:2 and max:15\n",
      "Starting 10 iters of step:2 and max:20\n",
      "Starting 10 iters of step:2 and max:50\n",
      "Starting 10 iters of step:5 and max:5\n",
      "Starting 10 iters of step:5 and max:10\n",
      "Starting 10 iters of step:5 and max:15\n",
      "Starting 10 iters of step:5 and max:20\n",
      "Starting 10 iters of step:5 and max:50\n",
      "Starting 10 iters of step:10 and max:5\n",
      "Starting 10 iters of step:10 and max:10\n",
      "Starting 10 iters of step:10 and max:15\n",
      "Starting 10 iters of step:10 and max:20\n",
      "Starting 10 iters of step:10 and max:50\n",
      "Starting 10 iters of step:15 and max:5\n",
      "Starting 10 iters of step:15 and max:10\n",
      "Starting 10 iters of step:15 and max:15\n",
      "Starting 10 iters of step:15 and max:20\n",
      "Starting 10 iters of step:15 and max:50\n",
      "Starting 10 iters of step:20 and max:5\n",
      "Starting 10 iters of step:20 and max:10\n",
      "Starting 10 iters of step:20 and max:15\n",
      "Starting 10 iters of step:20 and max:20\n",
      "Starting 10 iters of step:20 and max:50\n",
      "Starting 10 iters of step:40 and max:5\n",
      "Starting 10 iters of step:40 and max:10\n",
      "Starting 10 iters of step:40 and max:15\n",
      "Starting 10 iters of step:40 and max:20\n",
      "Starting 10 iters of step:40 and max:50\n",
      "Starting 10 iters of step:100 and max:5\n",
      "Starting 10 iters of step:100 and max:10\n",
      "Starting 10 iters of step:100 and max:15\n",
      "Starting 10 iters of step:100 and max:20\n",
      "Starting 10 iters of step:100 and max:50\n"
     ]
    }
   ],
   "source": [
    "step_size = [2,5,10,15,20,40,100]\n",
    "max_iters = [5,10,15,20,50]\n",
    "\n",
    "iters = 10\n",
    "data_out = {'step':[], 'mx':[], 'final':[], 'xy':[]}\n",
    "\n",
    "for step in step_size:\n",
    "    for mx in max_iters:\n",
    "        print(f\"Starting {iters} iters of step:{step} and max:{mx}\")\n",
    "        for i in range(10):\n",
    "            fs = get_focus_stack(db)\n",
    "            tf = TestFocus(fs, imgs)\n",
    "            tf.search_step_global(max_iterations=mx, step_size=step, z_multiplier=1)\n",
    "            \n",
    "            data_out['step'].append(step)\n",
    "            data_out['mx'].append(mx)\n",
    "            data_out['final'].append(tf.current_pos-fs.focus.values[0])\n",
    "            data_out['xy'].append(fs.xy.values[0])\n",
    "            \n",
    "r_db = pd.DataFrame(data_out)\n",
    "r_db.to_csv('GlobalParameterization Fluor.csv')\n",
    "        "
   ]
  },
  {
   "cell_type": "code",
   "execution_count": 131,
   "metadata": {},
   "outputs": [],
   "source": [
    "# Look at all parameters\n",
    "data = pd.read_csv('GlobalParameterization Fluor.csv')\n",
    "\n",
    "fig, ax = plt.subplots()\n",
    "temp=data\n",
    "sns.stripplot(x='step', y='final', hue='mx', data=temp, ax=ax)\n",
    "ax.set_ylim(-300,100)\n",
    "#ax.set_yscale('log')\n",
    "plt.tight_layout()\n"
   ]
  },
  {
   "cell_type": "code",
   "execution_count": 133,
   "metadata": {},
   "outputs": [],
   "source": [
    "# Look at just the 2 step size\n",
    "fig, ax = plt.subplots()\n",
    "temp=data[data['step']==2]\n",
    "sns.stripplot(x='mx', y='final', data=temp, ax=ax)\n",
    "ax.set_ylim(-100,100)\n",
    "#ax.set_yscale('log')\n",
    "plt.tight_layout()\n"
   ]
  },
  {
   "cell_type": "code",
   "execution_count": null,
   "metadata": {},
   "outputs": [],
   "source": [
    "# Does reducing the image size matter? \n",
    "\n",
    "# What can we learn from the individual algorithms (before alec combines them with his logic?)\n"
   ]
  },
  {
   "cell_type": "markdown",
   "metadata": {},
   "source": [
    "### Analyzing Performance of individual algorithms\n",
    "\n",
    "Alec has compiled a few of these algorithms for us. Lets run through these algorithms that he uses in the global step search and see how they perform individually. \n",
    "\n",
    "From our results, sobel and power perform poorly with these images. The others [brenner, range, entropy, and variance] all do fairly well. \n",
    "\n",
    "Alglorithms with a maximum: brenner, range, variance\n",
    "Alorithms with a minimum: entropy \n",
    "\n"
   ]
  },
  {
   "cell_type": "code",
   "execution_count": 162,
   "metadata": {},
   "outputs": [],
   "source": [
    "# List the algorithms you want to study here, input is image, output is the focus score/measure.\n",
    "test_algos = {'brenner':Focus.brenner,\n",
    "              'range':Focus.range_histogram,\n",
    "              'entropy':Focus.entropy_histogram,\n",
    "              'sobel':Focus.sobel_by_five,\n",
    "              'variance':Focus.variance,\n",
    "              'power':Focus.power}\n",
    "\n",
    "for key in test_algos:\n",
    "    db[key]=0\n",
    "\n",
    "for xy in db['xy'].unique():\n",
    "    fs = get_focus_stack(db, xy=xy)\n",
    "    for idx, row in fs.iterrows():\n",
    "        for key, test_algo in test_algos.items():\n",
    "            db.loc[idx,key] = test_algo(imgs[idx])\n"
   ]
  },
  {
   "cell_type": "code",
   "execution_count": null,
   "metadata": {},
   "outputs": [],
   "source": []
  },
  {
   "cell_type": "code",
   "execution_count": 177,
   "metadata": {},
   "outputs": [],
   "source": [
    "# save the db as this takes a few minutes to run\n",
    "db.to_csv('image_db.csv')"
   ]
  },
  {
   "cell_type": "code",
   "execution_count": 176,
   "metadata": {},
   "outputs": [],
   "source": [
    "data = pd.read_csv('image_db.csv')\n",
    "\n",
    "fig, axes=plt.subplots(3,2, figsize=[6.4, 4.8])\n",
    "axes=axes.flatten()\n",
    "for idx, key in enumerate(test_algos):\n",
    "    ax = axes[idx]\n",
    "    ax.set_title(key)\n",
    "    sns.lineplot(x='nz',y=key , hue='xy', data=data, ax = ax, legend=False)\n",
    "plt.tight_layout()"
   ]
  },
  {
   "cell_type": "markdown",
   "metadata": {},
   "source": [
    "### Creating a global search algorithm using a single algorithm"
   ]
  },
  {
   "cell_type": "code",
   "execution_count": 8,
   "metadata": {},
   "outputs": [],
   "source": [
    "class Climb:\n",
    "    \"\"\"\n",
    "    Basic focus search class that can move the focal plane, retrieve the position, and get the image. \n",
    "    \"\"\"\n",
    "    \n",
    "    def __init__(self, fs,  imgs, score_fnc): \n",
    "        self.focus_db = fs\n",
    "        self.imgs = imgs\n",
    "        self.current_pos = random.randint(-30,30) + fs.focus.values[0]\n",
    "        self.score_fnc = score_fnc\n",
    "\n",
    "    def move(self, z):\n",
    "        \"\"\"Moves the camera, or file indexer, to the position z\"\"\"\n",
    "        self.current_pos = z\n",
    "    \n",
    "    def get_position(self):\n",
    "        \"\"\"\n",
    "        retrieves the current position\n",
    "        \"\"\"\n",
    "        return get_closest_z(self.current_pos, self.focus_db, self.imgs)\n",
    "    \n",
    "    def get_image(self):\n",
    "        \"\"\"\n",
    "        returns an image at the current position\n",
    "        \"\"\"\n",
    "        img = get_img_from_z(self.current_pos, self.focus_db, self.imgs)\n",
    "        return img\n",
    "    \n",
    "    def climb(self, *args, **kwargs):\n",
    "        \"\"\"\n",
    "        runs the actual search algorithm\n",
    "        \"\"\"\n",
    "        pass\n",
    "    \n",
    "\n",
    "    \n",
    "class StepClimb(Climb):\n",
    "    \n",
    "    def __init__(self, *args):\n",
    "        super().__init__(*args)\n",
    "        \n",
    "    def climb(self, step_size=2, iterations=10, history=False):\n",
    "        \"\"\"\n",
    "        Searches by scanning from step_size*iterations above and below the current position. Returns the position with the\n",
    "        best focus.\n",
    "        \n",
    "        :param step_size: how far to move for each step\n",
    "        :param iterations: how many steps to take during the search\n",
    "        :return focus_z: the distance with the best focus\n",
    "        \"\"\"\n",
    "        \n",
    "        start_position = self.get_position()\n",
    "        \n",
    "        scores = []\n",
    "        positions = []\n",
    "        \n",
    "        for i in range(-iterations,iterations):\n",
    "            go_to_z = start_position + (step_size*i)\n",
    "            \n",
    "            self.move(go_to_z)\n",
    "            img = self.get_image()\n",
    "            current_position = self.get_position()\n",
    "            \n",
    "            scores.append(self.score_fnc(img))\n",
    "            positions.append(current_position)\n",
    "            \n",
    "        self.scores = scores\n",
    "        self.positions = positions\n",
    "        \n",
    "        return positions[np.argmax(scores)]\n",
    "    \n",
    "    \n"
   ]
  },
  {
   "cell_type": "code",
   "execution_count": 10,
   "metadata": {},
   "outputs": [],
   "source": [
    "import numpy as np"
   ]
  },
  {
   "cell_type": "code",
   "execution_count": 4,
   "metadata": {},
   "outputs": [
    {
     "data": {
      "text/plain": [
       "array([5.        , 0.70710678, 0.1       ])"
      ]
     },
     "execution_count": 4,
     "metadata": {},
     "output_type": "execute_result"
    }
   ],
   "source": [
    "np.exp(np.linspace(np.log(5),np.log(0.1),3))"
   ]
  },
  {
   "cell_type": "code",
   "execution_count": 214,
   "metadata": {},
   "outputs": [
    {
     "name": "stdout",
     "output_type": "stream",
     "text": [
      "Progress: 0 iterations of 11)\n",
      "Progress: 10 iterations of 11)\n"
     ]
    }
   ],
   "source": [
    "# Quick Test \n",
    "iters = 11\n",
    "results = []\n",
    "for i in range(iters):\n",
    "    fs = get_focus_stack(db)\n",
    "    tf = StepSearch(fs, imgs, Focus.brenner)\n",
    "    final = tf.search(step_size=2, iterations=20)\n",
    "    results.append(final-fs.focus.values[0])\n",
    "    if i%10<1:\n",
    "        print(f\"Progress: {i} iterations of {iters})\")\n",
    "plt.hist(results)"
   ]
  },
  {
   "cell_type": "markdown",
   "metadata": {},
   "source": [
    "### Test focus performance with each algorithm individually"
   ]
  },
  {
   "cell_type": "code",
   "execution_count": 9,
   "metadata": {},
   "outputs": [],
   "source": [
    "# List the algorithms you want to study here, input is image, output is the focus score/measure.\n",
    "test_algos = {'brenner':Focus.brenner,\n",
    "              'range':Focus.range_histogram,\n",
    "              'entropy':lambda x: -Focus.entropy_histogram(x),\n",
    "              'sobel':Focus.sobel_by_five,\n",
    "              'variance':Focus.variance,\n",
    "              'power':Focus.power}"
   ]
  },
  {
   "cell_type": "code",
   "execution_count": 235,
   "metadata": {},
   "outputs": [
    {
     "name": "stdout",
     "output_type": "stream",
     "text": [
      "Testing iterations: 15\n",
      "Testing iterations: 20\n",
      "Testing iterations: 25\n",
      "Testing iterations: 30\n",
      "Testing iterations: 40\n",
      "Testing iterations: 50\n"
     ]
    }
   ],
   "source": [
    "iters = 101\n",
    "data_out = {'algo':[], 'focus':[], 'iters':[]}\n",
    "iteration_scan = [15,20,25,30,40,50]\n",
    "for step_iters in iteration_scan:\n",
    "    print(f'Testing iterations: {step_iters}')\n",
    "    for i in range(iters):\n",
    "        fs = get_focus_stack(db)\n",
    "        for idx, fnc in test_algos.items():\n",
    "            tf = StepSearch(fs, imgs, fnc)\n",
    "            final = tf.climb(step_size=2, iterations=step_iters)\n",
    "            data_out['algo'].append(idx)\n",
    "            data_out['focus'].append(final-fs.focus.values[0])\n",
    "            data_out['iters'].append(step_iters)\n",
    "\n",
    "data = pd.DataFrame.from_dict(data_out)\n",
    "data.to_csv('GlobalRevised.csv')"
   ]
  },
  {
   "cell_type": "code",
   "execution_count": 226,
   "metadata": {},
   "outputs": [],
   "source": [
    "data = pd.DataFrame.from_dict(data_out)"
   ]
  },
  {
   "cell_type": "code",
   "execution_count": 239,
   "metadata": {},
   "outputs": [
    {
     "data": {
      "text/plain": [
       "<matplotlib.axes._subplots.AxesSubplot at 0x1959856ee08>"
      ]
     },
     "execution_count": 239,
     "metadata": {},
     "output_type": "execute_result"
    }
   ],
   "source": [
    "sns.boxplot(x='algo', y='focus', hue='iters', data=data)"
   ]
  },
  {
   "cell_type": "markdown",
   "metadata": {},
   "source": [
    "### Create a Refined Step Climb \n",
    "\n",
    "This will identify local maximas. It could be worthwhile to identfy all local maximas? Or the lowest local maxima near focus. \n"
   ]
  },
  {
   "cell_type": "code",
   "execution_count": 14,
   "metadata": {},
   "outputs": [],
   "source": [
    "import random\n",
    "import numpy as np\n",
    "import matplotlib.pyplot as plt\n",
    "\n",
    "class RefinedStepClimb(Climb):\n",
    "    \n",
    "    def __init__(self, *args):\n",
    "        super().__init__(*args)\n",
    "        \n",
    "    def climb(self, initial_step=5, final_step=0.1, refinements=3, log=False):\n",
    "        \"\"\"\n",
    "        Hill climb using smaller and smaller step sizes. When a maximum is found, start the refinement.\n",
    "        \"\"\"\n",
    "        \n",
    "        step_sizes = self._get_steps(initial_step, final_step, refinements, log)\n",
    "        \n",
    "        \n",
    "        positions = [self.get_position()]\n",
    "        img = self.get_image()\n",
    "        \n",
    "        step_max = self.score_fnc(img)\n",
    "        scores = [step_max]\n",
    "        for step in step_sizes:\n",
    "            focus_max = step_max-1\n",
    "            while step_max > focus_max:\n",
    "                # Update Maximum score and Maximum Position\n",
    "                focus_max = step_max\n",
    "                focus_idx = scores.index(focus_max)\n",
    "                focus_pos = positions[focus_idx]\n",
    "                # Get position below\n",
    "                below_pos = -1 * step + focus_pos\n",
    "                # Get Position Above\n",
    "                above_pos = 1 * step + focus_pos\n",
    "                \n",
    "                # Check the Neighbor Values\n",
    "                neighbor_scores=[]\n",
    "                for x in below_pos, above_pos:\n",
    "                    if x in positions:\n",
    "                        idx = positions.index(x)\n",
    "                        neighbor_scores.append(scores[idx])\n",
    "                    else:\n",
    "                        self.move(x)\n",
    "                        positions.append(x)\n",
    "                        img_score = self.score_fnc(self.get_image())\n",
    "                        scores.append(img_score)\n",
    "                        neighbor_scores.append(img_score)\n",
    "                        \n",
    "                # Set the Comoparison to the max of the neighbors, loop ends if step_max is < focus_max\n",
    "                step_max = max(neighbor_scores)\n",
    "        self.positions = positions\n",
    "        self.scores = scores\n",
    "        return focus_pos\n",
    "                \n",
    "                \n",
    "                \n",
    "    @staticmethod\n",
    "    def _get_steps(initial_step, final_step, refinements, log):\n",
    "        \n",
    "        if log:\n",
    "            return np.exp(np.linspace(np.log(initial_step), np.log(final_step), refinements))\n",
    "        else:\n",
    "            return np.linspace(initial_step, final_step, refinements)"
   ]
  },
  {
   "cell_type": "code",
   "execution_count": 15,
   "metadata": {},
   "outputs": [
    {
     "name": "stdout",
     "output_type": "stream",
     "text": [
      "Progress: 0 iterations of 1)\n",
      "Progress: 0 iterations of 1)\n",
      "Progress: 0 iterations of 1)\n",
      "Progress: 0 iterations of 1)\n",
      "Progress: 0 iterations of 1)\n",
      "Progress: 0 iterations of 1)\n",
      "Progress: 0 iterations of 1)\n"
     ]
    },
    {
     "data": {
      "text/plain": [
       "(array([1., 1., 0., 0., 0., 2., 1., 0., 1., 1.]),\n",
       " array([-2. , -1.4, -0.8, -0.2,  0.4,  1. ,  1.6,  2.2,  2.8,  3.4,  4. ]),\n",
       " <BarContainer object of 10 artists>)"
      ]
     },
     "execution_count": 15,
     "metadata": {},
     "output_type": "execute_result"
    },
    {
     "data": {
      "image/png": "[encoded data removed]",
      "text/plain": [
       "<Figure size 432x288 with 1 Axes>"
      ]
     },
     "metadata": {
      "needs_background": "light"
     },
     "output_type": "display_data"
    }
   ],
   "source": [
    "# Quick Test for the Refined Search\n",
    "iters = 1\n",
    "results = []\n",
    "var = []\n",
    "for xy in db.xy.unique():\n",
    "    fs = get_focus_stack(db, xy)\n",
    "\n",
    "    for i in range(iters):\n",
    "        tf = RefinedStepClimb(fs, imgs, Focus.brenner)\n",
    "        final = tf.climb(initial_step=10, final_step=2, refinements=5, log=True)\n",
    "        results.append(get_closest_z(final, fs, imgs)-fs.focus.values[0])\n",
    "        if i%10<1:\n",
    "            print(f\"Progress: {i} iterations of {iters})\")\n",
    "    var.append(np.std(results))\n",
    "        \n",
    "plt.hist(results)"
   ]
  },
  {
   "cell_type": "code",
   "execution_count": 16,
   "metadata": {},
   "outputs": [
    {
     "data": {
      "text/plain": [
       "(array([1., 0., 0., 0., 0., 2., 2., 0., 0., 2.]),\n",
       " array([0.        , 0.19587585, 0.39175169, 0.58762754, 0.78350338,\n",
       "        0.97937923, 1.17525507, 1.37113092, 1.56700677, 1.76288261,\n",
       "        1.95875846]),\n",
       " <BarContainer object of 10 artists>)"
      ]
     },
     "execution_count": 16,
     "metadata": {},
     "output_type": "execute_result"
    },
    {
     "data": {
      "image/png": "[encoded data removed]",
      "text/plain": [
       "<Figure size 432x288 with 1 Axes>"
      ]
     },
     "metadata": {
      "needs_background": "light"
     },
     "output_type": "display_data"
    }
   ],
   "source": [
    "plt.hist(var)"
   ]
  },
  {
   "cell_type": "markdown",
   "metadata": {},
   "source": [
    "# Region of Interest Focusing\n",
    "\n",
    "I've had the thought to segment the image and focus the image based on the ROI of near cells. I think this would help remove some of the uncertainty of cells that may be stacked on top of each other. \n",
    "\n"
   ]
  },
  {
   "cell_type": "markdown",
   "metadata": {},
   "source": [
    "### Blob Detection"
   ]
  },
  {
   "cell_type": "code",
   "execution_count": 12,
   "metadata": {},
   "outputs": [],
   "source": [
    "from skimage import io, img_as_float, filters, morphology\n",
    "from scipy.ndimage import label, distance_transform_edt\n",
    "from skimage.feature import peak_local_max\n",
    "from skimage.segmentation import watershed\n",
    "from skimage.measure import regionprops, regionprops_table\n",
    "\n",
    "\n",
    "\n"
   ]
  },
  {
   "cell_type": "code",
   "execution_count": 121,
   "metadata": {},
   "outputs": [
    {
     "data": {
      "image/png": "[encoded data removed]",
      "text/plain": [
       "<Figure size 432x288 with 1 Axes>"
      ]
     },
     "metadata": {
      "needs_background": "light"
     },
     "output_type": "display_data"
    }
   ],
   "source": [
    "fs = get_focus_stack(db)\n",
    "tf = RefinedStepClimb(fs, imgs, Focus.brenner)\n",
    "final = tf.climb(initial_step=10, final_step=2, refinements=5, log=True)\n",
    "image = get_img_from_z(final, fs, imgs)\n",
    "\n",
    "close_size=9\n",
    "open_size=5\n",
    "watershed_footprint = (13,13)\n",
    "# Make sure types are the same\n",
    "input_image = img_as_float(image)\n",
    "\n",
    "# Filter Image\n",
    "filtered_image = filters.median(input_image, behavior='ndimage')\n",
    "\n",
    "# Edge Detection\n",
    "edge_sobel = filters.sobel(filtered_image)\n",
    "\n",
    "# Threshold\n",
    "thresh = filters.threshold_otsu(edge_sobel)\n",
    "binary_otsu = edge_sobel > thresh\n",
    "\n",
    "# Binary Morphology Operations\n",
    "structure_element = morphology.disk(close_size)\n",
    "closed_image = morphology.binary_closing(binary_otsu, structure_element)\n",
    "structure_element = morphology.disk(open_size)\n",
    "opened_image = morphology.binary_opening(closed_image, structure_element)\n",
    "\n",
    "# Watershed\n",
    "distance = distance_transform_edt(opened_image)\n",
    "local_maxi = peak_local_max(distance, indices=False, footprint=np.ones(watershed_footprint), labels=opened_image)\n",
    "markers = label(local_maxi)[0]\n",
    "labels = watershed(-distance, markers, mask=opened_image)\n",
    "\n",
    "plt.imshow(labels)\n",
    "\n",
    "regions = regionprops_table(labels, intensity_image=image, properties=('bbox', 'area', 'label', 'centroid', 'max_intensity', 'mean_intensity'))\n",
    "\n",
    "\n",
    "df = pd.DataFrame(regions)"
   ]
  },
  {
   "cell_type": "code",
   "execution_count": 14,
   "metadata": {},
   "outputs": [
    {
     "data": {
      "text/html": [
       "<div>\n",
       "<style scoped>\n",
       "    .dataframe tbody tr th:only-of-type {\n",
       "        vertical-align: middle;\n",
       "    }\n",
       "\n",
       "    .dataframe tbody tr th {\n",
       "        vertical-align: top;\n",
       "    }\n",
       "\n",
       "    .dataframe thead th {\n",
       "        text-align: right;\n",
       "    }\n",
       "</style>\n",
       "<table border=\"1\" class=\"dataframe\">\n",
       "  <thead>\n",
       "    <tr style=\"text-align: right;\">\n",
       "      <th></th>\n",
       "      <th>bbox-0</th>\n",
       "      <th>bbox-1</th>\n",
       "      <th>bbox-2</th>\n",
       "      <th>bbox-3</th>\n",
       "      <th>label</th>\n",
       "      <th>centroid-0</th>\n",
       "      <th>centroid-1</th>\n",
       "      <th>max_intensity</th>\n",
       "      <th>mean_intensity</th>\n",
       "    </tr>\n",
       "  </thead>\n",
       "  <tbody>\n",
       "    <tr>\n",
       "      <th>0</th>\n",
       "      <td>0</td>\n",
       "      <td>359</td>\n",
       "      <td>8</td>\n",
       "      <td>372</td>\n",
       "      <td>1</td>\n",
       "      <td>3.024691</td>\n",
       "      <td>365.074074</td>\n",
       "      <td>524</td>\n",
       "      <td>417.000000</td>\n",
       "    </tr>\n",
       "    <tr>\n",
       "      <th>1</th>\n",
       "      <td>0</td>\n",
       "      <td>329</td>\n",
       "      <td>8</td>\n",
       "      <td>340</td>\n",
       "      <td>2</td>\n",
       "      <td>2.937500</td>\n",
       "      <td>334.000000</td>\n",
       "      <td>530</td>\n",
       "      <td>430.156250</td>\n",
       "    </tr>\n",
       "    <tr>\n",
       "      <th>2</th>\n",
       "      <td>25</td>\n",
       "      <td>618</td>\n",
       "      <td>72</td>\n",
       "      <td>691</td>\n",
       "      <td>3</td>\n",
       "      <td>47.976932</td>\n",
       "      <td>655.080354</td>\n",
       "      <td>1402</td>\n",
       "      <td>653.895809</td>\n",
       "    </tr>\n",
       "    <tr>\n",
       "      <th>3</th>\n",
       "      <td>51</td>\n",
       "      <td>356</td>\n",
       "      <td>74</td>\n",
       "      <td>396</td>\n",
       "      <td>4</td>\n",
       "      <td>63.333333</td>\n",
       "      <td>377.084034</td>\n",
       "      <td>1392</td>\n",
       "      <td>670.991597</td>\n",
       "    </tr>\n",
       "    <tr>\n",
       "      <th>4</th>\n",
       "      <td>73</td>\n",
       "      <td>354</td>\n",
       "      <td>97</td>\n",
       "      <td>395</td>\n",
       "      <td>5</td>\n",
       "      <td>83.799274</td>\n",
       "      <td>372.707376</td>\n",
       "      <td>1470</td>\n",
       "      <td>678.648126</td>\n",
       "    </tr>\n",
       "  </tbody>\n",
       "</table>\n",
       "</div>"
      ],
      "text/plain": [
       "   bbox-0  bbox-1  bbox-2  bbox-3  label  centroid-0  centroid-1  \\\n",
       "0       0     359       8     372      1    3.024691  365.074074   \n",
       "1       0     329       8     340      2    2.937500  334.000000   \n",
       "2      25     618      72     691      3   47.976932  655.080354   \n",
       "3      51     356      74     396      4   63.333333  377.084034   \n",
       "4      73     354      97     395      5   83.799274  372.707376   \n",
       "\n",
       "   max_intensity  mean_intensity  \n",
       "0            524      417.000000  \n",
       "1            530      430.156250  \n",
       "2           1402      653.895809  \n",
       "3           1392      670.991597  \n",
       "4           1470      678.648126  "
      ]
     },
     "execution_count": 14,
     "metadata": {},
     "output_type": "execute_result"
    }
   ],
   "source": [
    "df.head()"
   ]
  },
  {
   "cell_type": "code",
   "execution_count": 110,
   "metadata": {},
   "outputs": [],
   "source": [
    "def get_roi(img, row_0, col_0, row_1, col_1, pad=10):\n",
    "    max_row, max_col = img.shape\n",
    "    \n",
    "    bbox = [row_0, col_0, row_1, col_1]\n",
    "    bbox = [int(x) for x in bbox]\n",
    "    for idx, x in enumerate(bbox):\n",
    "        \n",
    "        if x < pad:\n",
    "            bbox[idx]=0\n",
    "        else:\n",
    "            bbox[idx]-=pad\n",
    "        \n",
    "        if idx%2==0:\n",
    "            max_x = max_row\n",
    "        else:\n",
    "            max_x = max_col\n",
    "        \n",
    "        if x+pad > max_x:\n",
    "            bbox[idx]=max_x\n",
    "        else:\n",
    "            bbox[idx]=x+pad\n",
    "    \n",
    "    return img[bbox[0]:bbox[2], bbox[1]:bbox[3]]\n",
    "\n"
   ]
  },
  {
   "cell_type": "code",
   "execution_count": 18,
   "metadata": {},
   "outputs": [],
   "source": [
    "%config IPCompleter.greedy=True\n",
    "\n"
   ]
  },
  {
   "cell_type": "code",
   "execution_count": 16,
   "metadata": {},
   "outputs": [
    {
     "data": {
      "text/plain": [
       "array([[109, 107, 108, ..., 103, 106, 105],\n",
       "       [103, 105, 104, ..., 104, 104, 102],\n",
       "       [103, 103, 107, ..., 107, 100, 102],\n",
       "       ...,\n",
       "       [328, 329, 358, ..., 365, 365, 345],\n",
       "       [345, 342, 349, ..., 352, 345, 328],\n",
       "       [404, 390, 362, ..., 367, 356, 360]], dtype=uint16)"
      ]
     },
     "execution_count": 16,
     "metadata": {},
     "output_type": "execute_result"
    }
   ],
   "source": [
    "get_roi(image, 85,451,170,530)"
   ]
  },
  {
   "cell_type": "code",
   "execution_count": 21,
   "metadata": {},
   "outputs": [],
   "source": [
    "fs = get_focus_stack(db)"
   ]
  },
  {
   "cell_type": "code",
   "execution_count": 124,
   "metadata": {},
   "outputs": [],
   "source": [
    "data = {'score':[], 'position':[], 'label':[]}\n",
    "temp = df[df['area']>600]\n",
    "for idx, row in fs.iterrows():\n",
    "    img = imgs[idx]\n",
    "    \n",
    "    for jdx, blob in temp.iterrows():\n",
    "        roi = get_roi(img, blob['bbox-0'],blob['bbox-1'],blob['bbox-2'],blob['bbox-3'], pad=100)\n",
    "        sc = Focus.brenner(roi)\n",
    "        data['score'].append(sc)\n",
    "        data['position'].append(row.z)\n",
    "        data['label'].append(blob.label)\n"
   ]
  },
  {
   "cell_type": "code",
   "execution_count": 125,
   "metadata": {},
   "outputs": [],
   "source": [
    "data_df = pd.DataFrame.from_dict(data)"
   ]
  },
  {
   "cell_type": "code",
   "execution_count": 129,
   "metadata": {},
   "outputs": [],
   "source": [
    "data_df['max_focus']=0\n",
    "data_df = data_df.sort_values(by=['position'])"
   ]
  },
  {
   "cell_type": "code",
   "execution_count": 130,
   "metadata": {},
   "outputs": [],
   "source": [
    "mx = []\n",
    "for roi in data_df['label'].unique():\n",
    "    temp = data_df[data_df['label']==roi]\n",
    "    if not temp.score.any():\n",
    "        continue\n",
    "        print(roi)\n",
    "    data_df.loc[temp.index, 'max_focus'] = temp.loc[temp.score.idxmax(), 'position']\n",
    "    mx.append(temp.loc[temp.score.idxmax(), 'position'])"
   ]
  },
  {
   "cell_type": "code",
   "execution_count": 131,
   "metadata": {},
   "outputs": [
    {
     "data": {
      "text/plain": [
       "(array([1., 0., 1., 0., 0., 0., 0., 0., 0., 0., 1., 0., 0., 1., 0., 0., 0.,\n",
       "        0., 0., 0., 0., 0., 1., 0., 0., 0., 0., 0., 0., 0., 1., 0., 0., 0.,\n",
       "        0., 0., 1., 0., 0., 0., 0., 0., 0., 0., 2., 0., 2., 0., 0., 0., 0.,\n",
       "        0., 0., 0., 0., 0., 0., 0., 0., 0., 0., 0., 0., 0., 0., 0., 0., 0.,\n",
       "        0., 0., 0., 0., 0., 0., 0., 0., 0., 0., 0., 0., 0., 0., 0., 0., 0.,\n",
       "        0., 0., 0., 0., 0., 2., 0., 0., 0., 0., 0., 1., 1., 0., 1.]),\n",
       " array([9292.  , 9293.66, 9295.32, 9296.98, 9298.64, 9300.3 , 9301.96,\n",
       "        9303.62, 9305.28, 9306.94, 9308.6 , 9310.26, 9311.92, 9313.58,\n",
       "        9315.24, 9316.9 , 9318.56, 9320.22, 9321.88, 9323.54, 9325.2 ,\n",
       "        9326.86, 9328.52, 9330.18, 9331.84, 9333.5 , 9335.16, 9336.82,\n",
       "        9338.48, 9340.14, 9341.8 , 9343.46, 9345.12, 9346.78, 9348.44,\n",
       "        9350.1 , 9351.76, 9353.42, 9355.08, 9356.74, 9358.4 , 9360.06,\n",
       "        9361.72, 9363.38, 9365.04, 9366.7 , 9368.36, 9370.02, 9371.68,\n",
       "        9373.34, 9375.  , 9376.66, 9378.32, 9379.98, 9381.64, 9383.3 ,\n",
       "        9384.96, 9386.62, 9388.28, 9389.94, 9391.6 , 9393.26, 9394.92,\n",
       "        9396.58, 9398.24, 9399.9 , 9401.56, 9403.22, 9404.88, 9406.54,\n",
       "        9408.2 , 9409.86, 9411.52, 9413.18, 9414.84, 9416.5 , 9418.16,\n",
       "        9419.82, 9421.48, 9423.14, 9424.8 , 9426.46, 9428.12, 9429.78,\n",
       "        9431.44, 9433.1 , 9434.76, 9436.42, 9438.08, 9439.74, 9441.4 ,\n",
       "        9443.06, 9444.72, 9446.38, 9448.04, 9449.7 , 9451.36, 9453.02,\n",
       "        9454.68, 9456.34, 9458.  ]),\n",
       " <BarContainer object of 100 artists>)"
      ]
     },
     "execution_count": 131,
     "metadata": {},
     "output_type": "execute_result"
    },
    {
     "data": {
      "image/png": "[encoded data removed]",
      "text/plain": [
       "<Figure size 432x288 with 1 Axes>"
      ]
     },
     "metadata": {
      "needs_background": "light"
     },
     "output_type": "display_data"
    }
   ],
   "source": [
    "plt.hist(mx, bins=100)"
   ]
  },
  {
   "cell_type": "code",
   "execution_count": 132,
   "metadata": {},
   "outputs": [
    {
     "data": {
      "text/plain": [
       "<AxesSubplot:xlabel='position', ylabel='score'>"
      ]
     },
     "execution_count": 132,
     "metadata": {},
     "output_type": "execute_result"
    },
    {
     "data": {
      "image/png": "[encoded data removed]",
      "text/plain": [
       "<Figure size 432x288 with 1 Axes>"
      ]
     },
     "metadata": {
      "needs_background": "light"
     },
     "output_type": "display_data"
    }
   ],
   "source": [
    "sns.scatterplot(x='position', y='score', hue='label', data=data_df, palette='Set1')"
   ]
  },
  {
   "cell_type": "markdown",
   "metadata": {},
   "source": [
    "### Extracting Data from Power Point Slides\n",
    "\n",
    "Each slide contains a .GIF that I want to analyze. "
   ]
  },
  {
   "cell_type": "code",
   "execution_count": 35,
   "metadata": {},
   "outputs": [],
   "source": [
    "from L4.FileIO import get_data_filename\n",
    "\n",
    "presentation = r\"D:\\WorkDrive\\Genotyping\\Data\\10-30-2020 Cell Data\\SingleCellData.pptx_00000 - Copy.pptx\"\n",
    "filename=presentation\n",
    "data_out = r\"D:\\Research\\ACES\\Focus\\GIF\""
   ]
  },
  {
   "cell_type": "code",
   "execution_count": 218,
   "metadata": {},
   "outputs": [],
   "source": [
    "#From @scanny, https://stackoverflow.com/questions/52491656/extracting-images-from-presentation-file\n",
    "from pptx import Presentation\n",
    "from pptx.enum.shapes import MSO_SHAPE_TYPE\n",
    "\n",
    "def extract_gifs_from_ppt(filename, output_folder, output_prefix):\n",
    "    \"\"\"\n",
    "    By default, the automated program stores videos of the injection process for single cells and places them into a powerpoint.\n",
    "    This function reads that powerpoint file, finds all the gifs, and outputs them to a separate folder. Each gif will be \n",
    "    labelled serially, (prefix, prefix_00000, prefix_000001, ...). \n",
    "    \"\"\"\n",
    "    def iter_picture_shapes(prs):\n",
    "        for slide in prs.slides:\n",
    "            for shape in slide.shapes:\n",
    "                if shape.shape_type == MSO_SHAPE_TYPE.PICTURE:\n",
    "                    yield shape\n",
    "\n",
    "    for picture in iter_picture_shapes(Presentation(filename)):\n",
    "        image = picture.image\n",
    "        if image.ext != 'gif':\n",
    "            continue\n",
    "        # ---get image \"file\" contents---\n",
    "        image_bytes = image.blob\n",
    "        # ---make up a name for the file, e.g. 'image.jpg'---\n",
    "        image_filename = get_data_filename(output_prefix, output_folder, extension='.gif')\n",
    "        with open(image_filename, 'wb') as f:\n",
    "            f.write(image_bytes)"
   ]
  },
  {
   "cell_type": "code",
   "execution_count": 222,
   "metadata": {},
   "outputs": [
    {
     "ename": "ImportError",
     "evalue": "To use the imageio ffmpeg plugin you need to 'pip install imageio-ffmpeg'",
     "output_type": "error",
     "traceback": [
      "\u001b[1;31m---------------------------------------------------------------------------\u001b[0m",
      "\u001b[1;31mModuleNotFoundError\u001b[0m                       Traceback (most recent call last)",
      "\u001b[1;32mD:\\Software\\MiniConda\\envs\\CEpy3\\lib\\site-packages\\imageio\\plugins\\ffmpeg.py\u001b[0m in \u001b[0;36m_get_ffmpeg_api\u001b[1;34m()\u001b[0m\n\u001b[0;32m     58\u001b[0m         \u001b[1;32mtry\u001b[0m\u001b[1;33m:\u001b[0m\u001b[1;33m\u001b[0m\u001b[1;33m\u001b[0m\u001b[0m\n\u001b[1;32m---> 59\u001b[1;33m             \u001b[1;32mimport\u001b[0m \u001b[0mimageio_ffmpeg\u001b[0m\u001b[1;33m\u001b[0m\u001b[1;33m\u001b[0m\u001b[0m\n\u001b[0m\u001b[0;32m     60\u001b[0m         \u001b[1;32mexcept\u001b[0m \u001b[0mImportError\u001b[0m\u001b[1;33m:\u001b[0m\u001b[1;33m\u001b[0m\u001b[1;33m\u001b[0m\u001b[0m\n",
      "\u001b[1;31mModuleNotFoundError\u001b[0m: No module named 'imageio_ffmpeg'",
      "\nDuring handling of the above exception, another exception occurred:\n",
      "\u001b[1;31mImportError\u001b[0m                               Traceback (most recent call last)",
      "\u001b[1;32m<ipython-input-222-e5a535312348>\u001b[0m in \u001b[0;36m<module>\u001b[1;34m\u001b[0m\n\u001b[0;32m      1\u001b[0m \u001b[1;32mimport\u001b[0m \u001b[0mimageio\u001b[0m\u001b[1;33m\u001b[0m\u001b[1;33m\u001b[0m\u001b[0m\n\u001b[0;32m      2\u001b[0m \u001b[0mfilename\u001b[0m \u001b[1;33m=\u001b[0m \u001b[1;34mr\"D:\\Research\\ACES\\Focus\\GIF\\cell_injection.gif\"\u001b[0m\u001b[1;33m\u001b[0m\u001b[1;33m\u001b[0m\u001b[0m\n\u001b[1;32m----> 3\u001b[1;33m \u001b[0mvid\u001b[0m \u001b[1;33m=\u001b[0m \u001b[0mimageio\u001b[0m\u001b[1;33m.\u001b[0m\u001b[0mget_reader\u001b[0m\u001b[1;33m(\u001b[0m\u001b[0mfilename\u001b[0m\u001b[1;33m,\u001b[0m  \u001b[1;34m'ffmpeg'\u001b[0m\u001b[1;33m)\u001b[0m\u001b[1;33m\u001b[0m\u001b[1;33m\u001b[0m\u001b[0m\n\u001b[0m\u001b[0;32m      4\u001b[0m \u001b[1;33m\u001b[0m\u001b[0m\n\u001b[0;32m      5\u001b[0m \u001b[1;32mfor\u001b[0m \u001b[0mnum\u001b[0m\u001b[1;33m,\u001b[0m \u001b[0mimage\u001b[0m \u001b[1;32min\u001b[0m \u001b[0mvid\u001b[0m\u001b[1;33m.\u001b[0m\u001b[0miter_data\u001b[0m\u001b[1;33m(\u001b[0m\u001b[1;33m)\u001b[0m\u001b[1;33m:\u001b[0m\u001b[1;33m\u001b[0m\u001b[1;33m\u001b[0m\u001b[0m\n",
      "\u001b[1;32mD:\\Software\\MiniConda\\envs\\CEpy3\\lib\\site-packages\\imageio\\core\\functions.py\u001b[0m in \u001b[0;36mget_reader\u001b[1;34m(uri, format, mode, **kwargs)\u001b[0m\n\u001b[0;32m    184\u001b[0m \u001b[1;33m\u001b[0m\u001b[0m\n\u001b[0;32m    185\u001b[0m     \u001b[1;31m# Return its reader object\u001b[0m\u001b[1;33m\u001b[0m\u001b[1;33m\u001b[0m\u001b[1;33m\u001b[0m\u001b[0m\n\u001b[1;32m--> 186\u001b[1;33m     \u001b[1;32mreturn\u001b[0m \u001b[0mformat\u001b[0m\u001b[1;33m.\u001b[0m\u001b[0mget_reader\u001b[0m\u001b[1;33m(\u001b[0m\u001b[0mrequest\u001b[0m\u001b[1;33m)\u001b[0m\u001b[1;33m\u001b[0m\u001b[1;33m\u001b[0m\u001b[0m\n\u001b[0m\u001b[0;32m    187\u001b[0m \u001b[1;33m\u001b[0m\u001b[0m\n\u001b[0;32m    188\u001b[0m \u001b[1;33m\u001b[0m\u001b[0m\n",
      "\u001b[1;32mD:\\Software\\MiniConda\\envs\\CEpy3\\lib\\site-packages\\imageio\\core\\format.py\u001b[0m in \u001b[0;36mget_reader\u001b[1;34m(self, request)\u001b[0m\n\u001b[0;32m    168\u001b[0m                 \u001b[1;34m\"Format %s cannot read in %s mode\"\u001b[0m \u001b[1;33m%\u001b[0m \u001b[1;33m(\u001b[0m\u001b[0mself\u001b[0m\u001b[1;33m.\u001b[0m\u001b[0mname\u001b[0m\u001b[1;33m,\u001b[0m \u001b[0mmodename\u001b[0m\u001b[1;33m)\u001b[0m\u001b[1;33m\u001b[0m\u001b[1;33m\u001b[0m\u001b[0m\n\u001b[0;32m    169\u001b[0m             )\n\u001b[1;32m--> 170\u001b[1;33m         \u001b[1;32mreturn\u001b[0m \u001b[0mself\u001b[0m\u001b[1;33m.\u001b[0m\u001b[0mReader\u001b[0m\u001b[1;33m(\u001b[0m\u001b[0mself\u001b[0m\u001b[1;33m,\u001b[0m \u001b[0mrequest\u001b[0m\u001b[1;33m)\u001b[0m\u001b[1;33m\u001b[0m\u001b[1;33m\u001b[0m\u001b[0m\n\u001b[0m\u001b[0;32m    171\u001b[0m \u001b[1;33m\u001b[0m\u001b[0m\n\u001b[0;32m    172\u001b[0m     \u001b[1;32mdef\u001b[0m \u001b[0mget_writer\u001b[0m\u001b[1;33m(\u001b[0m\u001b[0mself\u001b[0m\u001b[1;33m,\u001b[0m \u001b[0mrequest\u001b[0m\u001b[1;33m)\u001b[0m\u001b[1;33m:\u001b[0m\u001b[1;33m\u001b[0m\u001b[1;33m\u001b[0m\u001b[0m\n",
      "\u001b[1;32mD:\\Software\\MiniConda\\envs\\CEpy3\\lib\\site-packages\\imageio\\core\\format.py\u001b[0m in \u001b[0;36m__init__\u001b[1;34m(self, format, request)\u001b[0m\n\u001b[0;32m    219\u001b[0m             \u001b[0mself\u001b[0m\u001b[1;33m.\u001b[0m\u001b[0m_request\u001b[0m \u001b[1;33m=\u001b[0m \u001b[0mrequest\u001b[0m\u001b[1;33m\u001b[0m\u001b[1;33m\u001b[0m\u001b[0m\n\u001b[0;32m    220\u001b[0m             \u001b[1;31m# Open the reader/writer\u001b[0m\u001b[1;33m\u001b[0m\u001b[1;33m\u001b[0m\u001b[1;33m\u001b[0m\u001b[0m\n\u001b[1;32m--> 221\u001b[1;33m             \u001b[0mself\u001b[0m\u001b[1;33m.\u001b[0m\u001b[0m_open\u001b[0m\u001b[1;33m(\u001b[0m\u001b[1;33m**\u001b[0m\u001b[0mself\u001b[0m\u001b[1;33m.\u001b[0m\u001b[0mrequest\u001b[0m\u001b[1;33m.\u001b[0m\u001b[0mkwargs\u001b[0m\u001b[1;33m.\u001b[0m\u001b[0mcopy\u001b[0m\u001b[1;33m(\u001b[0m\u001b[1;33m)\u001b[0m\u001b[1;33m)\u001b[0m\u001b[1;33m\u001b[0m\u001b[1;33m\u001b[0m\u001b[0m\n\u001b[0m\u001b[0;32m    222\u001b[0m \u001b[1;33m\u001b[0m\u001b[0m\n\u001b[0;32m    223\u001b[0m         \u001b[1;33m@\u001b[0m\u001b[0mproperty\u001b[0m\u001b[1;33m\u001b[0m\u001b[1;33m\u001b[0m\u001b[0m\n",
      "\u001b[1;32mD:\\Software\\MiniConda\\envs\\CEpy3\\lib\\site-packages\\imageio\\plugins\\ffmpeg.py\u001b[0m in \u001b[0;36m_open\u001b[1;34m(self, loop, size, dtype, pixelformat, print_info, ffmpeg_params, input_params, output_params, fps)\u001b[0m\n\u001b[0;32m    255\u001b[0m         ):\n\u001b[0;32m    256\u001b[0m             \u001b[1;31m# Get generator functions\u001b[0m\u001b[1;33m\u001b[0m\u001b[1;33m\u001b[0m\u001b[1;33m\u001b[0m\u001b[0m\n\u001b[1;32m--> 257\u001b[1;33m             \u001b[0mself\u001b[0m\u001b[1;33m.\u001b[0m\u001b[0m_ffmpeg_api\u001b[0m \u001b[1;33m=\u001b[0m \u001b[0m_get_ffmpeg_api\u001b[0m\u001b[1;33m(\u001b[0m\u001b[1;33m)\u001b[0m\u001b[1;33m\u001b[0m\u001b[1;33m\u001b[0m\u001b[0m\n\u001b[0m\u001b[0;32m    258\u001b[0m             \u001b[1;31m# Process input args\u001b[0m\u001b[1;33m\u001b[0m\u001b[1;33m\u001b[0m\u001b[1;33m\u001b[0m\u001b[0m\n\u001b[0;32m    259\u001b[0m             \u001b[0mself\u001b[0m\u001b[1;33m.\u001b[0m\u001b[0m_arg_loop\u001b[0m \u001b[1;33m=\u001b[0m \u001b[0mbool\u001b[0m\u001b[1;33m(\u001b[0m\u001b[0mloop\u001b[0m\u001b[1;33m)\u001b[0m\u001b[1;33m\u001b[0m\u001b[1;33m\u001b[0m\u001b[0m\n",
      "\u001b[1;32mD:\\Software\\MiniConda\\envs\\CEpy3\\lib\\site-packages\\imageio\\plugins\\ffmpeg.py\u001b[0m in \u001b[0;36m_get_ffmpeg_api\u001b[1;34m()\u001b[0m\n\u001b[0;32m     60\u001b[0m         \u001b[1;32mexcept\u001b[0m \u001b[0mImportError\u001b[0m\u001b[1;33m:\u001b[0m\u001b[1;33m\u001b[0m\u001b[1;33m\u001b[0m\u001b[0m\n\u001b[0;32m     61\u001b[0m             raise ImportError(\n\u001b[1;32m---> 62\u001b[1;33m                 \u001b[1;34m\"To use the imageio ffmpeg plugin you need to \"\u001b[0m\u001b[1;33m\u001b[0m\u001b[1;33m\u001b[0m\u001b[0m\n\u001b[0m\u001b[0;32m     63\u001b[0m                 \u001b[1;34m\"'pip install imageio-ffmpeg'\"\u001b[0m\u001b[1;33m\u001b[0m\u001b[1;33m\u001b[0m\u001b[0m\n\u001b[0;32m     64\u001b[0m             )\n",
      "\u001b[1;31mImportError\u001b[0m: To use the imageio ffmpeg plugin you need to 'pip install imageio-ffmpeg'"
     ]
    }
   ],
   "source": [
    "import imageio\n",
    "filename = r\"D:\\Research\\ACES\\Focus\\GIF\\cell_injection.gif\"\n",
    "vid = imageio.get_reader(filename,  'ffmpeg')\n",
    "\n",
    "for num, image in vid.iter_data():\n",
    "    print(image.mean())\n",
    "\n",
    "metadata = vid.get_meta_data()"
   ]
  },
  {
   "cell_type": "code",
   "execution_count": 3,
   "metadata": {},
   "outputs": [
    {
     "name": "stderr",
     "output_type": "stream",
     "text": [
      "D:\\Software\\MiniConda\\envs\\CEpy3\\lib\\site-packages\\pims\\pyav_reader.py:232: MethodDeprecationWarning: VideoStream.seek is deprecated.\n",
      "  self._stream.seek(timestamp + self._first_pts)\n"
     ]
    },
    {
     "data": {
      "text/html": [
       "<img src=\"data:image/png;base64,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\" style=\"width: 512\" />"
      ],
      "text/plain": [
       "Frame([[[180, 180, 180],\n",
       "        [173, 173, 173],\n",
       "        [168, 168, 168],\n",
       "        ...,\n",
       "        [160, 160, 160],\n",
       "        [159, 159, 159],\n",
       "        [161, 161, 161]],\n",
       "\n",
       "       [[178, 178, 178],\n",
       "        [180, 180, 180],\n",
       "        [175, 175, 175],\n",
       "        ...,\n",
       "        [158, 158, 158],\n",
       "        [163, 163, 163],\n",
       "        [164, 164, 164]],\n",
       "\n",
       "       [[191, 191, 191],\n",
       "        [181, 181, 181],\n",
       "        [181, 181, 181],\n",
       "        ...,\n",
       "        [154, 154, 154],\n",
       "        [166, 166, 166],\n",
       "        [162, 162, 162]],\n",
       "\n",
       "       ...,\n",
       "\n",
       "       [[157, 157, 157],\n",
       "        [156, 156, 156],\n",
       "        [153, 153, 153],\n",
       "        ...,\n",
       "        [179, 179, 179],\n",
       "        [179, 179, 179],\n",
       "        [173, 173, 173]],\n",
       "\n",
       "       [[170, 170, 170],\n",
       "        [165, 165, 165],\n",
       "        [164, 164, 164],\n",
       "        ...,\n",
       "        [166, 166, 166],\n",
       "        [165, 165, 165],\n",
       "        [167, 167, 167]],\n",
       "\n",
       "       [[186, 186, 186],\n",
       "        [181, 181, 181],\n",
       "        [177, 177, 177],\n",
       "        ...,\n",
       "        [158, 158, 158],\n",
       "        [158, 158, 158],\n",
       "        [163, 163, 163]]], dtype=uint8)"
      ]
     },
     "execution_count": 3,
     "metadata": {},
     "output_type": "execute_result"
    }
   ],
   "source": [
    "import pims\n",
    "filename = r\"D:\\Research\\ACES\\Focus\\GIF\\cell_injection.gif\"\n",
    "\n",
    "v = pims.Video(filename)\n",
    "v[-1]  # a 2D numpy array representing the last frame"
   ]
  },
  {
   "cell_type": "markdown",
   "metadata": {},
   "source": [
    "### Create a UI that allows us to quickly label a set of images. "
   ]
  },
  {
   "cell_type": "code",
   "execution_count": 51,
   "metadata": {},
   "outputs": [],
   "source": [
    "import numpy as np\n",
    "import matplotlib.pyplot as plt\n",
    "import matplotlib.animation as animation\n",
    "\n",
    "fig = plt.figure(constrained_layout=True)\n",
    "gs = fig.add_gridspec(4, 1)\n",
    "ax_im = fig.add_subplot(gs[0:3])\n",
    "im = ax_im.imshow(v[0], animated=True)\n",
    "ax_foc = fig.add_subplot(gs[3])\n",
    "scores = get_gif_focus_array(v)\n",
    "plot1, = ax_foc.plot(scores)\n",
    "line1, = ax_foc.plot([0,0], [min(scores), max(scores)])\n",
    "v_idx = 0\n",
    "current_idx = 0\n",
    "gif_idx = 0\n",
    "current_gif_idx = 0\n",
    "\n",
    "def get_gif_focus_array(frames, focus_func=Focus.brenner):\n",
    "    scores = []\n",
    "    for frame in frames:\n",
    "        scores.append(focus_func(frame))\n",
    "    return scores\n",
    "\n",
    "def updatefig(*args):\n",
    "    global v_idx, current_idx, gif_idx,  current_gif_idx, v\n",
    "    if v_idx != current_idx:\n",
    "        current_idx = v_idx\n",
    "        im.set_array(v[v_idx])\n",
    "        line1.set_xdata([v_idx, v_idx])\n",
    "\n",
    "\n",
    "        ax_foc.set_ylim(min(scores)*0.9, max(scores)*1.1)\n",
    "    return im, plot1, line1\n",
    "\n",
    "def on_scroll(event):\n",
    "    global v_idx\n",
    "    if event.button == 'up':\n",
    "        v_idx +=1\n",
    "    elif event.button == 'down':\n",
    "        v_idx -=1\n",
    "    \n",
    "    if v_idx <0:\n",
    "        v_idx = 0\n",
    "    elif v_idx >= len(v):\n",
    "        v_idx = len(v)-1\n",
    "\n",
    "    \n",
    "cid2 = fig.canvas.mpl_connect('scroll_event', on_scroll)   \n",
    "\n",
    "\n",
    "ani = animation.FuncAnimation(fig, updatefig, interval=50, blit=True)\n",
    "plt.show()"
   ]
  },
  {
   "cell_type": "code",
   "execution_count": 8,
   "metadata": {},
   "outputs": [],
   "source": [
    "%matplotlib qt"
   ]
  },
  {
   "cell_type": "code",
   "execution_count": 36,
   "metadata": {},
   "outputs": [],
   "source": [
    "gif_imgs = [x for x in glob.glob(data_out+'\\*.gif')]"
   ]
  },
  {
   "cell_type": "code",
   "execution_count": 49,
   "metadata": {},
   "outputs": [
    {
     "data": {
      "text/plain": [
       "<Frames>\n",
       "Format: GIF (Graphics Interchange Format)\n",
       "Source: D:\\Research\\ACES\\Focus\\GIF\\cell_injection_00002.gif\n",
       "Duration: 21.400 seconds\n",
       "Frame rate: 10.000 fps\n",
       "Length: 214 frames\n",
       "Frame Shape: (260, 348, 3)"
      ]
     },
     "execution_count": 49,
     "metadata": {},
     "output_type": "execute_result"
    },
    {
     "name": "stdout",
     "output_type": "stream",
     "text": [
      "hi\n",
      "holo\n",
      "hi\n",
      "holo\n"
     ]
    }
   ],
   "source": [
    "v"
   ]
  },
  {
   "cell_type": "code",
   "execution_count": 18,
   "metadata": {},
   "outputs": [
    {
     "data": {
      "text/plain": [
       "<Frames>\n",
       "Format: GIF (Graphics Interchange Format)\n",
       "Source: D:\\Research\\ACES\\Focus\\GIF\\cell_injection.gif\n",
       "Duration: 21.200 seconds\n",
       "Frame rate: 10.000 fps\n",
       "Length: 212 frames\n",
       "Frame Shape: (260, 348, 3)"
      ]
     },
     "execution_count": 18,
     "metadata": {},
     "output_type": "execute_result"
    }
   ],
   "source": [
    "v"
   ]
  },
  {
   "cell_type": "code",
   "execution_count": 19,
   "metadata": {},
   "outputs": [
    {
     "data": {
      "text/plain": [
       "212"
      ]
     },
     "execution_count": 19,
     "metadata": {},
     "output_type": "execute_result"
    }
   ],
   "source": [
    "len(v)"
   ]
  },
  {
   "cell_type": "code",
   "execution_count": 26,
   "metadata": {},
   "outputs": [],
   "source": [
    "v_idx=140"
   ]
  },
  {
   "cell_type": "code",
   "execution_count": null,
   "metadata": {},
   "outputs": [],
   "source": []
  }
 ],
 "metadata": {
  "kernelspec": {
   "display_name": "Python 3",
   "language": "python",
   "name": "python3"
  },
  "language_info": {
   "codemirror_mode": {
    "name": "ipython",
    "version": 3
   },
   "file_extension": ".py",
   "mimetype": "text/x-python",
   "name": "python",
   "nbconvert_exporter": "python",
   "pygments_lexer": "ipython3",
   "version": "3.7.9"
  }
 },
 "nbformat": 4,
 "nbformat_minor": 2
}
