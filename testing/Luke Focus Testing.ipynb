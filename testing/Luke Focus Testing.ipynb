{
 "cells": [
  {
   "cell_type": "markdown",
   "metadata": {},
   "source": [
    "Hey Luke, \n",
    "\n",
    " You may want to consult with Matt briefly on how to use the fluoresence microscope with the GigaCE commands. In particular, you will want to record what excitation channel he is using ('cyan', 'blue', etc...) and what emission channel he is using (1, 2, 3, etc...). Although I think the defaults I have chosen are correct. \n",
    " \n",
    " Because the Nikton TE300 has a very limited field of view, it may not seem right to you. I would watch Matt use the fluorescence capabilities first so you have an idea of what is 'normal'. \n",
    " \n",
    " The following code was intended for you to run at the end of the day, after you single-cell CE experiments. "
   ]
  },
  {
   "cell_type": "markdown",
   "metadata": {},
   "source": [
    "# Step 1, Load the Modules"
   ]
  },
  {
   "cell_type": "code",
   "execution_count": 3,
   "metadata": {},
   "outputs": [
    {
     "name": "stdout",
     "output_type": "stream",
     "text": [
      "new directory is: C:\\Users\\NikonTE300CE\\Desktop\\Barracuda_Updated\\AutomatedCE\n"
     ]
    },
    {
     "name": "stderr",
     "output_type": "stream",
     "text": [
      "WARNING:root:python2path is not a var in system_config.txt\n"
     ]
    },
    {
     "name": "stdout",
     "output_type": "stream",
     "text": [
      "C:\\Users\\NikonTE300CE\\Desktop\\Barracuda_Updated\\AutomatedCE\\L1\\MicroControlServer.py\n"
     ]
    }
   ],
   "source": [
    "import os\n",
    "# Set the working directory to the AutomatedCE folder so we have access to L1-L4 modules\n",
    "resp = os.getcwd()\n",
    "if 'testing' in resp[-7:]:\n",
    "    os.chdir(os.path.abspath(os.path.join(os.getcwd(), '..')))\n",
    "    print(f\"new directory is: {os.getcwd()}\")\n",
    "    \n",
    "from L4 import Focus\n",
    "from importlib import reload\n",
    "%config Completer.use_jedi = False\n",
    "\n",
    "# Basic Function Modules\n",
    "import sys\n",
    "import os\n",
    "import glob\n",
    "from imp import reload\n",
    "import csv\n",
    "import threading\n",
    "from pathlib import Path\n",
    "import warnings\n",
    "import logging\n",
    "\n",
    "#Data Analysis Modules\n",
    "import time\n",
    "import numpy as np\n",
    "import pandas as pd\n",
    "import matplotlib.pyplot as plt\n",
    "# Image Detection Modules\n",
    "import skimage.measure as measure\n",
    "from scipy.ndimage import label, distance_transform_edt\n",
    "from skimage import io, img_as_float, filters, morphology\n",
    "from skimage.feature import peak_local_max\n",
    "from skimage.measure import regionprops, regionprops_table\n",
    "from skimage.morphology import watershed\n",
    "# Set the working directory to the AutomatedCE folder so we have access to L1-L4 modules\n",
    "resp = os.getcwd()\n",
    "if 'testing' in resp[-7:]:\n",
    "    os.chdir(os.path.abspath(os.path.join(os.getcwd(), '..')))\n",
    "    print(f\"new directory is: {os.getcwd()}\")\n",
    "#AutomatedCE Modules\n",
    "import testing.inputs  \n",
    "from testing.inputs import *\n",
    "from L4 import DisplayWindows\n",
    "from L4 import FileIO\n",
    "from L4 import Focus\n",
    "from L4 import AutomatedControl\n",
    "from L4 import Trajectory\n",
    "from L4.image_util import ImageSaver\n",
    "from L3 import SystemsBuilder\n",
    "#import testing.te300_auto_utils as auto_utils\n",
    "from L4 import image_util\n",
    "from L4 import FileIO\n",
    "\n",
    "\n",
    "try:\n",
    "    from tqdm.notebook import tqdm\n",
    "except ModuleNotFoundError:\n",
    "    import sys\n",
    "    !conda install --yes --prefix {sys.prefix} tqdm\n",
    "    from tqdm.notebook import tqdm\n",
    "\n",
    "\n",
    "# Reload (when changing aspects in the following modules)\n",
    "reload(Focus)\n",
    "reload(DisplayWindows)\n",
    "reload(testing.inputs)\n",
    "\n",
    "# Make the plots pop up in a separate window\n",
    "%matplotlib qt\n",
    "\n",
    "\n",
    "\n",
    "def te300_presnap(ce_sys, intensity=1):\n",
    "    ce_sys.excitation_wheel.set_intensity(['red','blue','green','cyan','uv','teal'],intensity)\n",
    "\n",
    "def te300_postsnap(ce_sys, intensity=0):\n",
    "    ce_sys.excitation_wheel.set_intensity(['red','blue','green','cyan','uv','teal'],intensity)\n",
    "\n",
    "def pre_fluoresence(ce_system,rgb='B',bins=2,fluor_channel=4,\n",
    "                    wait=0.1, exp=500,light_channel='cyan', auto_shutter=False):\n",
    "    # SNAP a FLUOR IMAGE\n",
    "    # Set to new values\n",
    "    ce_system.inlet_rgb.turn_off_channel(rgb)\n",
    "    ce_system.camera.stop()\n",
    "    ce_system.filter_wheel.set_channel(fluor_channel)\n",
    "    ce_system.excitation_wheel.set_channel([light_channel])\n",
    "    ce_system.camera.set_exposure(exp)\n",
    "    ce_system.camera.set_binning(bins)\n",
    "    if not auto_shutter:\n",
    "        ce_system.camera._presnap_callbacks=[]\n",
    "        ce_system.camera._postsnap_callbacks=[]\n",
    "        ce_system.camera.add_presnap_callback(te300_presnap, ce_sys=ce_system)\n",
    "        ce_system.camera.add_postsnap_callback(te300_postsnap, ce_sys=ce_system)\n",
    "    time.sleep(wait)\n",
    "    \n",
    "def post_fluoresence(ce_system,rgb_channel='B', old_exp=10,\n",
    "                     old_bin=1,old_channel=1,\n",
    "                     auto_shutter=False):\n",
    "    # Return to old values\n",
    "    ce_system.camera.set_exposure(old_exp)\n",
    "    ce_system.filter_wheel.set_channel(old_channel)\n",
    "    ce_system.inlet_rgb.turn_on_channel(rgb_channel)\n",
    "    ce_system.excitation_wheel.set_channel([])\n",
    "    ce_system.camera.set_binning(old_bin)\n",
    "    ce_system.camera.continuous_snap()\n",
    "    if not auto_shutter:\n",
    "        ce_system.camera._presnap_callbacks=[]\n",
    "        ce_system.camera._postsnap_callbacks=[]\n"
   ]
  },
  {
   "cell_type": "markdown",
   "metadata": {},
   "source": [
    "# Step 2 Load the correct config file and open the System"
   ]
  },
  {
   "cell_type": "code",
   "execution_count": 4,
   "metadata": {},
   "outputs": [
    {
     "name": "stdout",
     "output_type": "stream",
     "text": [
      "daq\n",
      "newwave\n",
      "{'outlet_pressure': <L2.PressureControl.ArduinoPressure object at 0x00000203B59F0400>, 'xy_stage': <L2.XYControl.PriorXY object at 0x00000203B59F0460>, 'objective': <L2.ZControl.PriorZ object at 0x00000203B59F04C0>, 'outlet_z': <L2.ZControl.ArduinoZ object at 0x00000203B59F04F0>, 'inlet_rgb': <L2.LightControl.RGBArduino object at 0x00000203B59F0490>, 'inlet_z': <L2.ZControl.KinesisZ object at 0x00000203B59F0580>, 'high_voltage': <L2.HighVoltageControl.SpellmanPowerSupply object at 0x00000203B59F0550>, 'camera': <L2.CameraControl.PycromanagerControl object at 0x00000203B59F05E0>, 'detector': <L2.DetectorControl.PhotomultiplierDetector object at 0x00000203B59F0A00>, 'lysis_laser': <L2.LaserControl.NewWaveBNC object at 0x00000203B59F0C70>, 'excitation_wheel': <L2.FilterWheelControl.LumencorFilter object at 0x00000203B59F0C40>, 'filter_wheel': <L2.FilterWheelControl.PriorFilter object at 0x00000203B59F0BE0>}\n",
      "OPENING:  ard1 <L1.Controllers.ArduinoController object at 0x00000203B57DB220> using port: COM8\n",
      "OPENING:  pr1 <L1.Controllers.PriorController object at 0x00000203B57DB310> using port: COM4\n",
      "OPENING:  mmc1 <L1.Controllers.PycromanagerController object at 0x00000203B57DB3D0> using port: pycromanager\n",
      "OPENING:  daq1 <L1.DAQControllers.NiDaq object at 0x00000203B57DB400>\n",
      "OPENING:  ks1 <L1.Controllers.SimulatedController object at 0x00000203B59F0280> using port: 49125264\n",
      "OPENING:  lmn <L1.Controllers.LumencorController object at 0x00000203B59F0310> using port: COM7\n",
      "Starting up: outlet_pressure, <L2.PressureControl.ArduinoPressure object at 0x00000203B59F0400>\n",
      "Starting up: xy_stage, <L2.XYControl.PriorXY object at 0x00000203B59F0460>\n",
      "Starting up: objective, <L2.ZControl.PriorZ object at 0x00000203B59F04C0>\n",
      "Starting up: outlet_z, <L2.ZControl.ArduinoZ object at 0x00000203B59F04F0>\n",
      "Starting up: inlet_rgb, <L2.LightControl.RGBArduino object at 0x00000203B59F0490>\n",
      "Starting up: inlet_z, <L2.ZControl.KinesisZ object at 0x00000203B59F0580>\n",
      "Starting up: high_voltage, <L2.HighVoltageControl.SpellmanPowerSupply object at 0x00000203B59F0550>\n",
      "Starting up: camera, <L2.CameraControl.PycromanagerControl object at 0x00000203B59F05E0>\n",
      "Starting up: detector, <L2.DetectorControl.PhotomultiplierDetector object at 0x00000203B59F0A00>\n",
      "Starting up: lysis_laser, <L2.LaserControl.NewWaveBNC object at 0x00000203B59F0C70>\n",
      "Starting up: excitation_wheel, <L2.FilterWheelControl.LumencorFilter object at 0x00000203B59F0C40>\n",
      "Starting up: filter_wheel, <L2.FilterWheelControl.PriorFilter object at 0x00000203B59F0BE0>\n"
     ]
    },
    {
     "data": {
      "text/plain": [
       "'R:Off, G:Off, B:On'"
      ]
     },
     "execution_count": 4,
     "metadata": {},
     "output_type": "execute_result"
    }
   ],
   "source": [
    "#CONFIG_PATH = r\"C:\\Users\\Luke\\Desktop\\Barracuda\\AutomatedCE\\var\\TE300.cfg\"\n",
    "#CONFIG_PATH = r\"D:\\Scripts\\CEInstrument\\AutomatedCE\\config\\Test-System.cfg\"\n",
    "CONFIG_PATH = r\"C:\\Users\\NikonTE300CE\\Desktop\\Barracuda_Updated\\AutomatedCE\\config\\TE300.cfg\"\n",
    "\n",
    "reload(SystemsBuilder)\n",
    "\n",
    "ce_system = SystemsBuilder.CESystem()\n",
    "ce_system.load_config(CONFIG_PATH)\n",
    "ce_system.open_controllers()\n",
    "ce_system.startup_utilities()\n",
    "\n",
    "ce_system.filter_wheel.set_channel(1)\n",
    "ce_system.camera.set_exposure(100)\n",
    "\n",
    "\n",
    "# Adjust the poorly wired RGB lighting\n",
    "ce_system.inlet_rgb.turn_on_channel('B')\n",
    "ce_system.inlet_rgb.turn_off_channel('R')"
   ]
  },
  {
   "cell_type": "code",
   "execution_count": 5,
   "metadata": {},
   "outputs": [
    {
     "data": {
      "text/plain": [
       "True"
      ]
     },
     "execution_count": 5,
     "metadata": {},
     "output_type": "execute_result"
    }
   ],
   "source": [
    "\n",
    "ce_system.filter_wheel.set_channel(1)\n",
    "ce_system.camera.set_exposure(100)"
   ]
  },
  {
   "cell_type": "markdown",
   "metadata": {},
   "source": [
    "## Test the Imaging \n",
    "\n",
    "Below are some of the settings used for brightfield and fluoresence. \n",
    "\n",
    "Change data_dir to a new empty folder. This will be the data I need to see how it performed. Once the experiment is done, load that into your UW google drive and share the folder with me :D \n",
    "\n",
    "Change the bright field and fluor parameters as needed to get a good image. Whatever is entered here, will be used later on. \n"
   ]
  },
  {
   "cell_type": "code",
   "execution_count": 6,
   "metadata": {},
   "outputs": [],
   "source": [
    "data_dir = r\"D:\\Luke Focus Images 20210430\"\n",
    "output_csv = os.path.join(data_dir,'simple_data_out.csv')\n",
    "\n",
    "bright_field_exposure = 12 # in milliseconds\n",
    "bright_field_bins = 1 # '1', '2', '4', '8' are acceptable\n",
    "bright_field_emission_channel = 1 # Which emission channel to select\n",
    "rgb_channel = 'B' # on te300 'B' is red. :D \n",
    "\n",
    "fluor_channel = 4\n",
    "fluor_exposure = 500 # in milliseconds\n",
    "fluor_bin = 4\n",
    "fluor_light = 'cyan'\n",
    "\n",
    "\n",
    "wait = 0.15\n",
    "\n",
    "pre_fluor_settings = {'rgb':rgb_channel, 'bins':fluor_bin, 'fluor_channel':fluor_channel,\n",
    "                    'wait':wait, 'exp':fluor_exposure, 'light_channel':fluor_light,\n",
    "                  'auto_shutter':False}\n",
    "\n",
    "post_fluor_settings = {'rgb_channel':rgb_channel, 'old_exp':bright_field_exposure,\n",
    "                     'old_bin':bright_field_bins, 'old_channel':bright_field_emission_channel,\n",
    "                     'auto_shutter':False}\n",
    "\n",
    "\n",
    "ce_system.camera.set_exposure(bright_field_exposure)\n",
    "ce_system.camera.set_binning(bright_field_bins)\n"
   ]
  },
  {
   "cell_type": "markdown",
   "metadata": {},
   "source": [
    "### Display the bright field camera output\n",
    "\n",
    "Make sure the bright_field_exposure, bright field bins, emission channel, and RGB channel are correct. "
   ]
  },
  {
   "cell_type": "code",
   "execution_count": 176,
   "metadata": {},
   "outputs": [
    {
     "name": "stdout",
     "output_type": "stream",
     "text": [
      "HEYYOO\n"
     ]
    }
   ],
   "source": [
    "# Microscope Display\n",
    "cam = DisplayWindows.PLTMicroscopeDisplay(ce_system)\n",
    "ce_system.camera.stop()\n",
    "cam.show()\n",
    "cam.live_image()"
   ]
  },
  {
   "cell_type": "markdown",
   "metadata": {},
   "source": [
    "### Display the fluoresence camera output\n",
    "\n",
    "Make sure that the fluor channel, light channel, exposure, and binning are adequate to view your cells. \n"
   ]
  },
  {
   "cell_type": "code",
   "execution_count": 6,
   "metadata": {},
   "outputs": [
    {
     "name": "stdout",
     "output_type": "stream",
     "text": [
      "Adjust the mirror for fluoresence y\n",
      "HEYYOO\n"
     ]
    },
    {
     "data": {
      "text/plain": [
       "<matplotlib.image.AxesImage at 0x27542882400>"
      ]
     },
     "execution_count": 6,
     "metadata": {},
     "output_type": "execute_result"
    }
   ],
   "source": [
    "resp = get_yes_no(\"Adjust the mirror for fluoresence\")\n",
    "if not resp:\n",
    "    raise ValueError(\" Put the mirror down for fluoresence\")\n",
    "pre_fluoresence(ce_system, **pre_fluor_settings)\n",
    "img = ce_system.camera.snap()\n",
    "post_fluoresence(ce_system, **post_fluor_settings)\n",
    "plt.imshow(img)\n",
    "\n",
    "ax = plt.gca()\n",
    "fig, ax2 = plt.subplots()\n",
    "ax2.imshow(img)\n",
    "\n",
    "ax.imshow(img)\n"
   ]
  },
  {
   "cell_type": "markdown",
   "metadata": {},
   "source": [
    "# More functions we need"
   ]
  },
  {
   "cell_type": "code",
   "execution_count": 8,
   "metadata": {},
   "outputs": [],
   "source": [
    "# These are functions we will be using. \n",
    "def save_me_data(imgs, z_vals, folder, prefix):\n",
    "    for i, z in zip(imgs, z_vals):\n",
    "        filename=prefix + f\"_{int(z*1e6):08d}.tif\"\n",
    "        io.imsave(os.path.join(folder,filename), i)\n",
    "        \n",
    "def save_a_note(prefix, msg, val, file):\n",
    "    with open(file,'a') as fout:\n",
    "        fout.write(f\"{prefix},{msg},{val}\\n\")\n",
    "\n",
    "def gather_data_above_and_below(center, distance=0.1, resolution=0.1, wait=0.15):\n",
    "    imgs = ImageSaver(ce_system)\n",
    "    imgs.add_callback()\n",
    "    \n",
    "    distances = np.arange(center-distance, center+distance, resolution)\n",
    "    print(f\"From {center-distance} to {center+distance} mm at {resolution} mm resolution\")\n",
    "    for z in tqdm(distances):\n",
    "        ce_system.objective.set_z(z)\n",
    "        time.sleep(wait)\n",
    "        ce_system.camera.snap()\n",
    "    imgs.remove_callback()\n",
    "    return distances, imgs.images\n"
   ]
  },
  {
   "cell_type": "markdown",
   "metadata": {},
   "source": [
    "# Step 3 Focus Cells near the center of the Sample Chamber\n",
    "\n",
    "Use the objective that is being used for single-cell analysis (may be 60x or 40x)\n",
    "The program will randomly sample locations in a 1 CM Diameter from this point, so make sure the center is at least 0.5 cm from the rubber o-ring. "
   ]
  },
  {
   "cell_type": "markdown",
   "metadata": {},
   "source": [
    "# Gather Data for Focusing\n",
    "\n",
    "We are going to try both brightfield and fluoresence focusing. The next few boxes of code will do the following tasks:\n",
    "\n",
    "1. Record the brightfield data 100 um above and a 100 um below your defined start point. \n",
    "2. Run the Focus Climb Algorithm and record the focus point determined by my program. \n",
    "3. Change to fluoresence view and repeat: \n",
    "4. Record the fluoresence data 100 um above and a 100 um below the defined start point\n",
    "5. Run the focus algorithm and record the focus point determined by my program \n",
    "\n",
    "6. It will test whether cavitation bubbles will form at the Bright field, and fluoresence points. \n",
    "7. If lysis did not occur, you will adjust focal position until cavitation/lysis does occur. \n",
    "\n"
   ]
  },
  {
   "cell_type": "markdown",
   "metadata": {},
   "source": [
    "### Gather Bright Field Data\n",
    "\n",
    "before you run please make sure the cells are in focus (to your best judgement)"
   ]
  },
  {
   "cell_type": "code",
   "execution_count": 263,
   "metadata": {},
   "outputs": [
    {
     "name": "stdout",
     "output_type": "stream",
     "text": [
      "From -0.1328 to 0.06720000000000001 mm at 0.01 mm resolution\n"
     ]
    },
    {
     "data": {
      "application/vnd.jupyter.widget-view+json": {
       "model_id": "659c3937bb0e4ebcbbdc6ed34ecd8b78",
       "version_major": 2,
       "version_minor": 0
      },
      "text/plain": [
       "  0%|          | 0/20 [00:00<?, ?it/s]"
      ]
     },
     "metadata": {},
     "output_type": "display_data"
    },
    {
     "name": "stdout",
     "output_type": "stream",
     "text": [
      "Saving Data...\n"
     ]
    },
    {
     "name": "stderr",
     "output_type": "stream",
     "text": [
      "<ipython-input-8-92ba4a633ee5>:5: UserWarning: D:\\Luke Focus Images 20210430\\BF center_-0032800 x_-266850 y_353680 _-0132800.tif is a low contrast image\n",
      "  io.imsave(os.path.join(folder,filename), i)\n",
      "<ipython-input-8-92ba4a633ee5>:5: UserWarning: D:\\Luke Focus Images 20210430\\BF center_-0032800 x_-266850 y_353680 _-0122800.tif is a low contrast image\n",
      "  io.imsave(os.path.join(folder,filename), i)\n",
      "<ipython-input-8-92ba4a633ee5>:5: UserWarning: D:\\Luke Focus Images 20210430\\BF center_-0032800 x_-266850 y_353680 _-0112800.tif is a low contrast image\n",
      "  io.imsave(os.path.join(folder,filename), i)\n",
      "<ipython-input-8-92ba4a633ee5>:5: UserWarning: D:\\Luke Focus Images 20210430\\BF center_-0032800 x_-266850 y_353680 _-0102800.tif is a low contrast image\n",
      "  io.imsave(os.path.join(folder,filename), i)\n",
      "<ipython-input-8-92ba4a633ee5>:5: UserWarning: D:\\Luke Focus Images 20210430\\BF center_-0032800 x_-266850 y_353680 _-0092800.tif is a low contrast image\n",
      "  io.imsave(os.path.join(folder,filename), i)\n",
      "<ipython-input-8-92ba4a633ee5>:5: UserWarning: D:\\Luke Focus Images 20210430\\BF center_-0032800 x_-266850 y_353680 _-0082800.tif is a low contrast image\n",
      "  io.imsave(os.path.join(folder,filename), i)\n",
      "<ipython-input-8-92ba4a633ee5>:5: UserWarning: D:\\Luke Focus Images 20210430\\BF center_-0032800 x_-266850 y_353680 _-0072800.tif is a low contrast image\n",
      "  io.imsave(os.path.join(folder,filename), i)\n",
      "<ipython-input-8-92ba4a633ee5>:5: UserWarning: D:\\Luke Focus Images 20210430\\BF center_-0032800 x_-266850 y_353680 _-0062800.tif is a low contrast image\n",
      "  io.imsave(os.path.join(folder,filename), i)\n",
      "<ipython-input-8-92ba4a633ee5>:5: UserWarning: D:\\Luke Focus Images 20210430\\BF center_-0032800 x_-266850 y_353680 _-0052800.tif is a low contrast image\n",
      "  io.imsave(os.path.join(folder,filename), i)\n",
      "<ipython-input-8-92ba4a633ee5>:5: UserWarning: D:\\Luke Focus Images 20210430\\BF center_-0032800 x_-266850 y_353680 _-0042800.tif is a low contrast image\n",
      "  io.imsave(os.path.join(folder,filename), i)\n",
      "<ipython-input-8-92ba4a633ee5>:5: UserWarning: D:\\Luke Focus Images 20210430\\BF center_-0032800 x_-266850 y_353680 _-0032800.tif is a low contrast image\n",
      "  io.imsave(os.path.join(folder,filename), i)\n",
      "<ipython-input-8-92ba4a633ee5>:5: UserWarning: D:\\Luke Focus Images 20210430\\BF center_-0032800 x_-266850 y_353680 _-0022800.tif is a low contrast image\n",
      "  io.imsave(os.path.join(folder,filename), i)\n"
     ]
    },
    {
     "name": "stdout",
     "output_type": "stream",
     "text": [
      "From -0.0478 to -0.017800000000000003 mm at 0.001 mm resolution\n"
     ]
    },
    {
     "name": "stderr",
     "output_type": "stream",
     "text": [
      "<ipython-input-8-92ba4a633ee5>:5: UserWarning: D:\\Luke Focus Images 20210430\\BF center_-0032800 x_-266850 y_353680 _-0012800.tif is a low contrast image\n",
      "  io.imsave(os.path.join(folder,filename), i)\n",
      "<ipython-input-8-92ba4a633ee5>:5: UserWarning: D:\\Luke Focus Images 20210430\\BF center_-0032800 x_-266850 y_353680 _-0002800.tif is a low contrast image\n",
      "  io.imsave(os.path.join(folder,filename), i)\n",
      "<ipython-input-8-92ba4a633ee5>:5: UserWarning: D:\\Luke Focus Images 20210430\\BF center_-0032800 x_-266850 y_353680 _00007199.tif is a low contrast image\n",
      "  io.imsave(os.path.join(folder,filename), i)\n",
      "<ipython-input-8-92ba4a633ee5>:5: UserWarning: D:\\Luke Focus Images 20210430\\BF center_-0032800 x_-266850 y_353680 _00017199.tif is a low contrast image\n",
      "  io.imsave(os.path.join(folder,filename), i)\n",
      "<ipython-input-8-92ba4a633ee5>:5: UserWarning: D:\\Luke Focus Images 20210430\\BF center_-0032800 x_-266850 y_353680 _00027199.tif is a low contrast image\n",
      "  io.imsave(os.path.join(folder,filename), i)\n",
      "<ipython-input-8-92ba4a633ee5>:5: UserWarning: D:\\Luke Focus Images 20210430\\BF center_-0032800 x_-266850 y_353680 _00037199.tif is a low contrast image\n",
      "  io.imsave(os.path.join(folder,filename), i)\n",
      "<ipython-input-8-92ba4a633ee5>:5: UserWarning: D:\\Luke Focus Images 20210430\\BF center_-0032800 x_-266850 y_353680 _00047199.tif is a low contrast image\n",
      "  io.imsave(os.path.join(folder,filename), i)\n",
      "<ipython-input-8-92ba4a633ee5>:5: UserWarning: D:\\Luke Focus Images 20210430\\BF center_-0032800 x_-266850 y_353680 _00057199.tif is a low contrast image\n",
      "  io.imsave(os.path.join(folder,filename), i)\n"
     ]
    },
    {
     "data": {
      "application/vnd.jupyter.widget-view+json": {
       "model_id": "bbdd26596a3b40a1b234e20f2b3346a9",
       "version_major": 2,
       "version_minor": 0
      },
      "text/plain": [
       "  0%|          | 0/30 [00:00<?, ?it/s]"
      ]
     },
     "metadata": {},
     "output_type": "display_data"
    },
    {
     "name": "stdout",
     "output_type": "stream",
     "text": [
      "Saving Data...\n"
     ]
    },
    {
     "name": "stderr",
     "output_type": "stream",
     "text": [
      "<ipython-input-8-92ba4a633ee5>:5: UserWarning: D:\\Luke Focus Images 20210430\\BF center_-0032800 x_-266850 y_353680 _-0047800.tif is a low contrast image\n",
      "  io.imsave(os.path.join(folder,filename), i)\n",
      "<ipython-input-8-92ba4a633ee5>:5: UserWarning: D:\\Luke Focus Images 20210430\\BF center_-0032800 x_-266850 y_353680 _-0046800.tif is a low contrast image\n",
      "  io.imsave(os.path.join(folder,filename), i)\n",
      "<ipython-input-8-92ba4a633ee5>:5: UserWarning: D:\\Luke Focus Images 20210430\\BF center_-0032800 x_-266850 y_353680 _-0045800.tif is a low contrast image\n",
      "  io.imsave(os.path.join(folder,filename), i)\n",
      "<ipython-input-8-92ba4a633ee5>:5: UserWarning: D:\\Luke Focus Images 20210430\\BF center_-0032800 x_-266850 y_353680 _-0044800.tif is a low contrast image\n",
      "  io.imsave(os.path.join(folder,filename), i)\n",
      "<ipython-input-8-92ba4a633ee5>:5: UserWarning: D:\\Luke Focus Images 20210430\\BF center_-0032800 x_-266850 y_353680 _-0043800.tif is a low contrast image\n",
      "  io.imsave(os.path.join(folder,filename), i)\n",
      "<ipython-input-8-92ba4a633ee5>:5: UserWarning: D:\\Luke Focus Images 20210430\\BF center_-0032800 x_-266850 y_353680 _-0041800.tif is a low contrast image\n",
      "  io.imsave(os.path.join(folder,filename), i)\n",
      "<ipython-input-8-92ba4a633ee5>:5: UserWarning: D:\\Luke Focus Images 20210430\\BF center_-0032800 x_-266850 y_353680 _-0040799.tif is a low contrast image\n",
      "  io.imsave(os.path.join(folder,filename), i)\n",
      "<ipython-input-8-92ba4a633ee5>:5: UserWarning: D:\\Luke Focus Images 20210430\\BF center_-0032800 x_-266850 y_353680 _-0039799.tif is a low contrast image\n",
      "  io.imsave(os.path.join(folder,filename), i)\n",
      "<ipython-input-8-92ba4a633ee5>:5: UserWarning: D:\\Luke Focus Images 20210430\\BF center_-0032800 x_-266850 y_353680 _-0038799.tif is a low contrast image\n",
      "  io.imsave(os.path.join(folder,filename), i)\n",
      "<ipython-input-8-92ba4a633ee5>:5: UserWarning: D:\\Luke Focus Images 20210430\\BF center_-0032800 x_-266850 y_353680 _-0037799.tif is a low contrast image\n",
      "  io.imsave(os.path.join(folder,filename), i)\n",
      "<ipython-input-8-92ba4a633ee5>:5: UserWarning: D:\\Luke Focus Images 20210430\\BF center_-0032800 x_-266850 y_353680 _-0036799.tif is a low contrast image\n",
      "  io.imsave(os.path.join(folder,filename), i)\n",
      "<ipython-input-8-92ba4a633ee5>:5: UserWarning: D:\\Luke Focus Images 20210430\\BF center_-0032800 x_-266850 y_353680 _-0035799.tif is a low contrast image\n",
      "  io.imsave(os.path.join(folder,filename), i)\n",
      "<ipython-input-8-92ba4a633ee5>:5: UserWarning: D:\\Luke Focus Images 20210430\\BF center_-0032800 x_-266850 y_353680 _-0034799.tif is a low contrast image\n",
      "  io.imsave(os.path.join(folder,filename), i)\n",
      "<ipython-input-8-92ba4a633ee5>:5: UserWarning: D:\\Luke Focus Images 20210430\\BF center_-0032800 x_-266850 y_353680 _-0033799.tif is a low contrast image\n",
      "  io.imsave(os.path.join(folder,filename), i)\n",
      "<ipython-input-8-92ba4a633ee5>:5: UserWarning: D:\\Luke Focus Images 20210430\\BF center_-0032800 x_-266850 y_353680 _-0032799.tif is a low contrast image\n",
      "  io.imsave(os.path.join(folder,filename), i)\n",
      "<ipython-input-8-92ba4a633ee5>:5: UserWarning: D:\\Luke Focus Images 20210430\\BF center_-0032800 x_-266850 y_353680 _-0031799.tif is a low contrast image\n",
      "  io.imsave(os.path.join(folder,filename), i)\n",
      "<ipython-input-8-92ba4a633ee5>:5: UserWarning: D:\\Luke Focus Images 20210430\\BF center_-0032800 x_-266850 y_353680 _-0030799.tif is a low contrast image\n",
      "  io.imsave(os.path.join(folder,filename), i)\n",
      "<ipython-input-8-92ba4a633ee5>:5: UserWarning: D:\\Luke Focus Images 20210430\\BF center_-0032800 x_-266850 y_353680 _-0029799.tif is a low contrast image\n",
      "  io.imsave(os.path.join(folder,filename), i)\n",
      "<ipython-input-8-92ba4a633ee5>:5: UserWarning: D:\\Luke Focus Images 20210430\\BF center_-0032800 x_-266850 y_353680 _-0028799.tif is a low contrast image\n",
      "  io.imsave(os.path.join(folder,filename), i)\n",
      "<ipython-input-8-92ba4a633ee5>:5: UserWarning: D:\\Luke Focus Images 20210430\\BF center_-0032800 x_-266850 y_353680 _-0027799.tif is a low contrast image\n",
      "  io.imsave(os.path.join(folder,filename), i)\n"
     ]
    },
    {
     "name": "stdout",
     "output_type": "stream",
     "text": [
      "From -0.0378 to -0.027800000000000002 mm at 0.0002 mm resolution\n"
     ]
    },
    {
     "name": "stderr",
     "output_type": "stream",
     "text": [
      "<ipython-input-8-92ba4a633ee5>:5: UserWarning: D:\\Luke Focus Images 20210430\\BF center_-0032800 x_-266850 y_353680 _-0026799.tif is a low contrast image\n",
      "  io.imsave(os.path.join(folder,filename), i)\n",
      "<ipython-input-8-92ba4a633ee5>:5: UserWarning: D:\\Luke Focus Images 20210430\\BF center_-0032800 x_-266850 y_353680 _-0025799.tif is a low contrast image\n",
      "  io.imsave(os.path.join(folder,filename), i)\n",
      "<ipython-input-8-92ba4a633ee5>:5: UserWarning: D:\\Luke Focus Images 20210430\\BF center_-0032800 x_-266850 y_353680 _-0024799.tif is a low contrast image\n",
      "  io.imsave(os.path.join(folder,filename), i)\n",
      "<ipython-input-8-92ba4a633ee5>:5: UserWarning: D:\\Luke Focus Images 20210430\\BF center_-0032800 x_-266850 y_353680 _-0023799.tif is a low contrast image\n",
      "  io.imsave(os.path.join(folder,filename), i)\n",
      "<ipython-input-8-92ba4a633ee5>:5: UserWarning: D:\\Luke Focus Images 20210430\\BF center_-0032800 x_-266850 y_353680 _-0022799.tif is a low contrast image\n",
      "  io.imsave(os.path.join(folder,filename), i)\n",
      "<ipython-input-8-92ba4a633ee5>:5: UserWarning: D:\\Luke Focus Images 20210430\\BF center_-0032800 x_-266850 y_353680 _-0021799.tif is a low contrast image\n",
      "  io.imsave(os.path.join(folder,filename), i)\n",
      "<ipython-input-8-92ba4a633ee5>:5: UserWarning: D:\\Luke Focus Images 20210430\\BF center_-0032800 x_-266850 y_353680 _-0020799.tif is a low contrast image\n",
      "  io.imsave(os.path.join(folder,filename), i)\n",
      "<ipython-input-8-92ba4a633ee5>:5: UserWarning: D:\\Luke Focus Images 20210430\\BF center_-0032800 x_-266850 y_353680 _-0019799.tif is a low contrast image\n",
      "  io.imsave(os.path.join(folder,filename), i)\n",
      "<ipython-input-8-92ba4a633ee5>:5: UserWarning: D:\\Luke Focus Images 20210430\\BF center_-0032800 x_-266850 y_353680 _-0018799.tif is a low contrast image\n",
      "  io.imsave(os.path.join(folder,filename), i)\n"
     ]
    },
    {
     "data": {
      "application/vnd.jupyter.widget-view+json": {
       "model_id": "f6a786ff65594f89a2b2fbab2ba47103",
       "version_major": 2,
       "version_minor": 0
      },
      "text/plain": [
       "  0%|          | 0/50 [00:00<?, ?it/s]"
      ]
     },
     "metadata": {},
     "output_type": "display_data"
    },
    {
     "name": "stdout",
     "output_type": "stream",
     "text": [
      "Saving Data...\n"
     ]
    },
    {
     "name": "stderr",
     "output_type": "stream",
     "text": [
      "<ipython-input-8-92ba4a633ee5>:5: UserWarning: D:\\Luke Focus Images 20210430\\BF center_-0032800 x_-266850 y_353680 _-0037800.tif is a low contrast image\n",
      "  io.imsave(os.path.join(folder,filename), i)\n",
      "<ipython-input-8-92ba4a633ee5>:5: UserWarning: D:\\Luke Focus Images 20210430\\BF center_-0032800 x_-266850 y_353680 _-0037600.tif is a low contrast image\n",
      "  io.imsave(os.path.join(folder,filename), i)\n",
      "<ipython-input-8-92ba4a633ee5>:5: UserWarning: D:\\Luke Focus Images 20210430\\BF center_-0032800 x_-266850 y_353680 _-0037400.tif is a low contrast image\n",
      "  io.imsave(os.path.join(folder,filename), i)\n",
      "<ipython-input-8-92ba4a633ee5>:5: UserWarning: D:\\Luke Focus Images 20210430\\BF center_-0032800 x_-266850 y_353680 _-0037200.tif is a low contrast image\n",
      "  io.imsave(os.path.join(folder,filename), i)\n",
      "<ipython-input-8-92ba4a633ee5>:5: UserWarning: D:\\Luke Focus Images 20210430\\BF center_-0032800 x_-266850 y_353680 _-0037000.tif is a low contrast image\n",
      "  io.imsave(os.path.join(folder,filename), i)\n",
      "<ipython-input-8-92ba4a633ee5>:5: UserWarning: D:\\Luke Focus Images 20210430\\BF center_-0032800 x_-266850 y_353680 _-0036800.tif is a low contrast image\n",
      "  io.imsave(os.path.join(folder,filename), i)\n",
      "<ipython-input-8-92ba4a633ee5>:5: UserWarning: D:\\Luke Focus Images 20210430\\BF center_-0032800 x_-266850 y_353680 _-0036600.tif is a low contrast image\n",
      "  io.imsave(os.path.join(folder,filename), i)\n",
      "<ipython-input-8-92ba4a633ee5>:5: UserWarning: D:\\Luke Focus Images 20210430\\BF center_-0032800 x_-266850 y_353680 _-0036400.tif is a low contrast image\n",
      "  io.imsave(os.path.join(folder,filename), i)\n",
      "<ipython-input-8-92ba4a633ee5>:5: UserWarning: D:\\Luke Focus Images 20210430\\BF center_-0032800 x_-266850 y_353680 _-0036200.tif is a low contrast image\n",
      "  io.imsave(os.path.join(folder,filename), i)\n",
      "<ipython-input-8-92ba4a633ee5>:5: UserWarning: D:\\Luke Focus Images 20210430\\BF center_-0032800 x_-266850 y_353680 _-0036000.tif is a low contrast image\n",
      "  io.imsave(os.path.join(folder,filename), i)\n",
      "<ipython-input-8-92ba4a633ee5>:5: UserWarning: D:\\Luke Focus Images 20210430\\BF center_-0032800 x_-266850 y_353680 _-0035800.tif is a low contrast image\n",
      "  io.imsave(os.path.join(folder,filename), i)\n",
      "<ipython-input-8-92ba4a633ee5>:5: UserWarning: D:\\Luke Focus Images 20210430\\BF center_-0032800 x_-266850 y_353680 _-0035600.tif is a low contrast image\n",
      "  io.imsave(os.path.join(folder,filename), i)\n",
      "<ipython-input-8-92ba4a633ee5>:5: UserWarning: D:\\Luke Focus Images 20210430\\BF center_-0032800 x_-266850 y_353680 _-0035400.tif is a low contrast image\n",
      "  io.imsave(os.path.join(folder,filename), i)\n",
      "<ipython-input-8-92ba4a633ee5>:5: UserWarning: D:\\Luke Focus Images 20210430\\BF center_-0032800 x_-266850 y_353680 _-0035200.tif is a low contrast image\n",
      "  io.imsave(os.path.join(folder,filename), i)\n",
      "<ipython-input-8-92ba4a633ee5>:5: UserWarning: D:\\Luke Focus Images 20210430\\BF center_-0032800 x_-266850 y_353680 _-0035000.tif is a low contrast image\n",
      "  io.imsave(os.path.join(folder,filename), i)\n",
      "<ipython-input-8-92ba4a633ee5>:5: UserWarning: D:\\Luke Focus Images 20210430\\BF center_-0032800 x_-266850 y_353680 _-0034800.tif is a low contrast image\n",
      "  io.imsave(os.path.join(folder,filename), i)\n",
      "<ipython-input-8-92ba4a633ee5>:5: UserWarning: D:\\Luke Focus Images 20210430\\BF center_-0032800 x_-266850 y_353680 _-0034600.tif is a low contrast image\n",
      "  io.imsave(os.path.join(folder,filename), i)\n",
      "<ipython-input-8-92ba4a633ee5>:5: UserWarning: D:\\Luke Focus Images 20210430\\BF center_-0032800 x_-266850 y_353680 _-0034400.tif is a low contrast image\n",
      "  io.imsave(os.path.join(folder,filename), i)\n",
      "<ipython-input-8-92ba4a633ee5>:5: UserWarning: D:\\Luke Focus Images 20210430\\BF center_-0032800 x_-266850 y_353680 _-0034200.tif is a low contrast image\n",
      "  io.imsave(os.path.join(folder,filename), i)\n",
      "<ipython-input-8-92ba4a633ee5>:5: UserWarning: D:\\Luke Focus Images 20210430\\BF center_-0032800 x_-266850 y_353680 _-0034000.tif is a low contrast image\n",
      "  io.imsave(os.path.join(folder,filename), i)\n",
      "<ipython-input-8-92ba4a633ee5>:5: UserWarning: D:\\Luke Focus Images 20210430\\BF center_-0032800 x_-266850 y_353680 _-0033800.tif is a low contrast image\n",
      "  io.imsave(os.path.join(folder,filename), i)\n",
      "<ipython-input-8-92ba4a633ee5>:5: UserWarning: D:\\Luke Focus Images 20210430\\BF center_-0032800 x_-266850 y_353680 _-0033600.tif is a low contrast image\n",
      "  io.imsave(os.path.join(folder,filename), i)\n",
      "<ipython-input-8-92ba4a633ee5>:5: UserWarning: D:\\Luke Focus Images 20210430\\BF center_-0032800 x_-266850 y_353680 _-0033400.tif is a low contrast image\n",
      "  io.imsave(os.path.join(folder,filename), i)\n",
      "<ipython-input-8-92ba4a633ee5>:5: UserWarning: D:\\Luke Focus Images 20210430\\BF center_-0032800 x_-266850 y_353680 _-0033200.tif is a low contrast image\n",
      "  io.imsave(os.path.join(folder,filename), i)\n",
      "<ipython-input-8-92ba4a633ee5>:5: UserWarning: D:\\Luke Focus Images 20210430\\BF center_-0032800 x_-266850 y_353680 _-0033000.tif is a low contrast image\n",
      "  io.imsave(os.path.join(folder,filename), i)\n",
      "<ipython-input-8-92ba4a633ee5>:5: UserWarning: D:\\Luke Focus Images 20210430\\BF center_-0032800 x_-266850 y_353680 _-0032600.tif is a low contrast image\n",
      "  io.imsave(os.path.join(folder,filename), i)\n",
      "<ipython-input-8-92ba4a633ee5>:5: UserWarning: D:\\Luke Focus Images 20210430\\BF center_-0032800 x_-266850 y_353680 _-0032400.tif is a low contrast image\n",
      "  io.imsave(os.path.join(folder,filename), i)\n",
      "<ipython-input-8-92ba4a633ee5>:5: UserWarning: D:\\Luke Focus Images 20210430\\BF center_-0032800 x_-266850 y_353680 _-0032200.tif is a low contrast image\n",
      "  io.imsave(os.path.join(folder,filename), i)\n",
      "<ipython-input-8-92ba4a633ee5>:5: UserWarning: D:\\Luke Focus Images 20210430\\BF center_-0032800 x_-266850 y_353680 _-0032000.tif is a low contrast image\n",
      "  io.imsave(os.path.join(folder,filename), i)\n",
      "<ipython-input-8-92ba4a633ee5>:5: UserWarning: D:\\Luke Focus Images 20210430\\BF center_-0032800 x_-266850 y_353680 _-0031800.tif is a low contrast image\n",
      "  io.imsave(os.path.join(folder,filename), i)\n",
      "<ipython-input-8-92ba4a633ee5>:5: UserWarning: D:\\Luke Focus Images 20210430\\BF center_-0032800 x_-266850 y_353680 _-0031600.tif is a low contrast image\n",
      "  io.imsave(os.path.join(folder,filename), i)\n",
      "<ipython-input-8-92ba4a633ee5>:5: UserWarning: D:\\Luke Focus Images 20210430\\BF center_-0032800 x_-266850 y_353680 _-0031400.tif is a low contrast image\n",
      "  io.imsave(os.path.join(folder,filename), i)\n",
      "<ipython-input-8-92ba4a633ee5>:5: UserWarning: D:\\Luke Focus Images 20210430\\BF center_-0032800 x_-266850 y_353680 _-0031200.tif is a low contrast image\n",
      "  io.imsave(os.path.join(folder,filename), i)\n",
      "<ipython-input-8-92ba4a633ee5>:5: UserWarning: D:\\Luke Focus Images 20210430\\BF center_-0032800 x_-266850 y_353680 _-0031000.tif is a low contrast image\n",
      "  io.imsave(os.path.join(folder,filename), i)\n",
      "<ipython-input-8-92ba4a633ee5>:5: UserWarning: D:\\Luke Focus Images 20210430\\BF center_-0032800 x_-266850 y_353680 _-0030800.tif is a low contrast image\n",
      "  io.imsave(os.path.join(folder,filename), i)\n",
      "<ipython-input-8-92ba4a633ee5>:5: UserWarning: D:\\Luke Focus Images 20210430\\BF center_-0032800 x_-266850 y_353680 _-0030600.tif is a low contrast image\n",
      "  io.imsave(os.path.join(folder,filename), i)\n",
      "<ipython-input-8-92ba4a633ee5>:5: UserWarning: D:\\Luke Focus Images 20210430\\BF center_-0032800 x_-266850 y_353680 _-0030400.tif is a low contrast image\n",
      "  io.imsave(os.path.join(folder,filename), i)\n",
      "<ipython-input-8-92ba4a633ee5>:5: UserWarning: D:\\Luke Focus Images 20210430\\BF center_-0032800 x_-266850 y_353680 _-0030200.tif is a low contrast image\n",
      "  io.imsave(os.path.join(folder,filename), i)\n",
      "<ipython-input-8-92ba4a633ee5>:5: UserWarning: D:\\Luke Focus Images 20210430\\BF center_-0032800 x_-266850 y_353680 _-0030000.tif is a low contrast image\n",
      "  io.imsave(os.path.join(folder,filename), i)\n",
      "<ipython-input-8-92ba4a633ee5>:5: UserWarning: D:\\Luke Focus Images 20210430\\BF center_-0032800 x_-266850 y_353680 _-0029800.tif is a low contrast image\n",
      "  io.imsave(os.path.join(folder,filename), i)\n",
      "<ipython-input-8-92ba4a633ee5>:5: UserWarning: D:\\Luke Focus Images 20210430\\BF center_-0032800 x_-266850 y_353680 _-0029600.tif is a low contrast image\n",
      "  io.imsave(os.path.join(folder,filename), i)\n",
      "<ipython-input-8-92ba4a633ee5>:5: UserWarning: D:\\Luke Focus Images 20210430\\BF center_-0032800 x_-266850 y_353680 _-0029400.tif is a low contrast image\n",
      "  io.imsave(os.path.join(folder,filename), i)\n",
      "<ipython-input-8-92ba4a633ee5>:5: UserWarning: D:\\Luke Focus Images 20210430\\BF center_-0032800 x_-266850 y_353680 _-0029200.tif is a low contrast image\n",
      "  io.imsave(os.path.join(folder,filename), i)\n",
      "<ipython-input-8-92ba4a633ee5>:5: UserWarning: D:\\Luke Focus Images 20210430\\BF center_-0032800 x_-266850 y_353680 _-0029000.tif is a low contrast image\n",
      "  io.imsave(os.path.join(folder,filename), i)\n",
      "<ipython-input-8-92ba4a633ee5>:5: UserWarning: D:\\Luke Focus Images 20210430\\BF center_-0032800 x_-266850 y_353680 _-0028800.tif is a low contrast image\n",
      "  io.imsave(os.path.join(folder,filename), i)\n",
      "<ipython-input-8-92ba4a633ee5>:5: UserWarning: D:\\Luke Focus Images 20210430\\BF center_-0032800 x_-266850 y_353680 _-0028600.tif is a low contrast image\n",
      "  io.imsave(os.path.join(folder,filename), i)\n",
      "<ipython-input-8-92ba4a633ee5>:5: UserWarning: D:\\Luke Focus Images 20210430\\BF center_-0032800 x_-266850 y_353680 _-0028400.tif is a low contrast image\n",
      "  io.imsave(os.path.join(folder,filename), i)\n",
      "<ipython-input-8-92ba4a633ee5>:5: UserWarning: D:\\Luke Focus Images 20210430\\BF center_-0032800 x_-266850 y_353680 _-0028200.tif is a low contrast image\n",
      "  io.imsave(os.path.join(folder,filename), i)\n",
      "<ipython-input-8-92ba4a633ee5>:5: UserWarning: D:\\Luke Focus Images 20210430\\BF center_-0032800 x_-266850 y_353680 _-0028000.tif is a low contrast image\n",
      "  io.imsave(os.path.join(folder,filename), i)\n"
     ]
    },
    {
     "name": "stdout",
     "output_type": "stream",
     "text": [
      "Starting Climb Focus...\n",
      "OH NO ['R']\n",
      "HEYYOO\n",
      "Finished\n"
     ]
    }
   ],
   "source": [
    "center_xy = ce_system.xy_stage.read_xy()\n",
    "center_z =center = ce_system.objective.read_z()\n",
    "\n",
    "# Set up the camera for bright field\n",
    "ce_system.camera.stop()\n",
    "ce_system.camera.set_exposure(bright_field_exposure)\n",
    "ce_system.camera.set_binning(bright_field_bins)\n",
    "\n",
    "xy = ce_system.xy_stage.read_xy()\n",
    "prefix = f'BF center_{int(center*1e6):08d} x_{int(xy[0]*1e4):04d} y_{int(xy[1]*1e4):04d} '\n",
    "\n",
    "for dist, res in zip([0.1,0.015, 0.005], [0.01,0.001,0.0002]):\n",
    "    z_vals, imgs = gather_data_above_and_below(center_z, distance=dist, resolution=res, wait=0)\n",
    "    print(\"Saving Data...\")\n",
    "    save_me_data(imgs, z_vals, data_dir, prefix)\n",
    "ce_system.objective.set_z(center_z)\n",
    "\n",
    "print('Starting Climb Focus...')\n",
    "\n",
    "ce_system.objective.set_z(center_z-0.012)\n",
    "imgs = ImageSaver(ce_system)\n",
    "imgs.add_callback()\n",
    "rsc = Focus.RefinedStepClimb(ce_system, Focus.brenner)\n",
    "bf_climb_focus = rsc.climb(initial_step = 0.005, final_step=0.0002, refinements=3)\n",
    "imgs.remove_callback()\n",
    "cam.live_image()\n",
    "print(\"Finished\")"
   ]
  },
  {
   "cell_type": "markdown",
   "metadata": {},
   "source": [
    "## Gather Fluoresence Data"
   ]
  },
  {
   "cell_type": "code",
   "execution_count": 323,
   "metadata": {},
   "outputs": [
    {
     "name": "stdout",
     "output_type": "stream",
     "text": [
      "Please flip the mirror for fluoresence.\n",
      " Has the mirror been flipped down? y\n"
     ]
    }
   ],
   "source": [
    "resp = get_yes_no(\"Please flip the mirror for fluoresence.\\n Has the mirror been flipped down?\")\n",
    "if not resp:\n",
    "    raise ValueError('Please flip the mirror!')"
   ]
  },
  {
   "cell_type": "code",
   "execution_count": 324,
   "metadata": {},
   "outputs": [
    {
     "name": "stdout",
     "output_type": "stream",
     "text": [
      "From -4.9924 to -4.792400000000001 mm at 0.01 mm resolution\n"
     ]
    },
    {
     "data": {
      "application/vnd.jupyter.widget-view+json": {
       "model_id": "747d3635e34842eaa96829d1c8264105",
       "version_major": 2,
       "version_minor": 0
      },
      "text/plain": [
       "  0%|          | 0/20 [00:00<?, ?it/s]"
      ]
     },
     "metadata": {},
     "output_type": "display_data"
    },
    {
     "name": "stdout",
     "output_type": "stream",
     "text": [
      "Saving Data...\n",
      "From -4.9074 to -4.877400000000001 mm at 0.001 mm resolution\n"
     ]
    },
    {
     "name": "stderr",
     "output_type": "stream",
     "text": [
      "<ipython-input-7-92ba4a633ee5>:5: UserWarning: D:\\Luke Focus Images\\20210222\\FL center_-4892400 x_-237440 y_350959 _-4992400.tif is a low contrast image\n",
      "  io.imsave(os.path.join(folder,filename), i)\n",
      "<ipython-input-7-92ba4a633ee5>:5: UserWarning: D:\\Luke Focus Images\\20210222\\FL center_-4892400 x_-237440 y_350959 _-4982400.tif is a low contrast image\n",
      "  io.imsave(os.path.join(folder,filename), i)\n",
      "<ipython-input-7-92ba4a633ee5>:5: UserWarning: D:\\Luke Focus Images\\20210222\\FL center_-4892400 x_-237440 y_350959 _-4972400.tif is a low contrast image\n",
      "  io.imsave(os.path.join(folder,filename), i)\n",
      "<ipython-input-7-92ba4a633ee5>:5: UserWarning: D:\\Luke Focus Images\\20210222\\FL center_-4892400 x_-237440 y_350959 _-4962400.tif is a low contrast image\n",
      "  io.imsave(os.path.join(folder,filename), i)\n",
      "<ipython-input-7-92ba4a633ee5>:5: UserWarning: D:\\Luke Focus Images\\20210222\\FL center_-4892400 x_-237440 y_350959 _-4952400.tif is a low contrast image\n",
      "  io.imsave(os.path.join(folder,filename), i)\n",
      "<ipython-input-7-92ba4a633ee5>:5: UserWarning: D:\\Luke Focus Images\\20210222\\FL center_-4892400 x_-237440 y_350959 _-4942400.tif is a low contrast image\n",
      "  io.imsave(os.path.join(folder,filename), i)\n",
      "<ipython-input-7-92ba4a633ee5>:5: UserWarning: D:\\Luke Focus Images\\20210222\\FL center_-4892400 x_-237440 y_350959 _-4932400.tif is a low contrast image\n",
      "  io.imsave(os.path.join(folder,filename), i)\n",
      "<ipython-input-7-92ba4a633ee5>:5: UserWarning: D:\\Luke Focus Images\\20210222\\FL center_-4892400 x_-237440 y_350959 _-4922400.tif is a low contrast image\n",
      "  io.imsave(os.path.join(folder,filename), i)\n",
      "<ipython-input-7-92ba4a633ee5>:5: UserWarning: D:\\Luke Focus Images\\20210222\\FL center_-4892400 x_-237440 y_350959 _-4912400.tif is a low contrast image\n",
      "  io.imsave(os.path.join(folder,filename), i)\n",
      "<ipython-input-7-92ba4a633ee5>:5: UserWarning: D:\\Luke Focus Images\\20210222\\FL center_-4892400 x_-237440 y_350959 _-4902400.tif is a low contrast image\n",
      "  io.imsave(os.path.join(folder,filename), i)\n",
      "<ipython-input-7-92ba4a633ee5>:5: UserWarning: D:\\Luke Focus Images\\20210222\\FL center_-4892400 x_-237440 y_350959 _-4892400.tif is a low contrast image\n",
      "  io.imsave(os.path.join(folder,filename), i)\n",
      "<ipython-input-7-92ba4a633ee5>:5: UserWarning: D:\\Luke Focus Images\\20210222\\FL center_-4892400 x_-237440 y_350959 _-4882400.tif is a low contrast image\n",
      "  io.imsave(os.path.join(folder,filename), i)\n",
      "<ipython-input-7-92ba4a633ee5>:5: UserWarning: D:\\Luke Focus Images\\20210222\\FL center_-4892400 x_-237440 y_350959 _-4872400.tif is a low contrast image\n",
      "  io.imsave(os.path.join(folder,filename), i)\n",
      "<ipython-input-7-92ba4a633ee5>:5: UserWarning: D:\\Luke Focus Images\\20210222\\FL center_-4892400 x_-237440 y_350959 _-4862400.tif is a low contrast image\n",
      "  io.imsave(os.path.join(folder,filename), i)\n",
      "<ipython-input-7-92ba4a633ee5>:5: UserWarning: D:\\Luke Focus Images\\20210222\\FL center_-4892400 x_-237440 y_350959 _-4852400.tif is a low contrast image\n",
      "  io.imsave(os.path.join(folder,filename), i)\n",
      "<ipython-input-7-92ba4a633ee5>:5: UserWarning: D:\\Luke Focus Images\\20210222\\FL center_-4892400 x_-237440 y_350959 _-4842400.tif is a low contrast image\n",
      "  io.imsave(os.path.join(folder,filename), i)\n",
      "<ipython-input-7-92ba4a633ee5>:5: UserWarning: D:\\Luke Focus Images\\20210222\\FL center_-4892400 x_-237440 y_350959 _-4832400.tif is a low contrast image\n",
      "  io.imsave(os.path.join(folder,filename), i)\n",
      "<ipython-input-7-92ba4a633ee5>:5: UserWarning: D:\\Luke Focus Images\\20210222\\FL center_-4892400 x_-237440 y_350959 _-4822400.tif is a low contrast image\n",
      "  io.imsave(os.path.join(folder,filename), i)\n",
      "<ipython-input-7-92ba4a633ee5>:5: UserWarning: D:\\Luke Focus Images\\20210222\\FL center_-4892400 x_-237440 y_350959 _-4812400.tif is a low contrast image\n",
      "  io.imsave(os.path.join(folder,filename), i)\n",
      "<ipython-input-7-92ba4a633ee5>:5: UserWarning: D:\\Luke Focus Images\\20210222\\FL center_-4892400 x_-237440 y_350959 _-4802400.tif is a low contrast image\n",
      "  io.imsave(os.path.join(folder,filename), i)\n"
     ]
    },
    {
     "data": {
      "application/vnd.jupyter.widget-view+json": {
       "model_id": "cb5a2c843f2544ef9da316b09dba6f18",
       "version_major": 2,
       "version_minor": 0
      },
      "text/plain": [
       "  0%|          | 0/30 [00:00<?, ?it/s]"
      ]
     },
     "metadata": {},
     "output_type": "display_data"
    },
    {
     "name": "stdout",
     "output_type": "stream",
     "text": [
      "Saving Data...\n",
      "From -4.8974 to -4.8874 mm at 0.0002 mm resolution\n"
     ]
    },
    {
     "name": "stderr",
     "output_type": "stream",
     "text": [
      "<ipython-input-7-92ba4a633ee5>:5: UserWarning: D:\\Luke Focus Images\\20210222\\FL center_-4892400 x_-237440 y_350959 _-4907400.tif is a low contrast image\n",
      "  io.imsave(os.path.join(folder,filename), i)\n",
      "<ipython-input-7-92ba4a633ee5>:5: UserWarning: D:\\Luke Focus Images\\20210222\\FL center_-4892400 x_-237440 y_350959 _-4906400.tif is a low contrast image\n",
      "  io.imsave(os.path.join(folder,filename), i)\n",
      "<ipython-input-7-92ba4a633ee5>:5: UserWarning: D:\\Luke Focus Images\\20210222\\FL center_-4892400 x_-237440 y_350959 _-4905399.tif is a low contrast image\n",
      "  io.imsave(os.path.join(folder,filename), i)\n",
      "<ipython-input-7-92ba4a633ee5>:5: UserWarning: D:\\Luke Focus Images\\20210222\\FL center_-4892400 x_-237440 y_350959 _-4904399.tif is a low contrast image\n",
      "  io.imsave(os.path.join(folder,filename), i)\n",
      "<ipython-input-7-92ba4a633ee5>:5: UserWarning: D:\\Luke Focus Images\\20210222\\FL center_-4892400 x_-237440 y_350959 _-4903399.tif is a low contrast image\n",
      "  io.imsave(os.path.join(folder,filename), i)\n",
      "<ipython-input-7-92ba4a633ee5>:5: UserWarning: D:\\Luke Focus Images\\20210222\\FL center_-4892400 x_-237440 y_350959 _-4902399.tif is a low contrast image\n",
      "  io.imsave(os.path.join(folder,filename), i)\n",
      "<ipython-input-7-92ba4a633ee5>:5: UserWarning: D:\\Luke Focus Images\\20210222\\FL center_-4892400 x_-237440 y_350959 _-4901399.tif is a low contrast image\n",
      "  io.imsave(os.path.join(folder,filename), i)\n",
      "<ipython-input-7-92ba4a633ee5>:5: UserWarning: D:\\Luke Focus Images\\20210222\\FL center_-4892400 x_-237440 y_350959 _-4900399.tif is a low contrast image\n",
      "  io.imsave(os.path.join(folder,filename), i)\n",
      "<ipython-input-7-92ba4a633ee5>:5: UserWarning: D:\\Luke Focus Images\\20210222\\FL center_-4892400 x_-237440 y_350959 _-4899399.tif is a low contrast image\n",
      "  io.imsave(os.path.join(folder,filename), i)\n",
      "<ipython-input-7-92ba4a633ee5>:5: UserWarning: D:\\Luke Focus Images\\20210222\\FL center_-4892400 x_-237440 y_350959 _-4898399.tif is a low contrast image\n",
      "  io.imsave(os.path.join(folder,filename), i)\n",
      "<ipython-input-7-92ba4a633ee5>:5: UserWarning: D:\\Luke Focus Images\\20210222\\FL center_-4892400 x_-237440 y_350959 _-4897399.tif is a low contrast image\n",
      "  io.imsave(os.path.join(folder,filename), i)\n",
      "<ipython-input-7-92ba4a633ee5>:5: UserWarning: D:\\Luke Focus Images\\20210222\\FL center_-4892400 x_-237440 y_350959 _-4896399.tif is a low contrast image\n",
      "  io.imsave(os.path.join(folder,filename), i)\n",
      "<ipython-input-7-92ba4a633ee5>:5: UserWarning: D:\\Luke Focus Images\\20210222\\FL center_-4892400 x_-237440 y_350959 _-4895399.tif is a low contrast image\n",
      "  io.imsave(os.path.join(folder,filename), i)\n",
      "<ipython-input-7-92ba4a633ee5>:5: UserWarning: D:\\Luke Focus Images\\20210222\\FL center_-4892400 x_-237440 y_350959 _-4894399.tif is a low contrast image\n",
      "  io.imsave(os.path.join(folder,filename), i)\n",
      "<ipython-input-7-92ba4a633ee5>:5: UserWarning: D:\\Luke Focus Images\\20210222\\FL center_-4892400 x_-237440 y_350959 _-4893399.tif is a low contrast image\n",
      "  io.imsave(os.path.join(folder,filename), i)\n",
      "<ipython-input-7-92ba4a633ee5>:5: UserWarning: D:\\Luke Focus Images\\20210222\\FL center_-4892400 x_-237440 y_350959 _-4892399.tif is a low contrast image\n",
      "  io.imsave(os.path.join(folder,filename), i)\n",
      "<ipython-input-7-92ba4a633ee5>:5: UserWarning: D:\\Luke Focus Images\\20210222\\FL center_-4892400 x_-237440 y_350959 _-4891399.tif is a low contrast image\n",
      "  io.imsave(os.path.join(folder,filename), i)\n",
      "<ipython-input-7-92ba4a633ee5>:5: UserWarning: D:\\Luke Focus Images\\20210222\\FL center_-4892400 x_-237440 y_350959 _-4890399.tif is a low contrast image\n",
      "  io.imsave(os.path.join(folder,filename), i)\n",
      "<ipython-input-7-92ba4a633ee5>:5: UserWarning: D:\\Luke Focus Images\\20210222\\FL center_-4892400 x_-237440 y_350959 _-4889399.tif is a low contrast image\n",
      "  io.imsave(os.path.join(folder,filename), i)\n",
      "<ipython-input-7-92ba4a633ee5>:5: UserWarning: D:\\Luke Focus Images\\20210222\\FL center_-4892400 x_-237440 y_350959 _-4888399.tif is a low contrast image\n",
      "  io.imsave(os.path.join(folder,filename), i)\n",
      "<ipython-input-7-92ba4a633ee5>:5: UserWarning: D:\\Luke Focus Images\\20210222\\FL center_-4892400 x_-237440 y_350959 _-4887399.tif is a low contrast image\n",
      "  io.imsave(os.path.join(folder,filename), i)\n",
      "<ipython-input-7-92ba4a633ee5>:5: UserWarning: D:\\Luke Focus Images\\20210222\\FL center_-4892400 x_-237440 y_350959 _-4886399.tif is a low contrast image\n",
      "  io.imsave(os.path.join(folder,filename), i)\n",
      "<ipython-input-7-92ba4a633ee5>:5: UserWarning: D:\\Luke Focus Images\\20210222\\FL center_-4892400 x_-237440 y_350959 _-4885399.tif is a low contrast image\n",
      "  io.imsave(os.path.join(folder,filename), i)\n",
      "<ipython-input-7-92ba4a633ee5>:5: UserWarning: D:\\Luke Focus Images\\20210222\\FL center_-4892400 x_-237440 y_350959 _-4884399.tif is a low contrast image\n",
      "  io.imsave(os.path.join(folder,filename), i)\n",
      "<ipython-input-7-92ba4a633ee5>:5: UserWarning: D:\\Luke Focus Images\\20210222\\FL center_-4892400 x_-237440 y_350959 _-4883399.tif is a low contrast image\n",
      "  io.imsave(os.path.join(folder,filename), i)\n",
      "<ipython-input-7-92ba4a633ee5>:5: UserWarning: D:\\Luke Focus Images\\20210222\\FL center_-4892400 x_-237440 y_350959 _-4882399.tif is a low contrast image\n",
      "  io.imsave(os.path.join(folder,filename), i)\n",
      "<ipython-input-7-92ba4a633ee5>:5: UserWarning: D:\\Luke Focus Images\\20210222\\FL center_-4892400 x_-237440 y_350959 _-4881399.tif is a low contrast image\n",
      "  io.imsave(os.path.join(folder,filename), i)\n",
      "<ipython-input-7-92ba4a633ee5>:5: UserWarning: D:\\Luke Focus Images\\20210222\\FL center_-4892400 x_-237440 y_350959 _-4880399.tif is a low contrast image\n",
      "  io.imsave(os.path.join(folder,filename), i)\n",
      "<ipython-input-7-92ba4a633ee5>:5: UserWarning: D:\\Luke Focus Images\\20210222\\FL center_-4892400 x_-237440 y_350959 _-4879399.tif is a low contrast image\n",
      "  io.imsave(os.path.join(folder,filename), i)\n",
      "<ipython-input-7-92ba4a633ee5>:5: UserWarning: D:\\Luke Focus Images\\20210222\\FL center_-4892400 x_-237440 y_350959 _-4878399.tif is a low contrast image\n",
      "  io.imsave(os.path.join(folder,filename), i)\n"
     ]
    },
    {
     "data": {
      "application/vnd.jupyter.widget-view+json": {
       "model_id": "2307d10e1e6346b9aa35cea52f47f19d",
       "version_major": 2,
       "version_minor": 0
      },
      "text/plain": [
       "  0%|          | 0/50 [00:00<?, ?it/s]"
      ]
     },
     "metadata": {},
     "output_type": "display_data"
    },
    {
     "name": "stdout",
     "output_type": "stream",
     "text": [
      "Saving Data...\n"
     ]
    },
    {
     "name": "stderr",
     "output_type": "stream",
     "text": [
      "<ipython-input-7-92ba4a633ee5>:5: UserWarning: D:\\Luke Focus Images\\20210222\\FL center_-4892400 x_-237440 y_350959 _-4897400.tif is a low contrast image\n",
      "  io.imsave(os.path.join(folder,filename), i)\n",
      "<ipython-input-7-92ba4a633ee5>:5: UserWarning: D:\\Luke Focus Images\\20210222\\FL center_-4892400 x_-237440 y_350959 _-4897200.tif is a low contrast image\n",
      "  io.imsave(os.path.join(folder,filename), i)\n",
      "<ipython-input-7-92ba4a633ee5>:5: UserWarning: D:\\Luke Focus Images\\20210222\\FL center_-4892400 x_-237440 y_350959 _-4896999.tif is a low contrast image\n",
      "  io.imsave(os.path.join(folder,filename), i)\n",
      "<ipython-input-7-92ba4a633ee5>:5: UserWarning: D:\\Luke Focus Images\\20210222\\FL center_-4892400 x_-237440 y_350959 _-4896799.tif is a low contrast image\n",
      "  io.imsave(os.path.join(folder,filename), i)\n",
      "<ipython-input-7-92ba4a633ee5>:5: UserWarning: D:\\Luke Focus Images\\20210222\\FL center_-4892400 x_-237440 y_350959 _-4896599.tif is a low contrast image\n",
      "  io.imsave(os.path.join(folder,filename), i)\n",
      "<ipython-input-7-92ba4a633ee5>:5: UserWarning: D:\\Luke Focus Images\\20210222\\FL center_-4892400 x_-237440 y_350959 _-4896199.tif is a low contrast image\n",
      "  io.imsave(os.path.join(folder,filename), i)\n",
      "<ipython-input-7-92ba4a633ee5>:5: UserWarning: D:\\Luke Focus Images\\20210222\\FL center_-4892400 x_-237440 y_350959 _-4895999.tif is a low contrast image\n",
      "  io.imsave(os.path.join(folder,filename), i)\n",
      "<ipython-input-7-92ba4a633ee5>:5: UserWarning: D:\\Luke Focus Images\\20210222\\FL center_-4892400 x_-237440 y_350959 _-4895799.tif is a low contrast image\n",
      "  io.imsave(os.path.join(folder,filename), i)\n",
      "<ipython-input-7-92ba4a633ee5>:5: UserWarning: D:\\Luke Focus Images\\20210222\\FL center_-4892400 x_-237440 y_350959 _-4895599.tif is a low contrast image\n",
      "  io.imsave(os.path.join(folder,filename), i)\n",
      "<ipython-input-7-92ba4a633ee5>:5: UserWarning: D:\\Luke Focus Images\\20210222\\FL center_-4892400 x_-237440 y_350959 _-4895199.tif is a low contrast image\n",
      "  io.imsave(os.path.join(folder,filename), i)\n",
      "<ipython-input-7-92ba4a633ee5>:5: UserWarning: D:\\Luke Focus Images\\20210222\\FL center_-4892400 x_-237440 y_350959 _-4894999.tif is a low contrast image\n",
      "  io.imsave(os.path.join(folder,filename), i)\n",
      "<ipython-input-7-92ba4a633ee5>:5: UserWarning: D:\\Luke Focus Images\\20210222\\FL center_-4892400 x_-237440 y_350959 _-4894799.tif is a low contrast image\n",
      "  io.imsave(os.path.join(folder,filename), i)\n",
      "<ipython-input-7-92ba4a633ee5>:5: UserWarning: D:\\Luke Focus Images\\20210222\\FL center_-4892400 x_-237440 y_350959 _-4894599.tif is a low contrast image\n",
      "  io.imsave(os.path.join(folder,filename), i)\n",
      "<ipython-input-7-92ba4a633ee5>:5: UserWarning: D:\\Luke Focus Images\\20210222\\FL center_-4892400 x_-237440 y_350959 _-4894199.tif is a low contrast image\n",
      "  io.imsave(os.path.join(folder,filename), i)\n",
      "<ipython-input-7-92ba4a633ee5>:5: UserWarning: D:\\Luke Focus Images\\20210222\\FL center_-4892400 x_-237440 y_350959 _-4893999.tif is a low contrast image\n",
      "  io.imsave(os.path.join(folder,filename), i)\n",
      "<ipython-input-7-92ba4a633ee5>:5: UserWarning: D:\\Luke Focus Images\\20210222\\FL center_-4892400 x_-237440 y_350959 _-4893799.tif is a low contrast image\n",
      "  io.imsave(os.path.join(folder,filename), i)\n",
      "<ipython-input-7-92ba4a633ee5>:5: UserWarning: D:\\Luke Focus Images\\20210222\\FL center_-4892400 x_-237440 y_350959 _-4893599.tif is a low contrast image\n",
      "  io.imsave(os.path.join(folder,filename), i)\n",
      "<ipython-input-7-92ba4a633ee5>:5: UserWarning: D:\\Luke Focus Images\\20210222\\FL center_-4892400 x_-237440 y_350959 _-4893199.tif is a low contrast image\n",
      "  io.imsave(os.path.join(folder,filename), i)\n",
      "<ipython-input-7-92ba4a633ee5>:5: UserWarning: D:\\Luke Focus Images\\20210222\\FL center_-4892400 x_-237440 y_350959 _-4892999.tif is a low contrast image\n",
      "  io.imsave(os.path.join(folder,filename), i)\n",
      "<ipython-input-7-92ba4a633ee5>:5: UserWarning: D:\\Luke Focus Images\\20210222\\FL center_-4892400 x_-237440 y_350959 _-4892799.tif is a low contrast image\n",
      "  io.imsave(os.path.join(folder,filename), i)\n",
      "<ipython-input-7-92ba4a633ee5>:5: UserWarning: D:\\Luke Focus Images\\20210222\\FL center_-4892400 x_-237440 y_350959 _-4892599.tif is a low contrast image\n",
      "  io.imsave(os.path.join(folder,filename), i)\n",
      "<ipython-input-7-92ba4a633ee5>:5: UserWarning: D:\\Luke Focus Images\\20210222\\FL center_-4892400 x_-237440 y_350959 _-4892199.tif is a low contrast image\n",
      "  io.imsave(os.path.join(folder,filename), i)\n",
      "<ipython-input-7-92ba4a633ee5>:5: UserWarning: D:\\Luke Focus Images\\20210222\\FL center_-4892400 x_-237440 y_350959 _-4891999.tif is a low contrast image\n",
      "  io.imsave(os.path.join(folder,filename), i)\n",
      "<ipython-input-7-92ba4a633ee5>:5: UserWarning: D:\\Luke Focus Images\\20210222\\FL center_-4892400 x_-237440 y_350959 _-4891799.tif is a low contrast image\n",
      "  io.imsave(os.path.join(folder,filename), i)\n",
      "<ipython-input-7-92ba4a633ee5>:5: UserWarning: D:\\Luke Focus Images\\20210222\\FL center_-4892400 x_-237440 y_350959 _-4891599.tif is a low contrast image\n",
      "  io.imsave(os.path.join(folder,filename), i)\n",
      "<ipython-input-7-92ba4a633ee5>:5: UserWarning: D:\\Luke Focus Images\\20210222\\FL center_-4892400 x_-237440 y_350959 _-4891199.tif is a low contrast image\n",
      "  io.imsave(os.path.join(folder,filename), i)\n",
      "<ipython-input-7-92ba4a633ee5>:5: UserWarning: D:\\Luke Focus Images\\20210222\\FL center_-4892400 x_-237440 y_350959 _-4890999.tif is a low contrast image\n",
      "  io.imsave(os.path.join(folder,filename), i)\n",
      "<ipython-input-7-92ba4a633ee5>:5: UserWarning: D:\\Luke Focus Images\\20210222\\FL center_-4892400 x_-237440 y_350959 _-4890799.tif is a low contrast image\n",
      "  io.imsave(os.path.join(folder,filename), i)\n",
      "<ipython-input-7-92ba4a633ee5>:5: UserWarning: D:\\Luke Focus Images\\20210222\\FL center_-4892400 x_-237440 y_350959 _-4890599.tif is a low contrast image\n",
      "  io.imsave(os.path.join(folder,filename), i)\n",
      "<ipython-input-7-92ba4a633ee5>:5: UserWarning: D:\\Luke Focus Images\\20210222\\FL center_-4892400 x_-237440 y_350959 _-4890199.tif is a low contrast image\n",
      "  io.imsave(os.path.join(folder,filename), i)\n",
      "<ipython-input-7-92ba4a633ee5>:5: UserWarning: D:\\Luke Focus Images\\20210222\\FL center_-4892400 x_-237440 y_350959 _-4889999.tif is a low contrast image\n",
      "  io.imsave(os.path.join(folder,filename), i)\n",
      "<ipython-input-7-92ba4a633ee5>:5: UserWarning: D:\\Luke Focus Images\\20210222\\FL center_-4892400 x_-237440 y_350959 _-4889799.tif is a low contrast image\n",
      "  io.imsave(os.path.join(folder,filename), i)\n",
      "<ipython-input-7-92ba4a633ee5>:5: UserWarning: D:\\Luke Focus Images\\20210222\\FL center_-4892400 x_-237440 y_350959 _-4889599.tif is a low contrast image\n",
      "  io.imsave(os.path.join(folder,filename), i)\n",
      "<ipython-input-7-92ba4a633ee5>:5: UserWarning: D:\\Luke Focus Images\\20210222\\FL center_-4892400 x_-237440 y_350959 _-4889199.tif is a low contrast image\n",
      "  io.imsave(os.path.join(folder,filename), i)\n",
      "<ipython-input-7-92ba4a633ee5>:5: UserWarning: D:\\Luke Focus Images\\20210222\\FL center_-4892400 x_-237440 y_350959 _-4888999.tif is a low contrast image\n",
      "  io.imsave(os.path.join(folder,filename), i)\n",
      "<ipython-input-7-92ba4a633ee5>:5: UserWarning: D:\\Luke Focus Images\\20210222\\FL center_-4892400 x_-237440 y_350959 _-4888799.tif is a low contrast image\n",
      "  io.imsave(os.path.join(folder,filename), i)\n",
      "<ipython-input-7-92ba4a633ee5>:5: UserWarning: D:\\Luke Focus Images\\20210222\\FL center_-4892400 x_-237440 y_350959 _-4888599.tif is a low contrast image\n",
      "  io.imsave(os.path.join(folder,filename), i)\n",
      "<ipython-input-7-92ba4a633ee5>:5: UserWarning: D:\\Luke Focus Images\\20210222\\FL center_-4892400 x_-237440 y_350959 _-4888199.tif is a low contrast image\n",
      "  io.imsave(os.path.join(folder,filename), i)\n",
      "<ipython-input-7-92ba4a633ee5>:5: UserWarning: D:\\Luke Focus Images\\20210222\\FL center_-4892400 x_-237440 y_350959 _-4887999.tif is a low contrast image\n",
      "  io.imsave(os.path.join(folder,filename), i)\n",
      "<ipython-input-7-92ba4a633ee5>:5: UserWarning: D:\\Luke Focus Images\\20210222\\FL center_-4892400 x_-237440 y_350959 _-4887799.tif is a low contrast image\n",
      "  io.imsave(os.path.join(folder,filename), i)\n",
      "<ipython-input-7-92ba4a633ee5>:5: UserWarning: D:\\Luke Focus Images\\20210222\\FL center_-4892400 x_-237440 y_350959 _-4887599.tif is a low contrast image\n",
      "  io.imsave(os.path.join(folder,filename), i)\n"
     ]
    },
    {
     "name": "stdout",
     "output_type": "stream",
     "text": [
      "Starting Climb focus...\n",
      "OH NO ['R']\n",
      "HEYYOO\n",
      "Finished\n"
     ]
    }
   ],
   "source": [
    "pre_fluoresence(ce_system, **pre_fluor_settings)\n",
    "\n",
    "prefix = f'FL center_{int(center*1e6):08d} x_{int(xy[0]*1e4):04d} y_{int(xy[1]*1e4):04d} '\n",
    "for dist, res in zip([0.1,0.015, 0.005], [0.01,0.001,0.0002]):\n",
    "    z_vals, imgs = gather_data_above_and_below(center_z, distance=dist, resolution=res)\n",
    "    print(\"Saving Data...\")\n",
    "    save_me_data(imgs, z_vals, data_dir, prefix)\n",
    "    \n",
    "ce_system.objective.set_z(center_z)\n",
    "\n",
    "print('Starting Climb focus...')\n",
    "time.sleep(0.75)\n",
    "\n",
    "# Start the hill climb from 12 microns below focus\n",
    "ce_system.objective.set_z(center_z-0.012)\n",
    "imgs = ImageSaver(ce_system)\n",
    "imgs.add_callback()\n",
    "rsc = Focus.RefinedStepClimb(ce_system, Focus.brenner)\n",
    "\n",
    "fl_climb_focus = rsc.climb(initial_step = 0.005, final_step=0.0002, refinements=3)\n",
    "imgs.remove_callback()\n",
    "cam.live_image()\n",
    "post_fluoresence(ce_system, **post_fluor_settings)\n",
    "print(\"Finished\")"
   ]
  },
  {
   "cell_type": "markdown",
   "metadata": {},
   "source": [
    "# Prepare for Lysis"
   ]
  },
  {
   "cell_type": "code",
   "execution_count": 136,
   "metadata": {},
   "outputs": [
    {
     "name": "stdout",
     "output_type": "stream",
     "text": [
      "Please flip back in preparation for lysis. \n",
      " Has the mirror been flipped up? y\n",
      "Please shut the curtains surrounding the system. \n",
      " Have the curtains been closed? y\n",
      "Ensure the laser is set to remote fire\n",
      " Is the laser set to remote? y\n"
     ]
    },
    {
     "name": "stderr",
     "output_type": "stream",
     "text": [
      "WARNING:root:WARNING: CHANGE TO START BEFORE OPENING CURTAIN FOR ANY REASON \n",
      "\n"
     ]
    }
   ],
   "source": [
    "resp = get_yes_no(\"Please flip back in preparation for lysis. \\n Has the mirror been flipped up?\")\n",
    "if not resp:\n",
    "    raise ValueError(\"Please Flip Mirror!\")\n",
    "\n",
    "resp = get_yes_no(\"Please shut the curtains surrounding the system. \\n Have the curtains been closed?\")\n",
    "if not resp:\n",
    "    raise ValueError(\"Safety first! Close the curtains\")\n",
    "\n",
    "resp = get_yes_no(\"Ensure the laser is set to remote fire\\n Is the laser set to remote?\")\n",
    "\n",
    "if not resp:\n",
    "    raise ValueError(\"Computer will not fire laser unless set to remote\")\n",
    "else:\n",
    "    logging.warning(\"WARNING: CHANGE TO START BEFORE OPENING CURTAIN FOR ANY REASON \\n\")"
   ]
  },
  {
   "cell_type": "markdown",
   "metadata": {},
   "source": [
    "## Test the Lysis Positions\n"
   ]
  },
  {
   "cell_type": "code",
   "execution_count": 264,
   "metadata": {},
   "outputs": [
    {
     "name": "stdout",
     "output_type": "stream",
     "text": [
      "Firing at position determined by bright field\n"
     ]
    },
    {
     "name": "stderr",
     "output_type": "stream",
     "text": [
      "WARNING:root:WARNING: Laser will start firing in 5 s\n"
     ]
    },
    {
     "name": "stdout",
     "output_type": "stream",
     "text": [
      "Preparing to fire...\n"
     ]
    },
    {
     "name": "stderr",
     "output_type": "stream",
     "text": [
      "WARNING:root:WARNING: Laser will start firing in 4 s\n",
      "WARNING:root:WARNING: Laser will start firing in 3 s\n",
      "WARNING:root:WARNING: Laser will start firing in 2 s\n",
      "WARNING:root:WARNING: Laser will start firing in 1 s\n"
     ]
    },
    {
     "name": "stdout",
     "output_type": "stream",
     "text": [
      "Laser has Fired, Run Next cell\n"
     ]
    }
   ],
   "source": [
    "import threading\n",
    "prefix = f'center_{int(center*1e6):08d} x_{int(xy[0]*1e4):04d} y_{int(xy[1]*1e4):04d} '\n",
    "\n",
    "def laser_fire(ce_system, *args):\n",
    "    for i in range(5):\n",
    "        logging.warning(f\"WARNING: Laser will start firing in {5-i} s\")\n",
    "        time.sleep(.6)\n",
    "    \n",
    "    time.sleep(0.5)\n",
    "    ce_system.lysis_laser.laser_standby()\n",
    "    ce_system.lysis_laser.laser_fire()\n",
    "    time.sleep(1)\n",
    "    print(\"Laser has Fired, Run Next cell\")\n",
    "\n",
    "\n",
    "# Move to the bright field position, fire the laser\n",
    "print(\"Firing at position determined by bright field\")\n",
    "ce_system.objective.set_z(bf_climb_focus)\n",
    "threading.Thread(target=laser_fire, args=(ce_system,)).start()\n",
    "\n",
    "print(\"Preparing to fire...\")"
   ]
  },
  {
   "cell_type": "code",
   "execution_count": 265,
   "metadata": {},
   "outputs": [
    {
     "name": "stdout",
     "output_type": "stream",
     "text": [
      "Did Lysis Occur? Image will freeze until answered y\n",
      "Firing at position determined by bright field\n"
     ]
    },
    {
     "ename": "NameError",
     "evalue": "name 'fl_climb_focus' is not defined",
     "output_type": "error",
     "traceback": [
      "\u001b[1;31m---------------------------------------------------------------------------\u001b[0m",
      "\u001b[1;31mNameError\u001b[0m                                 Traceback (most recent call last)",
      "\u001b[1;32m<ipython-input-265-2c57232ad285>\u001b[0m in \u001b[0;36m<module>\u001b[1;34m\u001b[0m\n\u001b[0;32m      7\u001b[0m \u001b[1;31m# Move to the fluorescence position, fire the laser\u001b[0m\u001b[1;33m\u001b[0m\u001b[1;33m\u001b[0m\u001b[1;33m\u001b[0m\u001b[0m\n\u001b[0;32m      8\u001b[0m \u001b[0mprint\u001b[0m\u001b[1;33m(\u001b[0m\u001b[1;34m\"Firing at position determined by bright field\"\u001b[0m\u001b[1;33m)\u001b[0m\u001b[1;33m\u001b[0m\u001b[1;33m\u001b[0m\u001b[0m\n\u001b[1;32m----> 9\u001b[1;33m \u001b[0mce_system\u001b[0m\u001b[1;33m.\u001b[0m\u001b[0mobjective\u001b[0m\u001b[1;33m.\u001b[0m\u001b[0mset_z\u001b[0m\u001b[1;33m(\u001b[0m\u001b[0mfl_climb_focus\u001b[0m\u001b[1;33m)\u001b[0m\u001b[1;33m\u001b[0m\u001b[1;33m\u001b[0m\u001b[0m\n\u001b[0m\u001b[0;32m     10\u001b[0m \u001b[1;33m\u001b[0m\u001b[0m\n\u001b[0;32m     11\u001b[0m \u001b[0mthreading\u001b[0m\u001b[1;33m.\u001b[0m\u001b[0mThread\u001b[0m\u001b[1;33m(\u001b[0m\u001b[0mtarget\u001b[0m\u001b[1;33m=\u001b[0m\u001b[0mlaser_fire\u001b[0m\u001b[1;33m,\u001b[0m \u001b[0margs\u001b[0m\u001b[1;33m=\u001b[0m\u001b[1;33m(\u001b[0m\u001b[0mce_system\u001b[0m\u001b[1;33m,\u001b[0m\u001b[1;33m)\u001b[0m\u001b[1;33m)\u001b[0m\u001b[1;33m.\u001b[0m\u001b[0mstart\u001b[0m\u001b[1;33m(\u001b[0m\u001b[1;33m)\u001b[0m\u001b[1;33m\u001b[0m\u001b[1;33m\u001b[0m\u001b[0m\n",
      "\u001b[1;31mNameError\u001b[0m: name 'fl_climb_focus' is not defined"
     ]
    }
   ],
   "source": [
    "bf_auto_lysis = get_yes_no(\"Did Lysis Occur? Image will freeze until answered\")\n",
    "save_a_note(prefix, f\"BF {bf_climb_focus}\", bf_auto_lysis, output_csv)\n",
    "\n",
    "#Move up slightly\n",
    "ce_system.xy_stage.set_rel_y(0.003)\n",
    "\n",
    "# Move to the fluorescence position, fire the laser\n",
    "print(\"Firing at position determined by bright field\")\n",
    "ce_system.objective.set_z(fl_climb_focus)\n",
    "\n",
    "threading.Thread(target=laser_fire, args=(ce_system,)).start()\n",
    "print(\"Laser Fired, Run Next cell\")"
   ]
  },
  {
   "cell_type": "code",
   "execution_count": 329,
   "metadata": {},
   "outputs": [
    {
     "name": "stdout",
     "output_type": "stream",
     "text": [
      "Did Lysis Occur? Image will freeze until answered n\n",
      " No cells were lysed. This will require you to adjust to focus manually and test the lysis. \n",
      " You must remain at a position near (<10 um) the cell. Press y to continue and run the box below this y\n"
     ]
    }
   ],
   "source": [
    "fl_auto_lysis = get_yes_no(\"Did Lysis Occur? Image will freeze until answered\")\n",
    "save_a_note(prefix, f\"FL {fl_climb_focus}\", fl_auto_lysis, output_csv)\n",
    "\n",
    "if not bf_auto_lysis and not fl_auto_lysis:\n",
    "    get_yes_no(\" No cells were lysed. This will require you to adjust to focus manually and test the lysis. \\n You must remain \" \n",
    "               \"at a position near (<10 um) the cell. Press y to continue and run the box below this\")\n",
    "else:\n",
    "    \n",
    "    print(\"Cell lysis was a success. Find a new cell and start over.\")\n",
    "    resp = get_yes_no(\"Please switch laser from remote to standby mode. \\n Is the laser switched to off/standby?\")\n",
    "    while not resp:\n",
    "        resp = get_yes_no(\"Please switch laser from remote to standby mode. \\n Is the laser switched to off/standby?\")\n",
    "    print(\"It is now safe to lift the curtain\")"
   ]
  },
  {
   "cell_type": "markdown",
   "metadata": {},
   "source": [
    "If the cell did not lyse, move the focus until a cavitation/cell lysis occurs. \n",
    "Run the following cell to lyse the cell. Best to keep firing remotely for consistency (it is easy not to press the fire button correctly). "
   ]
  },
  {
   "cell_type": "code",
   "execution_count": 261,
   "metadata": {},
   "outputs": [
    {
     "name": "stdout",
     "output_type": "stream",
     "text": [
      "Fire the lysis laser? y\n"
     ]
    },
    {
     "name": "stderr",
     "output_type": "stream",
     "text": [
      "WARNING:root:WARNING: Laser will start firing in 5 s\n",
      "WARNING:root:WARNING: Laser will start firing in 4 s\n",
      "WARNING:root:WARNING: Laser will start firing in 3 s\n",
      "WARNING:root:WARNING: Laser will start firing in 2 s\n",
      "WARNING:root:WARNING: Laser will start firing in 1 s\n"
     ]
    },
    {
     "name": "stdout",
     "output_type": "stream",
     "text": [
      "Laser has Fired, Run Next cell\n"
     ]
    }
   ],
   "source": [
    "resp = get_yes_no(\"Fire the lysis laser?\")\n",
    "if resp:\n",
    "    threading.Thread(target=laser_fire, args=(ce_system,)).start()\n",
    "else:\n",
    "    raise InterruptedError(\"Please rerun when you wish to fire the laser\")\n",
    "#print(\"Laser fired, run next cell\")"
   ]
  },
  {
   "cell_type": "code",
   "execution_count": 262,
   "metadata": {},
   "outputs": [
    {
     "name": "stdout",
     "output_type": "stream",
     "text": [
      "Did a cavitation occur? y\n",
      "Cell Lysis success, find a new cell and start over from the top. Removing laser from software standby.\n",
      "Please switch laser from remote to start mode. \n",
      " Is the laser switched to off/start? y\n",
      "It is now safe to lift the curtain\n"
     ]
    }
   ],
   "source": [
    "resp = get_yes_no(\"Did a cavitation occur?\")\n",
    "z = ce_system.objective.read_z()\n",
    "save_a_note(prefix, f\"Manual {z}\", resp, output_csv)\n",
    "\n",
    "if resp:\n",
    "    print(\"Cell Lysis success, find a new cell and start over from the top. Removing laser from software standby.\")\n",
    "    resp = get_yes_no(\"Please switch laser from remote to start mode. \\n Is the laser switched to off/start?\")\n",
    "    while not resp:\n",
    "        resp = get_yes_no(\"Please switch laser from remote to start mode. \\n Is the laser switched to off/start?\")\n",
    "    print(\"It is now safe to lift the curtain\")\n",
    "else:\n",
    "    print(\"Repeat this code block until lysis/cavitation\")"
   ]
  },
  {
   "cell_type": "code",
   "execution_count": null,
   "metadata": {},
   "outputs": [],
   "source": []
  }
 ],
 "metadata": {
  "kernelspec": {
   "display_name": "Python 3",
   "language": "python",
   "name": "python3"
  },
  "language_info": {
   "codemirror_mode": {
    "name": "ipython",
    "version": 3
   },
   "file_extension": ".py",
   "mimetype": "text/x-python",
   "name": "python",
   "nbconvert_exporter": "python",
   "pygments_lexer": "ipython3",
   "version": "3.8.5"
  }
 },
 "nbformat": 4,
 "nbformat_minor": 4
}
