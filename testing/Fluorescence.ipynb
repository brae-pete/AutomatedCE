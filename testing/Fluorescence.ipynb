{
 "cells": [
  {
   "cell_type": "code",
   "execution_count": 1,
   "metadata": {},
   "outputs": [
    {
     "name": "stdout",
     "output_type": "stream",
     "text": [
      "new directory is: C:\\Users\\Luke\\Desktop\\Barracuda\\AutomatedCE\n"
     ]
    },
    {
     "name": "stderr",
     "output_type": "stream",
     "text": [
      "WARNING:root:python2path is not a var in system_config.txt\n"
     ]
    },
    {
     "name": "stdout",
     "output_type": "stream",
     "text": [
      "C:\\Users\\Luke\\Desktop\\Barracuda\\AutomatedCE\\L1\\MicroControlServer.py\n"
     ]
    },
    {
     "name": "stderr",
     "output_type": "stream",
     "text": [
      "WARNING:root:Path to Thorlabs Kinesis was not found. \n",
      " Change System Config setting if thorlabs is needed. \n"
     ]
    }
   ],
   "source": [
    "import sys\n",
    "import os\n",
    "import numpy as np\n",
    "import time\n",
    "from imp import reload\n",
    "\n",
    "# Set the working directory to the AutomatedCE folder so we have access to L1-L4 modules\n",
    "resp = os.getcwd()\n",
    "if 'testing' in resp[-7:]:\n",
    "    os.chdir(os.path.abspath(os.path.join(os.getcwd(), '..')))\n",
    "    print(f\"new directory is: {os.getcwd()}\")\n",
    "    \n",
    "%matplotlib qt\n",
    "\n",
    "from L3 import SystemsBuilder"
   ]
  },
  {
   "cell_type": "code",
   "execution_count": 3,
   "metadata": {},
   "outputs": [
    {
     "name": "stdout",
     "output_type": "stream",
     "text": [
      "daq\n",
      "uniphase\n",
      "{'outlet_pressure': <L2.PressureControl.ArduinoPressure object at 0x00000181AD58C848>, 'xy_stage': <L2.XYControl.PycromanagerXY object at 0x00000181AD58C788>, 'objective': <L2.ZControl.PycromanagerZ object at 0x00000181AD58C908>, 'outlet_z': <L2.ZControl.ArduinoZ object at 0x00000181AD58C988>, 'inlet_z': <L2.ZControl.ArduinoZ object at 0x00000181AD58C888>, 'inlet_rgb': <L2.LightControl.RGBArduino object at 0x00000181AD58C9C8>, 'filter_wheel': <L2.FilterWheelControl.PycromanagerFilter object at 0x00000181AD58CC88>, 'excitation_shutter': <L2.ShutterControl.PycromanagerShutter object at 0x00000181AD58CB08>, 'camera': <L2.CameraControl.PycromanagerControl object at 0x00000181AD58CB88>, 'high_voltage': <L2.HighVoltageControl.SpellmanPowerSupply object at 0x00000181AD58CBC8>, 'detector': <L2.DetectorControl.PhotomultiplierDetector object at 0x00000181AD58CE48>, 'lysis_laser': <L2.LaserControl.Uniphase object at 0x00000181AD58F6C8>}\n",
      "OPENING:  mmc1 <L1.Controllers.PycromanagerController object at 0x00000181AD34F288> using port: pycromanager\n",
      "OPENING:  daq1 <L1.DAQControllers.NiDaq object at 0x00000181AD34F248>\n",
      "OPENING:  ard1 <L1.Controllers.ArduinoController object at 0x00000181AC6751C8> using port: COM4\n",
      "OPENING:  ard2 <L1.Controllers.ArduinoController object at 0x00000181AD4FCA08> using port: COM7\n"
     ]
    },
    {
     "data": {
      "text/plain": [
       "{'outlet_pressure': <L2.PressureControl.ArduinoPressure at 0x181ad58c848>,\n",
       " 'xy_stage': <L2.XYControl.PycromanagerXY at 0x181ad58c788>,\n",
       " 'objective': <L2.ZControl.PycromanagerZ at 0x181ad58c908>,\n",
       " 'outlet_z': <L2.ZControl.ArduinoZ at 0x181ad58c988>,\n",
       " 'inlet_z': <L2.ZControl.ArduinoZ at 0x181ad58c888>,\n",
       " 'inlet_rgb': <L2.LightControl.RGBArduino at 0x181ad58c9c8>,\n",
       " 'filter_wheel': <L2.FilterWheelControl.PycromanagerFilter at 0x181ad58cc88>,\n",
       " 'excitation_shutter': <L2.ShutterControl.PycromanagerShutter at 0x181ad58cb08>,\n",
       " 'camera': <L2.CameraControl.PycromanagerControl at 0x181ad58cb88>,\n",
       " 'high_voltage': <L2.HighVoltageControl.SpellmanPowerSupply at 0x181ad58cbc8>,\n",
       " 'detector': <L2.DetectorControl.PhotomultiplierDetector at 0x181ad58ce48>,\n",
       " 'lysis_laser': <L2.LaserControl.Uniphase at 0x181ad58f6c8>}"
      ]
     },
     "execution_count": 3,
     "metadata": {},
     "output_type": "execute_result"
    }
   ],
   "source": [
    "ce_system = SystemsBuilder.CESystem()\n",
    "ce_system.load_config(config_file=r\"C:\\Users\\Luke\\Desktop\\Barracuda\\AutomatedCE\\var\\Eclipse.cfg\")\n",
    "\n",
    "ce_system.open_controllers()\n",
    "\n",
    "cam = ce_system.camera\n",
    "shut = ce_system.excitation_shutter\n",
    "filt = ce_system.filter_wheel\n",
    "xy = ce_system.xy_stage\n",
    "obj = ce_system.objective\n",
    "\n",
    "items = [cam, shut, filt, xy, obj]\n",
    "for utility in items:\n",
    "    utility.startup()\n",
    "\n",
    "\n",
    "ce_system.utilities"
   ]
  },
  {
   "cell_type": "code",
   "execution_count": 122,
   "metadata": {},
   "outputs": [
    {
     "data": {
      "text/plain": [
       "'R:On, G:Off, B:Off'"
      ]
     },
     "execution_count": 122,
     "metadata": {},
     "output_type": "execute_result"
    }
   ],
   "source": [
    "rgb_chnl = 'R'\n",
    "fluor_channel = 1\n",
    "wait = 0.25\n",
    "exp = 250\n",
    "_old_exp=100\n",
    "_old_bin = 1\n",
    "_old_channel = 0\n",
    "bins = 8\n",
    "\n",
    "# Set to new values\n",
    "ce_system.inlet_rgb.turn_off_channel('R')\n",
    "ce_system.camera.stop()\n",
    "ce_system.filter_wheel.set_channel(fluor_channel)\n",
    "ce_system.excitation_shutter.set_auto_on()\n",
    "#_old_exp = ce_system.camera.exposure\n",
    "ce_system.camera.set_exposure(exp)\n",
    "ce_system.camera.set_binning(bins)\n",
    "#_old_bin = ce_system.camera.bin_size\n",
    "time.sleep(wait)\n",
    "\n",
    "img = ce_system.camera.snap()\n",
    "\n",
    "# Return to old values\n",
    "ce_system.camera.set_exposure(_old_exp)\n",
    "ce_system.camera.set_binning(_old_bin)\n",
    "ce_system.excitation_shutter.set_auto_off()\n",
    "ce_system.filter_wheel.set_channel(_old_channel)\n",
    "ce_system.inlet_rgb.turn_on_channel('R')\n",
    "\n",
    "\n"
   ]
  },
  {
   "cell_type": "code",
   "execution_count": 12,
   "metadata": {},
   "outputs": [],
   "source": [
    "import matplotlib.pyplot as plt"
   ]
  },
  {
   "cell_type": "code",
   "execution_count": 15,
   "metadata": {},
   "outputs": [
    {
     "data": {
      "text/plain": [
       "<matplotlib.image.AxesImage at 0x17db52af608>"
      ]
     },
     "execution_count": 15,
     "metadata": {},
     "output_type": "execute_result"
    }
   ],
   "source": [
    "plt.imshow(img)"
   ]
  },
  {
   "cell_type": "code",
   "execution_count": 5,
   "metadata": {},
   "outputs": [],
   "source": [
    "from pathlib import Path\n",
    "import numpy as np\n",
    "from scipy.ndimage import label, distance_transform_edt\n",
    "from skimage import io, img_as_float, filters, morphology\n",
    "from skimage.feature import peak_local_max\n",
    "from skimage.measure import regionprops, regionprops_table\n",
    "from skimage.morphology import watershed\n",
    "import pandas as pd\n",
    "import glob\n",
    "import skimage.measure as measure\n",
    "\n",
    "import matplotlib.pyplot as plt"
   ]
  },
  {
   "cell_type": "code",
   "execution_count": 123,
   "metadata": {},
   "outputs": [],
   "source": [
    "close_size=5\n",
    "open_size=5\n",
    "watershed_footprint = (5,5)\n",
    "# Make sure types are the same\n",
    "input_image = img_as_float(img)\n",
    "\n",
    "# Filter Image\n",
    "filtered_image = filters.median(input_image, behavior='ndimage')\n",
    "\n",
    "# Edge Detection\n",
    "edge_sobel = filters.sobel(filtered_image)\n",
    "\n",
    "# Threshold\n",
    "thresh = filters.threshold_otsu(filtered_image)\n",
    "binary_otsu = filtered_image > thresh\n",
    "\n",
    "# Binary Morphology Operations\n",
    "structure_element = morphology.disk(close_size)\n",
    "closed_image = morphology.binary_closing(binary_otsu, structure_element)\n",
    "structure_element = morphology.disk(open_size)\n",
    "opened_image = morphology.binary_opening(closed_image, structure_element)\n",
    "\n",
    "# Watershed\n",
    "distance = distance_transform_edt(opened_image)\n",
    "local_maxi = peak_local_max(distance, indices=False, footprint=np.ones(watershed_footprint), labels=opened_image)\n",
    "markers = label(local_maxi)[0]\n",
    "labels = watershed(-distance, markers, mask=opened_image)\n",
    "\n",
    "plt.imshow(labels)\n",
    "\n",
    "regions = regionprops_table(labels, intensity_image=img, properties=('label', 'centroid', 'max_intensity', 'mean_intensity'))\n",
    "\n",
    "\n",
    "df = pd.DataFrame(regions)"
   ]
  },
  {
   "cell_type": "code",
   "execution_count": 130,
   "metadata": {},
   "outputs": [
    {
     "data": {
      "text/plain": [
       "<matplotlib.image.AxesImage at 0x181ba06e708>"
      ]
     },
     "execution_count": 130,
     "metadata": {},
     "output_type": "execute_result"
    }
   ],
   "source": [
    "plt.figure()\n",
    "plt.imshow(filtered_image)"
   ]
  },
  {
   "cell_type": "code",
   "execution_count": 124,
   "metadata": {},
   "outputs": [
    {
     "data": {
      "text/html": [
       "<div>\n",
       "<style scoped>\n",
       "    .dataframe tbody tr th:only-of-type {\n",
       "        vertical-align: middle;\n",
       "    }\n",
       "\n",
       "    .dataframe tbody tr th {\n",
       "        vertical-align: top;\n",
       "    }\n",
       "\n",
       "    .dataframe thead th {\n",
       "        text-align: right;\n",
       "    }\n",
       "</style>\n",
       "<table border=\"1\" class=\"dataframe\">\n",
       "  <thead>\n",
       "    <tr style=\"text-align: right;\">\n",
       "      <th></th>\n",
       "      <th>label</th>\n",
       "      <th>centroid-0</th>\n",
       "      <th>centroid-1</th>\n",
       "      <th>max_intensity</th>\n",
       "      <th>mean_intensity</th>\n",
       "    </tr>\n",
       "  </thead>\n",
       "  <tbody>\n",
       "    <tr>\n",
       "      <th>0</th>\n",
       "      <td>1</td>\n",
       "      <td>60</td>\n",
       "      <td>87</td>\n",
       "      <td>1150.0</td>\n",
       "      <td>889.761307</td>\n",
       "    </tr>\n",
       "  </tbody>\n",
       "</table>\n",
       "</div>"
      ],
      "text/plain": [
       "   label  centroid-0  centroid-1  max_intensity  mean_intensity\n",
       "0      1          60          87         1150.0      889.761307"
      ]
     },
     "execution_count": 124,
     "metadata": {},
     "output_type": "execute_result"
    }
   ],
   "source": [
    "df.head()"
   ]
  },
  {
   "cell_type": "code",
   "execution_count": 125,
   "metadata": {},
   "outputs": [],
   "source": [
    "df = df.sort_values(by=['mean_intensity','max_intensity'], ascending=False)\n",
    "\n",
    "if df.shape[0] > 0:\n",
    "    y=df['centroid-0'][0]*bins\n",
    "    x=df['centroid-1'][0]*bins\n"
   ]
  },
  {
   "cell_type": "code",
   "execution_count": 126,
   "metadata": {},
   "outputs": [],
   "source": [
    "target_x = 695\n",
    "target_y = 485\n",
    "\n",
    "movex = (x-target_x)*0.0001063\n",
    "movey = (y-target_y)*0.0001063"
   ]
  },
  {
   "cell_type": "code",
   "execution_count": 127,
   "metadata": {},
   "outputs": [
    {
     "data": {
      "text/plain": [
       "0.0001063"
      ]
     },
     "execution_count": 127,
     "metadata": {},
     "output_type": "execute_result"
    }
   ],
   "source": [
    "movex"
   ]
  },
  {
   "cell_type": "code",
   "execution_count": 128,
   "metadata": {},
   "outputs": [],
   "source": [
    "# 542, 679\n",
    "# 540, 446\n",
    "#307, 450\n",
    "ce_system.xy_stage.set_rel_x(movex)\n"
   ]
  },
  {
   "cell_type": "code",
   "execution_count": 129,
   "metadata": {},
   "outputs": [],
   "source": [
    "ce_system.xy_stage.set_rel_y(-movey)\n"
   ]
  },
  {
   "cell_type": "code",
   "execution_count": 50,
   "metadata": {},
   "outputs": [
    {
     "data": {
      "text/plain": [
       "0.00010638297872340427"
      ]
     },
     "execution_count": 50,
     "metadata": {},
     "output_type": "execute_result"
    }
   ],
   "source": [
    "0.05/470"
   ]
  },
  {
   "cell_type": "code",
   "execution_count": null,
   "metadata": {},
   "outputs": [],
   "source": [
    "#837 467 60x obje\n",
    "#399 479\n",
    "#399 943"
   ]
  },
  {
   "cell_type": "code",
   "execution_count": 44,
   "metadata": {},
   "outputs": [
    {
     "data": {
      "text/plain": [
       "438"
      ]
     },
     "execution_count": 44,
     "metadata": {},
     "output_type": "execute_result"
    }
   ],
   "source": [
    "837-399"
   ]
  },
  {
   "cell_type": "code",
   "execution_count": 45,
   "metadata": {},
   "outputs": [
    {
     "data": {
      "text/plain": [
       "464"
      ]
     },
     "execution_count": 45,
     "metadata": {},
     "output_type": "execute_result"
    }
   ],
   "source": [
    "943-479"
   ]
  },
  {
   "cell_type": "code",
   "execution_count": null,
   "metadata": {},
   "outputs": [],
   "source": [
    "#845 3711"
   ]
  },
  {
   "cell_type": "code",
   "execution_count": 47,
   "metadata": {},
   "outputs": [
    {
     "data": {
      "text/plain": [
       "474"
      ]
     },
     "execution_count": 47,
     "metadata": {},
     "output_type": "execute_result"
    }
   ],
   "source": [
    "845-371"
   ]
  },
  {
   "cell_type": "code",
   "execution_count": null,
   "metadata": {},
   "outputs": [],
   "source": [
    "#487 953"
   ]
  },
  {
   "cell_type": "code",
   "execution_count": 49,
   "metadata": {},
   "outputs": [
    {
     "data": {
      "text/plain": [
       "466"
      ]
     },
     "execution_count": 49,
     "metadata": {},
     "output_type": "execute_result"
    }
   ],
   "source": [
    "953-487"
   ]
  },
  {
   "cell_type": "code",
   "execution_count": null,
   "metadata": {},
   "outputs": [],
   "source": [
    "470"
   ]
  }
 ],
 "metadata": {
  "kernelspec": {
   "display_name": "Python 3",
   "language": "python",
   "name": "python3"
  },
  "language_info": {
   "codemirror_mode": {
    "name": "ipython",
    "version": 3
   },
   "file_extension": ".py",
   "mimetype": "text/x-python",
   "name": "python",
   "nbconvert_exporter": "python",
   "pygments_lexer": "ipython3",
   "version": "3.7.9"
  }
 },
 "nbformat": 4,
 "nbformat_minor": 4
}
