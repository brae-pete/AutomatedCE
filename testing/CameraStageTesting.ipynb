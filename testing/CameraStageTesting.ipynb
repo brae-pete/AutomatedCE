{
 "cells": [
  {
   "cell_type": "code",
   "execution_count": 1,
   "metadata": {},
   "outputs": [
    {
     "name": "stdout",
     "output_type": "stream",
     "text": [
      "new directory is: C:\\Users\\NikonTE300CE\\Desktop\\Barracuda_Updated\\AutomatedCE\n"
     ]
    }
   ],
   "source": [
    "import sys\n",
    "import os\n",
    "import numpy as np\n",
    "import time\n",
    "from imp import reload\n",
    "\n",
    "# Set the working directory to the AutomatedCE folder so we have access to L1-L4 modules\n",
    "resp = os.getcwd()\n",
    "if 'testing' in resp[-7:]:\n",
    "    os.chdir(os.path.abspath(os.path.join(os.getcwd(), '..')))\n",
    "    print(f\"new directory is: {os.getcwd()}\")\n",
    "    \n",
    "%matplotlib qt"
   ]
  },
  {
   "cell_type": "code",
   "execution_count": 2,
   "metadata": {},
   "outputs": [
    {
     "name": "stderr",
     "output_type": "stream",
     "text": [
      "WARNING:root:python2path is not a var in system_config.txt\n"
     ]
    },
    {
     "name": "stdout",
     "output_type": "stream",
     "text": [
      "C:\\Users\\NikonTE300CE\\Desktop\\Barracuda_Updated\\AutomatedCE\\L1\\MicroControlServer.py\n"
     ]
    },
    {
     "data": {
      "text/plain": [
       "<module 'L2.CameraControl' from 'C:\\\\Users\\\\NikonTE300CE\\\\Desktop\\\\Barracuda_Updated\\\\AutomatedCE\\\\L2\\\\CameraControl.py'>"
      ]
     },
     "execution_count": 2,
     "metadata": {},
     "output_type": "execute_result"
    }
   ],
   "source": [
    "from L1 import Controllers\n",
    "from L2 import ZControl\n",
    "from L2 import CameraControl\n",
    "CONFIG_PATH = r\"C:\\Users\\Luke\\Desktop\\Barracuda\\AutomatedCE\\var\\Eclipse.cfg\"\n",
    "from L3 import SystemsBuilder\n",
    "from testing.inputs import *\n",
    "from L4 import DisplayWindows\n",
    "\n",
    "reload(SystemsBuilder)\n",
    "reload(ZControl)\n",
    "reload(Controllers)\n",
    "reload(DisplayWindows)\n",
    "reload(CameraControl)"
   ]
  },
  {
   "cell_type": "code",
   "execution_count": null,
   "metadata": {},
   "outputs": [],
   "source": [
    "config = r\"C:\\Users\\Luke\\Desktop\\Barracuda\\AutomatedCE\\config\\NikonEclipseTi-NoLight.cfg\"\n",
    "ctl = Controllers.PycromanagerController(config = config)\n",
    "ctl.open()"
   ]
  },
  {
   "cell_type": "code",
   "execution_count": null,
   "metadata": {},
   "outputs": [],
   "source": [
    "try:\n",
    "    cam.shutdown()\n",
    "except:\n",
    "    pass\n",
    "cam = CameraControl.PycromanagerControl(ctl, 'image')\n",
    "cam.startup()\n",
    "cam.set_exposure(10)\n",
    "\n",
    "z_ctl = ZControl.PycromanagerZ(ctl, 'objective', offset=0)"
   ]
  },
  {
   "cell_type": "code",
   "execution_count": 5,
   "metadata": {},
   "outputs": [
    {
     "name": "stderr",
     "output_type": "stream",
     "text": [
      "C:\\Users\\Luke\\Anaconda3\\envs\\CEpy37\\lib\\site-packages\\skimage\\exposure\\exposure.py:351: RuntimeWarning: invalid value encountered in true_divide\n",
      "  image = (image - imin) / float(imax - imin)\n"
     ]
    }
   ],
   "source": [
    "ce_system = SystemsBuilder.CESystem()\n",
    "ce_system.camera=cam\n",
    "disp = DisplayWindows.PLTMicroscopeDisplay(ce_system)\n",
    "disp.show()"
   ]
  },
  {
   "cell_type": "code",
   "execution_count": 6,
   "metadata": {},
   "outputs": [],
   "source": [
    "disp.live_image()"
   ]
  },
  {
   "cell_type": "code",
   "execution_count": 7,
   "metadata": {},
   "outputs": [],
   "source": [
    "disp.stop_live_image()"
   ]
  },
  {
   "cell_type": "markdown",
   "metadata": {},
   "source": [
    "We would look to see how quickly the camera can move in. So we will send a command to move the microscoe, snap a picture, then move the microscope again. "
   ]
  },
  {
   "cell_type": "code",
   "execution_count": 161,
   "metadata": {},
   "outputs": [],
   "source": [
    "distance = 0.005 \n",
    "sleep = 1\n",
    "\n",
    "get_my_image(cam, images)\n",
    "move_time = time.time()\n",
    "z_ctl.set_rel_z(distance)\n",
    "for i in range(10):\n",
    "    get_my_image(cam, images)\n",
    "    time.sleep(0.1)\n",
    "\n",
    "time.sleep(sleep)\n",
    "get_my_image(cam, images)"
   ]
  },
  {
   "cell_type": "code",
   "execution_count": 8,
   "metadata": {},
   "outputs": [],
   "source": [
    "from queue import Queue\n",
    "import threading\n",
    "import time\n",
    "images = Queue()\n",
    "\n",
    "def get_my_image(cm, img_q):\n",
    "    def _update(c,i):\n",
    "        snap = time.time()\n",
    "        i.put([c.snap(), snap])\n",
    "    threading.Thread(target=_update, args=(cm, img_q)).start()\n",
    "    \n",
    "def new_image(img):\n",
    "    images.put([img, time.time()])\n",
    "    "
   ]
  },
  {
   "cell_type": "code",
   "execution_count": 12,
   "metadata": {},
   "outputs": [
    {
     "data": {
      "text/plain": [
       "16"
      ]
     },
     "execution_count": 12,
     "metadata": {},
     "output_type": "execute_result"
    }
   ],
   "source": [
    "cam.update_frequency"
   ]
  },
  {
   "cell_type": "code",
   "execution_count": 84,
   "metadata": {},
   "outputs": [],
   "source": [
    "all_data = {'time':[], 'range':[], 'distance':[]}\n",
    "cam.continuous_snap()\n",
    "distances = [1,3,5,10,20,40,60,100]\n",
    "for x in distances:\n",
    "    distance = x/1000\n",
    "    for i in range(20):\n",
    "\n",
    "        images= Queue()\n",
    "        sleep = 2\n",
    "\n",
    "        cam._callbacks = []\n",
    "        cam.add_callback(new_image)\n",
    "        cam.continuous_snap()\n",
    "        time.sleep(0.6)\n",
    "        move_time = time.time()\n",
    "        z_ctl.set_rel_z(distance)\n",
    "\n",
    "        time.sleep(sleep)\n",
    "        cam._callbacks = []\n",
    "        cam.stop()\n",
    "        z_ctl.set_rel_z(-distance)\n",
    "        time.sleep(0.6)\n",
    "        time_points = []\n",
    "        imgs = []\n",
    "        for _ in range(images.qsize()):\n",
    "            in_data = images.get()\n",
    "            imgs.append( in_data[0].astype(np.float))\n",
    "            time_points.append(in_data[1])\n",
    "        time_points = [ x- time_points[0] for x in time_points]\n",
    "\n",
    "        rn = []\n",
    "        old_i = imgs[0]\n",
    "        for i in imgs[1:]:\n",
    "            df = np.subtract(i,old_i)\n",
    "            rn.append(np.max(df.flatten())-np.min(df.flatten()))\n",
    "        all_data['time'].append(time_points[1:])\n",
    "        all_data['range'].append(rn[:])\n",
    "        all_data['distance'].append([distance]*len(rn))"
   ]
  },
  {
   "cell_type": "code",
   "execution_count": 67,
   "metadata": {},
   "outputs": [
    {
     "name": "stdout",
     "output_type": "stream",
     "text": [
      "160\n"
     ]
    }
   ],
   "source": [
    "runs = len(all_data['time'])\n",
    "print(runs)"
   ]
  },
  {
   "cell_type": "code",
   "execution_count": null,
   "metadata": {},
   "outputs": [],
   "source": [
    "pd.concat"
   ]
  },
  {
   "cell_type": "code",
   "execution_count": 85,
   "metadata": {},
   "outputs": [],
   "source": [
    "import pandas as pd\n",
    "all_df = None\n",
    "for rep in range(runs):\n",
    "    tm = all_data['time'][rep]\n",
    "    tm = np.subtract(tm,tm[np.argmax(np.gradient(tm))])\n",
    "    new_data = {'time':all_data['time'][rep], 'range':all_data['range'][rep], 'distance':all_data['distance'][rep]}\n",
    "    new_df = pd.DataFrame.from_dict(new_data)\n",
    "    #new_df = pd.DataFrame([[all_data['time'][rep],all_data['range'][rep],all_data['distance'][rep]]], columns=['time','range','distance'])\n",
    "    if all_df is None:\n",
    "        all_df = new_df\n",
    "    else:\n",
    "        all_df = all_df.append(new_df, ignore_index=True)"
   ]
  },
  {
   "cell_type": "code",
   "execution_count": 86,
   "metadata": {},
   "outputs": [],
   "source": [
    "all_df['rounded_time']=round(all_df['time']*5,0)/5"
   ]
  },
  {
   "cell_type": "code",
   "execution_count": 62,
   "metadata": {},
   "outputs": [],
   "source": [
    "import seaborn as sns\n",
    "sns.set(style=\"darkgrid\")\n"
   ]
  },
  {
   "cell_type": "code",
   "execution_count": 88,
   "metadata": {},
   "outputs": [
    {
     "data": {
      "text/plain": [
       "<matplotlib.axes._subplots.AxesSubplot at 0x23fb7a00448>"
      ]
     },
     "execution_count": 88,
     "metadata": {},
     "output_type": "execute_result"
    }
   ],
   "source": [
    "sns.lineplot(x=\"rounded_time\", y=\"range\", hue='distance', data=all_df)"
   ]
  },
  {
   "cell_type": "code",
   "execution_count": 76,
   "metadata": {},
   "outputs": [],
   "source": [
    "\n",
    "temp = all_df[all_df['distance']==.02]"
   ]
  },
  {
   "cell_type": "code",
   "execution_count": 77,
   "metadata": {},
   "outputs": [
    {
     "data": {
      "text/plain": [
       "827     0.26\n",
       "828     0.49\n",
       "829     0.74\n",
       "830     1.00\n",
       "831     1.21\n",
       "        ... \n",
       "1099    2.42\n",
       "1100    2.64\n",
       "1101    2.90\n",
       "1102    3.12\n",
       "1103    3.36\n",
       "Name: time, Length: 277, dtype: float64"
      ]
     },
     "execution_count": 77,
     "metadata": {},
     "output_type": "execute_result"
    }
   ],
   "source": [
    "temp.time"
   ]
  },
  {
   "cell_type": "code",
   "execution_count": 19,
   "metadata": {},
   "outputs": [],
   "source": [
    "import matplotlib.pyplot as plt"
   ]
  },
  {
   "cell_type": "code",
   "execution_count": 193,
   "metadata": {},
   "outputs": [
    {
     "name": "stdout",
     "output_type": "stream",
     "text": [
      "Difference is 0.015956878662109375\n"
     ]
    }
   ],
   "source": [
    "cp = 5\n",
    "plt.imshow(np.subtract(imgs[cp],imgs[cp-1]))\n",
    "print(f\"Difference is {time_points[cp]-time_points[cp-1]}\")"
   ]
  },
  {
   "cell_type": "code",
   "execution_count": 194,
   "metadata": {},
   "outputs": [
    {
     "data": {
      "text/plain": [
       "0.039893388748168945"
      ]
     },
     "execution_count": 194,
     "metadata": {},
     "output_type": "execute_result"
    }
   ],
   "source": [
    "time_points[3]-time_points[1]"
   ]
  },
  {
   "cell_type": "code",
   "execution_count": 134,
   "metadata": {},
   "outputs": [],
   "source": [
    "import numpy as np"
   ]
  },
  {
   "cell_type": "code",
   "execution_count": 212,
   "metadata": {},
   "outputs": [],
   "source": [
    "rn = []\n",
    "old_i = imgs[0]\n",
    "for i in imgs[1:]:\n",
    "    df = np.subtract(i,old_i)\n",
    "    rn.append(np.max(df.flatten())-np.min(df.flatten()))\n",
    "    threading.Thread(target=get_my_image, args=(cam, images)).start()"
   ]
  },
  {
   "cell_type": "code",
   "execution_count": 213,
   "metadata": {},
   "outputs": [
    {
     "data": {
      "text/plain": [
       "[<matplotlib.lines.Line2D at 0x1e5b07d7988>]"
      ]
     },
     "execution_count": 213,
     "metadata": {},
     "output_type": "execute_result"
    },
    {
     "name": "stderr",
     "output_type": "stream",
     "text": [
      "Exception in thread Thread-275:\n",
      "Traceback (most recent call last):\n",
      "  File \"C:\\Users\\Luke\\Anaconda3\\envs\\CEpy37\\lib\\threading.py\", line 926, in _bootstrap_inner\n",
      "    self.run()\n",
      "  File \"C:\\Users\\Luke\\Anaconda3\\envs\\CEpy37\\lib\\threading.py\", line 870, in run\n",
      "    self._target(*self._args, **self._kwargs)\n",
      "  File \"<ipython-input-174-cabd943a57f8>\", line 9, in _update\n",
      "    i.put([c.snap(), snap])\n",
      "  File \"C:\\Users\\Luke\\Desktop\\Barracuda\\AutomatedCE\\L2\\CameraControl.py\", line 100, in snap\n",
      "    img = self.controller.send_command(self.controller.core.get_image)\n",
      "  File \"C:\\Users\\Luke\\Desktop\\Barracuda\\AutomatedCE\\L1\\Controllers.py\", line 226, in send_command\n",
      "    raise e\n",
      "  File \"C:\\Users\\Luke\\Desktop\\Barracuda\\AutomatedCE\\L1\\Controllers.py\", line 218, in send_command\n",
      "    ans = command(*args)\n",
      "  File \"C:\\Users\\Luke\\Anaconda3\\envs\\CEpy37\\lib\\site-packages\\pycromanager\\core.py\", line 263, in <lambda>\n",
      "    fn = lambda instance, *args, signatures_list=tuple(methods_with_name): instance._translate_call(signatures_list, args)\n",
      "  File \"C:\\Users\\Luke\\Anaconda3\\envs\\CEpy37\\lib\\site-packages\\pycromanager\\core.py\", line 350, in _translate_call\n",
      "    return self._deserialize(self._socket.receive())\n",
      "  File \"C:\\Users\\Luke\\Anaconda3\\envs\\CEpy37\\lib\\site-packages\\pycromanager\\core.py\", line 97, in receive\n",
      "    self._check_exception(message)\n",
      "  File \"C:\\Users\\Luke\\Anaconda3\\envs\\CEpy37\\lib\\site-packages\\pycromanager\\core.py\", line 102, in _check_exception\n",
      "    raise Exception(response['value'])\n",
      "Exception: java.lang.Exception: Camera image buffer read failed.\n",
      "mmcorej.MMCoreJJNI.CMMCore_getImage__SWIG_0(Native Method)\n",
      "mmcorej.CMMCore.getImage(CMMCore.java:932)\n",
      "sun.reflect.GeneratedMethodAccessor26.invoke(Unknown Source)\n",
      "sun.reflect.DelegatingMethodAccessorImpl.invoke(DelegatingMethodAccessorImpl.java:43)\n",
      "java.lang.reflect.Method.invoke(Method.java:498)\n",
      "org.micromanager.internal.zmq.ZMQServer.runMethod(ZMQServer.java:268)\n",
      "org.micromanager.internal.zmq.ZMQServer.parseAndExecuteCommand(ZMQServer.java:324)\n",
      "org.micromanager.internal.zmq.ZMQServer.lambda$initialize$1(ZMQServer.java:80)\n",
      "java.util.concurrent.FutureTask.run(FutureTask.java:266)\n",
      "java.util.concurrent.ThreadPoolExecutor.runWorker(ThreadPoolExecutor.java:1149)\n",
      "java.util.concurrent.ThreadPoolExecutor$Worker.run(ThreadPoolExecutor.java:624)\n",
      "java.lang.Thread.run(Thread.java:748)\n",
      "\n",
      "\n",
      "Exception in thread Thread-277:\n",
      "Traceback (most recent call last):\n",
      "  File \"C:\\Users\\Luke\\Anaconda3\\envs\\CEpy37\\lib\\threading.py\", line 926, in _bootstrap_inner\n",
      "    self.run()\n",
      "  File \"C:\\Users\\Luke\\Anaconda3\\envs\\CEpy37\\lib\\threading.py\", line 870, in run\n",
      "    self._target(*self._args, **self._kwargs)\n",
      "  File \"<ipython-input-174-cabd943a57f8>\", line 9, in _update\n",
      "    i.put([c.snap(), snap])\n",
      "  File \"C:\\Users\\Luke\\Desktop\\Barracuda\\AutomatedCE\\L2\\CameraControl.py\", line 100, in snap\n",
      "    img = self.controller.send_command(self.controller.core.get_image)\n",
      "  File \"C:\\Users\\Luke\\Desktop\\Barracuda\\AutomatedCE\\L1\\Controllers.py\", line 226, in send_command\n",
      "    raise e\n",
      "  File \"C:\\Users\\Luke\\Desktop\\Barracuda\\AutomatedCE\\L1\\Controllers.py\", line 218, in send_command\n",
      "    ans = command(*args)\n",
      "  File \"C:\\Users\\Luke\\Anaconda3\\envs\\CEpy37\\lib\\site-packages\\pycromanager\\core.py\", line 263, in <lambda>\n",
      "    fn = lambda instance, *args, signatures_list=tuple(methods_with_name): instance._translate_call(signatures_list, args)\n",
      "  File \"C:\\Users\\Luke\\Anaconda3\\envs\\CEpy37\\lib\\site-packages\\pycromanager\\core.py\", line 350, in _translate_call\n",
      "    return self._deserialize(self._socket.receive())\n",
      "  File \"C:\\Users\\Luke\\Anaconda3\\envs\\CEpy37\\lib\\site-packages\\pycromanager\\core.py\", line 97, in receive\n",
      "    self._check_exception(message)\n",
      "  File \"C:\\Users\\Luke\\Anaconda3\\envs\\CEpy37\\lib\\site-packages\\pycromanager\\core.py\", line 102, in _check_exception\n",
      "    raise Exception(response['value'])\n",
      "Exception: java.lang.Exception: Camera image buffer read failed.\n",
      "mmcorej.MMCoreJJNI.CMMCore_getImage__SWIG_0(Native Method)\n",
      "mmcorej.CMMCore.getImage(CMMCore.java:932)\n",
      "sun.reflect.GeneratedMethodAccessor26.invoke(Unknown Source)\n",
      "sun.reflect.DelegatingMethodAccessorImpl.invoke(DelegatingMethodAccessorImpl.java:43)\n",
      "java.lang.reflect.Method.invoke(Method.java:498)\n",
      "org.micromanager.internal.zmq.ZMQServer.runMethod(ZMQServer.java:268)\n",
      "org.micromanager.internal.zmq.ZMQServer.parseAndExecuteCommand(ZMQServer.java:324)\n",
      "org.micromanager.internal.zmq.ZMQServer.lambda$initialize$1(ZMQServer.java:80)\n",
      "java.util.concurrent.FutureTask.run(FutureTask.java:266)\n",
      "java.util.concurrent.ThreadPoolExecutor.runWorker(ThreadPoolExecutor.java:1149)\n",
      "java.util.concurrent.ThreadPoolExecutor$Worker.run(ThreadPoolExecutor.java:624)\n",
      "java.lang.Thread.run(Thread.java:748)\n",
      "\n",
      "\n",
      "Exception in thread Thread-279:\n",
      "Traceback (most recent call last):\n",
      "  File \"C:\\Users\\Luke\\Anaconda3\\envs\\CEpy37\\lib\\threading.py\", line 926, in _bootstrap_inner\n",
      "    self.run()\n",
      "  File \"C:\\Users\\Luke\\Anaconda3\\envs\\CEpy37\\lib\\threading.py\", line 870, in run\n",
      "    self._target(*self._args, **self._kwargs)\n",
      "  File \"<ipython-input-174-cabd943a57f8>\", line 9, in _update\n",
      "    i.put([c.snap(), snap])\n",
      "  File \"C:\\Users\\Luke\\Desktop\\Barracuda\\AutomatedCE\\L2\\CameraControl.py\", line 100, in snap\n",
      "    img = self.controller.send_command(self.controller.core.get_image)\n",
      "  File \"C:\\Users\\Luke\\Desktop\\Barracuda\\AutomatedCE\\L1\\Controllers.py\", line 226, in send_command\n",
      "    raise e\n",
      "  File \"C:\\Users\\Luke\\Desktop\\Barracuda\\AutomatedCE\\L1\\Controllers.py\", line 218, in send_command\n",
      "    ans = command(*args)\n",
      "  File \"C:\\Users\\Luke\\Anaconda3\\envs\\CEpy37\\lib\\site-packages\\pycromanager\\core.py\", line 263, in <lambda>\n",
      "    fn = lambda instance, *args, signatures_list=tuple(methods_with_name): instance._translate_call(signatures_list, args)\n",
      "  File \"C:\\Users\\Luke\\Anaconda3\\envs\\CEpy37\\lib\\site-packages\\pycromanager\\core.py\", line 350, in _translate_call\n",
      "    return self._deserialize(self._socket.receive())\n",
      "  File \"C:\\Users\\Luke\\Anaconda3\\envs\\CEpy37\\lib\\site-packages\\pycromanager\\core.py\", line 97, in receive\n",
      "    self._check_exception(message)\n",
      "  File \"C:\\Users\\Luke\\Anaconda3\\envs\\CEpy37\\lib\\site-packages\\pycromanager\\core.py\", line 102, in _check_exception\n",
      "    raise Exception(response['value'])\n",
      "Exception: java.lang.Exception: Camera image buffer read failed.\n",
      "mmcorej.MMCoreJJNI.CMMCore_getImage__SWIG_0(Native Method)\n",
      "mmcorej.CMMCore.getImage(CMMCore.java:932)\n",
      "sun.reflect.GeneratedMethodAccessor26.invoke(Unknown Source)\n",
      "sun.reflect.DelegatingMethodAccessorImpl.invoke(DelegatingMethodAccessorImpl.java:43)\n",
      "java.lang.reflect.Method.invoke(Method.java:498)\n",
      "org.micromanager.internal.zmq.ZMQServer.runMethod(ZMQServer.java:268)\n",
      "org.micromanager.internal.zmq.ZMQServer.parseAndExecuteCommand(ZMQServer.java:324)\n",
      "org.micromanager.internal.zmq.ZMQServer.lambda$initialize$1(ZMQServer.java:80)\n",
      "java.util.concurrent.FutureTask.run(FutureTask.java:266)\n",
      "java.util.concurrent.ThreadPoolExecutor.runWorker(ThreadPoolExecutor.java:1149)\n",
      "java.util.concurrent.ThreadPoolExecutor$Worker.run(ThreadPoolExecutor.java:624)\n",
      "java.lang.Thread.run(Thread.java:748)\n",
      "\n",
      "\n",
      "Exception in thread Thread-281:\n",
      "Traceback (most recent call last):\n",
      "  File \"C:\\Users\\Luke\\Anaconda3\\envs\\CEpy37\\lib\\threading.py\", line 926, in _bootstrap_inner\n",
      "    self.run()\n",
      "  File \"C:\\Users\\Luke\\Anaconda3\\envs\\CEpy37\\lib\\threading.py\", line 870, in run\n",
      "    self._target(*self._args, **self._kwargs)\n",
      "  File \"<ipython-input-174-cabd943a57f8>\", line 9, in _update\n",
      "    i.put([c.snap(), snap])\n",
      "  File \"C:\\Users\\Luke\\Desktop\\Barracuda\\AutomatedCE\\L2\\CameraControl.py\", line 100, in snap\n",
      "    img = self.controller.send_command(self.controller.core.get_image)\n",
      "  File \"C:\\Users\\Luke\\Desktop\\Barracuda\\AutomatedCE\\L1\\Controllers.py\", line 226, in send_command\n",
      "    raise e\n",
      "  File \"C:\\Users\\Luke\\Desktop\\Barracuda\\AutomatedCE\\L1\\Controllers.py\", line 218, in send_command\n",
      "    ans = command(*args)\n",
      "  File \"C:\\Users\\Luke\\Anaconda3\\envs\\CEpy37\\lib\\site-packages\\pycromanager\\core.py\", line 263, in <lambda>\n",
      "    fn = lambda instance, *args, signatures_list=tuple(methods_with_name): instance._translate_call(signatures_list, args)\n",
      "  File \"C:\\Users\\Luke\\Anaconda3\\envs\\CEpy37\\lib\\site-packages\\pycromanager\\core.py\", line 350, in _translate_call\n",
      "    return self._deserialize(self._socket.receive())\n",
      "  File \"C:\\Users\\Luke\\Anaconda3\\envs\\CEpy37\\lib\\site-packages\\pycromanager\\core.py\", line 97, in receive\n",
      "    self._check_exception(message)\n",
      "  File \"C:\\Users\\Luke\\Anaconda3\\envs\\CEpy37\\lib\\site-packages\\pycromanager\\core.py\", line 102, in _check_exception\n",
      "    raise Exception(response['value'])\n",
      "Exception: java.lang.Exception: Camera image buffer read failed.\n",
      "mmcorej.MMCoreJJNI.CMMCore_getImage__SWIG_0(Native Method)\n",
      "mmcorej.CMMCore.getImage(CMMCore.java:932)\n",
      "sun.reflect.GeneratedMethodAccessor26.invoke(Unknown Source)\n",
      "sun.reflect.DelegatingMethodAccessorImpl.invoke(DelegatingMethodAccessorImpl.java:43)\n",
      "java.lang.reflect.Method.invoke(Method.java:498)\n",
      "org.micromanager.internal.zmq.ZMQServer.runMethod(ZMQServer.java:268)\n",
      "org.micromanager.internal.zmq.ZMQServer.parseAndExecuteCommand(ZMQServer.java:324)\n",
      "org.micromanager.internal.zmq.ZMQServer.lambda$initialize$1(ZMQServer.java:80)\n",
      "java.util.concurrent.FutureTask.run(FutureTask.java:266)\n",
      "java.util.concurrent.ThreadPoolExecutor.runWorker(ThreadPoolExecutor.java:1149)\n",
      "java.util.concurrent.ThreadPoolExecutor$Worker.run(ThreadPoolExecutor.java:624)\n",
      "java.lang.Thread.run(Thread.java:748)\n",
      "\n",
      "\n"
     ]
    },
    {
     "name": "stderr",
     "output_type": "stream",
     "text": [
      "Exception in thread Thread-283:\n",
      "Traceback (most recent call last):\n",
      "  File \"C:\\Users\\Luke\\Anaconda3\\envs\\CEpy37\\lib\\threading.py\", line 926, in _bootstrap_inner\n",
      "    self.run()\n",
      "  File \"C:\\Users\\Luke\\Anaconda3\\envs\\CEpy37\\lib\\threading.py\", line 870, in run\n",
      "    self._target(*self._args, **self._kwargs)\n",
      "  File \"<ipython-input-174-cabd943a57f8>\", line 9, in _update\n",
      "    i.put([c.snap(), snap])\n",
      "  File \"C:\\Users\\Luke\\Desktop\\Barracuda\\AutomatedCE\\L2\\CameraControl.py\", line 100, in snap\n",
      "    img = self.controller.send_command(self.controller.core.get_image)\n",
      "  File \"C:\\Users\\Luke\\Desktop\\Barracuda\\AutomatedCE\\L1\\Controllers.py\", line 226, in send_command\n",
      "    raise e\n",
      "  File \"C:\\Users\\Luke\\Desktop\\Barracuda\\AutomatedCE\\L1\\Controllers.py\", line 218, in send_command\n",
      "    ans = command(*args)\n",
      "  File \"C:\\Users\\Luke\\Anaconda3\\envs\\CEpy37\\lib\\site-packages\\pycromanager\\core.py\", line 263, in <lambda>\n",
      "    fn = lambda instance, *args, signatures_list=tuple(methods_with_name): instance._translate_call(signatures_list, args)\n",
      "  File \"C:\\Users\\Luke\\Anaconda3\\envs\\CEpy37\\lib\\site-packages\\pycromanager\\core.py\", line 350, in _translate_call\n",
      "    return self._deserialize(self._socket.receive())\n",
      "  File \"C:\\Users\\Luke\\Anaconda3\\envs\\CEpy37\\lib\\site-packages\\pycromanager\\core.py\", line 97, in receive\n",
      "    self._check_exception(message)\n",
      "  File \"C:\\Users\\Luke\\Anaconda3\\envs\\CEpy37\\lib\\site-packages\\pycromanager\\core.py\", line 102, in _check_exception\n",
      "    raise Exception(response['value'])\n",
      "Exception: java.lang.Exception: Camera image buffer read failed.\n",
      "mmcorej.MMCoreJJNI.CMMCore_getImage__SWIG_0(Native Method)\n",
      "mmcorej.CMMCore.getImage(CMMCore.java:932)\n",
      "sun.reflect.GeneratedMethodAccessor26.invoke(Unknown Source)\n",
      "sun.reflect.DelegatingMethodAccessorImpl.invoke(DelegatingMethodAccessorImpl.java:43)\n",
      "java.lang.reflect.Method.invoke(Method.java:498)\n",
      "org.micromanager.internal.zmq.ZMQServer.runMethod(ZMQServer.java:268)\n",
      "org.micromanager.internal.zmq.ZMQServer.parseAndExecuteCommand(ZMQServer.java:324)\n",
      "org.micromanager.internal.zmq.ZMQServer.lambda$initialize$1(ZMQServer.java:80)\n",
      "java.util.concurrent.FutureTask.run(FutureTask.java:266)\n",
      "java.util.concurrent.ThreadPoolExecutor.runWorker(ThreadPoolExecutor.java:1149)\n",
      "java.util.concurrent.ThreadPoolExecutor$Worker.run(ThreadPoolExecutor.java:624)\n",
      "java.lang.Thread.run(Thread.java:748)\n",
      "\n",
      "\n",
      "Exception in thread Thread-285:\n",
      "Traceback (most recent call last):\n",
      "  File \"C:\\Users\\Luke\\Anaconda3\\envs\\CEpy37\\lib\\threading.py\", line 926, in _bootstrap_inner\n",
      "    self.run()\n",
      "  File \"C:\\Users\\Luke\\Anaconda3\\envs\\CEpy37\\lib\\threading.py\", line 870, in run\n",
      "    self._target(*self._args, **self._kwargs)\n",
      "  File \"<ipython-input-174-cabd943a57f8>\", line 9, in _update\n",
      "    i.put([c.snap(), snap])\n",
      "  File \"C:\\Users\\Luke\\Desktop\\Barracuda\\AutomatedCE\\L2\\CameraControl.py\", line 100, in snap\n",
      "    img = self.controller.send_command(self.controller.core.get_image)\n",
      "  File \"C:\\Users\\Luke\\Desktop\\Barracuda\\AutomatedCE\\L1\\Controllers.py\", line 226, in send_command\n",
      "    raise e\n",
      "  File \"C:\\Users\\Luke\\Desktop\\Barracuda\\AutomatedCE\\L1\\Controllers.py\", line 218, in send_command\n",
      "    ans = command(*args)\n",
      "  File \"C:\\Users\\Luke\\Anaconda3\\envs\\CEpy37\\lib\\site-packages\\pycromanager\\core.py\", line 263, in <lambda>\n",
      "    fn = lambda instance, *args, signatures_list=tuple(methods_with_name): instance._translate_call(signatures_list, args)\n",
      "  File \"C:\\Users\\Luke\\Anaconda3\\envs\\CEpy37\\lib\\site-packages\\pycromanager\\core.py\", line 350, in _translate_call\n",
      "    return self._deserialize(self._socket.receive())\n",
      "  File \"C:\\Users\\Luke\\Anaconda3\\envs\\CEpy37\\lib\\site-packages\\pycromanager\\core.py\", line 97, in receive\n",
      "    self._check_exception(message)\n",
      "  File \"C:\\Users\\Luke\\Anaconda3\\envs\\CEpy37\\lib\\site-packages\\pycromanager\\core.py\", line 102, in _check_exception\n",
      "    raise Exception(response['value'])\n",
      "Exception: java.lang.Exception: Camera image buffer read failed.\n",
      "mmcorej.MMCoreJJNI.CMMCore_getImage__SWIG_0(Native Method)\n",
      "mmcorej.CMMCore.getImage(CMMCore.java:932)\n",
      "sun.reflect.GeneratedMethodAccessor26.invoke(Unknown Source)\n",
      "sun.reflect.DelegatingMethodAccessorImpl.invoke(DelegatingMethodAccessorImpl.java:43)\n",
      "java.lang.reflect.Method.invoke(Method.java:498)\n",
      "org.micromanager.internal.zmq.ZMQServer.runMethod(ZMQServer.java:268)\n",
      "org.micromanager.internal.zmq.ZMQServer.parseAndExecuteCommand(ZMQServer.java:324)\n",
      "org.micromanager.internal.zmq.ZMQServer.lambda$initialize$1(ZMQServer.java:80)\n",
      "java.util.concurrent.FutureTask.run(FutureTask.java:266)\n",
      "java.util.concurrent.ThreadPoolExecutor.runWorker(ThreadPoolExecutor.java:1149)\n",
      "java.util.concurrent.ThreadPoolExecutor$Worker.run(ThreadPoolExecutor.java:624)\n",
      "java.lang.Thread.run(Thread.java:748)\n",
      "\n",
      "\n",
      "Exception in thread Thread-287:\n",
      "Traceback (most recent call last):\n",
      "  File \"C:\\Users\\Luke\\Anaconda3\\envs\\CEpy37\\lib\\threading.py\", line 926, in _bootstrap_inner\n",
      "    self.run()\n",
      "  File \"C:\\Users\\Luke\\Anaconda3\\envs\\CEpy37\\lib\\threading.py\", line 870, in run\n",
      "    self._target(*self._args, **self._kwargs)\n",
      "  File \"<ipython-input-174-cabd943a57f8>\", line 9, in _update\n",
      "    i.put([c.snap(), snap])\n",
      "  File \"C:\\Users\\Luke\\Desktop\\Barracuda\\AutomatedCE\\L2\\CameraControl.py\", line 100, in snap\n",
      "    img = self.controller.send_command(self.controller.core.get_image)\n",
      "  File \"C:\\Users\\Luke\\Desktop\\Barracuda\\AutomatedCE\\L1\\Controllers.py\", line 226, in send_command\n",
      "    raise e\n",
      "  File \"C:\\Users\\Luke\\Desktop\\Barracuda\\AutomatedCE\\L1\\Controllers.py\", line 218, in send_command\n",
      "    ans = command(*args)\n",
      "  File \"C:\\Users\\Luke\\Anaconda3\\envs\\CEpy37\\lib\\site-packages\\pycromanager\\core.py\", line 263, in <lambda>\n",
      "    fn = lambda instance, *args, signatures_list=tuple(methods_with_name): instance._translate_call(signatures_list, args)\n",
      "  File \"C:\\Users\\Luke\\Anaconda3\\envs\\CEpy37\\lib\\site-packages\\pycromanager\\core.py\", line 350, in _translate_call\n",
      "    return self._deserialize(self._socket.receive())\n",
      "  File \"C:\\Users\\Luke\\Anaconda3\\envs\\CEpy37\\lib\\site-packages\\pycromanager\\core.py\", line 97, in receive\n",
      "    self._check_exception(message)\n",
      "  File \"C:\\Users\\Luke\\Anaconda3\\envs\\CEpy37\\lib\\site-packages\\pycromanager\\core.py\", line 102, in _check_exception\n",
      "    raise Exception(response['value'])\n",
      "Exception: java.lang.Exception: Camera image buffer read failed.\n",
      "mmcorej.MMCoreJJNI.CMMCore_getImage__SWIG_0(Native Method)\n",
      "mmcorej.CMMCore.getImage(CMMCore.java:932)\n",
      "sun.reflect.GeneratedMethodAccessor26.invoke(Unknown Source)\n",
      "sun.reflect.DelegatingMethodAccessorImpl.invoke(DelegatingMethodAccessorImpl.java:43)\n",
      "java.lang.reflect.Method.invoke(Method.java:498)\n",
      "org.micromanager.internal.zmq.ZMQServer.runMethod(ZMQServer.java:268)\n",
      "org.micromanager.internal.zmq.ZMQServer.parseAndExecuteCommand(ZMQServer.java:324)\n",
      "org.micromanager.internal.zmq.ZMQServer.lambda$initialize$1(ZMQServer.java:80)\n",
      "java.util.concurrent.FutureTask.run(FutureTask.java:266)\n",
      "java.util.concurrent.ThreadPoolExecutor.runWorker(ThreadPoolExecutor.java:1149)\n",
      "java.util.concurrent.ThreadPoolExecutor$Worker.run(ThreadPoolExecutor.java:624)\n",
      "java.lang.Thread.run(Thread.java:748)\n",
      "\n",
      "\n",
      "Exception in thread Thread-289:\n",
      "Traceback (most recent call last):\n",
      "  File \"C:\\Users\\Luke\\Anaconda3\\envs\\CEpy37\\lib\\threading.py\", line 926, in _bootstrap_inner\n",
      "    self.run()\n",
      "  File \"C:\\Users\\Luke\\Anaconda3\\envs\\CEpy37\\lib\\threading.py\", line 870, in run\n",
      "    self._target(*self._args, **self._kwargs)\n",
      "  File \"<ipython-input-174-cabd943a57f8>\", line 9, in _update\n",
      "    i.put([c.snap(), snap])\n",
      "  File \"C:\\Users\\Luke\\Desktop\\Barracuda\\AutomatedCE\\L2\\CameraControl.py\", line 100, in snap\n",
      "    img = self.controller.send_command(self.controller.core.get_image)\n",
      "  File \"C:\\Users\\Luke\\Desktop\\Barracuda\\AutomatedCE\\L1\\Controllers.py\", line 226, in send_command\n",
      "    raise e\n",
      "  File \"C:\\Users\\Luke\\Desktop\\Barracuda\\AutomatedCE\\L1\\Controllers.py\", line 218, in send_command\n",
      "    ans = command(*args)\n",
      "  File \"C:\\Users\\Luke\\Anaconda3\\envs\\CEpy37\\lib\\site-packages\\pycromanager\\core.py\", line 263, in <lambda>\n",
      "    fn = lambda instance, *args, signatures_list=tuple(methods_with_name): instance._translate_call(signatures_list, args)\n",
      "  File \"C:\\Users\\Luke\\Anaconda3\\envs\\CEpy37\\lib\\site-packages\\pycromanager\\core.py\", line 350, in _translate_call\n",
      "    return self._deserialize(self._socket.receive())\n",
      "  File \"C:\\Users\\Luke\\Anaconda3\\envs\\CEpy37\\lib\\site-packages\\pycromanager\\core.py\", line 97, in receive\n",
      "    self._check_exception(message)\n",
      "  File \"C:\\Users\\Luke\\Anaconda3\\envs\\CEpy37\\lib\\site-packages\\pycromanager\\core.py\", line 102, in _check_exception\n",
      "    raise Exception(response['value'])\n",
      "Exception: java.lang.Exception: Camera image buffer read failed.\n",
      "mmcorej.MMCoreJJNI.CMMCore_getImage__SWIG_0(Native Method)\n",
      "mmcorej.CMMCore.getImage(CMMCore.java:932)\n",
      "sun.reflect.GeneratedMethodAccessor26.invoke(Unknown Source)\n",
      "sun.reflect.DelegatingMethodAccessorImpl.invoke(DelegatingMethodAccessorImpl.java:43)\n",
      "java.lang.reflect.Method.invoke(Method.java:498)\n",
      "org.micromanager.internal.zmq.ZMQServer.runMethod(ZMQServer.java:268)\n",
      "org.micromanager.internal.zmq.ZMQServer.parseAndExecuteCommand(ZMQServer.java:324)\n",
      "org.micromanager.internal.zmq.ZMQServer.lambda$initialize$1(ZMQServer.java:80)\n",
      "java.util.concurrent.FutureTask.run(FutureTask.java:266)\n",
      "java.util.concurrent.ThreadPoolExecutor.runWorker(ThreadPoolExecutor.java:1149)\n",
      "java.util.concurrent.ThreadPoolExecutor$Worker.run(ThreadPoolExecutor.java:624)\n",
      "java.lang.Thread.run(Thread.java:748)\n",
      "\n",
      "\n"
     ]
    },
    {
     "name": "stderr",
     "output_type": "stream",
     "text": [
      "Exception in thread Thread-271:\n",
      "Traceback (most recent call last):\n",
      "  File \"C:\\Users\\Luke\\Anaconda3\\envs\\CEpy37\\lib\\threading.py\", line 926, in _bootstrap_inner\n",
      "    self.run()\n",
      "  File \"C:\\Users\\Luke\\Anaconda3\\envs\\CEpy37\\lib\\threading.py\", line 870, in run\n",
      "    self._target(*self._args, **self._kwargs)\n",
      "  File \"<ipython-input-174-cabd943a57f8>\", line 9, in _update\n",
      "    i.put([c.snap(), snap])\n",
      "  File \"C:\\Users\\Luke\\Desktop\\Barracuda\\AutomatedCE\\L2\\CameraControl.py\", line 100, in snap\n",
      "    img = self.controller.send_command(self.controller.core.get_image)\n",
      "  File \"C:\\Users\\Luke\\Desktop\\Barracuda\\AutomatedCE\\L1\\Controllers.py\", line 226, in send_command\n",
      "    raise e\n",
      "  File \"C:\\Users\\Luke\\Desktop\\Barracuda\\AutomatedCE\\L1\\Controllers.py\", line 218, in send_command\n",
      "    ans = command(*args)\n",
      "  File \"C:\\Users\\Luke\\Anaconda3\\envs\\CEpy37\\lib\\site-packages\\pycromanager\\core.py\", line 263, in <lambda>\n",
      "    fn = lambda instance, *args, signatures_list=tuple(methods_with_name): instance._translate_call(signatures_list, args)\n",
      "  File \"C:\\Users\\Luke\\Anaconda3\\envs\\CEpy37\\lib\\site-packages\\pycromanager\\core.py\", line 350, in _translate_call\n",
      "    return self._deserialize(self._socket.receive())\n",
      "  File \"C:\\Users\\Luke\\Anaconda3\\envs\\CEpy37\\lib\\site-packages\\pycromanager\\core.py\", line 97, in receive\n",
      "    self._check_exception(message)\n",
      "  File \"C:\\Users\\Luke\\Anaconda3\\envs\\CEpy37\\lib\\site-packages\\pycromanager\\core.py\", line 102, in _check_exception\n",
      "    raise Exception(response['value'])\n",
      "Exception: java.lang.Exception: Camera image buffer read failed.\n",
      "mmcorej.MMCoreJJNI.CMMCore_getImage__SWIG_0(Native Method)\n",
      "mmcorej.CMMCore.getImage(CMMCore.java:932)\n",
      "sun.reflect.GeneratedMethodAccessor26.invoke(Unknown Source)\n",
      "sun.reflect.DelegatingMethodAccessorImpl.invoke(DelegatingMethodAccessorImpl.java:43)\n",
      "java.lang.reflect.Method.invoke(Method.java:498)\n",
      "org.micromanager.internal.zmq.ZMQServer.runMethod(ZMQServer.java:268)\n",
      "org.micromanager.internal.zmq.ZMQServer.parseAndExecuteCommand(ZMQServer.java:324)\n",
      "org.micromanager.internal.zmq.ZMQServer.lambda$initialize$1(ZMQServer.java:80)\n",
      "java.util.concurrent.FutureTask.run(FutureTask.java:266)\n",
      "java.util.concurrent.ThreadPoolExecutor.runWorker(ThreadPoolExecutor.java:1149)\n",
      "java.util.concurrent.ThreadPoolExecutor$Worker.run(ThreadPoolExecutor.java:624)\n",
      "java.lang.Thread.run(Thread.java:748)\n",
      "\n",
      "\n"
     ]
    }
   ],
   "source": [
    "plt.figure()\n",
    "plt.plot(time_points[1:],rn)"
   ]
  },
  {
   "cell_type": "code",
   "execution_count": 205,
   "metadata": {},
   "outputs": [
    {
     "name": "stderr",
     "output_type": "stream",
     "text": [
      "C:\\Users\\Luke\\Anaconda3\\envs\\CEpy37\\lib\\site-packages\\skimage\\exposure\\exposure.py:351: RuntimeWarning: invalid value encountered in true_divide\n",
      "  image = (image - imin) / float(imax - imin)\n"
     ]
    }
   ],
   "source": [
    "disp.show()"
   ]
  },
  {
   "cell_type": "code",
   "execution_count": 206,
   "metadata": {},
   "outputs": [],
   "source": [
    "disp.live_image()"
   ]
  },
  {
   "cell_type": "code",
   "execution_count": null,
   "metadata": {},
   "outputs": [],
   "source": []
  }
 ],
 "metadata": {
  "kernelspec": {
   "display_name": "Python 3",
   "language": "python",
   "name": "python3"
  },
  "language_info": {
   "codemirror_mode": {
    "name": "ipython",
    "version": 3
   },
   "file_extension": ".py",
   "mimetype": "text/x-python",
   "name": "python",
   "nbconvert_exporter": "python",
   "pygments_lexer": "ipython3",
   "version": "3.7.9"
  }
 },
 "nbformat": 4,
 "nbformat_minor": 2
}
