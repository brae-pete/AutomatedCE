{
 "cells": [
  {
   "cell_type": "code",
   "execution_count": 1,
   "metadata": {},
   "outputs": [
    {
     "name": "stdout",
     "output_type": "stream",
     "text": [
      "new directory is: C:\\Users\\Luke\\Desktop\\Barracuda\\AutomatedCE\n"
     ]
    }
   ],
   "source": [
    "import sys\n",
    "import os\n",
    "import numpy as np\n",
    "import time\n",
    "from imp import reload\n",
    "\n",
    "# Set the working directory to the AutomatedCE folder so we have access to L1-L4 modules\n",
    "resp = os.getcwd()\n",
    "if 'testing' in resp[-7:]:\n",
    "    os.chdir(os.path.abspath(os.path.join(os.getcwd(), '..')))\n",
    "    print(f\"new directory is: {os.getcwd()}\")"
   ]
  },
  {
   "cell_type": "code",
   "execution_count": 2,
   "metadata": {},
   "outputs": [
    {
     "name": "stderr",
     "output_type": "stream",
     "text": [
      "WARNING:root:python2path is not a var in system_config.txt\n",
      "WARNING:root:Path to Thorlabs Kinesis was not found. \n",
      " Change System Config setting if thorlabs is needed. \n"
     ]
    },
    {
     "name": "stdout",
     "output_type": "stream",
     "text": [
      "C:\\Users\\Luke\\Desktop\\Barracuda\\AutomatedCE\\L1\\MicroControlServer.py\n",
      "['0', '2', '4', '6'] ['ai1', 'ai2', 'ai3', 'ai4'] ['ai9', 'ai10', 'ai11', 'ai12']\n",
      "['0', '2', '4', '6'] ['ai1', 'ai2', 'ai3', 'ai4'] ['ai9', 'ai10', 'ai11', 'ai12']\n",
      "{'xy_stage': <L2.XYControl.PycromanagerXY object at 0x000002BB8F3D6F98>, 'objective': <L2.ZControl.PycromanagerZ object at 0x000002BB8F3009B0>, 'filter_wheel': None, 'excitation_shutter': None, 'camera': <L2.CameraControl.PycromanagerControl object at 0x000002BB8F3D6FD0>, 'high_voltage': <L2.HighVoltageControl.PMOD_DAC object at 0x000002BB8F3C7EB8>}\n"
     ]
    }
   ],
   "source": [
    "from L3 import SystemsBuilder\n",
    "\n",
    "system = SystemsBuilder.CESystem()\n",
    "system.load_config(config_file=r'C:\\Users\\Luke\\Desktop\\Barracuda\\AutomatedCE\\var\\Chip.cfg')\n"
   ]
  },
  {
   "cell_type": "code",
   "execution_count": 3,
   "metadata": {},
   "outputs": [
    {
     "name": "stdout",
     "output_type": "stream",
     "text": [
      "OPENING:  mmc1 <L1.Controllers.PycromanagerController object at 0x000002BB8F300978> using port: pycromanager\n",
      "OPENING:  daq1 <L1.DAQControllers.NiDaq object at 0x000002BB8F300BA8>\n",
      "OPENING:  ard1 <L1.Controllers.ArduinoController object at 0x000002BB8F34B160> using port: COM3\n"
     ]
    }
   ],
   "source": [
    "system.open_controllers()\n",
    "#system.startup_utilities()"
   ]
  },
  {
   "cell_type": "code",
   "execution_count": 5,
   "metadata": {},
   "outputs": [],
   "source": [
    "system.high_voltage.startup()"
   ]
  },
  {
   "cell_type": "code",
   "execution_count": 6,
   "metadata": {},
   "outputs": [
    {
     "data": {
      "text/plain": [
       "{'0': [0, 0], '2': [0, 0], '4': [0, 0], '6': [0, 0]}"
      ]
     },
     "execution_count": 6,
     "metadata": {},
     "output_type": "execute_result"
    }
   ],
   "source": [
    "hv=system.high_voltage\n",
    "\n",
    "hv.voltages"
   ]
  },
  {
   "cell_type": "code",
   "execution_count": 58,
   "metadata": {},
   "outputs": [
    {
     "name": "stderr",
     "output_type": "stream",
     "text": [
      "ERROR:root:ERROR: Voltage set beyond DAC capability\n",
      "ERROR:root:ERROR: Voltage set beyond DAC capability\n"
     ]
    }
   ],
   "source": [
    "import time\n",
    "hv.set_voltage(500,'0')\n",
    "hv.set_voltage(200,'4')\n",
    "hv.set_voltage(1,'2')\n",
    "hv.load_changes()"
   ]
  },
  {
   "cell_type": "code",
   "execution_count": 49,
   "metadata": {},
   "outputs": [],
   "source": [
    "hv._power_down()"
   ]
  },
  {
   "cell_type": "code",
   "execution_count": 52,
   "metadata": {},
   "outputs": [],
   "source": [
    "hv._power_on()"
   ]
  },
  {
   "cell_type": "code",
   "execution_count": 32,
   "metadata": {},
   "outputs": [],
   "source": [
    "hv.load_changes()"
   ]
  },
  {
   "cell_type": "code",
   "execution_count": 60,
   "metadata": {},
   "outputs": [],
   "source": [
    "hv.start()"
   ]
  },
  {
   "cell_type": "code",
   "execution_count": 28,
   "metadata": {},
   "outputs": [],
   "source": [
    "hv.stop()"
   ]
  },
  {
   "cell_type": "code",
   "execution_count": 9,
   "metadata": {
    "collapsed": true,
    "jupyter": {
     "outputs_hidden": true
    }
   },
   "outputs": [
    {
     "data": {
      "text/plain": [
       "{'voltage': {'0': [0.02275663359737933,\n",
       "   0.022958958246440245,\n",
       "   0.023008305714592975,\n",
       "   0.022661228482088274,\n",
       "   0.023116870164132046,\n",
       "   0.022894806521176977,\n",
       "   0.023215565109705884,\n",
       "   0.02295731332404023],\n",
       "  '2': [0.2683656108170415,\n",
       "   0.26889527377009154,\n",
       "   0.2694035528168263,\n",
       "   0.269247285798203,\n",
       "   0.2691946484835575,\n",
       "   0.2691387213396816,\n",
       "   0.26900219331310327,\n",
       "   0.2687702601557469],\n",
       "  '4': [0.11670764847688797,\n",
       "   0.11707446472565182,\n",
       "   0.11717809442906989,\n",
       "   0.11678660444256884,\n",
       "   0.11706624014548503,\n",
       "   0.11716000035563123,\n",
       "   0.11693958162572332,\n",
       "   0.1167619307059839],\n",
       "  '6': [0.018341679528780918,\n",
       "   0.018759488146339594,\n",
       "   0.018687111854145594,\n",
       "   0.01900622552022368,\n",
       "   0.01868546693501443,\n",
       "   0.01869862626651619,\n",
       "   0.018583482159079814,\n",
       "   0.018502881283504448]},\n",
       " 'current': {'0': [-0.010299594391911365,\n",
       "   -0.010240377419652122,\n",
       "   -0.010138392640479261,\n",
       "   -0.010113718908213973,\n",
       "   -0.010080820588609542,\n",
       "   -0.009970611228526318,\n",
       "   -0.010309463881203629,\n",
       "   -0.010159776544417411],\n",
       "  '2': [-0.008797786271165434,\n",
       "   -0.008738569298215693,\n",
       "   -0.008845488829440225,\n",
       "   -0.008648098936256567,\n",
       "   -0.008806010849335258,\n",
       "   -0.0084441293810953,\n",
       "   -0.008569142986892151,\n",
       "   -0.008863582911337186],\n",
       "  '4': [-0.009182696570820069,\n",
       "   -0.009266587269708314,\n",
       "   -0.0093587025640122,\n",
       "   -0.009143218591547762,\n",
       "   -0.008982016843486148,\n",
       "   -0.009158022838431548,\n",
       "   -0.009179406747161965,\n",
       "   -0.009215594893312355],\n",
       "  '6': [-0.009916329014097672,\n",
       "   -0.009778156086921848,\n",
       "   -0.009450817848694138,\n",
       "   -0.0097304535279402,\n",
       "   -0.009674526395233037,\n",
       "   -0.009710714545190352,\n",
       "   -0.009618599259513489,\n",
       "   -0.01006272651941416]},\n",
       " 'time_data': [0.1, 0.2, 0.3, 0.4, 0.5, 0.6, 0.7, 0.8]}"
      ]
     },
     "execution_count": 9,
     "metadata": {},
     "output_type": "execute_result"
    }
   ],
   "source": [
    "hv.get_data()"
   ]
  },
  {
   "cell_type": "code",
   "execution_count": 64,
   "metadata": {},
   "outputs": [
    {
     "name": "stdout",
     "output_type": "stream",
     "text": [
      "66\n",
      "66\n",
      "66\n",
      "66\n"
     ]
    },
    {
     "data": {
      "text/plain": [
       "<matplotlib.legend.Legend at 0x2bb98619f60>"
      ]
     },
     "execution_count": 64,
     "metadata": {},
     "output_type": "execute_result"
    },
    {
     "data": {
      "image/png": "[encoded data removed]",
      "text/plain": [
       "<Figure size 432x288 with 1 Axes>"
      ]
     },
     "metadata": {
      "needs_background": "light"
     },
     "output_type": "display_data"
    }
   ],
   "source": [
    "import matplotlib.pyplot as plt\n",
    "\n",
    "\n",
    "data = hv.get_data()\n",
    "\n",
    "voltage = data['voltage']\n",
    "\n",
    "for key,data in voltage.items():\n",
    "    plt.plot(data,marker='.', linestyle='None', label=key)\n",
    "    print(len(data))\n",
    "plt.legend()"
   ]
  },
  {
   "cell_type": "code",
   "execution_count": 14,
   "metadata": {},
   "outputs": [],
   "source": [
    "plt.show()"
   ]
  },
  {
   "cell_type": "code",
   "execution_count": 16,
   "metadata": {},
   "outputs": [
    {
     "data": {
      "text/plain": [
       "[]"
      ]
     },
     "execution_count": 16,
     "metadata": {},
     "output_type": "execute_result"
    }
   ],
   "source": [
    "hv.controller.send_command('E\\n')"
   ]
  },
  {
   "cell_type": "code",
   "execution_count": 32,
   "metadata": {},
   "outputs": [
    {
     "data": {
      "text/plain": [
       "[]"
      ]
     },
     "execution_count": 32,
     "metadata": {},
     "output_type": "execute_result"
    }
   ],
   "source": [
    "hv.controller.send_command('S111\\n')"
   ]
  },
  {
   "cell_type": "code",
   "execution_count": 53,
   "metadata": {},
   "outputs": [
    {
     "data": {
      "text/plain": [
       "[]"
      ]
     },
     "execution_count": 53,
     "metadata": {},
     "output_type": "execute_result"
    }
   ],
   "source": [
    "ctl = hv.controller\n",
    "ctl.send_command('E0000\\n')"
   ]
  },
  {
   "cell_type": "code",
   "execution_count": 54,
   "metadata": {},
   "outputs": [
    {
     "data": {
      "text/plain": [
       "[]"
      ]
     },
     "execution_count": 54,
     "metadata": {},
     "output_type": "execute_result"
    }
   ],
   "source": [
    "ctl.send_command('S111\\n')"
   ]
  },
  {
   "cell_type": "code",
   "execution_count": 55,
   "metadata": {},
   "outputs": [
    {
     "data": {
      "text/plain": [
       "[]"
      ]
     },
     "execution_count": 55,
     "metadata": {},
     "output_type": "execute_result"
    }
   ],
   "source": [
    "ctl.read_buffer()"
   ]
  },
  {
   "cell_type": "code",
   "execution_count": 57,
   "metadata": {},
   "outputs": [],
   "source": [
    "hv.startup()"
   ]
  },
  {
   "cell_type": "code",
   "execution_count": null,
   "metadata": {},
   "outputs": [],
   "source": []
  }
 ],
 "metadata": {
  "kernelspec": {
   "display_name": "Python 3",
   "language": "python",
   "name": "python3"
  },
  "language_info": {
   "codemirror_mode": {
    "name": "ipython",
    "version": 3
   },
   "file_extension": ".py",
   "mimetype": "text/x-python",
   "name": "python",
   "nbconvert_exporter": "python",
   "pygments_lexer": "ipython3",
   "version": "3.7.9"
  }
 },
 "nbformat": 4,
 "nbformat_minor": 4
}
