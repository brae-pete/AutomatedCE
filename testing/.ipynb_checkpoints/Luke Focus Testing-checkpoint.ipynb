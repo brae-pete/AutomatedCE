{
 "cells": [
  {
   "cell_type": "markdown",
   "metadata": {},
   "source": [
    "Hey Luke, \n",
    "\n",
    " You may want to consult with Matt briefly on how to use the fluoresence microscope with the GigaCE commands. In particular, you will want to record what excitation channel he is using ('cyan', 'blue', etc...) and what emission channel he is using (1, 2, 3, etc...). \n",
    " \n",
    " Because the Nikton TE300 has a very limited field of view, it may not seem right to you. I would watch Matt use the fluorescence capabilities first so you have an idea of what is 'normal'. \n",
    " \n",
    " The following code was intended for you to run at the end of the day, after you single-cell CE experiments. "
   ]
  },
  {
   "cell_type": "markdown",
   "metadata": {},
   "source": [
    "# Step 1, Load the Modules"
   ]
  },
  {
   "cell_type": "code",
   "execution_count": 6,
   "metadata": {},
   "outputs": [],
   "source": [
    "import os\n",
    "# Set the working directory to the AutomatedCE folder so we have access to L1-L4 modules\n",
    "resp = os.getcwd()\n",
    "if 'testing' in resp[-7:]:\n",
    "    os.chdir(os.path.abspath(os.path.join(os.getcwd(), '..')))\n",
    "    print(f\"new directory is: {os.getcwd()}\")\n",
    "    \n",
    "from L4 import Focus\n",
    "from importlib import reload\n",
    "%config Completer.use_jedi = False\n",
    "\n",
    "# Basic Function Modules\n",
    "import sys\n",
    "import os\n",
    "import glob\n",
    "from imp import reload\n",
    "import csv\n",
    "import threading\n",
    "from pathlib import Path\n",
    "import warnings\n",
    "#Data Analysis Modules\n",
    "import time\n",
    "import numpy as np\n",
    "import pandas as pd\n",
    "import matplotlib.pyplot as plt\n",
    "# Image Detection Modules\n",
    "import skimage.measure as measure\n",
    "from scipy.ndimage import label, distance_transform_edt\n",
    "from skimage import io, img_as_float, filters, morphology\n",
    "from skimage.feature import peak_local_max\n",
    "from skimage.measure import regionprops, regionprops_table\n",
    "from skimage.morphology import watershed\n",
    "# Set the working directory to the AutomatedCE folder so we have access to L1-L4 modules\n",
    "resp = os.getcwd()\n",
    "if 'testing' in resp[-7:]:\n",
    "    os.chdir(os.path.abspath(os.path.join(os.getcwd(), '..')))\n",
    "    print(f\"new directory is: {os.getcwd()}\")\n",
    "#AutomatedCE Modules\n",
    "import testing.inputs  \n",
    "from testing.inputs import *\n",
    "from L4 import DisplayWindows\n",
    "from L4 import FileIO\n",
    "from L4 import Focus\n",
    "from L4 import AutomatedControl\n",
    "from L4 import Trajectory\n",
    "from L4.image_util import ImageSaver\n",
    "from L3 import SystemsBuilder\n",
    "#import testing.te300_auto_utils as auto_utils\n",
    "from L4 import image_util\n",
    "from L4 import FileIO\n",
    "\n",
    "\n",
    "try:\n",
    "    from tqdm import tqdm_notebook\n",
    "except ModuleNotFoundError:\n",
    "    import sys\n",
    "    !conda install --yes --prefix {sys.prefix} tqdm\n",
    "    from tqdm import tqdm_notebook\n",
    "\n",
    "\n",
    "# Reload (when changing aspects in the following modules)\n",
    "reload(Focus)\n",
    "reload(DisplayWindows)\n",
    "reload(testing.inputs)\n",
    "\n",
    "# Make the plots pop up in a separate window\n",
    "%matplotlib qt\n",
    "\n",
    "\n",
    "\n",
    "def te300_presnap(ce_sys, intensity=1):\n",
    "    ce_sys.excitation_wheel.set_intensity(['red','blue','green','cyan','uv','teal'],intensity)\n",
    "\n",
    "def te300_postsnap(ce_sys, intensity=0):\n",
    "    ce_sys.excitation_wheel.set_intensity(['red','blue','green','cyan','uv','teal'],intensity)\n",
    "\n",
    "def pre_fluoresence(ce_system,rgb='B',bins=2,fluor_channel=4,\n",
    "                    wait=0.1, exp=500,light_channel='cyan', auto_shutter=False):\n",
    "    # SNAP a FLUOR IMAGE\n",
    "    # Set to new values\n",
    "    ce_system.inlet_rgb.turn_off_channel(rgb)\n",
    "    ce_system.camera.stop()\n",
    "    ce_system.filter_wheel.set_channel(fluor_channel)\n",
    "    ce_system.excitation_wheel.set_channel([light_channel])\n",
    "    ce_system.camera.set_exposure(exp)\n",
    "    ce_system.camera.set_binning(bins)\n",
    "    if not auto_shutter:\n",
    "        ce_system.camera._presnap_callbacks=[]\n",
    "        ce_system.camera._postsnap_callbacks=[]\n",
    "        ce_system.camera.add_presnap_callback(te300_presnap, ce_sys=ce_system)\n",
    "        ce_system.camera.add_postsnap_callback(te300_postsnap, ce_sys=ce_system)\n",
    "    time.sleep(wait)\n",
    "    \n",
    "def post_fluoresence(ce_system,rgb_channel='B', old_exp=10,\n",
    "                     old_bin=1,old_channel=1,\n",
    "                     auto_shutter=False):\n",
    "    # Return to old values\n",
    "    ce_system.camera.set_exposure(old_exp)\n",
    "    ce_system.filter_wheel.set_channel(old_channel)\n",
    "    ce_system.inlet_rgb.turn_on_channel(rgb_channel)\n",
    "    ce_system.excitation_wheel.set_channel([])\n",
    "    ce_system.camera.set_binning(old_bin)\n",
    "    ce_system.camera.continuous_snap()\n",
    "    if not auto_shutter:\n",
    "        ce_system.camera._presnap_callbacks=[]\n",
    "        ce_system.camera._postsnap_callbacks=[]\n"
   ]
  },
  {
   "cell_type": "markdown",
   "metadata": {},
   "source": [
    "# Step 2 Load the correct config file and open the System"
   ]
  },
  {
   "cell_type": "code",
   "execution_count": 2,
   "metadata": {},
   "outputs": [
    {
     "name": "stdout",
     "output_type": "stream",
     "text": [
      "daq\n",
      "uniphase\n",
      "{'outlet_pressure': <L2.PressureControl.SimulatedPressure object at 0x00000285B5CA4548>, 'xy_stage': <L2.XYControl.PycromanagerXY object at 0x00000285B5CA6688>, 'inlet_rgb': <L2.LightControl.RGBArduino object at 0x00000285B5CA4A08>, 'objective': <L2.ZControl.PycromanagerZ object at 0x00000285BE4C8708>, 'outlet_z': <L2.ZControl.SimulatedZ object at 0x00000285B5CA4408>, 'inlet_z': <L2.ZControl.SimulatedZ object at 0x00000285BE4C8648>, 'filter_wheel': <L2.FilterWheelControl.PycromanagerFilter object at 0x00000285B5CA4908>, 'excitation_wheel': <L2.FilterWheelControl.LumencorFilter object at 0x00000285BE551BC8>, 'excitation_shutter': <L2.ShutterControl.PycromanagerShutter object at 0x00000285BE551C88>, 'camera': <L2.CameraControl.PycromanagerControl object at 0x00000285BE551CC8>, 'high_voltage': <L2.HighVoltageControl.SpellmanPowerSupply object at 0x00000285BE551D08>, 'detector': <L2.DetectorControl.PhotomultiplierDetector object at 0x00000285BE551F08>, 'lysis_laser': <L2.LaserControl.Uniphase object at 0x00000285BE55D108>}\n",
      "OPENING:  sim1 <L1.Controllers.SimulatedController object at 0x00000285B5CA88C8> using port: COMX\n",
      "OPENING:  mmc1 <L1.Controllers.PycromanagerController object at 0x00000285BC6DCFC8> using port: pycromanager\n",
      "OPENING:  daq1 <L1.DAQControllers.SimulatedDaq object at 0x00000285B5CA6F48>\n",
      "Starting up: outlet_pressure, <L2.PressureControl.SimulatedPressure object at 0x00000285B5CA4548>\n",
      "Starting up: xy_stage, <L2.XYControl.PycromanagerXY object at 0x00000285B5CA6688>\n",
      "Starting up: inlet_rgb, <L2.LightControl.RGBArduino object at 0x00000285B5CA4A08>\n",
      "Starting up: objective, <L2.ZControl.PycromanagerZ object at 0x00000285BE4C8708>\n",
      "Starting up: outlet_z, <L2.ZControl.SimulatedZ object at 0x00000285B5CA4408>\n",
      "Starting up: inlet_z, <L2.ZControl.SimulatedZ object at 0x00000285BE4C8648>\n",
      "Starting up: filter_wheel, <L2.FilterWheelControl.PycromanagerFilter object at 0x00000285B5CA4908>\n",
      "Starting up: excitation_wheel, <L2.FilterWheelControl.LumencorFilter object at 0x00000285BE551BC8>\n",
      "Starting up: excitation_shutter, <L2.ShutterControl.PycromanagerShutter object at 0x00000285BE551C88>\n",
      "Starting up: camera, <L2.CameraControl.PycromanagerControl object at 0x00000285BE551CC8>\n",
      "Starting up: high_voltage, <L2.HighVoltageControl.SpellmanPowerSupply object at 0x00000285BE551D08>\n",
      "Starting up: detector, <L2.DetectorControl.PhotomultiplierDetector object at 0x00000285BE551F08>\n",
      "Starting up: lysis_laser, <L2.LaserControl.Uniphase object at 0x00000285BE55D108>\n"
     ]
    }
   ],
   "source": [
    "#CONFIG_PATH = r\"C:\\Users\\Luke\\Desktop\\Barracuda\\AutomatedCE\\var\\Eclipse.cfg\"\n",
    "CONFIG_PATH = r\"D:\\Scripts\\CEInstrument\\AutomatedCE\\config\\Test-System.cfg\"\n",
    "reload(SystemsBuilder)\n",
    "\n",
    "ce_system = SystemsBuilder.CESystem()\n",
    "ce_system.load_config(CONFIG_PATH)\n",
    "ce_system.open_controllers()\n",
    "ce_system.startup_utilities()"
   ]
  },
  {
   "cell_type": "markdown",
   "metadata": {},
   "source": [
    "## Test the Imaging \n",
    "\n",
    "Below are some of the settings used for brightfield and fluoresence. "
   ]
  },
  {
   "cell_type": "code",
   "execution_count": 3,
   "metadata": {},
   "outputs": [
    {
     "name": "stderr",
     "output_type": "stream",
     "text": [
      "WARNING:root:Binning not possible with test configuration\n"
     ]
    }
   ],
   "source": [
    "data_dir = r\"D:\\Research\\ACES\\Focus\"\n",
    "output_csv = os.path.join(data_dir,'simple_data_out.csv')\n",
    "\n",
    "\n",
    "bright_field_exposure = 10 # in milliseconds\n",
    "bright_field_bins = 1 # '1', '2', '4', '8' are acceptable\n",
    "bright_field_emission_channel = 1 # Which emission channel to select\n",
    "rgb_channel = 'B' # on te300 'B' is red. :D \n",
    "\n",
    "fluor_channel = 4\n",
    "fluor_exposure = 500 # in milliseconds\n",
    "fluor_bin = 4\n",
    "fluor_light = 'cyan'\n",
    "wait = 0.1\n",
    "\n",
    "pre_fluor_settings = {'rgb':rgb_channel, 'bins':fluor_bin, 'fluor_channel':fluor_channel,\n",
    "                    'wait':wait, 'exp':fluor_exposure, 'light_channel':fluor_light,\n",
    "                  'auto_shutter':False}\n",
    "\n",
    "post_fluor_settings = {'rgb_channel':rgb_channel, 'old_exp':bright_field_exposure,\n",
    "                     'old_bin':bright_field_bins, 'old_channel':bright_field_emission_channel,\n",
    "                     'auto_shutter':False}\n",
    "\n",
    "\n",
    "ce_system.camera.set_exposure(bright_field_exposure)\n",
    "ce_system.camera.set_binning(bright_field_bins)\n"
   ]
  },
  {
   "cell_type": "markdown",
   "metadata": {},
   "source": [
    "### Display the bright field camera output\n",
    "\n",
    "Make sure the bright_field_exposure, bright field bins, emission channel, and RGB channel are correct. "
   ]
  },
  {
   "cell_type": "code",
   "execution_count": 4,
   "metadata": {},
   "outputs": [
    {
     "name": "stdout",
     "output_type": "stream",
     "text": [
      "HEYYOO\n"
     ]
    }
   ],
   "source": [
    "# Microscope Display\n",
    "cam = DisplayWindows.PLTMicroscopeDisplay(ce_system)\n",
    "ce_system.camera.stop()\n",
    "cam.show()\n",
    "cam.live_image()"
   ]
  },
  {
   "cell_type": "markdown",
   "metadata": {},
   "source": [
    "### Display the fluoresence camera output\n",
    "\n",
    "Make sure that the fluor channel, light channel, exposure, and binning are adequate to view your cells. \n"
   ]
  },
  {
   "cell_type": "code",
   "execution_count": 7,
   "metadata": {},
   "outputs": [
    {
     "name": "stderr",
     "output_type": "stream",
     "text": [
      "WARNING:root:Binning not possible with test configuration\n"
     ]
    },
    {
     "ename": "NameError",
     "evalue": "name 'rgb_chnl' is not defined",
     "output_type": "error",
     "traceback": [
      "\u001b[1;31m---------------------------------------------------------------------------\u001b[0m",
      "\u001b[1;31mNameError\u001b[0m                                 Traceback (most recent call last)",
      "\u001b[1;32m<ipython-input-7-3355484ec90d>\u001b[0m in \u001b[0;36m<module>\u001b[1;34m\u001b[0m\n\u001b[0;32m      1\u001b[0m \u001b[0mpre_fluoresence\u001b[0m\u001b[1;33m(\u001b[0m\u001b[0mce_system\u001b[0m\u001b[1;33m,\u001b[0m \u001b[1;33m**\u001b[0m\u001b[0mpre_fluor_settings\u001b[0m\u001b[1;33m)\u001b[0m\u001b[1;33m\u001b[0m\u001b[1;33m\u001b[0m\u001b[0m\n\u001b[0;32m      2\u001b[0m \u001b[0mimg\u001b[0m \u001b[1;33m=\u001b[0m \u001b[0mce_system\u001b[0m\u001b[1;33m.\u001b[0m\u001b[0mcamera\u001b[0m\u001b[1;33m.\u001b[0m\u001b[0msnap\u001b[0m\u001b[1;33m(\u001b[0m\u001b[1;33m)\u001b[0m\u001b[1;33m\u001b[0m\u001b[1;33m\u001b[0m\u001b[0m\n\u001b[1;32m----> 3\u001b[1;33m \u001b[0mpost_fluoresence\u001b[0m\u001b[1;33m(\u001b[0m\u001b[0mce_system\u001b[0m\u001b[1;33m,\u001b[0m \u001b[1;33m**\u001b[0m\u001b[0mpost_fluor_settings\u001b[0m\u001b[1;33m)\u001b[0m\u001b[1;33m\u001b[0m\u001b[1;33m\u001b[0m\u001b[0m\n\u001b[0m\u001b[0;32m      4\u001b[0m \u001b[0mplt\u001b[0m\u001b[1;33m.\u001b[0m\u001b[0mimshow\u001b[0m\u001b[1;33m(\u001b[0m\u001b[0mimg\u001b[0m\u001b[1;33m)\u001b[0m\u001b[1;33m\u001b[0m\u001b[1;33m\u001b[0m\u001b[0m\n",
      "\u001b[1;32m<ipython-input-6-5e57a10949d1>\u001b[0m in \u001b[0;36mpost_fluoresence\u001b[1;34m(ce_system, rgb_channel, old_exp, old_bin, old_channel, auto_shutter)\u001b[0m\n\u001b[0;32m     98\u001b[0m     \u001b[0mce_system\u001b[0m\u001b[1;33m.\u001b[0m\u001b[0mcamera\u001b[0m\u001b[1;33m.\u001b[0m\u001b[0mset_exposure\u001b[0m\u001b[1;33m(\u001b[0m\u001b[0mold_exp\u001b[0m\u001b[1;33m)\u001b[0m\u001b[1;33m\u001b[0m\u001b[1;33m\u001b[0m\u001b[0m\n\u001b[0;32m     99\u001b[0m     \u001b[0mce_system\u001b[0m\u001b[1;33m.\u001b[0m\u001b[0mfilter_wheel\u001b[0m\u001b[1;33m.\u001b[0m\u001b[0mset_channel\u001b[0m\u001b[1;33m(\u001b[0m\u001b[0mold_channel\u001b[0m\u001b[1;33m)\u001b[0m\u001b[1;33m\u001b[0m\u001b[1;33m\u001b[0m\u001b[0m\n\u001b[1;32m--> 100\u001b[1;33m     \u001b[0mce_system\u001b[0m\u001b[1;33m.\u001b[0m\u001b[0minlet_rgb\u001b[0m\u001b[1;33m.\u001b[0m\u001b[0mturn_on_channel\u001b[0m\u001b[1;33m(\u001b[0m\u001b[0mrgb_chnl\u001b[0m\u001b[1;33m)\u001b[0m\u001b[1;33m\u001b[0m\u001b[1;33m\u001b[0m\u001b[0m\n\u001b[0m\u001b[0;32m    101\u001b[0m     \u001b[0mce_system\u001b[0m\u001b[1;33m.\u001b[0m\u001b[0mexcitation_wheel\u001b[0m\u001b[1;33m.\u001b[0m\u001b[0mset_channel\u001b[0m\u001b[1;33m(\u001b[0m\u001b[1;33m[\u001b[0m\u001b[1;33m]\u001b[0m\u001b[1;33m)\u001b[0m\u001b[1;33m\u001b[0m\u001b[1;33m\u001b[0m\u001b[0m\n\u001b[0;32m    102\u001b[0m     \u001b[0mce_system\u001b[0m\u001b[1;33m.\u001b[0m\u001b[0mcamera\u001b[0m\u001b[1;33m.\u001b[0m\u001b[0mset_binning\u001b[0m\u001b[1;33m(\u001b[0m\u001b[0mold_bin\u001b[0m\u001b[1;33m)\u001b[0m\u001b[1;33m\u001b[0m\u001b[1;33m\u001b[0m\u001b[0m\n",
      "\u001b[1;31mNameError\u001b[0m: name 'rgb_chnl' is not defined"
     ]
    }
   ],
   "source": [
    "pre_fluoresence(ce_system, **pre_fluor_settings)\n",
    "img = ce_system.camera.snap()\n",
    "post_fluoresence(ce_system, **post_fluor_settings)\n",
    "plt.imshow(img)\n"
   ]
  },
  {
   "cell_type": "code",
   "execution_count": 10,
   "metadata": {},
   "outputs": [
    {
     "data": {
      "text/plain": [
       "'simulator'"
      ]
     },
     "execution_count": 10,
     "metadata": {},
     "output_type": "execute_result"
    }
   ],
   "source": [
    "ce_system.outlet_pressure.controller.id"
   ]
  },
  {
   "cell_type": "markdown",
   "metadata": {},
   "source": [
    "# Step 3 Focus Cells near the center of the Sample Chamber\n",
    "\n",
    "Use the objective that is being used for single-cell analysis (may be 60x or 40x)\n",
    "The program will randomly sample locations in a 1 CM Diameter from this point, so make sure the center is at least 0.5 cm from the rubber o-ring. "
   ]
  },
  {
   "cell_type": "code",
   "execution_count": null,
   "metadata": {},
   "outputs": [],
   "source": [
    "center_xy = ce_system.xy_stage.read_xy()"
   ]
  },
  {
   "cell_type": "markdown",
   "metadata": {},
   "source": [
    "# Gather Data for Focusing\n",
    "\n",
    "We are going to try both brightfield and fluoresence focusing. The next few boxes of code will do the following tasks:\n",
    "\n",
    "1. Record the brightfield data 100 um above and a 100 um below your defined start point. \n",
    "2. Run the Focus Climb Algorithm and record the focus point determined by my program. \n",
    "3. Change to fluoresence view and repeat: \n",
    "4. Record the fluoresence data 100 um above and a 100 um below the defined start point\n",
    "5. Run the focus algorithm and record the focus point determined by my program \n",
    "\n",
    "6. It will test whether cavitation bubbles will form at the Bright field, and fluoresence points. \n",
    "7. If lysis did not occur, you will adjust focal position until cavitation/lysis does occur. \n",
    "\n"
   ]
  },
  {
   "cell_type": "code",
   "execution_count": 26,
   "metadata": {},
   "outputs": [],
   "source": [
    "# These are functions we will be using. \n",
    "\n",
    "def save_me_data(imgs, z_vals, folder, prefix):\n",
    "    for i, z in zip(imgs, z_vals):\n",
    "        filename=prefix + f\"_{z*1e6:08d}.tif\"\n",
    "        io.imsave(os.path.join(folder,filename), i)\n",
    "        \n",
    "def save_a_note(prefix, msg, val, file):\n",
    "    with open(file,'a') as fout:\n",
    "        fout.write(f\"{prefix},{msg},{val}\\n\")\n",
    "\n",
    "def gather_data_above_and_below(center, distance=0.1, resolution=0.1, wait=0.15):\n",
    "    imgs = ImageSaver(ce_system)\n",
    "    imgs.add_callback()\n",
    "    \n",
    "    distances = np.arange(center-distance, center+distance, resolution)\n",
    "    print(f\"From {center-distance} to {center+distance} mm at {resolution} mm resolution\")\n",
    "    for z in tqdm_notebook(distances):\n",
    "        ce_system.objective.set_z(z)\n",
    "        time.sleep(wait)\n",
    "        ce_system.snap()\n",
    "    imgs.remove_callback()\n",
    "    return distances, imgs.images\n"
   ]
  },
  {
   "cell_type": "markdown",
   "metadata": {},
   "source": [
    "### Gather Bright Field Data "
   ]
  },
  {
   "cell_type": "code",
   "execution_count": null,
   "metadata": {},
   "outputs": [],
   "source": [
    "center_z = ce_system.objective.read_z()\n",
    "\n",
    "# Set up the camera for bright field\n",
    "ce_system.camera.stop()\n",
    "ce_system.camera.set_exposure(bright_field_exposure)\n",
    "ce_system.camera.set_binning(bright_field_bins)\n",
    "\n",
    "xy = ce_system.read_xy()\n",
    "prefix = f'BF center_{center*1e6:08D} x_{xy[0]*1e4:04D} y_{xy[1]*1e4:04D} '\n",
    "\n",
    "for dist, res in zip([0.1,0.015, 0.005], [0.01,0.001,0.0002])\n",
    "    z_vals, imgs = gather_data_above_and_below(center_z, distance=0.1, resolution=0.01)\n",
    "    print(\"Saving Data...\")\n",
    "    save_me_data(imgs, z_vals, data_dir, prefix)\n",
    "ce_system.objective.set_z(center_z)\n",
    "\n",
    "print('Starting Climb Focus...')\n",
    "\n",
    "ce_system.objective.set_z(center_z-0.012)\n",
    "imgs = ImageSaver(ce_system)\n",
    "imgs.add_callback()\n",
    "rsc = Focus.RefinedStepClimb(ce_system, Focus.brenner, initial_step = 0.005, final_step=0.0002, refinements=3)\n",
    "bf_climb_focus = rsc.climb()\n",
    "imgs.remove_callback()"
   ]
  },
  {
   "cell_type": "markdown",
   "metadata": {},
   "source": [
    "## Gather Fluoresence Data"
   ]
  },
  {
   "cell_type": "code",
   "execution_count": 20,
   "metadata": {},
   "outputs": [
    {
     "name": "stdout",
     "output_type": "stream",
     "text": [
      "Please flip the mirror for fluoresence.\n",
      " Has the mirror been flipped? y\n"
     ]
    },
    {
     "ename": "NameError",
     "evalue": "name 'ce_system' is not defined",
     "output_type": "error",
     "traceback": [
      "\u001b[1;31m---------------------------------------------------------------------------\u001b[0m",
      "\u001b[1;31mNameError\u001b[0m                                 Traceback (most recent call last)",
      "\u001b[1;32m<ipython-input-20-cf9b8f5de932>\u001b[0m in \u001b[0;36m<module>\u001b[1;34m\u001b[0m\n\u001b[0;32m      2\u001b[0m \u001b[1;32mif\u001b[0m \u001b[1;32mnot\u001b[0m \u001b[0mresp\u001b[0m\u001b[1;33m:\u001b[0m\u001b[1;33m\u001b[0m\u001b[1;33m\u001b[0m\u001b[0m\n\u001b[0;32m      3\u001b[0m     \u001b[1;32mraise\u001b[0m \u001b[0mValueError\u001b[0m\u001b[1;33m(\u001b[0m\u001b[1;34m'Please flip the mirror!'\u001b[0m\u001b[1;33m)\u001b[0m\u001b[1;33m\u001b[0m\u001b[1;33m\u001b[0m\u001b[0m\n\u001b[1;32m----> 4\u001b[1;33m \u001b[0mpre_fluoresence\u001b[0m\u001b[1;33m(\u001b[0m\u001b[0mce_system\u001b[0m\u001b[1;33m,\u001b[0m \u001b[1;33m**\u001b[0m\u001b[0mpre_fluor_settings\u001b[0m\u001b[1;33m)\u001b[0m\u001b[1;33m\u001b[0m\u001b[1;33m\u001b[0m\u001b[0m\n\u001b[0m\u001b[0;32m      5\u001b[0m \u001b[1;33m\u001b[0m\u001b[0m\n",
      "\u001b[1;31mNameError\u001b[0m: name 'ce_system' is not defined"
     ]
    }
   ],
   "source": [
    "resp = get_yes_no(\"Please flip the mirror for fluoresence.\\n Has the mirror been flipped?\")\n",
    "if not resp:\n",
    "    raise ValueError('Please flip the mirror!')"
   ]
  },
  {
   "cell_type": "code",
   "execution_count": null,
   "metadata": {},
   "outputs": [],
   "source": [
    "pre_fluoresence(ce_system, **pre_fluor_settings)\n",
    "\n",
    "prefix = f'FL center_{center*1e6:08D} x_{xy[0]*1e4:04D} y_{xy[1]*1e4:04D} '\n",
    "for dist, res in zip([0.1,0.015, 0.005], [0.01,0.001,0.0002])\n",
    "    z_vals, imgs = gather_data_above_and_below(center_z, distance=0.1, resolution=0.01)\n",
    "    print(\"Saving Data...\")\n",
    "    save_me_data(imgs, z_vals, data_dir, prefix)\n",
    "    \n",
    "ce_system.objective.set_z(center_z)\n",
    "\n",
    "print('Starting Climb focus...')\n",
    "time.sleep(0.75)\n",
    "\n",
    "# Start the hill climb from 12 microns below focus\n",
    "ce_system.objective.set_z(center_z-0.012)\n",
    "imgs = ImageSaver(ce_system)\n",
    "imgs.add_callback()\n",
    "rsc = Focus.RefinedStepClimb(ce_system, Focus.brenner, initial_step = 0.005, final_step=0.0002, refinements=3)\n",
    "fl_climb_focus = rsc.climb()\n",
    "imgs.remove_callback()\n",
    "\n",
    "post_fluoresence(ce_system, **post_fluor_settings)"
   ]
  },
  {
   "cell_type": "markdown",
   "metadata": {},
   "source": [
    "# Prepare for Lysis"
   ]
  },
  {
   "cell_type": "code",
   "execution_count": 22,
   "metadata": {},
   "outputs": [
    {
     "name": "stdout",
     "output_type": "stream",
     "text": [
      "Please flip back in preparation for lysis. \n",
      " Has the mirror been flipped y\n",
      "Please shut the curtains surrounding the system. \n",
      " Have the curtains been closed? y\n",
      "Ensure the laser is set to remote fire\n",
      " Is the laser set to remote? y\n",
      "WARNING: CHANGE TO STANDBY BEFORE OPENING CURTAIN FOR ANY REASON \n",
      "\n"
     ]
    }
   ],
   "source": [
    "resp = get_yes_no(\"Please flip back in preparation for lysis. \\n Has the mirror been flipped\")\n",
    "if not resp:\n",
    "    raise ValueError(\"Please Flip Mirror!\")\n",
    "\n",
    "resp = get_yes_no(\"Please shut the curtains surrounding the system. \\n Have the curtains been closed?\")\n",
    "if not resp:\n",
    "    raise ValueError(\"Safety first! Close the curtains\")\n",
    "\n",
    "resp = get_yes_no(\"Ensure the laser is set to remote fire\\n Is the laser set to remote?\")\n",
    "\n",
    "if not resp:\n",
    "    raise ValueError(\"Computer will not fire laser unless set to remote\")\n",
    "else:\n",
    "    print(\"WARNING: CHANGE TO STANDBY BEFORE OPENING CURTAIN FOR ANY REASON \\n\")"
   ]
  },
  {
   "cell_type": "markdown",
   "metadata": {},
   "source": [
    "## Test the Lysis Positions\n"
   ]
  },
  {
   "cell_type": "code",
   "execution_count": 24,
   "metadata": {},
   "outputs": [
    {
     "name": "stdout",
     "output_type": "stream",
     "text": [
      "WARNING: Laser will start firing in 5 s\n",
      "WARNING: Laser will start firing in 4 s\n",
      "WARNING: Laser will start firing in 3 s\n",
      "WARNING: Laser will start firing in 2 s\n",
      "WARNING: Laser will start firing in 1 s\n"
     ]
    },
    {
     "ename": "NameError",
     "evalue": "name 'ce_sys' is not defined",
     "output_type": "error",
     "traceback": [
      "\u001b[1;31m---------------------------------------------------------------------------\u001b[0m",
      "\u001b[1;31mNameError\u001b[0m                                 Traceback (most recent call last)",
      "\u001b[1;32m<ipython-input-24-ec7cb6223d68>\u001b[0m in \u001b[0;36m<module>\u001b[1;34m\u001b[0m\n\u001b[0;32m      3\u001b[0m     \u001b[0mtime\u001b[0m\u001b[1;33m.\u001b[0m\u001b[0msleep\u001b[0m\u001b[1;33m(\u001b[0m\u001b[1;36m1\u001b[0m\u001b[1;33m)\u001b[0m\u001b[1;33m\u001b[0m\u001b[1;33m\u001b[0m\u001b[0m\n\u001b[0;32m      4\u001b[0m \u001b[1;31m# Move to the bright field position, fire the laser\u001b[0m\u001b[1;33m\u001b[0m\u001b[1;33m\u001b[0m\u001b[1;33m\u001b[0m\u001b[0m\n\u001b[1;32m----> 5\u001b[1;33m \u001b[0mce_sys\u001b[0m\u001b[1;33m.\u001b[0m\u001b[0mobjective\u001b[0m\u001b[1;33m.\u001b[0m\u001b[0mset_z\u001b[0m\u001b[1;33m(\u001b[0m\u001b[0mbf_climb_focus\u001b[0m\u001b[1;33m)\u001b[0m\u001b[1;33m\u001b[0m\u001b[1;33m\u001b[0m\u001b[0m\n\u001b[0m\u001b[0;32m      6\u001b[0m \u001b[1;33m\u001b[0m\u001b[0m\n\u001b[0;32m      7\u001b[0m \u001b[0mtime\u001b[0m\u001b[1;33m.\u001b[0m\u001b[0msleep\u001b[0m\u001b[1;33m(\u001b[0m\u001b[1;36m1\u001b[0m\u001b[1;33m)\u001b[0m\u001b[1;33m\u001b[0m\u001b[1;33m\u001b[0m\u001b[0m\n",
      "\u001b[1;31mNameError\u001b[0m: name 'ce_sys' is not defined"
     ]
    }
   ],
   "source": [
    "import threading\n",
    "prefix = f'center_{center*1e6:08D} x_{xy[0]*1e4:04D} y_{xy[1]*1e4:04D} '\n",
    "\n",
    "def laser_fire(ce_system, *args):\n",
    "    time.sleep(0.5)\n",
    "    ce_system.lysis_laser.laser_standby()\n",
    "    ce_system.lysis_laser.laser_fire()\n",
    "    time.sleep(1)\n",
    "\n",
    "for i in range(5):\n",
    "    print(f\"WARNING: Laser will start firing in {5-i} s\")\n",
    "    time.sleep(1)\n",
    "    \n",
    "# Move to the bright field position, fire the laser\n",
    "print(\"Firing at position determined by bright field\")\n",
    "ce_sys.objective.set_z(bf_climb_focus)\n",
    "threading.Thread(target-laser_fire, args=(ce_system,)).start()\n",
    "\n",
    "bf_auto_lysis = get_yes_no(\"Did Lysis Occur? Image will freeze until answered\")\n",
    "save_a_note(prefix, f\"BF {bf_climb_focus}\", bf_auto_lysis, output_csv)\n",
    "\n",
    "#Move up slightly\n",
    "ce_sys.xy_stage.set_rel_y(0.003)\n",
    "\n",
    "# Move to the fluorescence position, fire the laser\n",
    "print(\"Firing at position determined by bright field\")\n",
    "ce_sys.objective.set_z(fl_climb_focus)\n",
    "threading.Thread(target-laser_fire, args=(ce_system,)).start()\n",
    "\n",
    "fl_auto_lysis = get_yes_no(\"Did Lysis Occur? Image will freeze until answered\")\n",
    "save_a_note(prefix, f\"FL {fl_climb_focus}\", fl_auto_lysis, output_csv)\n",
    "\n",
    "if not bf_auto_lysis or not fl_auto_lysis:\n",
    "    get_yes_no(\" No cells were lysed. This will require you to adjust to focus manually and test the lysis. \\n You must remain \" \n",
    "               \"at a position near (<10 um) the cell. Press y to continue and run the box below this\")\n",
    "else:\n",
    "    \n",
    "    print(\"Cell lysis was a success. Find a new cell and start over.\")\n",
    "    resp = get_yes_no(\"Please switch laser from remote to standby mode. \\n Is the laser switched to off/standby?\")\n",
    "    while not resp:\n",
    "        resp = get_yes_no(\"Please switch laser from remote to standby mode. \\n Is the laser switched to off/standby?\")\n",
    "    print(\"It is now safe to lift the curtain\")"
   ]
  },
  {
   "cell_type": "markdown",
   "metadata": {},
   "source": [
    "If the cell did not lyse, move the focus until a cavitation/cell lysis occurs. \n",
    "Run the following cell to lyse the cell. Best to keep firing remotely for consistency (it is easy not to press the fire button correctly). "
   ]
  },
  {
   "cell_type": "code",
   "execution_count": 27,
   "metadata": {},
   "outputs": [
    {
     "name": "stdout",
     "output_type": "stream",
     "text": [
      "Fire the lysis laser? n\n",
      "Did a cavitation occur? n\n"
     ]
    },
    {
     "ename": "NameError",
     "evalue": "name 'ce_system' is not defined",
     "output_type": "error",
     "traceback": [
      "\u001b[1;31m---------------------------------------------------------------------------\u001b[0m",
      "\u001b[1;31mNameError\u001b[0m                                 Traceback (most recent call last)",
      "\u001b[1;32m<ipython-input-27-14844b31a518>\u001b[0m in \u001b[0;36m<module>\u001b[1;34m\u001b[0m\n\u001b[0;32m      5\u001b[0m \u001b[1;33m\u001b[0m\u001b[0m\n\u001b[0;32m      6\u001b[0m \u001b[0mresp\u001b[0m \u001b[1;33m=\u001b[0m \u001b[0mget_yes_no\u001b[0m\u001b[1;33m(\u001b[0m\u001b[1;34m\"Did a cavitation occur?\"\u001b[0m\u001b[1;33m)\u001b[0m\u001b[1;33m\u001b[0m\u001b[1;33m\u001b[0m\u001b[0m\n\u001b[1;32m----> 7\u001b[1;33m \u001b[0mz\u001b[0m \u001b[1;33m=\u001b[0m \u001b[0mce_system\u001b[0m\u001b[1;33m.\u001b[0m\u001b[0mobjective\u001b[0m\u001b[1;33m.\u001b[0m\u001b[0mread_z\u001b[0m\u001b[1;33m(\u001b[0m\u001b[1;33m)\u001b[0m\u001b[1;33m\u001b[0m\u001b[1;33m\u001b[0m\u001b[0m\n\u001b[0m\u001b[0;32m      8\u001b[0m \u001b[0msave_a_note\u001b[0m\u001b[1;33m(\u001b[0m\u001b[0mprefix\u001b[0m\u001b[1;33m,\u001b[0m \u001b[1;34mf\"Manual {z}\"\u001b[0m\u001b[1;33m,\u001b[0m \u001b[0mresp\u001b[0m\u001b[1;33m,\u001b[0m \u001b[0moutput_csv\u001b[0m\u001b[1;33m)\u001b[0m\u001b[1;33m\u001b[0m\u001b[1;33m\u001b[0m\u001b[0m\n\u001b[0;32m      9\u001b[0m \u001b[1;33m\u001b[0m\u001b[0m\n",
      "\u001b[1;31mNameError\u001b[0m: name 'ce_system' is not defined"
     ]
    }
   ],
   "source": [
    "resp = get_yes_no(\"Fire the lysis laser?\")\n",
    "if resp:\n",
    "    threading.Thread(target-laser_fire, args=(ce_system,)).start()\n",
    "else:\n",
    "    raise InterruptedError(\"Please rerun when you wish to fire the laser\")\n",
    "time.sleep(1)\n",
    "\n",
    "resp = get_yes_no(\"Did a cavitation occur?\")\n",
    "z = ce_system.objective.read_z()\n",
    "save_a_note(prefix, f\"Manual {z}\", resp, output_csv)\n",
    "\n",
    "if resp:\n",
    "    print(\"Cell Lysis success, find a new cell and start over from the top. Removing laser from software standby.\")\n",
    "    resp = get_yes_no(\"Please switch laser from remote to standby mode. \\n Is the laser switched to off/standby?\")\n",
    "    while not resp:\n",
    "        resp = get_yes_no(\"Please switch laser from remote to standby mode. \\n Is the laser switched to off/standby?\")\n",
    "    print(\"It is now safe to lift the curtain\")\n",
    "else:\n",
    "    print(\"Repeat this code block until lysis/cavitation\")"
   ]
  }
 ],
 "metadata": {
  "kernelspec": {
   "display_name": "Python 3",
   "language": "python",
   "name": "python3"
  },
  "language_info": {
   "codemirror_mode": {
    "name": "ipython",
    "version": 3
   },
   "file_extension": ".py",
   "mimetype": "text/x-python",
   "name": "python",
   "nbconvert_exporter": "python",
   "pygments_lexer": "ipython3",
   "version": "3.7.9"
  }
 },
 "nbformat": 4,
 "nbformat_minor": 4
}
